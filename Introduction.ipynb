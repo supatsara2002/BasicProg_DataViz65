{
  "nbformat": 4,
  "nbformat_minor": 0,
  "metadata": {
    "colab": {
      "name": "Introduction.ipynb",
      "provenance": [],
      "authorship_tag": "ABX9TyMeLCPPtXHWQQODBxREKmCg",
      "include_colab_link": true
    },
    "kernelspec": {
      "name": "python3",
      "display_name": "Python 3"
    },
    "language_info": {
      "name": "python"
    }
  },
  "cells": [
    {
      "cell_type": "markdown",
      "metadata": {
        "id": "view-in-github",
        "colab_type": "text"
      },
      "source": [
        "<a href=\"https://colab.research.google.com/github/supatsara2002/BasicProg_DataViz65/blob/main/Introduction.ipynb\" target=\"_parent\"><img src=\"https://colab.research.google.com/assets/colab-badge.svg\" alt=\"Open In Colab\"/></a>"
      ]
    },
    {
      "cell_type": "code",
      "execution_count": null,
      "metadata": {
        "id": "tWc0WtG6E_O3"
      },
      "outputs": [],
      "source": [
        ""
      ]
    },
    {
      "cell_type": "markdown",
      "source": [
        "ศุภัสรา คุริรัง (633020447-5)\n"
      ],
      "metadata": {
        "id": "pt6T8ws6Fbd1"
      }
    },
    {
      "cell_type": "markdown",
      "source": [
        "# Markdown \n",
        "https://www.markdownguide.org/cheat-sheet/\n"
      ],
      "metadata": {
        "id": "_gJuenVOGERk"
      }
    },
    {
      "cell_type": "markdown",
      "source": [
        "## heading2\n"
      ],
      "metadata": {
        "id": "UepD57SCGV3l"
      }
    },
    {
      "cell_type": "code",
      "source": [
        "print('Supatsara')"
      ],
      "metadata": {
        "colab": {
          "base_uri": "https://localhost:8080/"
        },
        "id": "oB_VV_cXF87v",
        "outputId": "c8d95505-5dcd-44b1-d1b8-19aac989df5a"
      },
      "execution_count": 1,
      "outputs": [
        {
          "output_type": "stream",
          "name": "stdout",
          "text": [
            "Supatsara\n"
          ]
        }
      ]
    },
    {
      "cell_type": "code",
      "source": [
        ""
      ],
      "metadata": {
        "id": "Gp4d3sONHI8M"
      },
      "execution_count": null,
      "outputs": []
    }
  ]
}