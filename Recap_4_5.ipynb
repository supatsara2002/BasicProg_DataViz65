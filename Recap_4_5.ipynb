{
  "nbformat": 4,
  "nbformat_minor": 0,
  "metadata": {
    "colab": {
      "name": "Recap 4-5",
      "provenance": [],
      "authorship_tag": "ABX9TyO4hVdwxxC94hnuUy3w8Uca",
      "include_colab_link": true
    },
    "kernelspec": {
      "name": "python3",
      "display_name": "Python 3"
    },
    "language_info": {
      "name": "python"
    }
  },
  "cells": [
    {
      "cell_type": "markdown",
      "metadata": {
        "id": "view-in-github",
        "colab_type": "text"
      },
      "source": [
        "<a href=\"https://colab.research.google.com/github/supatsara2002/BasicProg_DataViz65/blob/main/Recap_4_5.ipynb\" target=\"_parent\"><img src=\"https://colab.research.google.com/assets/colab-badge.svg\" alt=\"Open In Colab\"/></a>"
      ]
    },
    {
      "cell_type": "markdown",
      "source": [
        "# Matrix Slicing"
      ],
      "metadata": {
        "id": "q5v1Hd0GDWQ_"
      }
    },
    {
      "cell_type": "code",
      "source": [
        "import numpy"
      ],
      "metadata": {
        "id": "zBhJ6UgqDgzu"
      },
      "execution_count": 1,
      "outputs": []
    },
    {
      "cell_type": "code",
      "source": [
        "list_a = [[2,4,5,],[1,2,3],[9,8,7],[3,6,9]]\n",
        "mat_a = numpy.array(list_a)\n",
        "mat_a"
      ],
      "metadata": {
        "colab": {
          "base_uri": "https://localhost:8080/"
        },
        "id": "EGZMtsirDdcF",
        "outputId": "39860ec5-5016-46dd-d78a-1232f575e5ab"
      },
      "execution_count": 2,
      "outputs": [
        {
          "output_type": "execute_result",
          "data": {
            "text/plain": [
              "array([[2, 4, 5],\n",
              "       [1, 2, 3],\n",
              "       [9, 8, 7],\n",
              "       [3, 6, 9]])"
            ]
          },
          "metadata": {},
          "execution_count": 2
        }
      ]
    },
    {
      "cell_type": "code",
      "source": [
        "import numpy as np"
      ],
      "metadata": {
        "id": "jG1TbjWVEjRL"
      },
      "execution_count": 3,
      "outputs": []
    },
    {
      "cell_type": "code",
      "source": [
        "list_b = [[-1,-1,2,4,5,],[-2,-2,1,2,3],[-3,-3,9,8,7],[-4,-4,3,6,9]]\n",
        "mat_b = np.array(list_b)\n",
        "mat_b"
      ],
      "metadata": {
        "colab": {
          "base_uri": "https://localhost:8080/"
        },
        "id": "fsj9ggbbEoKB",
        "outputId": "ac084dcb-5e76-4d60-f319-fcbdde9cce66"
      },
      "execution_count": 4,
      "outputs": [
        {
          "output_type": "execute_result",
          "data": {
            "text/plain": [
              "array([[-1, -1,  2,  4,  5],\n",
              "       [-2, -2,  1,  2,  3],\n",
              "       [-3, -3,  9,  8,  7],\n",
              "       [-4, -4,  3,  6,  9]])"
            ]
          },
          "metadata": {},
          "execution_count": 4
        }
      ]
    },
    {
      "cell_type": "markdown",
      "source": [
        "## Quiz2\n",
        "\n",
        "1. slice ค่าลบออกมาจาก ```mat_b```\n",
        "2. slice ```[1,2,3]``` จาก ```mat_a```\n",
        "3. slice ```[[1,3],[9,7],[3,9]]``` ออกมาจาก ```mat_b```\n",
        "\n",
        "\n"
      ],
      "metadata": {
        "id": "CaOBZGnyFTKk"
      }
    },
    {
      "cell_type": "markdown",
      "source": [
        "## 1. slice ค่าลบออกมาจาก ```mat_b```"
      ],
      "metadata": {
        "id": "pnqry4KyJUUF"
      }
    },
    {
      "cell_type": "code",
      "source": [
        "mat_b[:4,:2]"
      ],
      "metadata": {
        "colab": {
          "base_uri": "https://localhost:8080/"
        },
        "id": "iqIy7LVtF6UV",
        "outputId": "1692b504-d5ad-4b01-ac86-5dc6f89657f4"
      },
      "execution_count": 5,
      "outputs": [
        {
          "output_type": "execute_result",
          "data": {
            "text/plain": [
              "array([[-1, -1],\n",
              "       [-2, -2],\n",
              "       [-3, -3],\n",
              "       [-4, -4]])"
            ]
          },
          "metadata": {},
          "execution_count": 5
        }
      ]
    },
    {
      "cell_type": "markdown",
      "source": [
        "## 2. slice ```[1,2,3]``` จาก ```mat_a```"
      ],
      "metadata": {
        "id": "2w4FYiPgJbWE"
      }
    },
    {
      "cell_type": "code",
      "source": [
        "mat_a[1:2]"
      ],
      "metadata": {
        "colab": {
          "base_uri": "https://localhost:8080/"
        },
        "id": "LF1huPjkHX3z",
        "outputId": "ac29d011-5d51-4607-840e-65abadf5c0b1"
      },
      "execution_count": 6,
      "outputs": [
        {
          "output_type": "execute_result",
          "data": {
            "text/plain": [
              "array([[1, 2, 3]])"
            ]
          },
          "metadata": {},
          "execution_count": 6
        }
      ]
    },
    {
      "cell_type": "markdown",
      "source": [
        "## 3. slice ```[[1,3],[9,7],[3,9]]``` ออกมาจาก ```mat_b```"
      ],
      "metadata": {
        "id": "eYuMNheTJf7U"
      }
    },
    {
      "cell_type": "code",
      "source": [
        "mat_b[1:,2::2]"
      ],
      "metadata": {
        "colab": {
          "base_uri": "https://localhost:8080/"
        },
        "id": "4V0nZjrtIJPu",
        "outputId": "533a7fd6-9aaf-491c-8c6f-87e4cd441c71"
      },
      "execution_count": 7,
      "outputs": [
        {
          "output_type": "execute_result",
          "data": {
            "text/plain": [
              "array([[1, 3],\n",
              "       [9, 7],\n",
              "       [3, 9]])"
            ]
          },
          "metadata": {},
          "execution_count": 7
        }
      ]
    }
  ]
}