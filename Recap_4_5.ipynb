{
  "nbformat": 4,
  "nbformat_minor": 0,
  "metadata": {
    "colab": {
      "name": "Recap 4-5",
      "provenance": [],
      "authorship_tag": "ABX9TyOI5bzrAbDGdgaOftmWg/qZ",
      "include_colab_link": true
    },
    "kernelspec": {
      "name": "python3",
      "display_name": "Python 3"
    },
    "language_info": {
      "name": "python"
    }
  },
  "cells": [
    {
      "cell_type": "markdown",
      "metadata": {
        "id": "view-in-github",
        "colab_type": "text"
      },
      "source": [
        "<a href=\"https://colab.research.google.com/github/supatsara2002/BasicProg_DataViz65/blob/main/Recap_4_5.ipynb\" target=\"_parent\"><img src=\"https://colab.research.google.com/assets/colab-badge.svg\" alt=\"Open In Colab\"/></a>"
      ]
    },
    {
      "cell_type": "markdown",
      "source": [
        "# Matrix Slicing"
      ],
      "metadata": {
        "id": "q5v1Hd0GDWQ_"
      }
    },
    {
      "cell_type": "code",
      "source": [
        "import numpy"
      ],
      "metadata": {
        "id": "zBhJ6UgqDgzu"
      },
      "execution_count": 1,
      "outputs": []
    },
    {
      "cell_type": "code",
      "source": [
        "list_a = [[2,4,5,],[1,2,3],[9,8,7],[3,6,9]]\n",
        "mat_a = numpy.array(list_a)\n",
        "mat_a"
      ],
      "metadata": {
        "colab": {
          "base_uri": "https://localhost:8080/"
        },
        "id": "EGZMtsirDdcF",
        "outputId": "d4d68ef8-9dfc-4a63-d1cc-637ab9b6db20"
      },
      "execution_count": 2,
      "outputs": [
        {
          "output_type": "execute_result",
          "data": {
            "text/plain": [
              "array([[2, 4, 5],\n",
              "       [1, 2, 3],\n",
              "       [9, 8, 7],\n",
              "       [3, 6, 9]])"
            ]
          },
          "metadata": {},
          "execution_count": 2
        }
      ]
    },
    {
      "cell_type": "code",
      "source": [
        "import numpy as np"
      ],
      "metadata": {
        "id": "jG1TbjWVEjRL"
      },
      "execution_count": 3,
      "outputs": []
    },
    {
      "cell_type": "code",
      "source": [
        "list_b = [[-1,-1,2,4,5,],[-2,-2,1,2,3],[-3,-3,9,8,7],[-4,-4,3,6,9]]\n",
        "mat_b = np.array(list_b)\n",
        "mat_b"
      ],
      "metadata": {
        "colab": {
          "base_uri": "https://localhost:8080/"
        },
        "id": "fsj9ggbbEoKB",
        "outputId": "ef5ad706-93c5-4800-b72a-26105c29bcf0"
      },
      "execution_count": 4,
      "outputs": [
        {
          "output_type": "execute_result",
          "data": {
            "text/plain": [
              "array([[-1, -1,  2,  4,  5],\n",
              "       [-2, -2,  1,  2,  3],\n",
              "       [-3, -3,  9,  8,  7],\n",
              "       [-4, -4,  3,  6,  9]])"
            ]
          },
          "metadata": {},
          "execution_count": 4
        }
      ]
    },
    {
      "cell_type": "markdown",
      "source": [
        "## Quiz2\n",
        "\n",
        "1. slice ค่าลบออกมาจาก ```mat_b```\n",
        "2. slice ```[1,2,3]``` จาก ```mat_a```\n",
        "3. slice ```[[1,3],[9,7],[3,9]]``` ออกมาจาก ```mat_b```\n",
        "\n",
        "\n"
      ],
      "metadata": {
        "id": "CaOBZGnyFTKk"
      }
    },
    {
      "cell_type": "markdown",
      "source": [
        "## 1. slice ค่าลบออกมาจาก ```mat_b```"
      ],
      "metadata": {
        "id": "pnqry4KyJUUF"
      }
    },
    {
      "cell_type": "code",
      "source": [
        "mat_b[:4,:2]"
      ],
      "metadata": {
        "colab": {
          "base_uri": "https://localhost:8080/"
        },
        "id": "iqIy7LVtF6UV",
        "outputId": "40268bd7-9ac2-45ee-80fd-766ef691fd70"
      },
      "execution_count": 5,
      "outputs": [
        {
          "output_type": "execute_result",
          "data": {
            "text/plain": [
              "array([[-1, -1],\n",
              "       [-2, -2],\n",
              "       [-3, -3],\n",
              "       [-4, -4]])"
            ]
          },
          "metadata": {},
          "execution_count": 5
        }
      ]
    },
    {
      "cell_type": "markdown",
      "source": [
        "## 2. slice ```[1,2,3]``` จาก ```mat_a```"
      ],
      "metadata": {
        "id": "2w4FYiPgJbWE"
      }
    },
    {
      "cell_type": "code",
      "source": [
        "mat_a[1:2]"
      ],
      "metadata": {
        "colab": {
          "base_uri": "https://localhost:8080/"
        },
        "id": "LF1huPjkHX3z",
        "outputId": "42f07a04-ada9-4c6b-c3e5-731053b4227a"
      },
      "execution_count": 6,
      "outputs": [
        {
          "output_type": "execute_result",
          "data": {
            "text/plain": [
              "array([[1, 2, 3]])"
            ]
          },
          "metadata": {},
          "execution_count": 6
        }
      ]
    },
    {
      "cell_type": "markdown",
      "source": [
        "## 3. slice ```[[1,3],[9,7],[3,9]]``` ออกมาจาก ```mat_b```"
      ],
      "metadata": {
        "id": "eYuMNheTJf7U"
      }
    },
    {
      "cell_type": "code",
      "source": [
        "mat_b[1:,2::2]"
      ],
      "metadata": {
        "colab": {
          "base_uri": "https://localhost:8080/"
        },
        "id": "4V0nZjrtIJPu",
        "outputId": "ad66213c-9588-4668-e433-f2272c4e7837"
      },
      "execution_count": 7,
      "outputs": [
        {
          "output_type": "execute_result",
          "data": {
            "text/plain": [
              "array([[1, 3],\n",
              "       [9, 7],\n",
              "       [3, 9]])"
            ]
          },
          "metadata": {},
          "execution_count": 7
        }
      ]
    },
    {
      "cell_type": "markdown",
      "source": [
        "## Function Print"
      ],
      "metadata": {
        "id": "hh3lTYUVRVyI"
      }
    },
    {
      "cell_type": "code",
      "source": [
        "print()"
      ],
      "metadata": {
        "colab": {
          "base_uri": "https://localhost:8080/"
        },
        "id": "WpqSfnMnRVj3",
        "outputId": "0dc7ec4a-cda5-4e3d-953c-70e880d63785"
      },
      "execution_count": 8,
      "outputs": [
        {
          "output_type": "stream",
          "name": "stdout",
          "text": [
            "\n"
          ]
        }
      ]
    },
    {
      "cell_type": "code",
      "source": [
        "print('สวัสดี')"
      ],
      "metadata": {
        "colab": {
          "base_uri": "https://localhost:8080/"
        },
        "id": "kTdySXJIRYtl",
        "outputId": "d37bb040-fd6a-4804-9718-ba22c2017420"
      },
      "execution_count": 9,
      "outputs": [
        {
          "output_type": "stream",
          "name": "stdout",
          "text": [
            "สวัสดี\n"
          ]
        }
      ]
    },
    {
      "cell_type": "code",
      "source": [
        "print('hello')\n",
        "print('สวัสดี')"
      ],
      "metadata": {
        "colab": {
          "base_uri": "https://localhost:8080/"
        },
        "id": "fTMF28-YRU5c",
        "outputId": "e209d6d6-b0d5-415e-bc73-9d1a316d9827"
      },
      "execution_count": 10,
      "outputs": [
        {
          "output_type": "stream",
          "name": "stdout",
          "text": [
            "hello\n",
            "สวัสดี\n"
          ]
        }
      ]
    },
    {
      "cell_type": "code",
      "source": [
        "print('hello',end=' ')\n",
        "print('สวัสดี')"
      ],
      "metadata": {
        "colab": {
          "base_uri": "https://localhost:8080/"
        },
        "id": "byMRZjOVRkC6",
        "outputId": "ea4b1c60-eef8-4879-bb72-994ac8bd46e0"
      },
      "execution_count": 11,
      "outputs": [
        {
          "output_type": "stream",
          "name": "stdout",
          "text": [
            "hello สวัสดี\n"
          ]
        }
      ]
    },
    {
      "cell_type": "code",
      "source": [
        "print('hello','สวัสดี',sep='\\n')"
      ],
      "metadata": {
        "colab": {
          "base_uri": "https://localhost:8080/"
        },
        "id": "4YS436OcRq6f",
        "outputId": "ff5654d4-a9c1-40ef-9b45-957824ec70d3"
      },
      "execution_count": 12,
      "outputs": [
        {
          "output_type": "stream",
          "name": "stdout",
          "text": [
            "hello\n",
            "สวัสดี\n"
          ]
        }
      ]
    },
    {
      "cell_type": "markdown",
      "source": [
        "## HW1\n",
        "\n",
        "เขียน Function\n",
        "แสดงความต่างของเวลา (Quiz1)\n",
        "โดย input อยู่ในรูปแบบ ```'09:11:50 - 12:30:15'```\n",
        "\n",
        "และทดลองรัน\n",
        "* 09:11:50 - 12:30:15\n",
        "* 13:41:07 - 20:00:18\n",
        "* 00:00:00 - 23:59:59"
      ],
      "metadata": {
        "id": "M0ds2pBPUNA6"
      }
    },
    {
      "cell_type": "markdown",
      "source": [
        "### ```09:11:50 - 12:30:15```"
      ],
      "metadata": {
        "id": "drHKkTmruaY6"
      }
    },
    {
      "cell_type": "code",
      "source": [
        "def time_m1(a1,a2,a3,b1,b2,b3):\n",
        "    ab = ((b1*3600) + (b2*60) + b3) - ((a1*3600) + (a2*60) + a3)\n",
        "    y = ab\n",
        "    return y\n",
        "\n",
        "print(f'ความแตกต่างของเวลาระหว่าง 09:11:50 - 12:30:15 คือ {time_m1(9,11,50,12,30,15):,} วินาที') "
      ],
      "metadata": {
        "id": "oigS1_mpmiCy",
        "outputId": "f001a115-0638-4bb9-8530-504e21990e31",
        "colab": {
          "base_uri": "https://localhost:8080/"
        }
      },
      "execution_count": 13,
      "outputs": [
        {
          "output_type": "stream",
          "name": "stdout",
          "text": [
            "ความแตกต่างของเวลาระหว่าง 09:11:50 - 12:30:15 คือ 11,905 วินาที\n"
          ]
        }
      ]
    },
    {
      "cell_type": "markdown",
      "source": [
        "### ```13:41:07 - 20:00:18```"
      ],
      "metadata": {
        "id": "bZdihbrUuw0D"
      }
    },
    {
      "cell_type": "code",
      "source": [
        "def time_m2(c1,c2,c3,d1,d2,d3):\n",
        "    cd = ((d1*3600) + (d2*60) + d3) - ((c1*3600) + (c2*60) + c3)\n",
        "    y = cd\n",
        "    return y\n",
        "\n",
        "print(f'ความแตกต่างของเวลาระหว่าง 13:41:07 - 20:00:18 คือ {time_m2(13,41,7,20,0,18):,} วินาที')"
      ],
      "metadata": {
        "id": "N0satjdru5zT",
        "outputId": "6c3b8642-4f5a-4501-d765-44926eab2cce",
        "colab": {
          "base_uri": "https://localhost:8080/"
        }
      },
      "execution_count": 14,
      "outputs": [
        {
          "output_type": "stream",
          "name": "stdout",
          "text": [
            "ความแตกต่างของเวลาระหว่าง 13:41:07 - 20:00:18 คือ 22,751 วินาที\n"
          ]
        }
      ]
    },
    {
      "cell_type": "markdown",
      "source": [
        "### ```00:00:00 - 23:59:59```"
      ],
      "metadata": {
        "id": "VJHbBiIWu1DZ"
      }
    },
    {
      "cell_type": "code",
      "source": [
        "def time_m3(e1,e2,e3,f1,f2,f3):\n",
        "    ef = ((f1*3600) + (f2*60) + f3) - ((e1*3600) + (e2*60) + e3)\n",
        "    y = ef\n",
        "    return y\n",
        "\n",
        "print(f'ความแตกต่างของเวลาระหว่าง 00:00:00 - 23:59:59 คือ {time_m2(0,0,0,23,59,59):,} วินาที') "
      ],
      "metadata": {
        "id": "mvveFmIjrMPc",
        "outputId": "4d4c609a-fc04-4ec6-894a-b3e854ff551e",
        "colab": {
          "base_uri": "https://localhost:8080/"
        }
      },
      "execution_count": 15,
      "outputs": [
        {
          "output_type": "stream",
          "name": "stdout",
          "text": [
            "ความแตกต่างของเวลาระหว่าง 00:00:00 - 23:59:59 คือ 86,399 วินาที\n"
          ]
        }
      ]
    },
    {
      "cell_type": "code",
      "source": [
        "input = '09:11:50 - 12:30:15'\n",
        "input"
      ],
      "metadata": {
        "colab": {
          "base_uri": "https://localhost:8080/",
          "height": 37
        },
        "id": "ECJLBbBoRtsB",
        "outputId": "40ca93b7-a120-4f16-d7ca-3718deafbb0d"
      },
      "execution_count": 16,
      "outputs": [
        {
          "output_type": "execute_result",
          "data": {
            "text/plain": [
              "'09:11:50 - 12:30:15'"
            ],
            "application/vnd.google.colaboratory.intrinsic+json": {
              "type": "string"
            }
          },
          "metadata": {},
          "execution_count": 16
        }
      ]
    },
    {
      "cell_type": "code",
      "source": [
        "input_split = input.split('-')\n",
        "input_split"
      ],
      "metadata": {
        "colab": {
          "base_uri": "https://localhost:8080/"
        },
        "id": "CIfaXn9SRtoc",
        "outputId": "a75d0a1f-ae5f-46dc-dc48-9c617ba192d5"
      },
      "execution_count": 17,
      "outputs": [
        {
          "output_type": "execute_result",
          "data": {
            "text/plain": [
              "['09:11:50 ', ' 12:30:15']"
            ]
          },
          "metadata": {},
          "execution_count": 17
        }
      ]
    },
    {
      "cell_type": "code",
      "source": [
        "starttimeSP = input_split[0].split(':')\n",
        "endtimeSP = input_split[-1].split(':')\n",
        "print(starttimeSP,endtimeSP,sep='\\n')"
      ],
      "metadata": {
        "colab": {
          "base_uri": "https://localhost:8080/"
        },
        "id": "TgPWQ6mLR-Pc",
        "outputId": "e088a62b-3293-4f9a-f25b-68e73fa06c46"
      },
      "execution_count": 23,
      "outputs": [
        {
          "output_type": "stream",
          "name": "stdout",
          "text": [
            "['09', '11', '50 ']\n",
            "[' 12', '30', '15']\n"
          ]
        }
      ]
    },
    {
      "cell_type": "code",
      "source": [
        "def caculate_time(input):\n",
        "    input_split = input.split('-')\n",
        "    starttimeSP = input_split[0].split(':')\n",
        "    endtimeSP = input_split[-1].split(':')\n",
        "\n",
        "    starttime = 3600*int(starttimeSP[0]) + 60*int(starttimeSP[1]) + int(starttimeSP[2])\n",
        "    endtime = 3600*int(endtimeSP[0]) + 60*int(endtimeSP[1]) + int(endtimeSP[2])\n",
        "\n",
        "    print(f'ระยะเวลาระหว่าง {input_split[0]} และ {input_split[1]} ห่างกันเท่ากับ {endtime-starttime:,} วินาที')\n"
      ],
      "metadata": {
        "id": "mTkzIJ4HSU6w"
      },
      "execution_count": 19,
      "outputs": []
    },
    {
      "cell_type": "code",
      "source": [
        "caculate_time('09:11:50 - 12:30:15')"
      ],
      "metadata": {
        "colab": {
          "base_uri": "https://localhost:8080/"
        },
        "id": "BuHczvS_Td1t",
        "outputId": "8891933b-6690-45c2-dd44-3eed5eb471be"
      },
      "execution_count": 20,
      "outputs": [
        {
          "output_type": "stream",
          "name": "stdout",
          "text": [
            "ระยะเวลาระหว่าง 09:11:50  และ  12:30:15 ห่างกันเท่ากับ 11,905 วินาที\n"
          ]
        }
      ]
    },
    {
      "cell_type": "code",
      "source": [
        "caculate_time('13:41:07 - 20:00:18')"
      ],
      "metadata": {
        "colab": {
          "base_uri": "https://localhost:8080/"
        },
        "id": "B8GomSXUTsQk",
        "outputId": "655c0fcd-205b-4c4f-a8bf-a2993c6ac225"
      },
      "execution_count": 21,
      "outputs": [
        {
          "output_type": "stream",
          "name": "stdout",
          "text": [
            "ระยะเวลาระหว่าง 13:41:07  และ  20:00:18 ห่างกันเท่ากับ 22,751 วินาที\n"
          ]
        }
      ]
    },
    {
      "cell_type": "code",
      "source": [
        "caculate_time('00:00:00 - 23:59:59')"
      ],
      "metadata": {
        "colab": {
          "base_uri": "https://localhost:8080/"
        },
        "id": "vArL1-SGTsNa",
        "outputId": "4e799f90-e730-4c93-8e64-0c20d0486985"
      },
      "execution_count": 22,
      "outputs": [
        {
          "output_type": "stream",
          "name": "stdout",
          "text": [
            "ระยะเวลาระหว่าง 00:00:00  และ  23:59:59 ห่างกันเท่ากับ 86,399 วินาที\n"
          ]
        }
      ]
    },
    {
      "cell_type": "markdown",
      "source": [
        "## Quiz3\n",
        "\n",
        "เขียน function แสดงความต่างของเวลาโดย input อยู่ในรูปแบบ 'XX:YY:ZZ - AA:BB:CC'\n",
        "\n",
        "และวนลูปแสดงผลของ input ต่อไปนี้\n",
        "\n",
        "- '09:11:50 - 12:30:15'\n",
        "- '13:41:07 - 20:00:18'\n",
        "- '00:00:00 - 23:59:59'\n",
        "- '18:04:11 - 00:00:00'\n",
        "- '21:30:00 - 03:05:15'\n",
        "\n",
        "ตัวอย่าง input '00:00:00-01:00:00'\n",
        "\n",
        "output ช่วงระยะเวลาระหว่าง 00:00:00 ถึง 01:00:00 มีเวลาทั้งหมด 3,600 วินาที\n"
      ],
      "metadata": {
        "id": "iNQfyWaIe9n2"
      }
    },
    {
      "cell_type": "code",
      "source": [
        "def print_Time(time) :\n",
        "      x = time\n",
        "      a = x.split(' - ')\n",
        "      start=a[0].split(':')\n",
        "      end=a[1].split(':')\n",
        "      \n",
        "      starttime = int(start[0])*3600 + int(start[1])*60 + int(start[2])\n",
        "      endtime = int(end[0])*3600+ int(end[1])*60 + int(end[2])\n",
        "     \n",
        "      if endtime > starttime:\n",
        "        print(f'ช่วงระยะเวลาระหว่าง {a[0]} ถึง {a[1]} มีเวลาทั้งหมด {endtime - starttime:,} วินาที')\n",
        "      else:\n",
        "        print(f'ช่วงระยะเวลาระหว่าง {a[0]} ถึง {a[1]} มีเวลาทั้งหมด {(endtime+(24*60*60)) - starttime:,} วินาที')\n"
      ],
      "metadata": {
        "id": "L5XXnuzPo2xg"
      },
      "execution_count": 44,
      "outputs": []
    },
    {
      "cell_type": "code",
      "source": [
        "for time in ['09:11:50 - 12:30:15','13:41:07 - 20:00:18','00:00:00 - 23:59:59','18:04:11 - 00:00:00','21:30:00 - 03:05:15']:\n",
        "    T = time\n",
        "    print_Time(T)"
      ],
      "metadata": {
        "id": "NIXCOjJu1RIW",
        "outputId": "ea17a861-aeb1-4d95-f2ec-07ab518eebd6",
        "colab": {
          "base_uri": "https://localhost:8080/"
        }
      },
      "execution_count": 47,
      "outputs": [
        {
          "output_type": "stream",
          "name": "stdout",
          "text": [
            "ช่วงระยะเวลาระหว่าง 09:11:50 ถึง 12:30:15 มีเวลาทั้งหมด 11,905 วินาที\n",
            "ช่วงระยะเวลาระหว่าง 13:41:07 ถึง 20:00:18 มีเวลาทั้งหมด 22,751 วินาที\n",
            "ช่วงระยะเวลาระหว่าง 00:00:00 ถึง 23:59:59 มีเวลาทั้งหมด 86,399 วินาที\n",
            "ช่วงระยะเวลาระหว่าง 18:04:11 ถึง 00:00:00 มีเวลาทั้งหมด 21,349 วินาที\n",
            "ช่วงระยะเวลาระหว่าง 21:30:00 ถึง 03:05:15 มีเวลาทั้งหมด 20,115 วินาที\n"
          ]
        }
      ]
    }
  ]
}