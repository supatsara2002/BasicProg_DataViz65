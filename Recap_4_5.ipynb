{
  "nbformat": 4,
  "nbformat_minor": 0,
  "metadata": {
    "colab": {
      "name": "Recap 4-5",
      "provenance": [],
      "authorship_tag": "ABX9TyM1RqvqgIorROExvECD7+Mi",
      "include_colab_link": true
    },
    "kernelspec": {
      "name": "python3",
      "display_name": "Python 3"
    },
    "language_info": {
      "name": "python"
    }
  },
  "cells": [
    {
      "cell_type": "markdown",
      "metadata": {
        "id": "view-in-github",
        "colab_type": "text"
      },
      "source": [
        "<a href=\"https://colab.research.google.com/github/supatsara2002/BasicProg_DataViz65/blob/main/Recap_4_5.ipynb\" target=\"_parent\"><img src=\"https://colab.research.google.com/assets/colab-badge.svg\" alt=\"Open In Colab\"/></a>"
      ]
    },
    {
      "cell_type": "markdown",
      "source": [
        "# Matrix Slicing"
      ],
      "metadata": {
        "id": "q5v1Hd0GDWQ_"
      }
    },
    {
      "cell_type": "code",
      "source": [
        "import numpy"
      ],
      "metadata": {
        "id": "zBhJ6UgqDgzu"
      },
      "execution_count": null,
      "outputs": []
    },
    {
      "cell_type": "code",
      "source": [
        "list_a = [[2,4,5,],[1,2,3],[9,8,7],[3,6,9]]\n",
        "mat_a = numpy.array(list_a)\n",
        "mat_a"
      ],
      "metadata": {
        "colab": {
          "base_uri": "https://localhost:8080/"
        },
        "id": "EGZMtsirDdcF",
        "outputId": "6d84e926-0729-4857-9bf4-6e0345f42e2e"
      },
      "execution_count": null,
      "outputs": [
        {
          "output_type": "execute_result",
          "data": {
            "text/plain": [
              "array([[2, 4, 5],\n",
              "       [1, 2, 3],\n",
              "       [9, 8, 7],\n",
              "       [3, 6, 9]])"
            ]
          },
          "metadata": {},
          "execution_count": 2
        }
      ]
    },
    {
      "cell_type": "code",
      "source": [
        "import numpy as np"
      ],
      "metadata": {
        "id": "jG1TbjWVEjRL"
      },
      "execution_count": null,
      "outputs": []
    },
    {
      "cell_type": "code",
      "source": [
        "list_b = [[-1,-1,2,4,5,],[-2,-2,1,2,3],[-3,-3,9,8,7],[-4,-4,3,6,9]]\n",
        "mat_b = np.array(list_b)\n",
        "mat_b"
      ],
      "metadata": {
        "colab": {
          "base_uri": "https://localhost:8080/"
        },
        "id": "fsj9ggbbEoKB",
        "outputId": "7f908c52-14c8-454c-9edf-7ad618bb1f58"
      },
      "execution_count": null,
      "outputs": [
        {
          "output_type": "execute_result",
          "data": {
            "text/plain": [
              "array([[-1, -1,  2,  4,  5],\n",
              "       [-2, -2,  1,  2,  3],\n",
              "       [-3, -3,  9,  8,  7],\n",
              "       [-4, -4,  3,  6,  9]])"
            ]
          },
          "metadata": {},
          "execution_count": 4
        }
      ]
    },
    {
      "cell_type": "markdown",
      "source": [
        "## Quiz2\n",
        "\n",
        "1. slice ค่าลบออกมาจาก ```mat_b```\n",
        "2. slice ```[1,2,3]``` จาก ```mat_a```\n",
        "3. slice ```[[1,3],[9,7],[3,9]]``` ออกมาจาก ```mat_b```\n",
        "\n",
        "\n"
      ],
      "metadata": {
        "id": "CaOBZGnyFTKk"
      }
    },
    {
      "cell_type": "markdown",
      "source": [
        "## 1. slice ค่าลบออกมาจาก ```mat_b```"
      ],
      "metadata": {
        "id": "pnqry4KyJUUF"
      }
    },
    {
      "cell_type": "code",
      "source": [
        "mat_b[:4,:2]"
      ],
      "metadata": {
        "colab": {
          "base_uri": "https://localhost:8080/"
        },
        "id": "iqIy7LVtF6UV",
        "outputId": "542d6f92-bfcd-4050-a462-6de2d470e7c6"
      },
      "execution_count": null,
      "outputs": [
        {
          "output_type": "execute_result",
          "data": {
            "text/plain": [
              "array([[-1, -1],\n",
              "       [-2, -2],\n",
              "       [-3, -3],\n",
              "       [-4, -4]])"
            ]
          },
          "metadata": {},
          "execution_count": 5
        }
      ]
    },
    {
      "cell_type": "markdown",
      "source": [
        "## 2. slice ```[1,2,3]``` จาก ```mat_a```"
      ],
      "metadata": {
        "id": "2w4FYiPgJbWE"
      }
    },
    {
      "cell_type": "code",
      "source": [
        "mat_a[1:2]"
      ],
      "metadata": {
        "colab": {
          "base_uri": "https://localhost:8080/"
        },
        "id": "LF1huPjkHX3z",
        "outputId": "fb3a8f5b-820b-47ce-b76e-91a0ae02ff03"
      },
      "execution_count": null,
      "outputs": [
        {
          "output_type": "execute_result",
          "data": {
            "text/plain": [
              "array([[1, 2, 3]])"
            ]
          },
          "metadata": {},
          "execution_count": 6
        }
      ]
    },
    {
      "cell_type": "markdown",
      "source": [
        "## 3. slice ```[[1,3],[9,7],[3,9]]``` ออกมาจาก ```mat_b```"
      ],
      "metadata": {
        "id": "eYuMNheTJf7U"
      }
    },
    {
      "cell_type": "code",
      "source": [
        "mat_b[1:,2::2]"
      ],
      "metadata": {
        "colab": {
          "base_uri": "https://localhost:8080/"
        },
        "id": "4V0nZjrtIJPu",
        "outputId": "12d9a94b-a278-46ee-92e9-3fe0bd9495f9"
      },
      "execution_count": null,
      "outputs": [
        {
          "output_type": "execute_result",
          "data": {
            "text/plain": [
              "array([[1, 3],\n",
              "       [9, 7],\n",
              "       [3, 9]])"
            ]
          },
          "metadata": {},
          "execution_count": 7
        }
      ]
    },
    {
      "cell_type": "markdown",
      "source": [
        "## Function Print"
      ],
      "metadata": {
        "id": "hh3lTYUVRVyI"
      }
    },
    {
      "cell_type": "code",
      "source": [
        "print()"
      ],
      "metadata": {
        "colab": {
          "base_uri": "https://localhost:8080/"
        },
        "id": "WpqSfnMnRVj3",
        "outputId": "9a2b4831-a450-4402-9403-e9b4958e283e"
      },
      "execution_count": null,
      "outputs": [
        {
          "output_type": "stream",
          "name": "stdout",
          "text": [
            "\n"
          ]
        }
      ]
    },
    {
      "cell_type": "code",
      "source": [
        "print('สวัสดี')"
      ],
      "metadata": {
        "colab": {
          "base_uri": "https://localhost:8080/"
        },
        "id": "kTdySXJIRYtl",
        "outputId": "5d568a24-6bc7-4c0b-fd91-31e72f9b35c8"
      },
      "execution_count": null,
      "outputs": [
        {
          "output_type": "stream",
          "name": "stdout",
          "text": [
            "สวัสดี\n"
          ]
        }
      ]
    },
    {
      "cell_type": "code",
      "source": [
        "print('hello')\n",
        "print('สวัสดี')"
      ],
      "metadata": {
        "colab": {
          "base_uri": "https://localhost:8080/"
        },
        "id": "fTMF28-YRU5c",
        "outputId": "682336d3-9785-43d9-e0b4-c86369d4c850"
      },
      "execution_count": null,
      "outputs": [
        {
          "output_type": "stream",
          "name": "stdout",
          "text": [
            "hello\n",
            "สวัสดี\n"
          ]
        }
      ]
    },
    {
      "cell_type": "code",
      "source": [
        "print('hello',end=' ')\n",
        "print('สวัสดี')"
      ],
      "metadata": {
        "colab": {
          "base_uri": "https://localhost:8080/"
        },
        "id": "byMRZjOVRkC6",
        "outputId": "d11a9670-1147-41c9-efae-84e9a1ab0b2e"
      },
      "execution_count": null,
      "outputs": [
        {
          "output_type": "stream",
          "name": "stdout",
          "text": [
            "hello สวัสดี\n"
          ]
        }
      ]
    },
    {
      "cell_type": "code",
      "source": [
        "print('hello','สวัสดี',sep='\\n')"
      ],
      "metadata": {
        "colab": {
          "base_uri": "https://localhost:8080/"
        },
        "id": "4YS436OcRq6f",
        "outputId": "9f6cd3a5-6c0a-4d16-9c43-e49a2f94e662"
      },
      "execution_count": null,
      "outputs": [
        {
          "output_type": "stream",
          "name": "stdout",
          "text": [
            "hello\n",
            "สวัสดี\n"
          ]
        }
      ]
    },
    {
      "cell_type": "markdown",
      "source": [
        "## HW1\n",
        "\n",
        "เขียน Function\n",
        "แสดงความต่างของเวลา (Quiz1)\n",
        "โดย input อยู่ในรูปแบบ ```'09:11:50 - 12:30:15'```\n",
        "\n",
        "และทดลองรัน\n",
        "* 09:11:50 - 12:30:15\n",
        "* 13:41:07 - 20:00:18\n",
        "* 00:00:00 - 23:59:59"
      ],
      "metadata": {
        "id": "M0ds2pBPUNA6"
      }
    },
    {
      "cell_type": "markdown",
      "source": [
        "### ```09:11:50 - 12:30:15```"
      ],
      "metadata": {
        "id": "drHKkTmruaY6"
      }
    },
    {
      "cell_type": "code",
      "source": [
        "def time_m1(a1,a2,a3,b1,b2,b3):\n",
        "    ab = ((b1*3600) + (b2*60) + b3) - ((a1*3600) + (a2*60) + a3)\n",
        "    y = ab\n",
        "    return y\n",
        "\n",
        "print(f'ความแตกต่างของเวลาระหว่าง 09:11:50 - 12:30:15 คือ {time_m1(9,11,50,12,30,15)} วินาที') "
      ],
      "metadata": {
        "id": "oigS1_mpmiCy",
        "outputId": "34f427cf-5920-4141-b4d3-f63c0ed7ed99",
        "colab": {
          "base_uri": "https://localhost:8080/"
        }
      },
      "execution_count": null,
      "outputs": [
        {
          "output_type": "stream",
          "name": "stdout",
          "text": [
            "ความแตกต่างของเวลาระหว่าง 09:11:50 - 12:30:15 คือ 11905 วินาที\n"
          ]
        }
      ]
    },
    {
      "cell_type": "markdown",
      "source": [
        "### ```13:41:07 - 20:00:18```"
      ],
      "metadata": {
        "id": "bZdihbrUuw0D"
      }
    },
    {
      "cell_type": "code",
      "source": [
        "def time_m2(c1,c2,c3,d1,d2,d3):\n",
        "    cd = ((d1*3600) + (d2*60) + d3) - ((c1*3600) + (c2*60) + c3)\n",
        "    y = cd\n",
        "    return y\n",
        "\n",
        "print(f'ความแตกต่างของเวลาระหว่าง 13:41:07 - 20:00:18 คือ {time_m2(13,41,7,20,0,18)} วินาที')"
      ],
      "metadata": {
        "id": "N0satjdru5zT",
        "outputId": "bc853a73-53d2-4310-da8c-76c3be6a82c8",
        "colab": {
          "base_uri": "https://localhost:8080/"
        }
      },
      "execution_count": null,
      "outputs": [
        {
          "output_type": "stream",
          "name": "stdout",
          "text": [
            "ความแตกต่างของเวลาระหว่าง 13:41:07 - 20:00:18 คือ 22751 วินาที\n"
          ]
        }
      ]
    },
    {
      "cell_type": "markdown",
      "source": [
        "### ```00:00:00 - 23:59:59```"
      ],
      "metadata": {
        "id": "VJHbBiIWu1DZ"
      }
    },
    {
      "cell_type": "code",
      "source": [
        "def time_m3(e1,e2,e3,f1,f2,f3):\n",
        "    ef = ((f1*3600) + (f2*60) + f3) - ((e1*3600) + (e2*60) + e3)\n",
        "    y = ef\n",
        "    return y\n",
        "\n",
        "print(f'ความแตกต่างของเวลาระหว่าง 00:00:00 - 23:59:59 คือ {time_m2(0,0,0,23,59,59)} วินาที') "
      ],
      "metadata": {
        "id": "mvveFmIjrMPc",
        "outputId": "b0b406ad-c4d1-45da-e566-f1ba37de8753",
        "colab": {
          "base_uri": "https://localhost:8080/"
        }
      },
      "execution_count": null,
      "outputs": [
        {
          "output_type": "stream",
          "name": "stdout",
          "text": [
            "ความแตกต่างของเวลาระหว่าง 00:00:00 - 23:59:59 คือ 86399 วินาที\n"
          ]
        }
      ]
    },
    {
      "cell_type": "code",
      "source": [
        "input = '09:11:50 - 12:30:15'\n",
        "input"
      ],
      "metadata": {
        "id": "ECJLBbBoRtsB",
        "outputId": "d7771d51-418d-4570-c8c4-cace15527317",
        "colab": {
          "base_uri": "https://localhost:8080/",
          "height": 37
        }
      },
      "execution_count": 1,
      "outputs": [
        {
          "output_type": "execute_result",
          "data": {
            "text/plain": [
              "'09:11:50 - 12:30:15'"
            ],
            "application/vnd.google.colaboratory.intrinsic+json": {
              "type": "string"
            }
          },
          "metadata": {},
          "execution_count": 1
        }
      ]
    },
    {
      "cell_type": "code",
      "source": [
        "input_split = input.split('-')\n",
        "input_split"
      ],
      "metadata": {
        "id": "CIfaXn9SRtoc",
        "outputId": "b29163b5-c306-4716-8fd0-50362b8bc3d7",
        "colab": {
          "base_uri": "https://localhost:8080/"
        }
      },
      "execution_count": 3,
      "outputs": [
        {
          "output_type": "execute_result",
          "data": {
            "text/plain": [
              "['09:11:50 ', ' 12:30:15']"
            ]
          },
          "metadata": {},
          "execution_count": 3
        }
      ]
    },
    {
      "cell_type": "code",
      "source": [
        "starttimeSP = input_split[0].split(':')\n",
        "endtimeSP = input_split[-1].split(':')\n",
        "print(starttimeSP,endtimeSP,sep='\\n')"
      ],
      "metadata": {
        "id": "TgPWQ6mLR-Pc",
        "outputId": "66579c8b-f019-4d15-e4fd-ce8b004835e9",
        "colab": {
          "base_uri": "https://localhost:8080/"
        }
      },
      "execution_count": 4,
      "outputs": [
        {
          "output_type": "stream",
          "name": "stdout",
          "text": [
            "['09', '11', '50 ']\n",
            "[' 12', '30', '15']\n"
          ]
        }
      ]
    },
    {
      "cell_type": "code",
      "source": [
        "def caculate_time(input):\n",
        "    input_split = input.split('-')\n",
        "    starttimeSP = input_split[0].split(':')\n",
        "    endtimeSP = input_split[-1].split(':')\n",
        "\n",
        "    starttime = 3600*int(starttimeSP[0]) + 60*int(starttimeSP[1]) + int(starttimeSP[2])\n",
        "    endtime = 3600*int(endtimeSP[0]) + 60*int(endtimeSP[1]) + int(endtimeSP[2])\n",
        "\n",
        "    print(f'ระยะเวลาระหว่าง {input_split[0]} และ {input_split[1]} ห่างกันเท่ากับ {endtime-starttime:,} วินาที')\n"
      ],
      "metadata": {
        "id": "mTkzIJ4HSU6w"
      },
      "execution_count": 13,
      "outputs": []
    },
    {
      "cell_type": "code",
      "source": [
        "caculate_time('09:11:50 - 12:30:15')"
      ],
      "metadata": {
        "id": "BuHczvS_Td1t",
        "outputId": "6b4799eb-0aaa-40b3-cd6a-226b1aecab1e",
        "colab": {
          "base_uri": "https://localhost:8080/"
        }
      },
      "execution_count": 14,
      "outputs": [
        {
          "output_type": "stream",
          "name": "stdout",
          "text": [
            "ระยะเวลาระหว่าง 09:11:50  และ  12:30:15 ห่างกันเท่ากับ 11,905 วินาที\n"
          ]
        }
      ]
    },
    {
      "cell_type": "code",
      "source": [
        "caculate_time('13:41:07 - 20:00:18')"
      ],
      "metadata": {
        "id": "B8GomSXUTsQk",
        "outputId": "8e5d8ccf-6de7-4d59-d66a-22088926eec0",
        "colab": {
          "base_uri": "https://localhost:8080/"
        }
      },
      "execution_count": 15,
      "outputs": [
        {
          "output_type": "stream",
          "name": "stdout",
          "text": [
            "ระยะเวลาระหว่าง 13:41:07  และ  20:00:18 ห่างกันเท่ากับ 22,751 วินาที\n"
          ]
        }
      ]
    },
    {
      "cell_type": "code",
      "source": [
        "caculate_time('00:00:00 - 23:59:59')"
      ],
      "metadata": {
        "id": "vArL1-SGTsNa",
        "outputId": "97dd0549-c9fd-4d12-eaf4-f550578a4fda",
        "colab": {
          "base_uri": "https://localhost:8080/"
        }
      },
      "execution_count": 16,
      "outputs": [
        {
          "output_type": "stream",
          "name": "stdout",
          "text": [
            "ระยะเวลาระหว่าง 00:00:00  และ  23:59:59 ห่างกันเท่ากับ 86,399 วินาที\n"
          ]
        }
      ]
    }
  ]
}