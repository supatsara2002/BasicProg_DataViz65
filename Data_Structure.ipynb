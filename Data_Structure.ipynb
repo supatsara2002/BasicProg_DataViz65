{
  "nbformat": 4,
  "nbformat_minor": 0,
  "metadata": {
    "colab": {
      "name": "Data Structure.ipynb",
      "provenance": [],
      "collapsed_sections": [],
      "include_colab_link": true
    },
    "kernelspec": {
      "name": "python3",
      "display_name": "Python 3"
    },
    "language_info": {
      "name": "python"
    }
  },
  "cells": [
    {
      "cell_type": "markdown",
      "metadata": {
        "id": "view-in-github",
        "colab_type": "text"
      },
      "source": [
        "<a href=\"https://colab.research.google.com/github/supatsara2002/BasicProg_DataViz65/blob/main/Data_Structure.ipynb\" target=\"_parent\"><img src=\"https://colab.research.google.com/assets/colab-badge.svg\" alt=\"Open In Colab\"/></a>"
      ]
    },
    {
      "cell_type": "markdown",
      "source": [
        "# Data Structure (โครงสร้างข้อมูล)\n",
        "การเก็บข้อมูลหลาย ๆ ตัวไว้ด้วยกันอย่างเป็นระเบียบ"
      ],
      "metadata": {
        "id": "8zd1-XHR61BU"
      }
    },
    {
      "cell_type": "markdown",
      "source": [
        "## `list()`\n",
        "- เก็บอะไรก็ได้\n",
        "- ลำดับในการเก็บมีความสำคัญ"
      ],
      "metadata": {
        "id": "2NHWi22I7PyW"
      }
    },
    {
      "cell_type": "code",
      "source": [
        "list_a = [1,2,3,4,5,6] #[ ] square brackets เป็นวงเล็บของ list"
      ],
      "metadata": {
        "id": "pok6XEm27Vsp"
      },
      "execution_count": null,
      "outputs": []
    },
    {
      "cell_type": "code",
      "source": [
        "list_a # ลำดับเป็น 0 1 2 3 4..."
      ],
      "metadata": {
        "colab": {
          "base_uri": "https://localhost:8080/"
        },
        "id": "c9s3Zb7p7fyd",
        "outputId": "b0898a8e-819c-4fc2-df80-16c10af90b9e"
      },
      "execution_count": null,
      "outputs": [
        {
          "output_type": "execute_result",
          "data": {
            "text/plain": [
              "[1, 2, 3, 4, 5, 6]"
            ]
          },
          "metadata": {},
          "execution_count": 3
        }
      ]
    },
    {
      "cell_type": "code",
      "source": [
        "list_b = ['ab',2,3.14,list_a] #list เก็บอะไรก็ได้"
      ],
      "metadata": {
        "id": "syvgCHHA71Tr"
      },
      "execution_count": null,
      "outputs": []
    },
    {
      "cell_type": "code",
      "source": [
        "list_b"
      ],
      "metadata": {
        "colab": {
          "base_uri": "https://localhost:8080/"
        },
        "id": "GObCpzo48Zdb",
        "outputId": "5da3ee05-6f1a-427a-ee0d-182122e97ad7"
      },
      "execution_count": null,
      "outputs": [
        {
          "output_type": "execute_result",
          "data": {
            "text/plain": [
              "['ab', 2, 3.14, [1, 2, 3, 4, 5, 6]]"
            ]
          },
          "metadata": {},
          "execution_count": 5
        }
      ]
    },
    {
      "cell_type": "markdown",
      "source": [
        "## indexing การชี้สมาชิกใน list ด้วย เลขลำดับของ list"
      ],
      "metadata": {
        "id": "RYN4kj-h9mVP"
      }
    },
    {
      "cell_type": "code",
      "source": [
        "list_a[3] #สมาชิกตัวที่ 3 ของ list_a"
      ],
      "metadata": {
        "colab": {
          "base_uri": "https://localhost:8080/"
        },
        "id": "9M1yMsSD86AA",
        "outputId": "45e8ddd0-1bd0-4c09-a2e3-03a75e217e37"
      },
      "execution_count": null,
      "outputs": [
        {
          "output_type": "execute_result",
          "data": {
            "text/plain": [
              "4"
            ]
          },
          "metadata": {},
          "execution_count": 6
        }
      ]
    },
    {
      "cell_type": "code",
      "source": [
        "list_b[3] #สมาชิกตัวที่ 3 ของ list_b"
      ],
      "metadata": {
        "colab": {
          "base_uri": "https://localhost:8080/"
        },
        "id": "qPQDp-Cp9FVn",
        "outputId": "aaeebf36-7bc5-430e-9f00-c849cc36ea01"
      },
      "execution_count": null,
      "outputs": [
        {
          "output_type": "execute_result",
          "data": {
            "text/plain": [
              "[1, 2, 3, 4, 5, 6]"
            ]
          },
          "metadata": {},
          "execution_count": 7
        }
      ]
    },
    {
      "cell_type": "code",
      "source": [
        "list_b[3][4] #สมาชิกตัวที่ 4 ในสมาชิกตัวที่ 3 ของ list_b"
      ],
      "metadata": {
        "colab": {
          "base_uri": "https://localhost:8080/"
        },
        "id": "NzbM8rCP9VaL",
        "outputId": "73296d21-5baf-4aca-c4c9-be51e075efc5"
      },
      "execution_count": null,
      "outputs": [
        {
          "output_type": "execute_result",
          "data": {
            "text/plain": [
              "5"
            ]
          },
          "metadata": {},
          "execution_count": 8
        }
      ]
    },
    {
      "cell_type": "code",
      "source": [
        "list_a[6]"
      ],
      "metadata": {
        "colab": {
          "base_uri": "https://localhost:8080/",
          "height": 165
        },
        "id": "_Vdr5Hwx9xaz",
        "outputId": "ff274a61-b7b8-49a9-d1ff-7ef597d6ccc1"
      },
      "execution_count": null,
      "outputs": [
        {
          "output_type": "error",
          "ename": "IndexError",
          "evalue": "ignored",
          "traceback": [
            "\u001b[0;31m---------------------------------------------------------------------------\u001b[0m",
            "\u001b[0;31mIndexError\u001b[0m                                Traceback (most recent call last)",
            "\u001b[0;32m<ipython-input-9-d6b61775e813>\u001b[0m in \u001b[0;36m<module>\u001b[0;34m()\u001b[0m\n\u001b[0;32m----> 1\u001b[0;31m \u001b[0mlist_a\u001b[0m\u001b[0;34m[\u001b[0m\u001b[0;36m6\u001b[0m\u001b[0;34m]\u001b[0m\u001b[0;34m\u001b[0m\u001b[0;34m\u001b[0m\u001b[0m\n\u001b[0m",
            "\u001b[0;31mIndexError\u001b[0m: list index out of range"
          ]
        }
      ]
    },
    {
      "cell_type": "code",
      "source": [
        "list_a[-1] #index -1 คือตัวสุดท้ายของ list"
      ],
      "metadata": {
        "colab": {
          "base_uri": "https://localhost:8080/"
        },
        "id": "B1EbazEs-Cuu",
        "outputId": "b72151da-46ac-4c7d-ee20-685337b34bfb"
      },
      "execution_count": null,
      "outputs": [
        {
          "output_type": "execute_result",
          "data": {
            "text/plain": [
              "6"
            ]
          },
          "metadata": {},
          "execution_count": 10
        }
      ]
    },
    {
      "cell_type": "code",
      "source": [
        "list_a[-4] #นับจากท้าย ลำดับเป็น -1 -2 -3 -4"
      ],
      "metadata": {
        "colab": {
          "base_uri": "https://localhost:8080/"
        },
        "id": "BBE-UNhb-Y66",
        "outputId": "2ecf9e65-7a86-4f25-b21d-a9f697f7a049"
      },
      "execution_count": null,
      "outputs": [
        {
          "output_type": "execute_result",
          "data": {
            "text/plain": [
              "3"
            ]
          },
          "metadata": {},
          "execution_count": 11
        }
      ]
    },
    {
      "cell_type": "markdown",
      "source": [
        "### การสร้าง `list()`"
      ],
      "metadata": {
        "id": "J7nDPQ-r-w65"
      }
    },
    {
      "cell_type": "code",
      "source": [
        "list_x1 = [] #แบบที่ 1"
      ],
      "metadata": {
        "id": "r3Vi4wPL-qFV"
      },
      "execution_count": null,
      "outputs": []
    },
    {
      "cell_type": "code",
      "source": [
        "list_x2 = list() #แบบที่ 2"
      ],
      "metadata": {
        "id": "B8o9QXLX_D7q"
      },
      "execution_count": null,
      "outputs": []
    },
    {
      "cell_type": "code",
      "source": [
        "print(list_x1)\n",
        "print(list_x2)"
      ],
      "metadata": {
        "colab": {
          "base_uri": "https://localhost:8080/"
        },
        "id": "QnQBkfnX_O4V",
        "outputId": "8a35a546-c1e7-47fe-f96e-70a48079edfd"
      },
      "execution_count": null,
      "outputs": [
        {
          "output_type": "stream",
          "name": "stdout",
          "text": [
            "[]\n",
            "[]\n"
          ]
        }
      ]
    },
    {
      "cell_type": "markdown",
      "source": [
        "### เพิ่มสมาชิกเข้าไปใน list ด้วย `append()`"
      ],
      "metadata": {
        "id": "xVrcnDuU_YvJ"
      }
    },
    {
      "cell_type": "code",
      "source": [
        "list_x1.append(2)"
      ],
      "metadata": {
        "id": "G4YMxSmA_i8K"
      },
      "execution_count": null,
      "outputs": []
    },
    {
      "cell_type": "code",
      "source": [
        "list_x1"
      ],
      "metadata": {
        "colab": {
          "base_uri": "https://localhost:8080/"
        },
        "id": "gMvDGcnb_pOd",
        "outputId": "11af937a-aa49-42b9-ed57-b53d5e3ac731"
      },
      "execution_count": null,
      "outputs": [
        {
          "output_type": "execute_result",
          "data": {
            "text/plain": [
              "[2]"
            ]
          },
          "metadata": {},
          "execution_count": 16
        }
      ]
    },
    {
      "cell_type": "code",
      "source": [
        "list_x1.append(4) #ถ้ากดรัน 2 ครั้ง มันก็จะขึ้น 2 ครั้ง"
      ],
      "metadata": {
        "id": "hwbudB7Va0zA"
      },
      "execution_count": null,
      "outputs": []
    },
    {
      "cell_type": "code",
      "source": [
        "print(list_x1)"
      ],
      "metadata": {
        "colab": {
          "base_uri": "https://localhost:8080/"
        },
        "id": "NSb9Yd12a6xu",
        "outputId": "07450a68-97dd-4a22-e90c-06931bf8ac52"
      },
      "execution_count": null,
      "outputs": [
        {
          "output_type": "stream",
          "name": "stdout",
          "text": [
            "[2, 4]\n"
          ]
        }
      ]
    },
    {
      "cell_type": "code",
      "source": [
        "list_x2.append('ha') #ถ้ากดรัน 2 ครั้ง มันก็จะขึ้น 2 ตัว"
      ],
      "metadata": {
        "id": "utAWrvu7bU7S"
      },
      "execution_count": null,
      "outputs": []
    },
    {
      "cell_type": "code",
      "source": [
        "list_x2"
      ],
      "metadata": {
        "colab": {
          "base_uri": "https://localhost:8080/"
        },
        "id": "mL5fsycfczGu",
        "outputId": "328840ba-fc85-4780-8f7b-4b6d7284bdb6"
      },
      "execution_count": null,
      "outputs": [
        {
          "output_type": "execute_result",
          "data": {
            "text/plain": [
              "['ha', 'ha']"
            ]
          },
          "metadata": {},
          "execution_count": 43
        }
      ]
    },
    {
      "cell_type": "markdown",
      "source": [
        "### ลบสมาชิกจาก list"
      ],
      "metadata": {
        "id": "41m0yDVBcRbT"
      }
    },
    {
      "cell_type": "code",
      "source": [
        "list_x1.append('ha')"
      ],
      "metadata": {
        "id": "A0L7bgdBclCp"
      },
      "execution_count": null,
      "outputs": []
    },
    {
      "cell_type": "code",
      "source": [
        "list_x1"
      ],
      "metadata": {
        "colab": {
          "base_uri": "https://localhost:8080/"
        },
        "id": "Pu9RPejkbpI0",
        "outputId": "0c415f6a-b4c0-4aec-f5d4-dd9ab5702f55"
      },
      "execution_count": null,
      "outputs": [
        {
          "output_type": "execute_result",
          "data": {
            "text/plain": [
              "[2, 4, 'ha', 'ha']"
            ]
          },
          "metadata": {},
          "execution_count": 51
        }
      ]
    },
    {
      "cell_type": "code",
      "source": [
        "list_x1.pop() #ลบจากตัวท้ายสุด"
      ],
      "metadata": {
        "colab": {
          "base_uri": "https://localhost:8080/",
          "height": 36
        },
        "id": "YZFEJ3c8bxKk",
        "outputId": "854c0a91-37e6-43ae-c26f-969c27697963"
      },
      "execution_count": null,
      "outputs": [
        {
          "output_type": "execute_result",
          "data": {
            "text/plain": [
              "'ha'"
            ],
            "application/vnd.google.colaboratory.intrinsic+json": {
              "type": "string"
            }
          },
          "metadata": {},
          "execution_count": 52
        }
      ]
    },
    {
      "cell_type": "code",
      "source": [
        "list_x1"
      ],
      "metadata": {
        "colab": {
          "base_uri": "https://localhost:8080/"
        },
        "id": "MWUay9rvb99A",
        "outputId": "f0413a2a-7786-4181-aadb-f339901603fc"
      },
      "execution_count": null,
      "outputs": [
        {
          "output_type": "execute_result",
          "data": {
            "text/plain": [
              "[2, 4, 'ha']"
            ]
          },
          "metadata": {},
          "execution_count": 53
        }
      ]
    },
    {
      "cell_type": "code",
      "source": [
        "list_x1.pop()\n",
        "print(list_x1)"
      ],
      "metadata": {
        "colab": {
          "base_uri": "https://localhost:8080/"
        },
        "id": "jK8slY3jcVFr",
        "outputId": "f97199ac-72ca-4c8e-855c-c3fca8f7dd62"
      },
      "execution_count": null,
      "outputs": [
        {
          "output_type": "stream",
          "name": "stdout",
          "text": [
            "[2, 4]\n"
          ]
        }
      ]
    },
    {
      "cell_type": "markdown",
      "source": [
        "### `len()` ตรวจสอบจำนวนสมาชิกของ list"
      ],
      "metadata": {
        "id": "0osL_zgVeAxl"
      }
    },
    {
      "cell_type": "code",
      "source": [
        "print(list_b)\n",
        "print(len(list_b))"
      ],
      "metadata": {
        "colab": {
          "base_uri": "https://localhost:8080/"
        },
        "id": "P6RB6Ph1dj69",
        "outputId": "40706de2-2423-43a1-aaf1-a573a1deadcb"
      },
      "execution_count": null,
      "outputs": [
        {
          "output_type": "stream",
          "name": "stdout",
          "text": [
            "['ab', 2, 3.14, [1, 2, 3, 4, 5, 6]]\n",
            "4\n"
          ]
        }
      ]
    },
    {
      "cell_type": "code",
      "source": [
        "len(list_a)"
      ],
      "metadata": {
        "colab": {
          "base_uri": "https://localhost:8080/"
        },
        "id": "Prj3VgOKeUjO",
        "outputId": "fde495ed-493e-451e-cdba-496ab7bd1cb8"
      },
      "execution_count": null,
      "outputs": [
        {
          "output_type": "execute_result",
          "data": {
            "text/plain": [
              "6"
            ]
          },
          "metadata": {},
          "execution_count": 56
        }
      ]
    },
    {
      "cell_type": "markdown",
      "source": [
        "### String is a list of characters"
      ],
      "metadata": {
        "id": "XGQDpkwQeaNz"
      }
    },
    {
      "cell_type": "code",
      "source": [
        "st_stat = 'Department of Statistics, Faculty of Science'"
      ],
      "metadata": {
        "id": "R0hES_pweZoE"
      },
      "execution_count": null,
      "outputs": []
    },
    {
      "cell_type": "code",
      "source": [
        "st_stat[10] #เป็นช่องว่างพอดี"
      ],
      "metadata": {
        "colab": {
          "base_uri": "https://localhost:8080/",
          "height": 36
        },
        "id": "WP8swX3Qe8Y7",
        "outputId": "34025200-f97d-4ef4-9637-53cc39836daa"
      },
      "execution_count": null,
      "outputs": [
        {
          "output_type": "execute_result",
          "data": {
            "text/plain": [
              "' '"
            ],
            "application/vnd.google.colaboratory.intrinsic+json": {
              "type": "string"
            }
          },
          "metadata": {},
          "execution_count": 58
        }
      ]
    },
    {
      "cell_type": "code",
      "source": [
        "len(st_stat)"
      ],
      "metadata": {
        "colab": {
          "base_uri": "https://localhost:8080/"
        },
        "id": "Mv-vxyjBfIEM",
        "outputId": "df013116-725d-4b69-b52d-eb1698d912e2"
      },
      "execution_count": null,
      "outputs": [
        {
          "output_type": "execute_result",
          "data": {
            "text/plain": [
              "44"
            ]
          },
          "metadata": {},
          "execution_count": 59
        }
      ]
    },
    {
      "cell_type": "markdown",
      "source": [
        "## List Slicing `:`"
      ],
      "metadata": {
        "id": "dPG-VOtmfNNJ"
      }
    },
    {
      "cell_type": "markdown",
      "source": [
        "`list[จุดเริ่มต้น (ทึบ) : จุดสุดท้าย (โปร่ง)]`\n",
        "\n",
        "`list[จุดเริ่มต้น (ทึบ) : จุดสุดท้าย (โปร่ง) : step]`\n",
        "\n"
      ],
      "metadata": {
        "id": "yH-ND6dgjRwo"
      }
    },
    {
      "cell_type": "code",
      "source": [
        "list_a"
      ],
      "metadata": {
        "colab": {
          "base_uri": "https://localhost:8080/"
        },
        "id": "EbCC4I8DfQce",
        "outputId": "00995455-e43d-46ed-c1c7-26c7f46ab861"
      },
      "execution_count": null,
      "outputs": [
        {
          "output_type": "execute_result",
          "data": {
            "text/plain": [
              "[1, 2, 3, 4, 5, 6]"
            ]
          },
          "metadata": {},
          "execution_count": 60
        }
      ]
    },
    {
      "cell_type": "code",
      "source": [
        "list_a[2]"
      ],
      "metadata": {
        "colab": {
          "base_uri": "https://localhost:8080/"
        },
        "id": "FW959Dbfi1DO",
        "outputId": "75f5459e-2859-4a04-e266-51b9a09743d0"
      },
      "execution_count": null,
      "outputs": [
        {
          "output_type": "execute_result",
          "data": {
            "text/plain": [
              "3"
            ]
          },
          "metadata": {},
          "execution_count": 61
        }
      ]
    },
    {
      "cell_type": "markdown",
      "source": [
        "#### `:` colon"
      ],
      "metadata": {
        "id": "UZu44g9rlBCn"
      }
    },
    {
      "cell_type": "code",
      "source": [
        "list_a[-3:] # เอา 3 ตัวท้าย"
      ],
      "metadata": {
        "colab": {
          "base_uri": "https://localhost:8080/"
        },
        "id": "otkVG5qTi5V6",
        "outputId": "14c26a30-f87c-45a6-e1b8-2032e17e3ac0"
      },
      "execution_count": null,
      "outputs": [
        {
          "output_type": "execute_result",
          "data": {
            "text/plain": [
              "[4, 5, 6]"
            ]
          },
          "metadata": {},
          "execution_count": 62
        }
      ]
    },
    {
      "cell_type": "code",
      "source": [
        "list_a[:4] #เอาตัวแรกจนถึงตัวที่ 4 แต่ไม่เอาตัวที่ 4 ด้วย"
      ],
      "metadata": {
        "colab": {
          "base_uri": "https://localhost:8080/"
        },
        "id": "up292keEkmAH",
        "outputId": "1612f0e2-636d-4fa0-94be-966f588827a3"
      },
      "execution_count": null,
      "outputs": [
        {
          "output_type": "execute_result",
          "data": {
            "text/plain": [
              "[1, 2, 3, 4]"
            ]
          },
          "metadata": {},
          "execution_count": 64
        }
      ]
    },
    {
      "cell_type": "code",
      "source": [
        "list_a[1:4] #เอาตัวที่ 1 ถึงตัวที่ 4"
      ],
      "metadata": {
        "colab": {
          "base_uri": "https://localhost:8080/"
        },
        "id": "FpSZeaX0jprV",
        "outputId": "a5cdae19-b8ba-4647-9366-974fd3cda96b"
      },
      "execution_count": null,
      "outputs": [
        {
          "output_type": "execute_result",
          "data": {
            "text/plain": [
              "[2, 3, 4]"
            ]
          },
          "metadata": {},
          "execution_count": 63
        }
      ]
    },
    {
      "cell_type": "code",
      "source": [
        "list_a[:] #เอาทุกตัว"
      ],
      "metadata": {
        "colab": {
          "base_uri": "https://localhost:8080/"
        },
        "id": "KVT5GI9nkKR_",
        "outputId": "1794d53e-de63-46b4-e323-ccd433979239"
      },
      "execution_count": null,
      "outputs": [
        {
          "output_type": "execute_result",
          "data": {
            "text/plain": [
              "[1, 2, 3, 4, 5, 6]"
            ]
          },
          "metadata": {},
          "execution_count": 65
        }
      ]
    },
    {
      "cell_type": "markdown",
      "source": [
        "#### step"
      ],
      "metadata": {
        "id": "weZ542mLk5Hs"
      }
    },
    {
      "cell_type": "code",
      "source": [
        "list_c = [1,2,3,4,5,6,7,8,9,10,11,12,13]"
      ],
      "metadata": {
        "id": "jNlsMXHMkzP3"
      },
      "execution_count": null,
      "outputs": []
    },
    {
      "cell_type": "code",
      "source": [
        "list_c[:10]"
      ],
      "metadata": {
        "colab": {
          "base_uri": "https://localhost:8080/"
        },
        "id": "9ETWnN5VlS3N",
        "outputId": "7ed5bfe0-2eeb-49c1-d1e1-318be58aad11"
      },
      "execution_count": null,
      "outputs": [
        {
          "output_type": "execute_result",
          "data": {
            "text/plain": [
              "[1, 2, 3, 4, 5, 6, 7, 8, 9, 10]"
            ]
          },
          "metadata": {},
          "execution_count": 67
        }
      ]
    },
    {
      "cell_type": "code",
      "source": [
        "list_c[:10:2] # 2 step"
      ],
      "metadata": {
        "colab": {
          "base_uri": "https://localhost:8080/"
        },
        "id": "67TaIn4slcT6",
        "outputId": "58737c6d-5b0e-448f-8dc0-8a42f805b481"
      },
      "execution_count": null,
      "outputs": [
        {
          "output_type": "execute_result",
          "data": {
            "text/plain": [
              "[1, 3, 5, 7, 9]"
            ]
          },
          "metadata": {},
          "execution_count": 68
        }
      ]
    },
    {
      "cell_type": "code",
      "source": [
        "list_c[::-1] #ถ้าใส่ - คือนับจากด้านหลัง"
      ],
      "metadata": {
        "colab": {
          "base_uri": "https://localhost:8080/"
        },
        "id": "aSTjU8LMnTdz",
        "outputId": "f3bc0a60-b6c2-41e3-8da0-3338ca856d85"
      },
      "execution_count": null,
      "outputs": [
        {
          "output_type": "execute_result",
          "data": {
            "text/plain": [
              "[13, 12, 11, 10, 9, 8, 7, 6, 5, 4, 3, 2, 1]"
            ]
          },
          "metadata": {},
          "execution_count": 69
        }
      ]
    },
    {
      "cell_type": "markdown",
      "source": [
        "### `range()`"
      ],
      "metadata": {
        "id": "4SFi8DJSroCl"
      }
    },
    {
      "cell_type": "code",
      "source": [
        "range(21) #อยากได้เลข 21 ตัว ที่เริ่มจาก 0 "
      ],
      "metadata": {
        "colab": {
          "base_uri": "https://localhost:8080/"
        },
        "id": "ce8PS8s_sDPg",
        "outputId": "d6a346d1-e961-4deb-bb8f-ba56d49f15a8"
      },
      "execution_count": null,
      "outputs": [
        {
          "output_type": "execute_result",
          "data": {
            "text/plain": [
              "range(0, 21)"
            ]
          },
          "metadata": {},
          "execution_count": 72
        }
      ]
    },
    {
      "cell_type": "code",
      "source": [
        "a = list(range(21))"
      ],
      "metadata": {
        "id": "i1HfWa73niUz"
      },
      "execution_count": null,
      "outputs": []
    },
    {
      "cell_type": "code",
      "source": [
        "a"
      ],
      "metadata": {
        "colab": {
          "base_uri": "https://localhost:8080/"
        },
        "id": "iTPrmY9Or3Hn",
        "outputId": "273130ce-147d-4775-c990-a772c212c1f5"
      },
      "execution_count": null,
      "outputs": [
        {
          "output_type": "execute_result",
          "data": {
            "text/plain": [
              "[0, 1, 2, 3, 4, 5, 6, 7, 8, 9, 10, 11, 12, 13, 14, 15, 16, 17, 18, 19, 20]"
            ]
          },
          "metadata": {},
          "execution_count": 71
        }
      ]
    },
    {
      "cell_type": "code",
      "source": [
        "list(range(1,21)) #จุดเริ่มต้นคือ 1 จนถึงตัวที่ 21"
      ],
      "metadata": {
        "colab": {
          "base_uri": "https://localhost:8080/"
        },
        "id": "GWk04C9msG9_",
        "outputId": "8d3aed77-c77f-4a09-8626-101ef0a49227"
      },
      "execution_count": null,
      "outputs": [
        {
          "output_type": "execute_result",
          "data": {
            "text/plain": [
              "[1, 2, 3, 4, 5, 6, 7, 8, 9, 10, 11, 12, 13, 14, 15, 16, 17, 18, 19, 20]"
            ]
          },
          "metadata": {},
          "execution_count": 73
        }
      ]
    },
    {
      "cell_type": "markdown",
      "source": [
        "HW คำนวณเวลาเป็นวินาทีของเวลาต่อไปนี้โดยใช้คำสั่ง split() ช่วย (print ออกมาให้สวยงาม)\n",
        "\n",
        "- 12:30:15\n",
        "- 13:41:07\n",
        "- 09:11:50\n",
        "- 21:30:15\n",
        "- 03:10:15"
      ],
      "metadata": {
        "id": "gniMzV16tdye"
      }
    },
    {
      "cell_type": "code",
      "source": [
        "#ตัวอย่าง 01:02:03\n",
        "\n",
        "A = (1*60*60)+(2*60)+3\n",
        "print(f'01:02:03 แปลงเป็นวินาที ได้ {A} วินาที')"
      ],
      "metadata": {
        "colab": {
          "base_uri": "https://localhost:8080/"
        },
        "id": "1ofWN5_Jtskp",
        "outputId": "4c792859-c442-4249-a2fa-a0884e3ca1bc"
      },
      "execution_count": null,
      "outputs": [
        {
          "output_type": "stream",
          "name": "stdout",
          "text": [
            "01:02:03 แปลงเป็นวินาที ได้ 3723 วินาที\n"
          ]
        }
      ]
    },
    {
      "cell_type": "code",
      "source": [
        "B = (12*60*60) + (30*60) + 15\n",
        "print(f'12:30:15 แปลงเป็นวินาที ได้ {B} วินาที')"
      ],
      "metadata": {
        "colab": {
          "base_uri": "https://localhost:8080/"
        },
        "id": "n23JTla4ul1S",
        "outputId": "70a043a3-0b74-478c-a96f-3f21bea5b724"
      },
      "execution_count": null,
      "outputs": [
        {
          "output_type": "stream",
          "name": "stdout",
          "text": [
            "12:30:15 แปลงเป็นวินาที ได้ 45015 วินาที\n"
          ]
        }
      ]
    },
    {
      "cell_type": "code",
      "source": [
        "ex_B = '12:30:15'\n",
        "print(ex_B)"
      ],
      "metadata": {
        "colab": {
          "base_uri": "https://localhost:8080/"
        },
        "id": "PAgRaeX4XaRY",
        "outputId": "75e53415-ef3b-4309-874a-a489dcf5c09f"
      },
      "execution_count": null,
      "outputs": [
        {
          "output_type": "stream",
          "name": "stdout",
          "text": [
            "12:30:15\n"
          ]
        }
      ]
    },
    {
      "cell_type": "code",
      "source": [
        "sp_ex_B = ex_B.split(':')\n",
        "print(sp_ex_B)"
      ],
      "metadata": {
        "colab": {
          "base_uri": "https://localhost:8080/"
        },
        "id": "y_tzwa2oYUuS",
        "outputId": "779c9792-553f-4cf9-ccad-7f2cd8718d54"
      },
      "execution_count": null,
      "outputs": [
        {
          "output_type": "stream",
          "name": "stdout",
          "text": [
            "['12', '30', '15']\n"
          ]
        }
      ]
    },
    {
      "cell_type": "code",
      "source": [
        "total_sec = (int(sp_ex_B[0])*60*60) + (int(sp_ex_B[1])*60) + int(sp_ex_B[2])\n",
        "print(total_sec)"
      ],
      "metadata": {
        "colab": {
          "base_uri": "https://localhost:8080/"
        },
        "id": "a9o90sJaYiD4",
        "outputId": "9eb9998d-17b1-40bb-98f2-0d2db6b075ec"
      },
      "execution_count": null,
      "outputs": [
        {
          "output_type": "stream",
          "name": "stdout",
          "text": [
            "45015\n"
          ]
        }
      ]
    },
    {
      "cell_type": "code",
      "source": [
        "print(f'เวลา {ex_B} สามารถแปลงเป็นหน่วยวินาทีได้ {total_sec:,} วินาที')"
      ],
      "metadata": {
        "colab": {
          "base_uri": "https://localhost:8080/"
        },
        "id": "gqGsXVOVZHpY",
        "outputId": "503f1c5b-d29c-471e-f0c1-ee80c0798c07"
      },
      "execution_count": null,
      "outputs": [
        {
          "output_type": "stream",
          "name": "stdout",
          "text": [
            "เวลา 12:30:15 สามารถแปลงเป็นหน่วยวินาทีได้ 45,015 วินาที\n"
          ]
        }
      ]
    },
    {
      "cell_type": "code",
      "source": [
        "C = (13*60*60) + (41*60) + 7\n",
        "print(f'13:41:07 แปลงเป็นวินาที ได้ {C} วินาที')"
      ],
      "metadata": {
        "colab": {
          "base_uri": "https://localhost:8080/"
        },
        "id": "gyLVW1bWvIMr",
        "outputId": "1344a6b7-9a18-4f30-823c-ae7418904477"
      },
      "execution_count": null,
      "outputs": [
        {
          "output_type": "stream",
          "name": "stdout",
          "text": [
            "13:41:07 แปลงเป็นวินาที ได้ 49267 วินาที\n"
          ]
        }
      ]
    },
    {
      "cell_type": "code",
      "source": [
        "D = (9*60*60) + (11*60) + 50\n",
        "print(f'09:11:50 แปลงเป็นวินาที ได้ {D} วินาที')"
      ],
      "metadata": {
        "colab": {
          "base_uri": "https://localhost:8080/"
        },
        "id": "py71JcCYvQp8",
        "outputId": "c47b95a4-dd26-4e50-c3b2-210cfce57d61"
      },
      "execution_count": null,
      "outputs": [
        {
          "output_type": "stream",
          "name": "stdout",
          "text": [
            "09:11:50 แปลงเป็นวินาที ได้ 33110 วินาที\n"
          ]
        }
      ]
    },
    {
      "cell_type": "code",
      "source": [
        "E = (21*60*60) + (30*60) + 15\n",
        "print(f'21:30:15 แปลงเป็นวินาที ได้ {E} วินาที')"
      ],
      "metadata": {
        "colab": {
          "base_uri": "https://localhost:8080/"
        },
        "id": "btf0w7Qzva0t",
        "outputId": "48db0cd2-c364-46b8-d4b9-a07921a4a717"
      },
      "execution_count": null,
      "outputs": [
        {
          "output_type": "stream",
          "name": "stdout",
          "text": [
            "21:30:15 แปลงเป็นวินาที ได้ 77415 วินาที\n"
          ]
        }
      ]
    },
    {
      "cell_type": "code",
      "source": [
        "F = (3*60*60) + (10*60) + 15\n",
        "print(f'03:10:15 แปลงเป็นวินาที ได้ {F} วินาที')"
      ],
      "metadata": {
        "colab": {
          "base_uri": "https://localhost:8080/"
        },
        "id": "cdjrCCHqvtPt",
        "outputId": "88bf86f4-68cf-4146-b6a2-399a7fcd876e"
      },
      "execution_count": null,
      "outputs": [
        {
          "output_type": "stream",
          "name": "stdout",
          "text": [
            "03:10:15 แปลงเป็นวินาที ได้ 11415 วินาที\n"
          ]
        }
      ]
    },
    {
      "cell_type": "markdown",
      "source": [
        "## Dictionary"
      ],
      "metadata": {
        "id": "hffr1eRgbFTT"
      }
    },
    {
      "cell_type": "markdown",
      "source": [
        "- คล้าย lits()\n",
        "- index เป็นอะไรก็ได้ ไม่จำเป็นต้องเป็นตัวเลขลำดับ\n",
        "- ลำดับไม่มีความสำคัญ"
      ],
      "metadata": {
        "id": "N9b_EejxbbFl"
      }
    },
    {
      "cell_type": "code",
      "source": [
        "dict_a = {1:'Happy','N': 'New','2022':'Year'} #{} curly brackets"
      ],
      "metadata": {
        "id": "XLb2B1Yzbadc"
      },
      "execution_count": null,
      "outputs": []
    },
    {
      "cell_type": "markdown",
      "source": [
        "### การชี้สมาชิกใน Dictionary"
      ],
      "metadata": {
        "id": "evFQBoNgc102"
      }
    },
    {
      "cell_type": "code",
      "source": [
        "dict_a[1]"
      ],
      "metadata": {
        "colab": {
          "base_uri": "https://localhost:8080/",
          "height": 36
        },
        "id": "sdrb5SjbcKKd",
        "outputId": "20472280-e23e-4667-dbad-0fc8f5431072"
      },
      "execution_count": null,
      "outputs": [
        {
          "output_type": "execute_result",
          "data": {
            "text/plain": [
              "'Happy'"
            ],
            "application/vnd.google.colaboratory.intrinsic+json": {
              "type": "string"
            }
          },
          "metadata": {},
          "execution_count": 7
        }
      ]
    },
    {
      "cell_type": "code",
      "source": [
        "dict_a['N']"
      ],
      "metadata": {
        "colab": {
          "base_uri": "https://localhost:8080/",
          "height": 36
        },
        "id": "Fp5hhCuhcOm_",
        "outputId": "921019c2-a3d6-4e2d-c248-349c5791b80d"
      },
      "execution_count": null,
      "outputs": [
        {
          "output_type": "execute_result",
          "data": {
            "text/plain": [
              "'New'"
            ],
            "application/vnd.google.colaboratory.intrinsic+json": {
              "type": "string"
            }
          },
          "metadata": {},
          "execution_count": 10
        }
      ]
    },
    {
      "cell_type": "code",
      "source": [
        "dict_a.keys() #ดูว่าใน dict มี key อะไรบ้าง"
      ],
      "metadata": {
        "colab": {
          "base_uri": "https://localhost:8080/"
        },
        "id": "Zdx25OjEcTr8",
        "outputId": "724f6909-2811-494c-a7da-dc694b428080"
      },
      "execution_count": null,
      "outputs": [
        {
          "output_type": "execute_result",
          "data": {
            "text/plain": [
              "dict_keys([1, 'N', '2022'])"
            ]
          },
          "metadata": {},
          "execution_count": 11
        }
      ]
    },
    {
      "cell_type": "code",
      "source": [
        "dict_a.values()"
      ],
      "metadata": {
        "colab": {
          "base_uri": "https://localhost:8080/"
        },
        "id": "AjLS-h0Vcbn3",
        "outputId": "2779b38d-4383-4f76-f456-7719aca888d2"
      },
      "execution_count": null,
      "outputs": [
        {
          "output_type": "execute_result",
          "data": {
            "text/plain": [
              "dict_values(['Happy', 'New', 'Year'])"
            ]
          },
          "metadata": {},
          "execution_count": 12
        }
      ]
    },
    {
      "cell_type": "markdown",
      "source": [
        "### การเพิ่มสมาชิกลงไปใน Dictionary"
      ],
      "metadata": {
        "id": "ZJvvyL-zdADy"
      }
    },
    {
      "cell_type": "code",
      "source": [
        "dict_a[7] = 3.14"
      ],
      "metadata": {
        "id": "QsdxwUYAdGTD"
      },
      "execution_count": null,
      "outputs": []
    },
    {
      "cell_type": "code",
      "source": [
        "dict_a"
      ],
      "metadata": {
        "colab": {
          "base_uri": "https://localhost:8080/"
        },
        "id": "e_Ljj7r9dLKM",
        "outputId": "266a5bce-2240-466c-bceb-d25e76212f75"
      },
      "execution_count": null,
      "outputs": [
        {
          "output_type": "execute_result",
          "data": {
            "text/plain": [
              "{1: 'Happy', '2022': 'Year', 7: 3.14, 'N': 'New'}"
            ]
          },
          "metadata": {},
          "execution_count": 14
        }
      ]
    },
    {
      "cell_type": "code",
      "source": [
        "dict_a['N'] = 'NNNNEEEEWWWW' #มันจะไปอัปเดตอันเก่าให้เป็นตัวที่เราตั้งใหม่"
      ],
      "metadata": {
        "id": "vChf_KDMdRzI"
      },
      "execution_count": null,
      "outputs": []
    },
    {
      "cell_type": "code",
      "source": [
        "dict_a"
      ],
      "metadata": {
        "colab": {
          "base_uri": "https://localhost:8080/"
        },
        "id": "S0IkmI9Pddb-",
        "outputId": "03e4ee86-4f88-4a0b-c024-d4768185045d"
      },
      "execution_count": null,
      "outputs": [
        {
          "output_type": "execute_result",
          "data": {
            "text/plain": [
              "{1: 'Happy', '2022': 'Year', 7: 3.14, 'N': 'NNNNEEEEWWWW'}"
            ]
          },
          "metadata": {},
          "execution_count": 17
        }
      ]
    },
    {
      "cell_type": "markdown",
      "source": [
        "### Numpy Array"
      ],
      "metadata": {
        "id": "Om4jrfyabITB"
      }
    },
    {
      "cell_type": "markdown",
      "source": [
        "![Screenshot 2022-07-17 211404.jpg](data:image/jpeg;base64,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)"
      ],
      "metadata": {
        "id": "B5MWLfpkgrGP"
      }
    },
    {
      "cell_type": "markdown",
      "source": [
        "- เก็บได้แค่ตัวเลข\n",
        "- อ้างอิงโดยใช้ พิกัด (2 มิติ ก็มองเป็น matrix)"
      ],
      "metadata": {
        "id": "Z4tayyAAg9H1"
      }
    },
    {
      "cell_type": "code",
      "source": [
        "import numpy #import package ของคนอื่นมา"
      ],
      "metadata": {
        "id": "ppOQkpHcgqIe"
      },
      "execution_count": null,
      "outputs": []
    },
    {
      "cell_type": "markdown",
      "source": [
        "### 1D array"
      ],
      "metadata": {
        "id": "c5bCmiGikRHx"
      }
    },
    {
      "cell_type": "code",
      "source": [
        "list_A = [1,2,3,4,5]"
      ],
      "metadata": {
        "id": "0nLgG5PVh82q"
      },
      "execution_count": null,
      "outputs": []
    },
    {
      "cell_type": "code",
      "source": [
        "arr_a = numpy.array(list_A)"
      ],
      "metadata": {
        "id": "LOkGKMk8hox5"
      },
      "execution_count": null,
      "outputs": []
    },
    {
      "cell_type": "code",
      "source": [
        "arr_a"
      ],
      "metadata": {
        "colab": {
          "base_uri": "https://localhost:8080/"
        },
        "id": "VWpvvzHahznq",
        "outputId": "42d2e0dd-6da9-4eb1-f1dd-37ccc3a9ed22"
      },
      "execution_count": null,
      "outputs": [
        {
          "output_type": "execute_result",
          "data": {
            "text/plain": [
              "array([1, 2, 3, 4, 5])"
            ]
          },
          "metadata": {},
          "execution_count": 26
        }
      ]
    },
    {
      "cell_type": "code",
      "source": [
        "arr_a[0] #เรียกดูสมาชิกแต่ละตัวเหมือน list"
      ],
      "metadata": {
        "colab": {
          "base_uri": "https://localhost:8080/"
        },
        "id": "QjATDyh5h2GV",
        "outputId": "565a970f-de1c-4267-a3e9-e5581b188065"
      },
      "execution_count": null,
      "outputs": [
        {
          "output_type": "execute_result",
          "data": {
            "text/plain": [
              "1"
            ]
          },
          "metadata": {},
          "execution_count": 27
        }
      ]
    },
    {
      "cell_type": "code",
      "source": [
        "list_A[0]"
      ],
      "metadata": {
        "colab": {
          "base_uri": "https://localhost:8080/"
        },
        "id": "LF5O0ib9iI-M",
        "outputId": "14ecab3f-1000-4e9b-e472-eb66081a0363"
      },
      "execution_count": null,
      "outputs": [
        {
          "output_type": "execute_result",
          "data": {
            "text/plain": [
              "1"
            ]
          },
          "metadata": {},
          "execution_count": 28
        }
      ]
    },
    {
      "cell_type": "code",
      "source": [
        "5 * arr_a #Matrix (Scalar multiplication)"
      ],
      "metadata": {
        "colab": {
          "base_uri": "https://localhost:8080/"
        },
        "id": "EoUmIqH8iMjL",
        "outputId": "b94e4490-5e59-4f21-dce7-bc409a48b9b5"
      },
      "execution_count": null,
      "outputs": [
        {
          "output_type": "execute_result",
          "data": {
            "text/plain": [
              "array([ 5, 10, 15, 20, 25])"
            ]
          },
          "metadata": {},
          "execution_count": 29
        }
      ]
    },
    {
      "cell_type": "code",
      "source": [
        "5 * list_A #ซ้ำกัน 5 รอบ"
      ],
      "metadata": {
        "colab": {
          "base_uri": "https://localhost:8080/"
        },
        "id": "hlsMENlYieDK",
        "outputId": "90f16bdf-1a13-42a0-df5a-64cedb0b5dec"
      },
      "execution_count": null,
      "outputs": [
        {
          "output_type": "execute_result",
          "data": {
            "text/plain": [
              "[1, 2, 3, 4, 5, 1, 2, 3, 4, 5, 1, 2, 3, 4, 5, 1, 2, 3, 4, 5, 1, 2, 3, 4, 5]"
            ]
          },
          "metadata": {},
          "execution_count": 30
        }
      ]
    },
    {
      "cell_type": "code",
      "source": [
        "arr_b = numpy.array([10,20,30,40,50])"
      ],
      "metadata": {
        "id": "GgeaOJPVixQl"
      },
      "execution_count": null,
      "outputs": []
    },
    {
      "cell_type": "code",
      "source": [
        "print(arr_a)"
      ],
      "metadata": {
        "colab": {
          "base_uri": "https://localhost:8080/"
        },
        "id": "0Dqug_2_i6Ap",
        "outputId": "41b4f8ef-cb57-4520-a0e4-51592a2ec39c"
      },
      "execution_count": null,
      "outputs": [
        {
          "output_type": "stream",
          "name": "stdout",
          "text": [
            "[1 2 3 4 5]\n"
          ]
        }
      ]
    },
    {
      "cell_type": "code",
      "source": [
        "arr_a + arr_b"
      ],
      "metadata": {
        "colab": {
          "base_uri": "https://localhost:8080/"
        },
        "id": "Kq5EMHPwj8hw",
        "outputId": "a9d0c35a-06fa-4112-c230-481b7ca2697e"
      },
      "execution_count": null,
      "outputs": [
        {
          "output_type": "execute_result",
          "data": {
            "text/plain": [
              "array([11, 22, 33, 44, 55])"
            ]
          },
          "metadata": {},
          "execution_count": 33
        }
      ]
    },
    {
      "cell_type": "markdown",
      "source": [
        "### 2D array"
      ],
      "metadata": {
        "id": "VJYnnSe_kMD4"
      }
    },
    {
      "cell_type": "code",
      "source": [
        "import numpy as np"
      ],
      "metadata": {
        "id": "gDbVAchtkVzE"
      },
      "execution_count": null,
      "outputs": []
    },
    {
      "cell_type": "code",
      "source": [
        "arr2_z = np.array([[1,2,3],[4,5,6]])\n",
        "arr2_z"
      ],
      "metadata": {
        "colab": {
          "base_uri": "https://localhost:8080/"
        },
        "id": "gAwDvYikkf-E",
        "outputId": "e2de0e11-b5aa-4596-9875-11899bfc640b"
      },
      "execution_count": null,
      "outputs": [
        {
          "output_type": "execute_result",
          "data": {
            "text/plain": [
              "array([[1, 2, 3],\n",
              "       [4, 5, 6]])"
            ]
          },
          "metadata": {},
          "execution_count": 36
        }
      ]
    },
    {
      "cell_type": "code",
      "source": [
        "arr2_z.shape #ดูว่ามีกี่แถวกี่หลัก อันนี้คือมี 2 แถว 3 หลัก"
      ],
      "metadata": {
        "colab": {
          "base_uri": "https://localhost:8080/"
        },
        "id": "GfbIsSu3k_XE",
        "outputId": "28114126-f4cc-4272-8e53-e38a0d114fbe"
      },
      "execution_count": null,
      "outputs": [
        {
          "output_type": "execute_result",
          "data": {
            "text/plain": [
              "(2, 3)"
            ]
          },
          "metadata": {},
          "execution_count": 37
        }
      ]
    },
    {
      "cell_type": "markdown",
      "source": [
        "### `np.zeros()`"
      ],
      "metadata": {
        "id": "aTuKu06JlPA4"
      }
    },
    {
      "cell_type": "code",
      "source": [
        "arr2_3_5_0 = np.zeros((3,5)) #สร้าง array ที่ตั้งต้นด้วย 0 แบบ 3 แถว 5 หลัก ค่อยเพิ่มค่าทีหลังได้"
      ],
      "metadata": {
        "id": "BzgC9oOFmOa2"
      },
      "execution_count": null,
      "outputs": []
    },
    {
      "cell_type": "code",
      "source": [
        "arr2_3_5_0 #เราต้องกำหนดขนาดของ array ขยายไม่ได้"
      ],
      "metadata": {
        "colab": {
          "base_uri": "https://localhost:8080/"
        },
        "id": "AtNe1Kp1mcdc",
        "outputId": "1afd6122-3e01-4f23-a1c9-1f79e1b72512"
      },
      "execution_count": null,
      "outputs": [
        {
          "output_type": "execute_result",
          "data": {
            "text/plain": [
              "array([[0., 0., 0., 0., 0.],\n",
              "       [0., 0., 0., 0., 0.],\n",
              "       [0., 0., 0., 0., 0.]])"
            ]
          },
          "metadata": {},
          "execution_count": 39
        }
      ]
    },
    {
      "cell_type": "code",
      "source": [
        "arr2_3_5_0[1,2] = 9 #กำหนดค่าแถวที่ 1 หลักที่ 2 ให้เป็นเลข 9"
      ],
      "metadata": {
        "id": "8JqyZgFpmw7-"
      },
      "execution_count": null,
      "outputs": []
    },
    {
      "cell_type": "code",
      "source": [
        "arr2_3_5_0"
      ],
      "metadata": {
        "colab": {
          "base_uri": "https://localhost:8080/"
        },
        "id": "Szpu_P2rm_qS",
        "outputId": "cc96512b-a263-4f76-8faa-e55f3e9c12ed"
      },
      "execution_count": null,
      "outputs": [
        {
          "output_type": "execute_result",
          "data": {
            "text/plain": [
              "array([[0., 0., 0., 0., 0.],\n",
              "       [0., 0., 9., 0., 0.],\n",
              "       [0., 0., 0., 0., 0.]])"
            ]
          },
          "metadata": {},
          "execution_count": 41
        }
      ]
    },
    {
      "cell_type": "code",
      "source": [
        "arr2_3_5_0[1,2] #ชี้"
      ],
      "metadata": {
        "colab": {
          "base_uri": "https://localhost:8080/"
        },
        "id": "A7HrSHdInNS4",
        "outputId": "ceb82d08-5eb4-4247-f15b-e25467e1d9db"
      },
      "execution_count": null,
      "outputs": [
        {
          "output_type": "execute_result",
          "data": {
            "text/plain": [
              "9.0"
            ]
          },
          "metadata": {},
          "execution_count": 42
        }
      ]
    },
    {
      "cell_type": "code",
      "source": [
        "print(list_A)\n",
        "list_A[-1] = 'Christmas' #เปลี่ยนค่าใน list()\n",
        "print(list_A)"
      ],
      "metadata": {
        "colab": {
          "base_uri": "https://localhost:8080/"
        },
        "id": "8K-L9aOznXFW",
        "outputId": "d09f4ff3-2ab4-4593-f506-0a98cec234e5"
      },
      "execution_count": null,
      "outputs": [
        {
          "output_type": "stream",
          "name": "stdout",
          "text": [
            "[1, 2, 3, 4, 5]\n",
            "[1, 2, 3, 4, 'Christmas']\n"
          ]
        }
      ]
    },
    {
      "cell_type": "markdown",
      "source": [
        "### `np.ones()`"
      ],
      "metadata": {
        "id": "6q9oKzTnnuj1"
      }
    },
    {
      "cell_type": "code",
      "source": [
        "arr_2_4_5_1 = np.ones((4,5))"
      ],
      "metadata": {
        "id": "_AmBl73Tn2aj"
      },
      "execution_count": null,
      "outputs": []
    },
    {
      "cell_type": "code",
      "source": [
        "arr_2_4_5_1"
      ],
      "metadata": {
        "colab": {
          "base_uri": "https://localhost:8080/"
        },
        "id": "MTMMv8bhn-L1",
        "outputId": "e9c094a2-ef3d-4d35-b34f-4a3dd4c6d13d"
      },
      "execution_count": null,
      "outputs": [
        {
          "output_type": "execute_result",
          "data": {
            "text/plain": [
              "array([[1., 1., 1., 1., 1.],\n",
              "       [1., 1., 1., 1., 1.],\n",
              "       [1., 1., 1., 1., 1.],\n",
              "       [1., 1., 1., 1., 1.]])"
            ]
          },
          "metadata": {},
          "execution_count": 45
        }
      ]
    },
    {
      "cell_type": "code",
      "source": [
        "arr_2_4_5_200 = 200 * np.ones((4,5))"
      ],
      "metadata": {
        "id": "G0cmDJjLoK6Y"
      },
      "execution_count": null,
      "outputs": []
    },
    {
      "cell_type": "code",
      "source": [
        "arr_2_4_5_200"
      ],
      "metadata": {
        "colab": {
          "base_uri": "https://localhost:8080/"
        },
        "id": "mYRoI6uwoObK",
        "outputId": "06641124-c3f6-4c16-f2c7-4428345edef5"
      },
      "execution_count": null,
      "outputs": [
        {
          "output_type": "execute_result",
          "data": {
            "text/plain": [
              "array([[200., 200., 200., 200., 200.],\n",
              "       [200., 200., 200., 200., 200.],\n",
              "       [200., 200., 200., 200., 200.],\n",
              "       [200., 200., 200., 200., 200.]])"
            ]
          },
          "metadata": {},
          "execution_count": 47
        }
      ]
    },
    {
      "cell_type": "markdown",
      "source": [
        "### Matrix operations"
      ],
      "metadata": {
        "id": "ibIgND7Dofdl"
      }
    },
    {
      "cell_type": "markdown",
      "source": [
        "#### การบวก ลบ matrix $M ± N$ บวกลบตัวที่อยู่ตำแหน่งเดียวกัน"
      ],
      "metadata": {
        "id": "7VY6BexQol68"
      }
    },
    {
      "cell_type": "code",
      "source": [
        "arr_2_4_5_200 + arr2_3_5_0 #การบวก ลบ matrix shape ต้องเท่ากัน"
      ],
      "metadata": {
        "colab": {
          "base_uri": "https://localhost:8080/",
          "height": 165
        },
        "id": "4SCJLLnLojLb",
        "outputId": "ffb8820c-0ef5-4baa-d66f-e9b3f3390eda"
      },
      "execution_count": null,
      "outputs": [
        {
          "output_type": "error",
          "ename": "ValueError",
          "evalue": "ignored",
          "traceback": [
            "\u001b[0;31m---------------------------------------------------------------------------\u001b[0m",
            "\u001b[0;31mValueError\u001b[0m                                Traceback (most recent call last)",
            "\u001b[0;32m<ipython-input-52-164def971f85>\u001b[0m in \u001b[0;36m<module>\u001b[0;34m()\u001b[0m\n\u001b[0;32m----> 1\u001b[0;31m \u001b[0marr_2_4_5_200\u001b[0m \u001b[0;34m+\u001b[0m \u001b[0marr2_3_5_0\u001b[0m \u001b[0;31m#การบวก ลบ matrix shape ต้องเท่ากัน\u001b[0m\u001b[0;34m\u001b[0m\u001b[0;34m\u001b[0m\u001b[0m\n\u001b[0m",
            "\u001b[0;31mValueError\u001b[0m: operands could not be broadcast together with shapes (4,5) (3,5) "
          ]
        }
      ]
    },
    {
      "cell_type": "code",
      "source": [
        "arr_2_4_5_200 + arr_2_4_5_1"
      ],
      "metadata": {
        "colab": {
          "base_uri": "https://localhost:8080/"
        },
        "id": "YEjj7XuFo1Qh",
        "outputId": "08227681-40a4-4cf3-9718-29b4e74e9763"
      },
      "execution_count": null,
      "outputs": [
        {
          "output_type": "execute_result",
          "data": {
            "text/plain": [
              "array([[201., 201., 201., 201., 201.],\n",
              "       [201., 201., 201., 201., 201.],\n",
              "       [201., 201., 201., 201., 201.],\n",
              "       [201., 201., 201., 201., 201.]])"
            ]
          },
          "metadata": {},
          "execution_count": 51
        }
      ]
    },
    {
      "cell_type": "markdown",
      "source": [
        "#### การคูณ matrix\n",
        "\n",
        "- Scalar คูณ Matrix   $aM$ (คูณกระจายเข้าไปทุกตัว)\n",
        "- Matrix คูณ Matrix   $M\\times N$ (แถวคูณหลัก)"
      ],
      "metadata": {
        "id": "x3VCdidApJ3z"
      }
    },
    {
      "cell_type": "markdown",
      "source": [
        "$aM$"
      ],
      "metadata": {
        "id": "a9S5n4npqc92"
      }
    },
    {
      "cell_type": "code",
      "source": [
        "5 * arr_a #Matrix (Scalar multiplication)"
      ],
      "metadata": {
        "colab": {
          "base_uri": "https://localhost:8080/"
        },
        "id": "dT--_UwqqTbn",
        "outputId": "7383320f-2977-4fb8-db6b-f13f861f9298"
      },
      "execution_count": null,
      "outputs": [
        {
          "output_type": "execute_result",
          "data": {
            "text/plain": [
              "array([ 5, 10, 15, 20, 25])"
            ]
          },
          "metadata": {},
          "execution_count": 53
        }
      ]
    },
    {
      "cell_type": "markdown",
      "source": [
        "$M×N$ (dot product)\n",
        "- (m,n) × (n,o) = (m,o) (Shape)\n",
        "\n",
        "![Screenshot 2022-07-17 220021.jpg](data:image/jpeg;base64,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)"
      ],
      "metadata": {
        "id": "ifcOywIXqiBJ"
      }
    },
    {
      "cell_type": "code",
      "source": [
        "mat_a = np.array([[2,3,5],[4,6,7]])\n",
        "mat_b = np.array([[1,2,5],[2,4,-7]])\n",
        "mat_c = np.array([[2,3],[4,6],[7,9]])"
      ],
      "metadata": {
        "id": "RzoQdXEHraGT"
      },
      "execution_count": null,
      "outputs": []
    },
    {
      "cell_type": "code",
      "source": [
        "mat_a #2*3"
      ],
      "metadata": {
        "colab": {
          "base_uri": "https://localhost:8080/"
        },
        "id": "9iONDEmvr4gN",
        "outputId": "b09bf4f8-4959-4cf6-8cc6-ef5be97f2f25"
      },
      "execution_count": null,
      "outputs": [
        {
          "output_type": "execute_result",
          "data": {
            "text/plain": [
              "array([[2, 3, 5],\n",
              "       [4, 6, 7]])"
            ]
          },
          "metadata": {},
          "execution_count": 57
        }
      ]
    },
    {
      "cell_type": "code",
      "source": [
        "mat_b #2*3"
      ],
      "metadata": {
        "colab": {
          "base_uri": "https://localhost:8080/"
        },
        "id": "eBp2xz_Lr7ro",
        "outputId": "80601fe9-8e53-47fb-d6b8-3188d79dc41a"
      },
      "execution_count": null,
      "outputs": [
        {
          "output_type": "execute_result",
          "data": {
            "text/plain": [
              "array([[ 1,  2,  5],\n",
              "       [ 2,  4, -7]])"
            ]
          },
          "metadata": {},
          "execution_count": 58
        }
      ]
    },
    {
      "cell_type": "code",
      "source": [
        "mat_c #3*2"
      ],
      "metadata": {
        "colab": {
          "base_uri": "https://localhost:8080/"
        },
        "id": "_v6QjhQor9PP",
        "outputId": "b47007be-b5dc-468f-ced5-3c55b5d5e63a"
      },
      "execution_count": null,
      "outputs": [
        {
          "output_type": "execute_result",
          "data": {
            "text/plain": [
              "array([[2, 3],\n",
              "       [4, 6],\n",
              "       [7, 9]])"
            ]
          },
          "metadata": {},
          "execution_count": 59
        }
      ]
    },
    {
      "cell_type": "code",
      "source": [
        "np.dot(mat_a,mat_c)"
      ],
      "metadata": {
        "colab": {
          "base_uri": "https://localhost:8080/"
        },
        "id": "CAQAUkbCsIKn",
        "outputId": "842e793c-0bbc-40d3-8d59-e6cad34b8a71"
      },
      "execution_count": null,
      "outputs": [
        {
          "output_type": "execute_result",
          "data": {
            "text/plain": [
              "array([[ 51,  69],\n",
              "       [ 81, 111]])"
            ]
          },
          "metadata": {},
          "execution_count": 60
        }
      ]
    },
    {
      "cell_type": "code",
      "source": [
        "np.dot(mat_b,mat_c)"
      ],
      "metadata": {
        "colab": {
          "base_uri": "https://localhost:8080/"
        },
        "id": "RiuT20_jsUkk",
        "outputId": "2c390010-5c3c-4074-e97a-da0beb4a23bc"
      },
      "execution_count": null,
      "outputs": [
        {
          "output_type": "execute_result",
          "data": {
            "text/plain": [
              "array([[ 45,  60],\n",
              "       [-29, -33]])"
            ]
          },
          "metadata": {},
          "execution_count": 61
        }
      ]
    },
    {
      "cell_type": "code",
      "source": [
        "np.dot(mat_c,mat_a)"
      ],
      "metadata": {
        "colab": {
          "base_uri": "https://localhost:8080/"
        },
        "id": "ZRxfV9RlsZBX",
        "outputId": "92c20c16-29cb-4d91-9e34-ad141958fafd"
      },
      "execution_count": null,
      "outputs": [
        {
          "output_type": "execute_result",
          "data": {
            "text/plain": [
              "array([[16, 24, 31],\n",
              "       [32, 48, 62],\n",
              "       [50, 75, 98]])"
            ]
          },
          "metadata": {},
          "execution_count": 62
        }
      ]
    },
    {
      "cell_type": "code",
      "source": [
        "np.dot(mat_c,mat_b)"
      ],
      "metadata": {
        "colab": {
          "base_uri": "https://localhost:8080/"
        },
        "id": "ViPVghvFsdvO",
        "outputId": "67ac6f29-a88c-4bd3-9074-e838801f14c1"
      },
      "execution_count": null,
      "outputs": [
        {
          "output_type": "execute_result",
          "data": {
            "text/plain": [
              "array([[  8,  16, -11],\n",
              "       [ 16,  32, -22],\n",
              "       [ 25,  50, -28]])"
            ]
          },
          "metadata": {},
          "execution_count": 63
        }
      ]
    },
    {
      "cell_type": "code",
      "source": [
        "mat_a * mat_b #คูณตัวตำแหน่งเดียวกัน ไม่เป็นไปตามสมบัติ matrix"
      ],
      "metadata": {
        "colab": {
          "base_uri": "https://localhost:8080/"
        },
        "id": "d1X3vgKrtf_x",
        "outputId": "dc53fa15-1777-4645-892c-fde0b259711a"
      },
      "execution_count": null,
      "outputs": [
        {
          "output_type": "execute_result",
          "data": {
            "text/plain": [
              "array([[  2,   6,  25],\n",
              "       [  8,  24, -49]])"
            ]
          },
          "metadata": {},
          "execution_count": 64
        }
      ]
    },
    {
      "cell_type": "markdown",
      "source": [
        "### Matrix Slicing"
      ],
      "metadata": {
        "id": "O9rek4Pct0Zv"
      }
    },
    {
      "cell_type": "code",
      "source": [
        "mat_X = np.dot(mat_c,mat_b)\n",
        "print(mat_X)"
      ],
      "metadata": {
        "colab": {
          "base_uri": "https://localhost:8080/"
        },
        "id": "xlWqPZg0t4l5",
        "outputId": "b2e2582b-9bb6-41ee-bba3-fdeb6bd38390"
      },
      "execution_count": null,
      "outputs": [
        {
          "output_type": "stream",
          "name": "stdout",
          "text": [
            "[[  8  16 -11]\n",
            " [ 16  32 -22]\n",
            " [ 25  50 -28]]\n"
          ]
        }
      ]
    },
    {
      "cell_type": "code",
      "source": [
        "mat_X[:2,:2] "
      ],
      "metadata": {
        "colab": {
          "base_uri": "https://localhost:8080/"
        },
        "id": "wVHpCKM8uKb6",
        "outputId": "bb6cbd1e-9255-437f-93b7-e15453079e9a"
      },
      "execution_count": null,
      "outputs": [
        {
          "output_type": "execute_result",
          "data": {
            "text/plain": [
              "array([[ 8, 16],\n",
              "       [16, 32]])"
            ]
          },
          "metadata": {},
          "execution_count": 66
        }
      ]
    },
    {
      "cell_type": "markdown",
      "source": [
        "HW 3\n",
        "1. สร้าง array ที่เป็นต้น Christmas\n",
        "2. Slice เลข 1 ออกมาจาก array HW3 ด้วยการ slice แค่ครั้งเดียว"
      ],
      "metadata": {
        "id": "AJoUpVV3ufAX"
      }
    },
    {
      "cell_type": "code",
      "source": [
        "HW3 = np.zeros((10,10))\n",
        "HW3"
      ],
      "metadata": {
        "colab": {
          "base_uri": "https://localhost:8080/"
        },
        "id": "_JX1aX7ZugY2",
        "outputId": "0ed7a685-6ad5-4d73-a4d7-902edb4879f1"
      },
      "execution_count": null,
      "outputs": [
        {
          "output_type": "execute_result",
          "data": {
            "text/plain": [
              "array([[0., 0., 0., 0., 0., 0., 0., 0., 0., 0.],\n",
              "       [0., 0., 0., 0., 0., 0., 0., 0., 0., 0.],\n",
              "       [0., 0., 0., 0., 0., 0., 0., 0., 0., 0.],\n",
              "       [0., 0., 0., 0., 0., 0., 0., 0., 0., 0.],\n",
              "       [0., 0., 0., 0., 0., 0., 0., 0., 0., 0.],\n",
              "       [0., 0., 0., 0., 0., 0., 0., 0., 0., 0.],\n",
              "       [0., 0., 0., 0., 0., 0., 0., 0., 0., 0.],\n",
              "       [0., 0., 0., 0., 0., 0., 0., 0., 0., 0.],\n",
              "       [0., 0., 0., 0., 0., 0., 0., 0., 0., 0.],\n",
              "       [0., 0., 0., 0., 0., 0., 0., 0., 0., 0.]])"
            ]
          },
          "metadata": {},
          "execution_count": 67
        }
      ]
    },
    {
      "cell_type": "code",
      "source": [
        "HW3[::4,2] = 1\n",
        "HW3[::4,4] = 1\n",
        "HW3[::4,6] = 1\n",
        "HW3[::4,8] = 1\n",
        "HW3"
      ],
      "metadata": {
        "colab": {
          "base_uri": "https://localhost:8080/"
        },
        "id": "uO9X_klKwEYM",
        "outputId": "bf517540-0cf4-4d00-e734-7f90f8f25f9c"
      },
      "execution_count": null,
      "outputs": [
        {
          "output_type": "execute_result",
          "data": {
            "text/plain": [
              "array([[0., 0., 1., 0., 1., 0., 1., 0., 1., 0.],\n",
              "       [0., 0., 0., 0., 0., 0., 0., 0., 0., 0.],\n",
              "       [0., 0., 0., 0., 0., 0., 0., 0., 0., 0.],\n",
              "       [0., 0., 0., 0., 0., 0., 0., 0., 0., 0.],\n",
              "       [0., 0., 1., 0., 1., 0., 1., 0., 1., 0.],\n",
              "       [0., 0., 0., 0., 0., 0., 0., 0., 0., 0.],\n",
              "       [0., 0., 0., 0., 0., 0., 0., 0., 0., 0.],\n",
              "       [0., 0., 0., 0., 0., 0., 0., 0., 0., 0.],\n",
              "       [0., 0., 1., 0., 1., 0., 1., 0., 1., 0.],\n",
              "       [0., 0., 0., 0., 0., 0., 0., 0., 0., 0.]])"
            ]
          },
          "metadata": {},
          "execution_count": 69
        }
      ]
    },
    {
      "cell_type": "markdown",
      "source": [
        "#### Pandas Dataframe (แยกออกไปเป็น Notebook เฉพาะ)"
      ],
      "metadata": {
        "id": "SzfkJ3A6bMtq"
      }
    }
  ]
}