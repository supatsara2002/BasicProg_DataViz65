{
  "nbformat": 4,
  "nbformat_minor": 0,
  "metadata": {
    "colab": {
      "name": "Data Structure.ipynb",
      "provenance": [],
      "toc_visible": true,
      "authorship_tag": "ABX9TyP7CT3dgPoyARbyqJ90CpLi",
      "include_colab_link": true
    },
    "kernelspec": {
      "name": "python3",
      "display_name": "Python 3"
    },
    "language_info": {
      "name": "python"
    }
  },
  "cells": [
    {
      "cell_type": "markdown",
      "metadata": {
        "id": "view-in-github",
        "colab_type": "text"
      },
      "source": [
        "<a href=\"https://colab.research.google.com/github/supatsara2002/BasicProg_DataViz65/blob/main/Data_Structure.ipynb\" target=\"_parent\"><img src=\"https://colab.research.google.com/assets/colab-badge.svg\" alt=\"Open In Colab\"/></a>"
      ]
    },
    {
      "cell_type": "markdown",
      "source": [
        "# Data Structure (โครงสร้างข้อมูล)\n",
        "การเก็บข้อมูลหลายๆตัวไว้ด้วยกันอย่างเป็นระเบียบ"
      ],
      "metadata": {
        "id": "Cvk-X9XfSC6Y"
      }
    },
    {
      "cell_type": "markdown",
      "source": [
        "##  ```list()```\n",
        "- เก็บอะไรก็ได้\n",
        "- ลำดับในการเก็บ มีความสำคัญ"
      ],
      "metadata": {
        "id": "4T0jWlsaSU70"
      }
    },
    {
      "cell_type": "code",
      "source": [
        "list_a = [1,2,3,4,5,6] #[ ] square brackets"
      ],
      "metadata": {
        "id": "5IEROSS3SNvf"
      },
      "execution_count": 1,
      "outputs": []
    },
    {
      "cell_type": "code",
      "source": [
        "list_a"
      ],
      "metadata": {
        "colab": {
          "base_uri": "https://localhost:8080/"
        },
        "id": "UxhvcTKYSfcS",
        "outputId": "8f5bf926-5ee7-4468-87db-e397420eca59"
      },
      "execution_count": 2,
      "outputs": [
        {
          "output_type": "execute_result",
          "data": {
            "text/plain": [
              "[1, 2, 3, 4, 5, 6]"
            ]
          },
          "metadata": {},
          "execution_count": 2
        }
      ]
    },
    {
      "cell_type": "code",
      "source": [
        "list_b = ['ab',2,3.14,list_a]"
      ],
      "metadata": {
        "id": "1cEFjFpOSqz6"
      },
      "execution_count": 3,
      "outputs": []
    },
    {
      "cell_type": "code",
      "source": [
        "list_b"
      ],
      "metadata": {
        "colab": {
          "base_uri": "https://localhost:8080/"
        },
        "id": "8GUninzBSxHh",
        "outputId": "1f6347b8-8f56-43bc-fb88-4cc2b1b01b92"
      },
      "execution_count": 4,
      "outputs": [
        {
          "output_type": "execute_result",
          "data": {
            "text/plain": [
              "['ab', 2, 3.14, [1, 2, 3, 4, 5, 6]]"
            ]
          },
          "metadata": {},
          "execution_count": 4
        }
      ]
    },
    {
      "cell_type": "markdown",
      "source": [
        "### Indexing การชี้สมาชิกใน list ด้วย เลขลำดับของ list"
      ],
      "metadata": {
        "id": "4Z75h2ZzTZDf"
      }
    },
    {
      "cell_type": "code",
      "source": [
        "list_a[3]"
      ],
      "metadata": {
        "colab": {
          "base_uri": "https://localhost:8080/"
        },
        "id": "qMrPrC3GSz2T",
        "outputId": "11bbff23-5f4b-4fe6-ac32-0d028332d78f"
      },
      "execution_count": 5,
      "outputs": [
        {
          "output_type": "execute_result",
          "data": {
            "text/plain": [
              "4"
            ]
          },
          "metadata": {},
          "execution_count": 5
        }
      ]
    },
    {
      "cell_type": "code",
      "source": [
        "list_b[3]"
      ],
      "metadata": {
        "colab": {
          "base_uri": "https://localhost:8080/"
        },
        "id": "oMFtn2d4TDoq",
        "outputId": "9f2360d9-0b84-453b-82a9-a5318ee2cef4"
      },
      "execution_count": 6,
      "outputs": [
        {
          "output_type": "execute_result",
          "data": {
            "text/plain": [
              "[1, 2, 3, 4, 5, 6]"
            ]
          },
          "metadata": {},
          "execution_count": 6
        }
      ]
    },
    {
      "cell_type": "code",
      "source": [
        "list_b[3][4]"
      ],
      "metadata": {
        "colab": {
          "base_uri": "https://localhost:8080/"
        },
        "id": "_nqT4CFYTGdK",
        "outputId": "6e42d18e-6d96-485e-bdd0-45a32995ca75"
      },
      "execution_count": 7,
      "outputs": [
        {
          "output_type": "execute_result",
          "data": {
            "text/plain": [
              "5"
            ]
          },
          "metadata": {},
          "execution_count": 7
        }
      ]
    },
    {
      "cell_type": "code",
      "source": [
        "list_a[6] #เลือกลำดับที่ไม่มีใน list"
      ],
      "metadata": {
        "colab": {
          "base_uri": "https://localhost:8080/",
          "height": 198
        },
        "id": "GmCDJnz1TVIO",
        "outputId": "b2420538-1752-438f-fe56-e96faa8dd88b"
      },
      "execution_count": 8,
      "outputs": [
        {
          "output_type": "error",
          "ename": "IndexError",
          "evalue": "ignored",
          "traceback": [
            "\u001b[0;31m---------------------------------------------------------------------------\u001b[0m",
            "\u001b[0;31mIndexError\u001b[0m                                Traceback (most recent call last)",
            "\u001b[0;32m<ipython-input-8-7ae5b331d090>\u001b[0m in \u001b[0;36m<module>\u001b[0;34m()\u001b[0m\n\u001b[0;32m----> 1\u001b[0;31m \u001b[0mlist_a\u001b[0m\u001b[0;34m[\u001b[0m\u001b[0;36m6\u001b[0m\u001b[0;34m]\u001b[0m \u001b[0;31m#เลือกลำดับที่ไม่มีใน list\u001b[0m\u001b[0;34m\u001b[0m\u001b[0;34m\u001b[0m\u001b[0m\n\u001b[0m",
            "\u001b[0;31mIndexError\u001b[0m: list index out of range"
          ]
        }
      ]
    },
    {
      "cell_type": "code",
      "source": [
        "list_a[-1] #index -1 คือตัวสุดท้ายของ list"
      ],
      "metadata": {
        "colab": {
          "base_uri": "https://localhost:8080/"
        },
        "id": "naD_9HMoTDGE",
        "outputId": "63f38453-a9db-4e0b-b189-f94599c081e6"
      },
      "execution_count": 9,
      "outputs": [
        {
          "output_type": "execute_result",
          "data": {
            "text/plain": [
              "6"
            ]
          },
          "metadata": {},
          "execution_count": 9
        }
      ]
    },
    {
      "cell_type": "code",
      "source": [
        "list_a[-4]"
      ],
      "metadata": {
        "colab": {
          "base_uri": "https://localhost:8080/"
        },
        "id": "VohCuj2oTz3e",
        "outputId": "130dd26a-8726-403b-9daf-ef8692af9766"
      },
      "execution_count": 10,
      "outputs": [
        {
          "output_type": "execute_result",
          "data": {
            "text/plain": [
              "3"
            ]
          },
          "metadata": {},
          "execution_count": 10
        }
      ]
    },
    {
      "cell_type": "markdown",
      "source": [
        "### การสร้าง `list`\n"
      ],
      "metadata": {
        "id": "F4M-VlXAUHwT"
      }
    },
    {
      "cell_type": "code",
      "source": [
        "list_x1 = [] #แบบที่ 1\n",
        "list_x2 = list() #แบบที่ 2"
      ],
      "metadata": {
        "id": "B18GrRUpUHe7"
      },
      "execution_count": 11,
      "outputs": []
    },
    {
      "cell_type": "code",
      "source": [
        "print(list_x1)\n",
        "print(list_x2)"
      ],
      "metadata": {
        "colab": {
          "base_uri": "https://localhost:8080/"
        },
        "id": "QziegCZDT8AP",
        "outputId": "9a96bc92-528e-4fa2-f6ff-d58f8b14755d"
      },
      "execution_count": 12,
      "outputs": [
        {
          "output_type": "stream",
          "name": "stdout",
          "text": [
            "[]\n",
            "[]\n"
          ]
        }
      ]
    },
    {
      "cell_type": "markdown",
      "source": [
        "### เพิ่มสมาชิกเข้าไปใน list ด้วย `append()`\n"
      ],
      "metadata": {
        "id": "kBMZHPFdSL8d"
      }
    },
    {
      "cell_type": "code",
      "source": [
        "list_x1.append(2)"
      ],
      "metadata": {
        "id": "gXVqzAZAUrOn"
      },
      "execution_count": 13,
      "outputs": []
    },
    {
      "cell_type": "code",
      "source": [
        "list_x1"
      ],
      "metadata": {
        "colab": {
          "base_uri": "https://localhost:8080/"
        },
        "id": "Bz6oebwXUx4J",
        "outputId": "d5631bd7-8ccd-4787-84e0-dd06bb322ec4"
      },
      "execution_count": 14,
      "outputs": [
        {
          "output_type": "execute_result",
          "data": {
            "text/plain": [
              "[2]"
            ]
          },
          "metadata": {},
          "execution_count": 14
        }
      ]
    },
    {
      "cell_type": "code",
      "source": [
        "list_x1.append(4)\n",
        "print(list_x1)"
      ],
      "metadata": {
        "colab": {
          "base_uri": "https://localhost:8080/"
        },
        "id": "aKv6Z0agU0K1",
        "outputId": "afc14e39-56c2-42c3-f5c3-99323fada630"
      },
      "execution_count": 41,
      "outputs": [
        {
          "output_type": "stream",
          "name": "stdout",
          "text": [
            "[2, 4]\n"
          ]
        }
      ]
    },
    {
      "cell_type": "code",
      "source": [
        "list_x1[0]"
      ],
      "metadata": {
        "colab": {
          "base_uri": "https://localhost:8080/"
        },
        "id": "rkWWxbGVVAf2",
        "outputId": "21e3fb4c-12cd-498b-d2d1-428041f72f1e"
      },
      "execution_count": 16,
      "outputs": [
        {
          "output_type": "execute_result",
          "data": {
            "text/plain": [
              "2"
            ]
          },
          "metadata": {},
          "execution_count": 16
        }
      ]
    },
    {
      "cell_type": "code",
      "source": [
        "list_x1[-1]"
      ],
      "metadata": {
        "colab": {
          "base_uri": "https://localhost:8080/"
        },
        "id": "gm26nLkdU9p8",
        "outputId": "705cb443-d12e-46c6-c818-af6d5aa32e1a"
      },
      "execution_count": 17,
      "outputs": [
        {
          "output_type": "execute_result",
          "data": {
            "text/plain": [
              "4"
            ]
          },
          "metadata": {},
          "execution_count": 17
        }
      ]
    },
    {
      "cell_type": "code",
      "source": [
        "list_x2"
      ],
      "metadata": {
        "colab": {
          "base_uri": "https://localhost:8080/"
        },
        "id": "6Bays9btVJQf",
        "outputId": "9a4c27d4-2654-4c0f-fe60-575b6a1c9811"
      },
      "execution_count": 18,
      "outputs": [
        {
          "output_type": "execute_result",
          "data": {
            "text/plain": [
              "[]"
            ]
          },
          "metadata": {},
          "execution_count": 18
        }
      ]
    },
    {
      "cell_type": "code",
      "source": [
        "list_x2.append('ha')"
      ],
      "metadata": {
        "id": "nzXGz1vuVLCI"
      },
      "execution_count": 42,
      "outputs": []
    },
    {
      "cell_type": "code",
      "source": [
        "list_x2"
      ],
      "metadata": {
        "colab": {
          "base_uri": "https://localhost:8080/"
        },
        "id": "tkyvZHBsVIrT",
        "outputId": "568950bb-9453-4212-ec5e-197db2438eec"
      },
      "execution_count": 43,
      "outputs": [
        {
          "output_type": "execute_result",
          "data": {
            "text/plain": [
              "['ha', 'ha', 'ha', 'ha']"
            ]
          },
          "metadata": {},
          "execution_count": 43
        }
      ]
    },
    {
      "cell_type": "markdown",
      "source": [
        "### ลบสมาชิกจาก list"
      ],
      "metadata": {
        "id": "1dib6yQBVryY"
      }
    },
    {
      "cell_type": "code",
      "source": [
        "list_x1.append('ha')"
      ],
      "metadata": {
        "id": "mreniIaFVc2d"
      },
      "execution_count": 44,
      "outputs": []
    },
    {
      "cell_type": "code",
      "source": [
        "list_x1 "
      ],
      "metadata": {
        "colab": {
          "base_uri": "https://localhost:8080/"
        },
        "id": "7a-82TfbVUSd",
        "outputId": "8a150288-6f75-4646-8276-f6020c382edb"
      },
      "execution_count": 45,
      "outputs": [
        {
          "output_type": "execute_result",
          "data": {
            "text/plain": [
              "[2, 4, 'ha']"
            ]
          },
          "metadata": {},
          "execution_count": 45
        }
      ]
    },
    {
      "cell_type": "code",
      "source": [
        "list_x1.pop()"
      ],
      "metadata": {
        "colab": {
          "base_uri": "https://localhost:8080/",
          "height": 37
        },
        "id": "VFtkM4NjVpSV",
        "outputId": "342a270e-0117-497f-cb8f-ab3cd027ab13"
      },
      "execution_count": 46,
      "outputs": [
        {
          "output_type": "execute_result",
          "data": {
            "text/plain": [
              "'ha'"
            ],
            "application/vnd.google.colaboratory.intrinsic+json": {
              "type": "string"
            }
          },
          "metadata": {},
          "execution_count": 46
        }
      ]
    },
    {
      "cell_type": "code",
      "source": [
        "list_x1"
      ],
      "metadata": {
        "colab": {
          "base_uri": "https://localhost:8080/"
        },
        "id": "0IbwE5PQV8_u",
        "outputId": "940808c6-1171-4184-f29f-d183f809cde3"
      },
      "execution_count": 47,
      "outputs": [
        {
          "output_type": "execute_result",
          "data": {
            "text/plain": [
              "[2, 4]"
            ]
          },
          "metadata": {},
          "execution_count": 47
        }
      ]
    },
    {
      "cell_type": "code",
      "source": [
        "list_x1.pop()\n",
        "print(list_x1)"
      ],
      "metadata": {
        "colab": {
          "base_uri": "https://localhost:8080/"
        },
        "id": "fEcT84sVWBYT",
        "outputId": "fb739a74-9fad-48a8-ddfb-10ef44959774"
      },
      "execution_count": 48,
      "outputs": [
        {
          "output_type": "stream",
          "name": "stdout",
          "text": [
            "[2]\n"
          ]
        }
      ]
    },
    {
      "cell_type": "markdown",
      "source": [
        "`len()` ตรวจสอบจำนวนสมาชิกของ list"
      ],
      "metadata": {
        "id": "vDmO6hkIXYOZ"
      }
    },
    {
      "cell_type": "code",
      "source": [
        "print(list_b)\n",
        "print(len(list_b))"
      ],
      "metadata": {
        "colab": {
          "base_uri": "https://localhost:8080/"
        },
        "id": "V4hv4ZZMXXdO",
        "outputId": "e72ca28f-9d8e-475f-ae18-b99d676921f9"
      },
      "execution_count": 50,
      "outputs": [
        {
          "output_type": "stream",
          "name": "stdout",
          "text": [
            "['ab', 2, 3.14, [1, 2, 3, 4, 5, 6]]\n",
            "4\n"
          ]
        }
      ]
    },
    {
      "cell_type": "code",
      "source": [
        "len(list_a)"
      ],
      "metadata": {
        "colab": {
          "base_uri": "https://localhost:8080/"
        },
        "id": "HPR9gZJSYNW6",
        "outputId": "912a44fb-c8f9-4675-e52c-14012f2681b5"
      },
      "execution_count": 51,
      "outputs": [
        {
          "output_type": "execute_result",
          "data": {
            "text/plain": [
              "6"
            ]
          },
          "metadata": {},
          "execution_count": 51
        }
      ]
    },
    {
      "cell_type": "markdown",
      "source": [
        "### String is a list of characters"
      ],
      "metadata": {
        "id": "ESgPjzNCYjdB"
      }
    },
    {
      "cell_type": "code",
      "source": [
        "st_stat = 'Department of Statistics, Faculty of Science'"
      ],
      "metadata": {
        "id": "9x3V17LfYfQD"
      },
      "execution_count": 52,
      "outputs": []
    },
    {
      "cell_type": "code",
      "source": [
        "st_stat[10]"
      ],
      "metadata": {
        "colab": {
          "base_uri": "https://localhost:8080/",
          "height": 37
        },
        "id": "J872aklzZFTo",
        "outputId": "b4945c34-2885-4960-a770-3171487c783a"
      },
      "execution_count": 53,
      "outputs": [
        {
          "output_type": "execute_result",
          "data": {
            "text/plain": [
              "' '"
            ],
            "application/vnd.google.colaboratory.intrinsic+json": {
              "type": "string"
            }
          },
          "metadata": {},
          "execution_count": 53
        }
      ]
    },
    {
      "cell_type": "code",
      "source": [
        "len(st_stat)"
      ],
      "metadata": {
        "colab": {
          "base_uri": "https://localhost:8080/"
        },
        "id": "_2zczIZmZJz5",
        "outputId": "61a22630-9bb2-430a-fa1a-1f2b664a5982"
      },
      "execution_count": 54,
      "outputs": [
        {
          "output_type": "execute_result",
          "data": {
            "text/plain": [
              "44"
            ]
          },
          "metadata": {},
          "execution_count": 54
        }
      ]
    },
    {
      "cell_type": "markdown",
      "source": [
        "### List Slicing `:`\n",
        "\n"
      ],
      "metadata": {
        "id": "krDX0lQaZO9n"
      }
    },
    {
      "cell_type": "markdown",
      "source": [
        "`list [จุดเริ่มต้น(ทึบ):จุดสุดท้าย(โปร่ง)]`\n",
        "\n",
        "`list [จุดเริ่มต้น(ทึบ:จุดสุดท้าย(โปร่ง):step]`"
      ],
      "metadata": {
        "id": "uWbOjpVbZwhz"
      }
    },
    {
      "cell_type": "markdown",
      "source": [
        "![ภาพถ่ายหน้าจอ 2565-07-11 เวลา 10.59.49.png](data:image/png;base64,iVBORw0KGgoAAAANSUhEUgAAA1oAAAG+CAYAAACK6HUjAAAMbmlDQ1BJQ0MgUHJvZmlsZQAASImVVwdYU8kWnluSkJDQAghICb0J0gkgJYQWQHoRbIQkkFBiTAgqdnRRwbWLKFZ0VUSxrYCIotiVRbH3xYKKsi7qYkPlTUhA133le/N9c+e/Z878p9yZe+8BQPMDVyLJQ7UAyBcXSBPCgxlj0tIZpKcAA7oAAFdA4vJkElZcXDS8A4Pj39u7GwBRjFedFFz/nP+vTYcvkPEAQMZBnMmX8fIhPg4Avp4nkRYAQFTILacUSBR4DsS6UuggxKsUOFuJdypwphI3DegkJbAhvgyAGpXLlWYDoHEPyhmFvGzIo/EZYhcxXyQGQHMExAE8IZcPscL3Efn5kxS4AmI7qC+BGPoDmJnfcWb/jT9ziJ/LzR7CyrgGmlqISCbJ4077P1Pzv1t+nnzQhg3sVKE0IkERP8zhrdxJUQpMhbhbnBkTq8g1xB9EfGXeAUApQnlEslIfNebJ2DB/QB9iFz43JApiY4jDxHkx0Sp5ZpYojAMx3C3oVFEBJwliA4gXCmShiSqdzdJJCSpbaF2WlM1Syc9xpQN2FbYeyHOTWSr+N0IBR8WPaRQJk1IhpkBsVShKiYFYA2JnWW5ilEpnVJGQHTOoI5UnKPy3gjhBIA4PVvJjhVnSsASVfmm+bDBebLNQxIlR4QMFwqQIZX6wUzzugP8wFuyyQMxKHuQRyMZED8bCF4SEKmPHngvEyYkqng+SguAE5VqcIsmLU+njFoK8cIXcAmIPWWGiai2eUgA3p5Ifz5IUxCUp/cSLcriRcUp/8GUgGrBBCGAAOeyZYBLIAaK27vpueKecCQNcIAXZQACcVJLBFakDM2J4TQRF4A+IBEA2tC54YFYACqH8y5BUeXUCWQOzhQMrcsFTiPNBFMiD9/KBVeIhayngCZSI/mGdCzsP+psHu2L+38sHpd8kLCiJVknkgxYZmoOaxFBiCDGCGEa0x43wANwPj4bXINjdcCbuMxjHN33CU0I74RHhOqGDcHuiqFj6g5ejQQfkD1PlIvP7XOA2kNMTD8b9ITtkxvVxI+CEe0A7LDwQWvaEUrbKb0VWGD9w/y2C756GSo/sQkbJw8hBZLsfV2o4aHgOsShy/X1+lL5mDuWbPTTzo332d9nnwzHqR01sIXYQO4udwM5jTVg9YGDNWAPWih1V4KHd9WRgdw1aSxjwJxfyiP5hb/DJKjIpc6lx6XL5rJwrEEwtUBw89iTJNKkoW1jAYMGvg4DBEfOcRzDcXNzcAFB8a5Svr7fxA98QRL/1m2ze7wD4N/f39x/5JotsBmC/Nzz+h7/J7JgAaKsDcO4wTy4tVMpwxYUA3xKa8KQZAlNgCexgPG7AC/iBIBAKIkEsSAJpYAL0Xgj3uRRMATPAXFACysAysBqsA5vAVrAT7AEHQD1oAifAGXARXAbXwV24ezrBS9AD3oE+BEFICA2hI4aIGWKNOCJuCBMJQEKRaCQBSUMykGxEjMiRGcg8pAxZgaxDtiDVyH7kMHICOY+0I7eRh0gX8gb5hGIoFdVFTVAbdCTKRFloFJqEjkez0cloETofXYJWoFXobrQOPYFeRK+jHehLtBcDmDqmj5ljThgTY2OxWDqWhUmxWVgpVo5VYbVYI3zOV7EOrBv7iBNxOs7AneAOjsCTcR4+GZ+FL8bX4TvxOvwUfhV/iPfgXwk0gjHBkeBL4BDGELIJUwglhHLCdsIhwml4ljoJ74hEoj7RlugNz2IaMYc4nbiYuIG4l3ic2E58TOwlkUiGJEeSPymWxCUVkEpIa0m7Sc2kK6RO0gc1dTUzNTe1MLV0NbFasVq52i61Y2pX1J6p9ZG1yNZkX3IsmU+eRl5K3kZuJF8id5L7KNoUW4o/JYmSQ5lLqaDUUk5T7lHeqqurW6j7qMeri9TnqFeo71M/p/5Q/SNVh+pAZVPHUeXUJdQd1OPU29S3NBrNhhZES6cV0JbQqmknaQ9oHzToGs4aHA2+xmyNSo06jSsarzTJmtaaLM0JmkWa5ZoHNS9pdmuRtWy02FpcrVlalVqHtW5q9WrTtV21Y7XztRdr79I+r/1ch6RjoxOqw9eZr7NV56TOYzpGt6Sz6Tz6PPo2+ml6py5R11aXo5ujW6a7R7dNt0dPR89DL0Vvql6l3lG9Dn1M30afo5+nv1T/gP4N/U/DTIaxhgmGLRpWO+zKsPcGww2CDAQGpQZ7Da4bfDJkGIYa5houN6w3vG+EGzkYxRtNMdpodNqoe7jucL/hvOGlww8Mv2OMGjsYJxhPN95q3Grca2JqEm4iMVlrctKk21TfNMg0x3SV6THTLjO6WYCZyGyVWbPZC4Yeg8XIY1QwTjF6zI3NI8zl5lvM28z7LGwtki2KLfZa3LekWDItsyxXWbZY9liZWY22mmFVY3XHmmzNtBZar7E+a/3extYm1WaBTb3Nc1sDW45tkW2N7T07ml2g3WS7Krtr9kR7pn2u/Qb7yw6og6eD0KHS4ZIj6ujlKHLc4Ng+gjDCZ4R4RNWIm05UJ5ZToVON00Nnfedo52LneudXI61Gpo9cPvLsyK8uni55Lttc7rrquEa6Frs2ur5xc3DjuVW6XXOnuYe5z3ZvcH/t4egh8NjoccuT7jnac4Fni+cXL28vqVetV5e3lXeG93rvm0xdZhxzMfOcD8En2Ge2T5PPR18v3wLfA75/+jn55frt8ns+ynaUYNS2UY/9Lfy5/lv8OwIYARkBmwM6As0DuYFVgY+CLIP4QduDnrHsWTms3axXwS7B0uBDwe/ZvuyZ7OMhWEh4SGlIW6hOaHLoutAHYRZh2WE1YT3hnuHTw49HECKiIpZH3OSYcHicak5PpHfkzMhTUdSoxKh1UY+iHaKl0Y2j0dGRo1eOvhdjHSOOqY8FsZzYlbH342zjJscdiSfGx8VXxj9NcE2YkXA2kZ44MXFX4ruk4KSlSXeT7ZLlyS0pminjUqpT3qeGpK5I7RgzcszMMRfTjNJEaQ3ppPSU9O3pvWNDx64e2znOc1zJuBvjbcdPHX9+gtGEvAlHJ2pO5E48mEHISM3YlfGZG8ut4vZmcjLXZ/bw2Lw1vJf8IP4qfpfAX7BC8CzLP2tF1vNs/+yV2V3CQGG5sFvEFq0Tvc6JyNmU8z43NndHbn9eat7efLX8jPzDYh1xrvjUJNNJUye1SxwlJZKOyb6TV0/ukUZJt8sQ2XhZQ4Eu/KlvldvJf5I/LAworCz8MCVlysGp2lPFU1unOUxbNO1ZUVjRL9Px6bzpLTPMZ8yd8XAma+aWWciszFktsy1nz5/dOSd8zs65lLm5c38rdileUfzXvNR5jfNN5s+Z//in8J9qSjRKpCU3F/gt2LQQXyha2LbIfdHaRV9L+aUXylzKyss+L+YtvvCz688VP/cvyVrSttRr6cZlxGXiZTeWBy7fuUJ7RdGKxytHr6xbxVhVuuqv1RNXny/3KN+0hrJGvqajIrqiYa3V2mVrP68TrrteGVy5d73x+kXr32/gb7iyMWhj7SaTTWWbPm0Wbb61JXxLXZVNVflW4tbCrU+3pWw7+wvzl+rtRtvLtn/ZId7RsTNh56lq7+rqXca7ltagNfKart3jdl/eE7Knodapdste/b1l+8A++b4X+zP23zgQdaDlIPNg7a/Wv64/RD9UWofUTavrqRfWdzSkNbQfjjzc0ujXeOiI85EdTeZNlUf1ji49Rjk2/1h/c1Fz73HJ8e4T2Scet0xsuXtyzMlrp+JPtZ2OOn3uTNiZk2dZZ5vP+Z9rOu97/vAF5oX6i14X61o9Ww/95vnboTavtrpL3pcaLvtcbmwf1X7sSuCVE1dDrp65xrl28XrM9fYbyTdu3Rx3s+MW/9bz23m3X98pvNN3d849wr3S+1r3yx8YP6j63f73vR1eHUcfhjxsfZT46O5j3uOXT2RPPnfOf0p7Wv7M7Fn1c7fnTV1hXZdfjH3R+VLysq+75A/tP9a/snv1659Bf7b2jOnpfC193f9m8VvDtzv+8virpTeu98G7/Hd970s/GH7Y+ZH58eyn1E/P+qZ8Jn2u+GL/pfFr1Nd7/fn9/RKulDvwK4DBjmZlAfBmBwC0NADosG6jjFXWggMNUdavAwj8J6ysFweaFwC18P89vhv+3dwEYN82WH5Bfk1Yq8bRAEjyAai7+1BXNVmWu5uSiwrrFMKD/v63sGYjrQTgy7L+/r6q/v4vW6GzsHY8LlbWoIpGhDXDZs6XzPxM8G+asj79LsYfR6DwwAP8OP4L8AaQ2Fs0gdMAAACWZVhJZk1NACoAAAAIAAUBEgADAAAAAQABAAABGgAFAAAAAQAAAEoBGwAFAAAAAQAAAFIBKAADAAAAAQACAACHaQAEAAAAAQAAAFoAAAAAAAAAkAAAAAEAAACQAAAAAQADkoYABwAAABIAAACEoAIABAAAAAEAAANaoAMABAAAAAEAAAG+AAAAAEFTQ0lJAAAAU2NyZWVuc2hvdE6GTDEAAAAJcEhZcwAAFiUAABYlAUlSJPAAAALZaVRYdFhNTDpjb20uYWRvYmUueG1wAAAAAAA8eDp4bXBtZXRhIHhtbG5zOng9ImFkb2JlOm5zOm1ldGEvIiB4OnhtcHRrPSJYTVAgQ29yZSA2LjAuMCI+CiAgIDxyZGY6UkRGIHhtbG5zOnJkZj0iaHR0cDovL3d3dy53My5vcmcvMTk5OS8wMi8yMi1yZGYtc3ludGF4LW5zIyI+CiAgICAgIDxyZGY6RGVzY3JpcHRpb24gcmRmOmFib3V0PSIiCiAgICAgICAgICAgIHhtbG5zOmV4aWY9Imh0dHA6Ly9ucy5hZG9iZS5jb20vZXhpZi8xLjAvIgogICAgICAgICAgICB4bWxuczp0aWZmPSJodHRwOi8vbnMuYWRvYmUuY29tL3RpZmYvMS4wLyI+CiAgICAgICAgIDxleGlmOlBpeGVsWERpbWVuc2lvbj4xNDg0PC9leGlmOlBpeGVsWERpbWVuc2lvbj4KICAgICAgICAgPGV4aWY6VXNlckNvbW1lbnQ+U2NyZWVuc2hvdDwvZXhpZjpVc2VyQ29tbWVudD4KICAgICAgICAgPGV4aWY6UGl4ZWxZRGltZW5zaW9uPjIxMDA8L2V4aWY6UGl4ZWxZRGltZW5zaW9uPgogICAgICAgICA8dGlmZjpSZXNvbHV0aW9uVW5pdD4yPC90aWZmOlJlc29sdXRpb25Vbml0PgogICAgICAgICA8dGlmZjpZUmVzb2x1dGlvbj4xNDQ8L3RpZmY6WVJlc29sdXRpb24+CiAgICAgICAgIDx0aWZmOlhSZXNvbHV0aW9uPjE0NDwvdGlmZjpYUmVzb2x1dGlvbj4KICAgICAgICAgPHRpZmY6T3JpZW50YXRpb24+MTwvdGlmZjpPcmllbnRhdGlvbj4KICAgICAgPC9yZGY6RGVzY3JpcHRpb24+CiAgIDwvcmRmOlJERj4KPC94OnhtcG1ldGE+ClAYVvgAAEAASURBVHgB7L3nd1tZlva3ARBgzlFMIqkslaTKYbqqq3tS2++7Zj7YH/w/2rOWvex+Z8ae0LGiqpSzxJxzJgEi+ffsi0uBFBUqqFvVc68EXuCGE/ZJ+9npxPKFbDFWNIvFYvwxs6LO+qJPdEQUiCgQUSCiQESBiAIRBSIKRBSIKBBR4L8QBcBG4VE0fhT1KeEl3SiDSWWPhq/snysKxYI/mwjfiFWUbj7vtf33oy8RBSIKRBSIKBBRIKJARIGIAhEFIgpEFPgzUqAM+bxUKQKcUwzxT+kdT+UQBJIyKp8r+BPxeIw3eMAf5A/3npdzRdwf0INxElAi+pS/ou/h70M5cyc6IgpEFIgoEFEgokBEgYgCEQUiCkQUiCjw56PAd8UowfNCOAJbIdIRhvIjPOtGoQTHhJkAWgEuKj2g0/7L/uaBPxVuMqiHpBIDbOWyWcvu7VkunwvyIlE/PD3/cyCB6EdEgYgCEQUiCkQUiCgQUSCiQESBiAIRBf6sFPgeWEUQKgRaDqHkQsUhtyqHYPG4JVNJSyQqLB5PHARVLwGLKgIMFz4Zt/T2ts3NTNvC4rzrtooloBVz28TwOWUeHREFIgpEFIgoEFEgokBEgYgCEQUiCkQUeA0oIKyyr5I6ujyCUeVo5gDQAmQ52OKZOA/puWRlpbW2t1lXd69V19YenehzruKQRZKh1ooHt9fX7d61b+3qt19bBYkXQXJ+W4VHdXaweM9JOboVUSCiQESBiAIRBSIKRBSIKBBRIKJARIFXTAH3m/peQCtANjED71BGASwdil2xl8tbCnB18vwF+7ihwaprasKHXxoOVSg9JRz+zW1vWGV22051Ntk7H3xklbX1lkiSXSFvhVzWn/wx/ng9nCBPUise+v3kTvQtokBEgYgCEQUiCkQUiCgQUSCiQESBiAJHU8C1UYHN35EPhLdK1oH7zwRYCKgl3RNXi/m8JSqrbGR03IbHJi2X3rEiOMhv+gN6VV8OHyWUVnYPjVZ4MXg4ls9aDQaFHU0N1tPfZ6mmFosnk2izflygtV+0Mm3a/rXoS0SBiAIRBSIKRBSIKBBRIKJARIGIAhEFXpYCDpQO4prnvxo8q7+CTTFHYgRzx4IvXpGybTRaq+sblhbIIkq7x7NQgvtgSz+ef5QBLWUT51/BUgnOVZVWVYc2q77ZYhV6LO8I7/nJfce7AlkqLH/89B1fjx6PKBBRIKJARIGIAhEFIgpEFIgoEFEgooBT4KUBhXBPALQCyinqeniNROIVVoFVXypVaZm9EtA68Hzw1ov+loBWmFGYAWhOIIgIG7iBlT55ghKGz70o2eh+RIGIAhEFIgpEFIgoEFEgokBEgYgCEQX+FBQQwnoeyjqEYUJ/rtCeMAgBSBo859Z2FZYtECQwr/2G9Tn0/ktWSUiq7FAiRWJeFPjwPV9K1PfYErp7XgXKkom+RhSIKBBRIKJARIGIAhEFIgpEFIgoEFHgtaZAgH0cYGEiWMSCzyOtEwxQ215pG6y4zAafB7SUxDMgEkArIWjlaE10KILs5CTG37IkueDoTk9ER0SBiAIRBSIKRBSIKBBRIKJARIGIAhEFfoIUKOmRvOTgG+EgISVBnZgrl/itHyidYoUCQEvgq3AQGXH76ePpi0QdDMIZBkgtAFcByCJb5VGWytOvl92MvkYUiCgQUSCiQESBiAIRBSIKRBSIKBBR4CdEAe2l5UeMDYlBPvt7DMu6D4AVarTKVVB6fh8XPVejtX9Tj4dAK8hGWQUYL0hsP0GlHh0RBSIKRBSIKBBRIKJARIGIAhEFIgpEFPiJUkAwKARaISQKgZZ0XQES4k7woJ/Kq/oibIQB4lGHXnvRq0e9F12LKBBRIKJARIGIAhEFIgpEFIgoEFEgokBEgWcArYgwEQUiCkQUiCgQUSCiQESBiAIRBSIKRBSIKPBMCkjT9ZwjAlrPIU50K6JARIGIAhEFIgpEFIgoEFEgokBEgYgC34cCEdD6PlSL3okoEFEgokBEgYgCEQUiCkQUiCgQUSCiwHMoEAGt5xAnuhVRIKJARIGIAhEFIgpEFIgoEFEgokBEge9DgQhofR+qvRbvvMAo9KXL+KJ0XnT/pTP6sz/4l1OTPzspowJEFHhpCmjchZ+Xfil6MKJARIGIAhEFIgr8BVDgOUCLpTHiTF/TJg4bJjz/0GI+K53wenj+ofm8Lu//pdXndaFrVI6IAgcp8Jc10v6yanOwpaJfEQUiCkQU+C9IgT9BgPUjgZZvWMya4rtqRWvLa9bz1CCHPz+0iGF6h9MJr4fnw/d/ir/Duuj8l3sUtcledPyXpoD6wJ+zFxyVt675/o9H3XzFrfWiLF88Zrz0r7iUUfIRBSIKRBSIKPCnosDhWf174a4XvFRxZGXI+cWLzpFv/vgXD6yOB348Jy9q/YKKP+fl1/jWky4RsFBhJXU9/P784j/91NE0fXK1tI2bmLYC3+PaNZst3HggVgbTuWWFQsES8bjFns7k+YU6dNf7HhnESOulDy+w/pRlXvZV6ehnkR2+BVRjFLJY5ArnYGM6PfH0cSjFpx/4E185PC5Vj/Kj/H4+n7d4GQ0PP1v+3st9dyK/3KMv9ZTa4Ok0f3g5Xyrz7/DQ02U80M+OSOmoeh3xmPfDo66/7LXDJSvvDRq5Pma5GFc/0SCNBzQvMlYL0D6RSBxZhqebJRgzXq4wU5LU1/08939odipanvziTBJqz/1neF6PKX3NF+qfh7qwZ/GD/pC2p8+fOPVV+p5nKVEoEFzgeoExogdUxgLXY8wJQXn5XSpf8Fp5CrpSXqNSwmUnPf38J8oefiVfVYIf8/hutQn7v5fi0Kthbzh0+anChmmEN16/eSEsWXSOKBBR4CdHgUMTUPmcfehWqWo8EdNTPqs9Xd2jX/LnjgZafusZiT2d/Ku78qwihNefU7FXV6g/d8piE0IChOfvSwi9f3QaT6WoCyXcowUwlyvY3t6eJZNJS1QkYGi47y8pvafe5trLH3pbTKIzhp4Uf/wcpBEuwDo7U3QEp6Z7hXzBMpk9ZyjjibilUkkvJ7xXkIMjxbKEnRblvw9kG2T+mv8VPUL6BExsUJ/w2g8rfthXflgqwdsH6fxjpPhq0yiv++tT9meVhO7vQzuXy1k+n+N70VIVSdvLZh1cpVIpQNAzxmp5VfeJ+qycghnkyd1SxrynvrhH/rks+XPU1FTvD+NgyIYst9/+0f6o7vocBlkq2X45ve5BGcOrEsJkmNPyuXwJoCasqrKa+S0ufBo+9sJyKp/X8ziqZPsUOVTk8mef9cyhV571UwKt/YPVC9q/mpbfzyT6ElEgokBEgR+ZApoTy+fFl0/+SKDl8sjvn+bL5/5dnzxcx/Lf5XP5d033J/O8Khk2jM7h7+9b+XICln8/TJDgXsAcCcAUbWtz00bHJ6yxsdFaW5utobE+YEYOv/p9fpOR1wzGJ1yQJZl36bNLqIP6hkDLs/AXQjoULJvds/W1DRsbm7CddNpq62utu7fHmhsbrCpV4ekXSFNYK5CUqo4hDcJ0vk/h//zvhGBL9MnCWAtwVVQcOdT//IX9SZSgvD+EfSQ8H65A+bOH7/2JfpeKpvGaTu/Y6sqKbW9tW2VVla2trltLS6t193QDIlIvDR5equRedWUeFEBjd21t3RaXlh38nzl92pIIPHwe4REfd6+MXKximjNUcM0n/glqodIF2QbXdRX9G89nbW522hYWFi29kwEYNlhv7wD0arSqqsPj50kqQap/GX+DlntSlx/ePIdSCBv/SRbRt4gCEQUiCvxZKXB43vuxC3N49TiQ/hPNyYHL0Y/XjgI/ZNEv62JPJaML4SesNCxJPmtLy4v2m9/8xnr7jtvFSxestq4WZj6EReGzP+wcMGJoaGCYskiat9bXLQWzmKquQpMGkwgb5et2mI2v6RgAFXK2uwsQHB2xX//6X20BRq+7r9d+9snHduHcKatobrIKTCBzgJAKNHKxRMgMlNGixIqFSb+q8wGw+CNmonTTAMx1aFZdXe2A2On5I+bxXyupQFMY0DDsJ+E57D+iSPn3PzGFVJyy7DU2tjfX7fHjh4yFMfp6pU1MTNsbFy4yXust1d76UsKRsJb7tVMe5RdLP59kHdzU+jEzO2M3bt5mzija8eNDFq9KWoWPt0AbrTR/7COGxqRQyDMHZCybK1LvCqsEVCaT5abIKi0fL7TmjLwVcmm7f/eWXbnyrS3ML9uxnkH7+ad/Z+dSJwGpjTwavk/NqOLzxpPq/uPOht+FSoca5yVfdVDKs+Vv7xsqvGQaBx970iPC68GVp6+H96NzRIGIAhEF/lQU0FxXPt+9qnzDleNVpf/D0o3m4+fQ7/nE0d3nPxEmfejJp3pe2X1xF6Sq087Orj149Mhm5uZtc3sHfwxpn56/LMvn4fAnLMVTZy88fwBZe+mMzU5N2b/+8/+w+w/u2+r6hmUpwxP/I5UrHDAwTcU9TAY3bWFxxra2tsjTMAnK8+6oLS9vYPKI9JrSFtxf66mcD14Ikj547Sfwa3d3F+Z61D777DN78OCBg66fQLF/QkUMO4Z31CPL/TxG/MgXXnhReR76aDD6p/SyblOkUACxs8U4mJu10bFxNNBTduPOfRufmrWtXUzkGFs+pF+Yb/BAmLP/KlVbp/Bz4D7X9Xtzc8tmZmZtenoGc2PGHRnqXzha+fIjH6pT3lTvB/cf2Beff2n37913DfyTjJjDKLVKERy8g3BmL72J9m8B7d+6zw17mDzOzC3a0sqmA7awpnrXKx2+/hdwDlvkCU1ebaW8H3yXzvdqixOlHlEgokBEgVdGgedqtF5Zrj8k4QOmB6XVvmzJ/CFJ/xTedXM30YD/AgqSmh7F0IULZnjerxsXQibsILegG6WnWADzMBk7O9v2eHjYZqanATerSKULmNBUY1JTj0nQpq1gFpTmuSL2d3Gc6l90HFXO8B2VUx8VISyG36OwudyerSwvIRm/as3HuqyyqcVWtndthzK1YArY1tJi9Q0NpRRyvJ8B8vGJSaq9Szm3LZaqter6NKZ0ZvNzYqbWLFmRsq7uHqtzbZzKL6CoUpj7n62urtoEzGlzc7P1H+/Fx0tatB//CJmOcvroe+iMr/s6dK38meeVRCaDi4uLdu3aNeiXszNnzrhm63nvPOteef7SFOi3yhH3wChB2Z717ouuKx2lp7rqeAKeX/Tmn/q+6qkyhr0zKPez2uPw9fB3SMvvU3oBlDD3sJ+WDWYv2+ryqgObqZlpW1mas+nJxzYxOWMbOwXrQkOT3sO3shCzPGMWJZMFoW0OlYZMSi5MwQ1+h618MH/dKNrS0pKNT4zb2CRmujubDlo0VmobWtGgzSHwWLO62jrmq3ipBqR2IIND+f/AnzHqJt+wWbRpE+MzmBznrKW5wVbXll3w0sx80dnZaZVos8NDWrCKhMyTM7azvYWJ5a4lKjdtaztjG1u7aOYWbGlhEjPpNmtpbWW+qdtvC/mCbmxs2KPHj3yMdXR2WBvPFWXmHGbwJz+rxcpz53fYiOVlURPyO7wVrCm8qfHt7wewuDyl8tef9T0Y03kPaERSfgTzRiCMU/phmuGYCMdImObh3+H16BxRIKJARIGfEgVef6C1PxsHZA2ixmkJ4Ybu6ePOtuFSUboWPP7Cv5rkgwXg5ZnYFyb6qh6grDqCU1h5nUtk8G+H/pSR5dCd0lu6qoeckPqBM3jWNtbXbBwp+JdffAWjNm7buzselSuVrAJs1eH3lLWZ+SV7AyYD2zs+T973RDy94Fv490ULZ1iK8PnwLOZ+L7OLtHnJRsbGbH4rbRlMgtIbq/bWubNWg2lcfUM9OYoRBmjFcoAig9lpcoZobmnLGaZERTX+Ims2Nb5sq8tzmD32W2NzK8CxpkSCgJaGRDyT2bbJyUn74+df2elTp6yzq/NHB1ohgxGew/rqfNS18vsv+i7gsrOzA9M9g59Jr4Ot8nfCPl9+7fD3A2XwxhF9SjTaf/hwu+tG+MxzO99+Cgfy2b/6On1RPfjE1L/EKOpTflBfp0/5taPbUGPg+9f3CLqWtLKKMLmDH9bYyIjdu//QhkdGbWNt3rY2Fmw3AziuaLTt7RyaGUZJnGlfgpHD1SgvfpgV1558LbVnaR5SpTfW1mwE08Sr16/bg+FHlgWoaBxWEHgjVdVkK6syX922wcF6nk44mQIqhjqlJ6mXZ/+DvvtchIAGP83F+VmEK7totLdtfXvTTRgvvPGGtbZ1GLFxSnWT4IBgIZUV1tzUaNUIkzKZDcZPBs+tOEBxhXSmbH521M6cO2eVzBd19fXhy4ytrC0vLdrnn31Ouq325ptvOtDyidrLEvSFF81/P6jO4csH+mGpvcJ7Tv3gR3gnwLta+4LrOukjkKV/4XrrV79jU3k/p3+G4oHw9fAc5Pjkb/m4+JPQ6knW0beIAhEFIgq8Mgq8/kBLVWdhF+OY3yOCFpJKHYoiF4NZSODkr+hS32chUDqa3JW2JnaFOn59DwFChetOYPKDRJqof4iOvezBAgUNvA5x6oGGqSysd1gnLaZPL3LhFbE/wfKbBlTNTk1jdvO53bxxy6rwiert7bEKGJHdnTyS4mV78Hjc7j4Ys49/SZvwmnwwFE0qOMI0VaQn38NyHD7rrfKP7u+/xRc1bxL/r/raKjQ0V20lGze8q6yjodZODwyUPa06EK45juatJmU9PV02cLzPFpd3bA9pel1dg925+8DWlqdxys9b38BQieEkA/57IahDsZjFjGjL5ufn7O69h/izNBKtjXR/5EO0UduFNBKzrI+uqf0U0VFHeP9Hzv6FyYXlE13EcOUyaC/9raDMxXhQTi+f6HfgCC8EbwS3wmvBr6DfBvVTGkfVs5w+B5L/k/8IeygZ8xWrOxh5/HqYO+gxXJSGL5hDdFa5pVUM21LBSNSmz6rny1Vnv5OWHidnhBAaYundLZt4dN+uf3sD08A5yyEA6T/ej8ygHSFJzhZX9mx0csHWNnctK5NBtD4JfKUOtsizS0GNvA8EL1Bf6qdqj6HFucmYfPTwgWtwuo8dw58pZTu7aZuaXrV7D8ahU8y6uykLLwcfaBaQ7NkZ/sA7mssb62tsZ2PFRkce2rc3rtrazpadOnnW+gdPUv8KFd/roDkjBohOpCpd+NLdPYXJIJo5VVF1JOjP0vyENTck/bc0ZpppgtWCCKwAujW033fu3rfenmM2ODjIc0/G9Xetit4N+43OvvaV5gZ91xGOFY8eWepXfl1/XpK23ptK8436s8L962VPmzS11lASpcjx3eojGqlfKjptFosEaf2SSbYSIKUn4yS+LwBSe+kT1s+zLP0J61p+LfoeUSCiQESBnwoFfhJAK0uI7o3lFZscGbPd9K5P/qnKSqsj4l1X9zFMVOqDoAZM7t/10CT+8gDrJVewIwqhNUwLz/c7SgugA0qWPNbajY1dGx4es8WFFZgazFwAV/X1dQCiDrQvbQQ/QOLKofq9XLainRZxIgri1zSB5uibL7/CKXzJevp73BxIkfz29uKY8W1jkrNiWyu7LJRiOlggvX6BuZvn+czKqi7lx5PSHbgTVJkKwNCQVjUO7e1NmB+l40jotWCnrLK6xopanD258AXOAFL5XBSIIpZHmr0HE7q2XbCRR48xFypae1uTnTxx3E6eOY9kusEZ4CclkjmmtGLYGHpPg7kyAZ7v1rdUmqBm+qbjST2D38HfkImQieMUfmgTExPOfHR0dNgbSN7LowWGz5a//zLfQ8btRc8+KfPBJ/cUVIPIdZMjIx7+WlWpRqrf0oYZVXu71dTWWoL2Eb2CeoZ1Dc+HrpdIEjDvZayc72FUuqmUntmHDpbveb9gUymuyhGW5XlPP/ue86D0gSKAXbKeNcxRHz4cQZOxhvYjzfwT9zE3dKLPGmDwtzGhu3//vpuutmCqJq3iMUCIwHMgGArzOrpcarOj61/2vD+jdNBebm3Y7VvX7OsvP7el1W3apoNoeXUEfYl5UIiZmSW7c2vC0vEc5r74ZyFQCEb70ZQJWywopX4F4yJ82jUdmA0PP7hnd25cs8m5GWvGZC6Xa7JELuF5LiwsA1JmiW5YB/ALUgr+0vJl1Si/88O/q6zavytv1QhnmmoqbKuS8qDFSxJFsKq+xSqqaq1A35KsSnDL9xjzvqYeGcyCGYR6a9uLdvfOPdqz1lqamu3ypdOAqBPWhNYr4UIlCf1ExUAAoXkCA0T6yA+rXPl41XfNx9OYb9+8edN9LcP98SpZAz/44ANALBEkCRIkkKK6HOw3YVlUsyeHF59LhZ00gqcVW8LMWOaPefKrrquxJswjWxnf1awpcUUsPfj6k4Se8017qCmoyPjEFOcFBIQCtHn6ZQNl7rRO5rhH+Plq/dXY6Orq8rKXl99Lr7zDajwnv+hWRIGIAhEFXkcKvEKgVT4zP2eWDB/bfyS8EJxzSEa3VpZtZRI/odFhmBoFOsj48lbNghdjQezo7bZ6RZKrqnwpGivlYEnlzIqTyWQxq8G0hCALkjo3km4TIO7gobeCNw9eL/0Kinv0ghDeO/LF73IxINLa2hamQfN29+40wR22WSC3AEBpFsSYnT9/3N5+uwLQhSkdjwseOA/x3GyUblg3GF9fsIvQAL8nmIZK7PC2cC7fzhBYIl9HBK8aO3PqLJH8+pHg4uPE/jhPIomR4wszDAgCK3lg/Qy7QHgOb2rhrYJB7YKpP9V3xlYLVTa3tmMZTAcTFVWUPQRBJdbRTRkDxl97BdXXVVmMvXCy2YwNDQ3Z2TODnPvwvWoEyJRt2CoEKw6EAiSpc3t7h52knh2dx9wU6gmNDhIzpFx4Nahd+OsF5xIjNTU5ZV8T7UyMRwP97803k0iC8weEAOUMSJjHPq2OzEZPhU8e+cChi8HzivKo93xzaiJMbi0v2PzIqK0BAncxR9xj/DFQbAE/lKFz562DPlBPmeMOto4qka6F10lbX6m3f6Ft04BMBU3Yxu8uRRqNTQ3ef3mArhS+p1/lR+n98ktPfecZ8vEnn5lO2UvPTFLMq/qY5goj/LciWqLtZPxtbUIfGOFdTE2xlrN0pmgDg21onLdhMCcAzpMeVn1o6ATj8h3rOtbJeKliY++wXuG5rBzP+OpkK7vnc1iJY1bxpOGvwd+wRpFiuL6IOVtFRRHQA/OMUOIMJrDx2oQztALGqu5RR3j9ADnUXj4+pMcJvheLCCT41FSnrEE+SxRwHb/NRHIHXzCATnWtnT19hnmkFc3ycZo9GO/BECONl6/6UcUsXVMpdZQlxvwVg6lPQuOTQ/02cOqkFaobbASmv4pzDOCAUUAwTXk/VBp6n75I4B31+yb8MlMZaZUTaLm67TxzxonBXuaMBoQ1aCedegHIcpDd1GSnT591IU6D+4uqTDrC8gW/XubvwT4PiMbkcZh54Z/+939ysCKzxTbmQgGh02fP+vdKrX1BFYLzPj1KdFEx9osS/BCIW52dtUX66cr8vGUY25sS2qWqbBMQVDx1wloRENSQn/ZK/C5HFm3v8vIuES/nbYS1ah7aC7xubS9jrp2yU6fX7P13qtyvTeN/npD6ZwHuAl81WFA4Dbxtvkuu0bMRBSIKRBR4/SjwioBWieH1+pYmek38+xP98wjBQ1rQgVIyi0lv4MA8O2XpxVmkkykrNtZZmsV8Cwnc2vCyTecxgQEMVFXCvLDYKDfnCfgTLFhBpuHiFRZBTr85GO8dANbi4pJNz8zjkzNjbdjYnzl7hn2hFM5Xa1b4RnguK/sRlwIGMnhGt1WWgMcjJZVJqSrh0hGWVT8PSrrDJ3TmheBBpLAxnM/xH5raQHrcAAiot7qGtM3NE8Z5ZIlEFq0NyfIxzObqYYCCIyyozkGt/Hrpcg5ncYGQvb2M761TWZm03v4++/kvPrVV9t3ZRWKfwfwjuVMN6GqxocFW/JXqLYPW6PSZU+xNxUKMuV4WsLdDSOU0/luKQpgCHNWi7fAgEpRf4cYDs0ZMH7m/jQ+EgHMSxkV+UpXVYhYC0CTpbCa952Hd87tiYpM2MDhgfecvYTqYtJrJOZsZFxChTzjQojL0F8nptZHyJuBzFYBej3bh5KlBNF/QqbkbLdEpGxjowYeiEfPBgBpx7wuEhMcJfgeTwXxemrqcM4rvvnvJjsk/C7NJHQoJv0vERfk/yeE+BuDQ/kS1lF8MQkhpf/hFf7xNC7ZMX75z87Z9+fnXnmZ7Z5f7eoTmn2qx8nT1ndFBS+qO6hDe1Tm45m/Ip8i52vC+P86fZ/3WdY091A/QX/sKZfCL25wasTQ+Kq3QMludtF0k4JsEQJgnmlx1HM0ibVCFdL0yWed9XLmE403flV1gVhqWWCavOdeO7SBRnyPQwOTUDP48a9AacHvyxD7Q2i9qWbW89qIdAysAQEEentf+cwJYgYmaxp/G3j5tSs+Ej2psPbm7f9WTC3xUdE15iREvYjq7ZePjG/S9RiTzSVvf2MFcb8UejMxaY+ucVQvMdFbbMbTt84vL+BVO2tgUAVj2Yvbxz96z/u4uq8G8TrkezM2z3KehfqncMkFMI3BSnxPArSr1tVSC+uX3uLfjYK+2ocneuPyW5dC6JQnlLiFSNrfjvlmtbQlAR52lGisBDAP07VAoFYxLCZoEMmQ+JpomcWCqrSGADHOqxqzKkWdcZQD/6iG6VkVZBk6eJNBMEi3aqq1TRgXHEeBL4ss5NNhAeoyLmjrrA6wIiApfSvihABXbWCdsM5YUZEcm4AKDNYwl+XipzlnGVyIRjDv91lxdQQCbKgCczJkD3l+lkYlakQA3O9yP+bgWEKoF0J6iL1U2NFuOYDiFSvzWttFUUz+XJVAWDQ/fPoL5bXNrBRrsWSPPnzlTAyCrJoBIP2kM2dBAL9drS3MGkVCZE1dW5unH+HGxBmk+u4xvVktznbV3tHuZRLMMc57abRfaqo+l2JZCc522XHDzd3/yWX/QAGEkvZfexnRx3q5fuW4NLc128e03rX9gyHroRwoCFIMQ3n+DqbMssfLepcqWbjHfFdBq5hAQbEyjQV9bsXrC7jc0tFslY3FzZR3AjOkkAsh4gnUVmteg1fsuRwa/wKmpTcZKlv5UZz29NZbJFjA5T9g4pud7Ns88vEl7xW19c9UW7qzZKuvBu2+/Zb0II2rL5lKf36QlDMv/XQoSPRtRIKJARIE/MwVeAdDSlK9PsAAGs6NmSK0Cz5kpfaXgEX9Ppl/4NxAAIYNDdxqfmhRO1mfeessSSNHzAKNlfIeuf/6Nzd+8B4NXZS0sblVoKJSFIvNpU90gKBqMg0uPxUAwZbMgKriCzH1W12DwRkcJf/2IBWDMZudW7IMP33eQoeKIAfO6kKZKHjBG+wXVE8EzuiluTvUmfb0nFkpMi8xIlD88Cbcw7eBLyG6Gr4vR0LtxOalz6LmAMRRfFfh1qATasDedjsHY5WFEqnHMfgNQGKCF+w83bfn/fGAzS8M2Nr1hJ2H+GutS7r8vZkJ+S9qUU54FATAplYIy7sLAaF+sZZjqXkBFM6Yd59gb69S5MzY3TeSymTl8PFYJqS4/qRbr6uhnUW62FaL+1QJ8G2qrrcjCvb66QBhp+TcsA86ymIg02ymkoh1IXlWGmYmpgEECyKUBdXpWkk6Z4gwhee5FM1mlKBYwamKslpFyLswsos2KweQk7dTZc1aPScveWtoqoYsY/BimOm6HJFrDvO1l0wDReQJ4jNjw4yn8slqsqb3Hapu6rGfgnHW2iXmUv4woDVnEdODMvknwj7HRYfxKiJzGHlypSvaeau4HmF2AeUJbWmI2tzY3MKskwhobIa9ialMBwFegjIGB43a8r3e/vQ4AjSAr6B70I/+pH94/Cg5YbuBbc//OY/vZLz6x99//wN5683LwPM949yqloZN6l/qWd2u/4IkFXbD0nHxOxKCI2dYbwad003+H33XWfR06B+Y9RQKKFAG420St25sZsXoKceLt9yxGfXMArIXrN+2zP35pK4+GaZsma25tgaEl4AFjy+uu8VBKlqLyNfihvl0oCBxsoRlawAR1muANj214dJy+nbUPP3zP/QG9OCqRXubw3upDTGNK40NjhgvyM/KxF/zUs0FuygcacM/z92T0bHDfH+NPUExu8qwYcJUzeD7IV36RGjNxtKRSlGbQWG1skDYA4t3337SB/oRt7hTxASJC5dItG5mYtaET23bpUp8Nnjhl9Y1tNrv4f9u//fZLm1zKWE9fn7VjSvgEaCkfL1RYpOBcuqy5aoO90KYxKx0eHiESXhWmvIM2MNhvrXUVlt3ZQOAwTuj2GYO3tTfefAffrAHXcqgic3No1TDfmwccZjOVAC36aweCEhjcIvNJDsC7QMCIYaKLzrJVQ455M4FQo6mx2bVQ/f29RAwEpDBHZTYR8Cwu2B4dr4Excbyj09788AM7g4mrIg+OEDZ+GbAsU7NGIoO2t/UxlBHIIExJ4BNZXYVQjHEnbVMGf6nJyVlA6ASh5jO+r1ffwIANMgckoLnGo7ZxqK7DXJj5fJ35Z/TxsEcy7OkfQsvUi6Za2mgqDa120IY+fDBMWSvRRDejNUxZM/NOkvmiAFhb3qYM0CPGx9cH3vF2pgNkmauWKf/9BzewasjQn5sRYGHVgPnlAEKaVjSsVQiD1CRaPyRQWpqfYb+tL+mz22jHkmh0u9AuvWndXS3UMwDRecDbAs+NMV/MzEJb6tHU3MJ+YscBnn3MTZjlkb/6YPkRjHgVEJACJCkC5orMUVWJGsbGgH366d/Y//TffmXdHQBIlcn/qRephEqsPEFd0yWuhWBFY5Byp6cnrbC65PVrOzFkFZju7T0ctelvbtjo3Yc2hll6VSOmwYxvmQczDJ57lHJyuu4R3XJ5GSuLeLO9cXGAdarJwe2//2HRfv/VVZtaGreFlS3unWMONfvDVzfswRQa2CoEbux5Vk10WZl3onvcz1PtVX7sj/vyi9H3iAIRBSIKvGYUeAVA6zk1LJ//w8fKJ09993XC/8Dz5WTx7hoaMb5xSdVYWOO1SFu72+0kkq/7kyu2h9R4i7DGjUhNA60QCcFgSuq6v7iU8ltdQ3q2OE/I8ikidLGYEDFrcWmVTXAb7K/+6mdocX7OItij1atUGE5anElPzJ0vjOFCtl8fHhajJs63xMHrFtGCfXEJKsVvAERweOJ8DQBYTBxckKFrTKSN2WJvKi2OLTCwkioHuCDwDzl2rM3aO1sARGzEWUVO/O/pqbWBgTM2NrENo6SIWCmkrMHaKOZC65W0L/5wUAj/WkRCPY/5yNWbRA3Dsf1vf/4zpLbH3Txmir1v/vmf/8Uj70ki39DabT1dvXbp4ptI7I/Z/Yf37NKbF+2ty2ct31SJr8Y39u+/JYDG3RGk1Xn8oAbsv//Pv7I3L17EjKfCrl35Bh+JGiTy1TBXO3blm+t26/YDD7X8yccf2l//9afWibleIpGEOcugNRi3r7+4ZoPHu+3Djy5ZK2YlBrORIPRyTI4yVCsOkwNnF9SIes4j+f36ylf2+ee/x7xrEh+VGhbyZmvsGLDTb7xrP/voAzsx0G1N9Uhq9RamT0uLc5Tjtv3mt7+B+cMPEAl0EvOZmoZj9rd//w/27juXre9YK/5e7M1z75Z9c+Wq3bp515ZhBPcgspjnt99+m81Nf2499MlqpLEvPtQHxCSi2cF0RoxiTW2ztXV0w3SiCVDR+AS+IEpNPSo4HKrTN/RMnjGibpfwtg16iTe22pz/AihPMyRP0grTLD8LLBXRNhQ2N62KfI5hIhpjg9sYWhBpLxJtjVbV02ldtOP6GtHZ8OPbgRb1+F0EGiYJNCTsYLwwBiVo0D8dC4QcX0A7Nj01gQ/TI0yHiGiJJLutvcs+/vjnCDresW5oqLoHf1R+/SgdnhYMdjEYS3pOYOxgHQWu8MHBCSfQoAYBYsIkRBUxpxrXTiEAlgCbvmept8aeNBB6txHz2Up8fFQGYa5UZcxOnYEBP9EKAEero6bm3WPHahmTpxxA7OG3iILFx3sjZquN+Lkkmb/WAWS7ewRPUMNxOAYur1twuVTv4Ie0rLMwxN98fcV+/f/82pIEZnnvZz+3X8Q/sdqhThvHR+ozgtb87qtrNj6/bp/+/FP7+7//O3zoqtCkbNmX+Gxdv3rbpiZWyK/OtmHaTzNeP/zoXbt46jjz5pxd/eYb+4zoonMIPSrRtMTiSepVY8cBWf/4D/9A1M2TlmIy24Apv3Lla9uCXidOn7EehF5xhBKP79yx//c/f2//9D/+FY1XAQGFtkMYtDOnL6OZbAc0bSKYqQa4/W9ot+OWxgx5krn33/7zj/bFN9dsDj+3FkDbJ5Q99cuPrYamnZ0at2GCUDQzz6TZ82v08WP7w29/h19uh7330ac8+3OY924A45539+XlZfvXf/l3tElN9v4Hb9lFGPiWY93UuWBptKaxrSUXxDBgGC8SakF/aF+gvRXQ48uvv2Ce+z3aP4BNMUl71Vol4/CjjxF8vPeunRoaYC4JTCNHH923a99+ZV988RkgGwBbwD+26ZhdvDxtf/PXH6Mx7CN4T5xtJGbsi8/+aNeuX8NXbZK5ougCqjcuXkaY8j4+X2wcjZBK5st+qDtyeK/0fqFvdDrvqwDjgoRKgaBMwrJwjgheAzzxXHBV88CTjrWflIQTfIqYAzM4qE/cugZPWKK2xuKM5SLmrwnWmzYAVxZwPoMQZGt2ydKD26QXaOn4cuRRKrrf20MYIX+107SP6FyLhhfshDYvZn29jdY60mFbe1sszVVuvv0Wa0ixosb++d+/sNt37wB06zGfbsYiAwuBcGz7uD8y6+hiRIGIAhEFXmsKvAKgpWldH032OsIJP5C3BdfK/pZuO9Ohy5i96IgRFQrvZatq6rBYE6CpEiaPDzYPzNhxq6itsNrKuDUg06tm0UhiE+7Rl0lPTFeIabIwjVswjOuEIU6zL9TIyCgS3nGCSCCZ3dtF+tll586/ae1dfZj6DGC6xD5NqdCsxkvi5RHIkjPvXg5zNySwYsSye1mYsErMHKrdFAe5tzuBazPfPTQyCWxlFOlOEjpnQMXYOdeoSgu4lRhE0s6w4K9hwrG4uGrTs4uYseygEWqxCzBoKcoTl+Qexo/IwwAHgYuA6YOfRQNTxMdFuLQCaXU3n1oWN+VJdtz3aFLkEWrMuOp1ckYTibZCp29srMMESxOFOSXmLpsE27h/77bdu3PDGT3i+CGdbyVE8o7NLy24dH9ubsqG1ntsG18pNuexh3dvEKXwGtLKND5zXfir5N30cIu61CKJ39rEx4tyZzBT3ICBVFhk2f5n0G4tApTnFqTdanLGVlqP3fQOEvIN2qjVwVQSOhcLUFldRO3hZkyqi5hq7P9XVyjvPaTz44RgbrL/5X/9BEas2tY2Mja9tInm5B5ScCSmmBfVnOi3mhTaCCTnjx89dKCVhkn84EMYWIgsf6FxtGlXr14F6CYo/znbWsMv585N2njHLl++jACgy30LZheW2G9s3FI1N+zvfvkzB1oh41GitNN7/7vf1B80LkTui4nJBzAq0AiKQfGC+89rXx/VLZ3OYWKz431Ge5nVwRxVITmP0+llkikTrAxjoBo6y2dO4yjGB4jBR1rRYFwF5dovCfnoSjA2g3t6lrEnMXOy2pItgCfaKI65U0zcEoKOGPRIoi2tB3Tl8/jw4RNUAROptPbBA51PIMv9Muic0gTK3Or+/dvs7TRKvyCICxqsc+cuALKOuR+cNDFdne1uaqqh4iWmqPruYw9NwhbaV9FDQguF9a8G6SgfjUXPA9O1OEC9knETjDvVVVoMMdjSWJUOCupDkZ/SaKbR3snUdB4p/sLyOuO8wFzQVjKlDcaSho2mhsaWJO9ivgroKshkbVtaLkXGrLL2PurQVUv7NDh2q8gjMIGpzNM2ySqCKKB9D/YfE9WPPjR/qc46FP1ye30FrfMm2uR6Yzss+sEW42XF1lrYrgBt1KaCGNBmuwCENe6tax6Zm8aP87FdZx+1LSIN9vd1ME812Sx1nJsct98DkGznLVuZnSBi4EMEG1kbHDqFxqUV+mpfqC1Mv2bZ3uFrBC8xOz1IQJw9TBTJa7OiFhNB9qqC5uvTY4z7m3b39k3yXLQuNE0ypd1GeDDF1gLNjfRdTAqTiRa0x1QItLq9uWJTAK2vPvuDzSxuWQbwoA3FVzY2bY3xSJwbAths0q93XUOmuXaL70mAvnyIptC8jSME6uqps5YGmQqmXEu1xH5dKUzgdqgLsx3tz7YN6pPMQwJcWuw01Ogu/kESgDZ51G4hILp77561HxuyDwYH0apXYjWwZY8nZuz2nYeeTi3CLmmQ5manmStuooEdtctvveNh3ncp+zxbSNy9/8DaWxsIwmGEia+12zdvoFmfwC8Pk+VLb3l01ikEVsv0r2vX72BOByBjLnf/J2gT9ofwTHE5uOH/E4D3SuZy5n5qoj6k54KRG0AuwRvpscvff/JdGl5FrQ0yilPHZAuCK9LS/BMjSJDFuQ9ATzJHygy6Gc1kHQIL3eL/Sx16TmtVlbSXmEny3/uP5oUM69QOQYmSySYEE5g+9kirh3a0oQYgm7OTA+PQa9ru3LtvrS1tduncSSpIY6kSSvhJZV6qLNFDEQUiCkQUeB0ooLXnFRxikZ4/Netu+ISe3p9M9UUmDmIOAVrJes4S2Uvqp3MWSZgEgDB8YkLrYZZrYSxrsO/XW0rUGajSDwVxeAQjff/uPbdz38L8pYifk/wBulkAz5w75aY2La1oUmCUPDiCklda+0dYWu1NtIU5zhwL7pxv2itTkB7MHGSOk6SMitI3S4SlDfa0acDk4sTQSd/wVpJcMU9eNr7IrEkMo/wQdrCVX0TLNjL8CLM7GChATmV1vUcOg03YL4USqARcaqkVX8urAKMiDNEODCygZKlgQydl9oJ5XHUghd9/2WlalpZTXwXSApwjLfyq0EAUKeAezOomGorZ2Rk0bGk0Th0A3h5r7hqg7uxLw/NZfEMKMm1BI5PLwIDxWZpXcI5F7hMwA0azEt+MFL4iYvQ9wIKy46NDdBCtFWI6A7oQ87iKuaNoQs2oKj4EaGvgT9EASE5LL3GpJqnxsmrippmclaQCNMxOTQCaHgM6svgwnEXD9Ldo0pKYPW7Y3ceTtnzlJiB71I510GZdmMQkawGJ6zYHQ7iA6VBLR5f97ONPrQNzoxVA51ffXrffYZ46NTVup9EeLC9gGoV5ZVMzJlNvvYd/2hlbwKfhsy+v2Le37rGP0Jh9+ME71kaB1FXLqU0Ryw6VWB8xSPiZIf0WU7KnaG0AKtEgHEGFfNp9x+ZgImXemoa5bYEZVhCSLrSaov8iZZ/CNGlzZ8+OoRHs7+ml3hokorzopb7go4xrh4/DAhAVnHcTtFsNYCkFswqoiaWYKtR4BHmQuVZMTBl1aIKZbapWgJRAOCFWTzVXfqr/CtEKH95/6GB2h7EoYYLMGTU2+o532qXLbzkjWovGTAy6QHQIMsjA+438KSUUWVlZRGM7BTOOfxRMYDcmm/rIF3Ab4D41Ocm420Gb00CfPQaN0GgEA84ZcZ9HSr+ltVP0Npm1CWzP09d9/M0jkKEdmtvaPTKatMD7rCvlqUjxiypKSKJybm0WbXJ8G3CPzx4guf/4MQQ2NS4cUdskoFdcNKMOKcZ0AroGGmxRJ/yoTcQmO+X8su7oqCCzJNqkSsaKQOUWbaw6rqxvIcjYc6GQ5rI4c1cGUAdGQgCBH+H2BoB2nLKNAyoqrAlfnopUDnO+ettAUzHy4L51NVXbCoBsFZ/XSiLxNTaxpxxtWQHIrq1pZPwX7cHDRzZEnU73tsKSY87NvOWR9dCYK4T8Mr6zGvc5hCWDA0PWj09UgTEt02EJULJoT8Tgq5f5mIAOMhtcRYs8PT5mewmCThBsoQoQmURI4CDTNS7SLCFMcSJUYFKWAvsn3LRvBbAnE0VFoC3UQU+6q97TzKhNkTVXFNT/fQwE5qNqw2BElIQBmn8R5kyMPcZk+LELBN5//x279MZ5aJByU8hUbaPdvDNikxOTNsFYUwTDJYRMMwC9PSRc73/0VwCGHgeJd+4PM/5/7X1wqLcNWrVicj2FvCNhZ8+/4Rpvjcer127bV2gfZ6bnHcy1t7eU2j3oDeoDOsL213fNyYrsmgVkCS6q/6g+ekZjUC0S9J7g7cNphPfCsUkCjOeUJZoY2wiuNN8CgxjntC/fdF/BjVoIrNJa34hACrWthrUefYlDQs4Ulha4EDpOkhn/7maBeTbDPLDoAqVeQFYnNK2swnqAMdbV1mznT/bTFqM2MjoBXSfs/KkhQFkwb+0LJV8i/+iRiAIRBSIKvE4UeEVAS1UsXyqCKmuyPOrwq+W3NKnrN4tUDMbEGTxxYJpznRPTnlpoXpBC12F60djeZjVof1xcqXfFCcEM6gUxx998/aX986//hUkeRvijn9kvfvHX9s4771gHZiZ1mLQoNK4cfnXIAlDHk9KrIDLJ4Ez+GRi++QUknWh7xnByb23vJIrdaRiLfsztEu74PjI+5Rqp/t5+tDGdMJU4LCMBV6qigUDWHlLaDaT8yzD0U9OTaNqGAUv3AClJfH76CD0u/6A3PGLevjkkwCNMJ4cWQZL0ufkcWpdF+/qbBZivajt7AdMzTCu12KkOrJksdhT8KNqLceYjdsZN0OCE5BOWF2MLs6YFuhW6NrVW4X9zDIk5zDf3E9RTWjUBJf5DFojGO9IYVKJtSeYxh5FmhdDpCtmr6IVZtC7OaFEeBchIwjilUtAJbVge5mi9m011HVCJ2gpqkXVGLg+qdsbJy0+bqj5USmBLn6CSRHuD6Robfgwzjt9YXTM07Kd/kAaREnNoXTrx4Xvj/BnMRYcBUYtIVnH2bmRjUtohC7BMpaqtA+Dd0XXMutGgVUmCDZhOATDkL7YHGJTDeytAphvNZw/mdIoOWANAUmS5+yOjAEYCauDwLXBYip1BCxw61J38CPpVAT8OBQZQGzmjqT7v/4Kq5dHgptObBFWYsmu3rqDJWLPW1i6c9c/aucwAHRYTSwDGY/zdttMFmJXTaBGakPQ3wnQ6e0tu0ImPZw0dD3eF/SKpXPwIQDEADaa7CDOt8SRSSyUBduADLQDWCp7ShpS/Sf6R9HH1FzHHzgKSTgGN4/TEmP32P//D/u3/+3f6+y7+JR8DZv8KjeAl2ugYEm36AjSWFFyHstPh+fk30oQGe2iFVlfn7OHju5iUTSGgKGCiddwunT/rghaZMD7Gh0eBKVpaOwEVVbTTMR9vSkZ13mfWaMcswHwdgLXAXmkTE5ipDQ87SM9bpfWfOIsPUB++Vicw55QpXcBhik4qpmQWkgdsIp2fGM3ajWsL9s3tRUtbC2ClA78iIkaSYQUCiVQihwlUwhrQEsQAPHkYdPfJVIEOgV+NRMEFtZX+69D81t7Wgna7kT67DtDfscrWNTTC2tIhaYNDQzZGEJ+lpauEm5+0ty+cgjlVEJoa8qxDI5cEMM054NVcqiiaDfgxCcBtALC2GZcOSBA+TWDetoUmp+dYL35EAzYEcLr34B4aKIRbzAequ6aMAuOpwFhVSfNop8WUtyKcqAHENaORXAYIrWMOWg8YVlm0PUcO8BRUSe0JNKD+6u95zMcq0PLVEHijHdPgFswOK9JrPiYU1Ka+ts7q8I/KoOHa3KL+axlrAmjuSe2rAkAz+dGJnCkAom+KLI0stKGl/L/mrAqNKx6SH6f7pjFOi2hIx6mzNGbdMP59fccpJxo3tKbSkg7Sv9bRhssnS6bmgz3sSYbmWFE95L8ljVQ7wpkCtNsiyEYjgFEAXgBQ82ctvxt4Tr5nnWi/NS76uldsuHnMptMADsCo+gOldNqUmlyVCi7oRumOBG4KciLQ5Zd0iyMY4fQcxp0qGwrmgn6kJ0rXRSCO4AnSED20tvp4g5CkK4uJPGUXXeL03Xp8nptlCk09dITlC1LyS0/98WdITmbzKmoGU9mNNeaB8V27dnXFvrjxwOoQcp06x5xRqXUVYQTPKzLsqUFMupkPppY2EKjMQtMMIFzWHGpo5RqW4KlsowsRBSIKRBR4bSnwCoHWwTprcVXENh1yRnZ/JzH1Us2UFgHd08Kh6VRy5Dh7viSQvLlpld7TfaR52vsjh91/Dsalpavb6o4dsziR73wqFk8koOVSuoJtEkhjbmLYQy0vbCC9xn8iiz14AmllCn8HkmDx0kQeHBQpmNN9SVKKYn5IDw5DRlgthPc9/8YZoovVWWNbA7b3U2hLbtvc8hRaJEzbAFSD505jFgEjDqPa3tgCs65Fn4OK5STpxVRPpotXrlxBusleVYCtGiSHp8+dhwF92x2lWzChq68DtGDmFqwzlAWmDWLA70ID+KO5iYL9/g+T9vmVCbtDBMbNbIoyrVtdUy8S7GOATzEelF8IJ+BKvBgH/yj9CpgUwBk3xPRLM9cI49zS0mpfoS2ZW1y3+vYtpNUXrQNQ2wHzUI/GSqaIcRzN6yh7bbXATZ+dOJmx9kH8tt7/mR3DiXwA86s6mMw1zMbyLN4yk2mFceykzeTXNNjfD0iYtBRBNpIy9dlvC/qBIzMkuGil4kKOvC8Q5syFr7kwWA6o1bfka0XURWhTS9vuArL+j3/6v2xybBQwjc8IZlEdMFNVmL+pfgkxGmps8qsALNXAlFajgXNNKSAvTlhsPZuCCaxAW1Df0AIz1kFAjjfR3tSRh0LfQ1XKIX+MKsCnCKhiqp3Vc/TRDy+qf+ePGCJHEdSC79sw+zL/WmFj1U4k4afOElIZGutdvVdB/29h369zaDKrGlMEXbhr02hdbo88sIW1Gaxoc/gREYmM4BntHX3WSrTMVgBuFnMtccaSdjtzDwMoDUQejVgBlCCwTwMGmXheGnd8GIsVVML375LkPGRyxGH7AazGfCu/vm5ZaFfDHj5yXI/B2NM7nelWrnk0obsba7ZEII3p8UeAmSnLEX0Ml34sgmHK8bWpZ8wq6lgYbVM5hOMvyE19QLL8POaQFXZysAsfP0yaHrbbvUcjmHaiEcluYOopDVINpl+YaL3VA9PfTtTQZuYOTPxoILVRUFVKBgOcxSR1ZnICH6H/wDTsjmufW9FgvfdXn+D3cxE6sjcfzGUtpmoytSoIXXIEAF96E4WkNxt/XABETtmX307gyE/46iR7zvWu0Y8IvlJDwAssODs6MIEisMzoRrV9NbLqEU43N9ijqI5+JztEb2ixv2GNwybRbzSbCIGODQ7YJ8wj3WhP/uWzq7ZewIQMMCHgX4UmsIb2TsYrCYyBeSLmntX0TZmr/eIX9XbuLFrXxRWbmF60a7cfMlZr7dSJAcBbKwB92vvIEvMPsSrsVP9xtFOLlqJd99DI17UqgAHUh8GXpkyabvUS15BqhoauEsQoWMY6/eHWyKgNnT9NdM8mzPpoh6ZOBA60OXOexq+DAfpUTX2TtXb20l4EDDn/gfUxNnuP9/inA7C2PQ9xKYNmXvmM9TNHXDx7ys6wJcNv/3gDzR1+l8xXGh8SEmmOk0BgLyN/RSZ0xjZLDGkwGJkf5GsnwKd5Tn5J2pdPfX0b09WldbSC9MdjXT3sJzVv//avX2M6uuAmgRfOX0RgkQJokRhg3zXozEXy51V9qqRJZPwpswr6aRXAUiZ9lTX1duz4kP2iq5eyECiDsREeVZQFqzqroE8pWEaOOQDSBrMz2ahOwZ8DX/ya6qqnRUfVOXxC82peWkClBegTCJbVho9nngweDNZcXa2ADkkEixobNG0wJ5G2v495fQ4BpgBdLZYMqW5MPhFIqYCllIL0nvFXeSod1UO0WF7NE+RnhXVuzn7/x3kbW5mx+o5FNOVbdr7/DavqRmOLD5fWn45WrDhYM+6PrduDR5MeLKnmZC8U/LbWAABAAElEQVRgi/yfuX49oyDR5YgCEQUiCrwmFHglQEsTsi8Y4dQM87a9uW7Dt2/bGqZEWSSVui8/izyLtxZFvaOPDjHvWsRacLbuO3EC4MDCBkMmBo4VxTKYjaSXVqy6pd2qB5HgEuY2RiS5HInK0VkTPSsvC4q5n8Uvf/kpC98ZIk8ZZjJbMGnDMKvz2Nw32vmzg3ZioN/DuruWhIXYpYGUWZHbXIQbFMv/ykypkT1jCrFOtE9Zm8W5fxpTwnV8KQYGT9jZUyetv5dIVUQbq2JBq6QukqhKSyDG+ttvv8H36Z5HEVvHJ6EVH7FTLOjSpvQNYLcO0yrnee0npEPMjJgwjyInjlFMAsVCCUD0srhdONPsi349tPrqNvutsL9P561dFq28dTYOsZiKNRJl9a6nqD8cIbX1VTQTzyXmSX5g1Sx4jfbuu+/jh1IFCGDPKiT9W/hl7Gwht0fqXCkmlrJ49Dto0tza7GZgCzsxGyW4yG9+93vrAyDsXjiN7f1xZ+6lKRPXq8AAYoQlcR883ovkkmAQeYJ3wNQFhQzKq/QFxKXlUC2ccSoVW3Sh+0BbFvUQBPBcBfSW79bKyhqBFoatDUZQoeFX6XctaKO8jXkxMKVTsJE2Il+hXRk4YdVNbQCoYD8gcna6iTHxMsEw1cIgKvhGgu8JMXGiG4d4FfU7gQInJKUto7oe4VGuwRirTjH6ZlZ+cWuL9sUffoMvzaQNwEQOnn0PLaZMTUtCA96TYCEJA9dEaOmTlT22iQZiefeuPcC8ZitdbRcIPd0HU3e87ySaiiYYSvW5BD4umFWJ4aFc0j4tz0zZyC38yzBTzaNh0BhRVK+gBpSW8nkERtpfIbSrYd6bZJpHhDRFRxNzqroVkP6n5xYsi49Q9+lTBGQ4TmS3ZqFNldYZQUmpZVooIcGpk8ftH//xv9mFy+9bOl+F2d+mfXvtDv10EvPNRnvn7UtEUgPYIMlWFiWS+ncS5KBs1IFm5YOWkTJtCVRvrRFS/TF+Xpt2vJeoZn2DmHeeddBZCfASUKQq/r66nUx05at58/p1G8MnaR4T2FVo0d03YBfpF90AgxMw/F2MP4XflhbLAZoLbUiAMoithwOllgAAZCetzTFMzag7wD0JEPoWs6hvro3gZ7jB+B+0llNI7VsAyW9eskztcau9Q+S8sRGr2CN4z/khj2ipOVD1Dqgb9DaVutQwdCzSxixT+zeJljdHpgG5Ahf4ZBGK/NHYPRsfGQFk7CEsYLNgwnEboCtBMAeZddZyral1Hf+6KXs8QxQ/uPwutCtnT59gC4gehCjLdufOXXys7tr161cBWBlMT/FXRROtuS4GHcU2a452DWnQYXwcaWuFZsDE5fc+sur2E/bOIuBefo8EVdhhjm/APzWXDd4X2GewaqAwjhrs+Ikh+/jTT+3h5Jpdv3XLJmYn7dTykFWy/UIVJuEOpGjAOHnUMCY78HmqJhLm42F8nNaLzH/4J3obQT+guLTpcVCD/qmNlF14SKggUErmpXc0H0srWSA4CUIa3pN29uHd24TJ116KCsEU9018WxF4yUdNY1AmqUP0kfrmdu9b0na6tgUhhrR6pOrjXBNTihD0lQh8JMST9Vs40uRTCQykrNLCqR2Dpvbi6o86wv4R3i1d0BwSDpDwEoKxFcxepyZGbH2JTYGF+8BM+ijlsEcVyTcAuuyxqKiKAMvugQFMNmuhNZmqa/Pyxuy07WFpkQBkN588Yyk2vY6VzPdKWb7gpDyVGGVnPq/DhLCnq4a+jpYZAdX1Rw02uoCv6/0p+93vM9b8dydcSKd5sZJgGZq/5I+6gE/tMibfGrdOlAN0eUERotsRBSIKRBR4jSgQcPM/YoHCpUGsZmBSRuLM+kVM7nKrmEswyWZhAgVn8ixIAlo+JzPR+rswlnEY2Xhtve3h31OQHZZuaOWQvwrS112YgwLSy3oYgkoYwQTMTJGFTlOyV4iFVlofHTLtqK1nb6yLcRi0BE7It5nkH9rMzDR+GWOYri3jZ7BANKQeAEQjkl7AG/4KAkcHVj2Vwa+wcCbYcwRJcm9fD2GO620C88Q05asCPPT3D1l32zHCj8OM87xS0aovv4k0oZivX/3W/uM/foed/4IdHzphl979Kxj9izB4nSyAACzQIVXxY39NVd66FnCOfq+CRQlrHaTlTWhCKHcvASyySK4ntR/YKvWDRpeHeNap6u+UElFCpd+6rcXbi8gZbR/01llS8kE0PO1sjLkDrRfXt+36vRFbS8KsIekX3ykfFwEhST8rcaLu6e2mTBN2c/S+zY3PW40NeQS/LHX35ym/zABdKwcNnaFHY6MNQNNIYV0aq7KovwBiJaUWOAnyYfGmbyiaXEALlRmQnkvzfGCWJAZJmiqZBinwicBVG+0p4K5gCmIkBLQU7EHsjo46zOwGYIq6pO2hTPjS09Uw6UHanMVcUEyaeDT15hhMn6Ti9FD+Ue8AAXo6ekL/VDb+HnkIbMfE1PCATIxyMKMrABaZGtWjJWwnNHQDfhPas2u/hWgLMZIOtvBZ7D7WbnVjmDzyL11IuWagt4cgLm2dXi6KKgqXyiA/KiT6+NPF8YvZW8K3hKAwBbSLAlYIvaGnCqMPRfdrCCwwu4sR6W0PwKEgDv4MRCiipUovLloGIB0vVljHG5esEpAUr0diDwMdMHUqAdTitwIT9EuI0UVUxjTR5gj28TWho+8/HHYztdmpcTS8GZsf6IPxw2wMwFZPv5MmMTQlDAomsooiBDHB5FRa5RaCDsi9ZIPyJWCAu7r7MRXshcdlBqCNVR8Hvyo3H2mxVph7/viHP9gXhKVXZMELb122t8+ct7PnzrFlAeMPsCcBQqhhE7MuBjCgKP1A4JtrOsAgaHbjaHMw0+xqsFq0tCt7lT6vDI8uYNLbbIWTYi4JiNOIWRyOe62N7Nk3vYmJbxyzQ5mNkTJ1COqms47gr3/170E/lS9jPQFu6hlnKd7VPkULC8s2QcCFJbTj2sB2YJD5g7kLtp8P2lgHpwBvxm8CTVeewDDauDsFEG3Gz68FwNVGvbXJ8L1bd0ln0Xo6e4Lw42iR1hEGSJ4gPYpCk/uMTv01HsUAa1+k2voWGzzDHDQQY58wtOz4Xj3G72lmgfGP+e0WdRQd9X4I7FPQRG2tPfiuPfoNQq8V0gp8QRVttBLhkAunqL+PO+aNFECnEQFQHaBzuwIQD+FiAr2MD2WgrS8EuZDWeHu7+avs10hBAMOBluYfnpX2O7snLRA1o0G1x1sWoLVCmTNogouMc1h+nqO9S82hOaOyqs66McntBIyTKn1A2j1FkdQ8KGsNKsvzghoqt8asDoWV9zHmafFd4J2PKBr88+7K94OtH1zVNVIkDY3rUnGUbHCQd4HgPDmiLmam8QkTLQjQooifwdN6i5S8npxZl/ao+x7ra4F5Ab2956uxvbeyYFuMEWlxq3swQT/B2kp/Uxn1P+ynnuBz/qgeQaIGSNaGz7Vor2tscKAVywhC0n+TZCuAEbtxa8J++UEvbSOfMNJ3oZk0pyo/ZtgIEhyge2JP1fw5JYhuRRSIKBBR4PWhQLAS/Ijl0SSrJUQzbQC0mKZhhGtxZL54dsgK/Z2Il2XmoJkbplhxkP1gItVcipO1JGFyxo+xqCWRprM+wuSxMeTWqq09fuj7aFVhHlPXP2BJTGCwG3ItRg7JW4ktZQEUgwJbj2S3jkAUtZhd5dFGiFE7xZ5NM/gtjIwN4wD/GGf9B2hw6u0yjtDvvfu+S7flYB4yWEF1goledREzXwUIlKS/AaZPtuyFGAE5GvAVQ2onkCXCenVUPRa5PIBgfWka/6B5fFUwz4BJTlQi8cS0pogUWmBA5iRiYCUb9QWeBFg3/fD9uGAllKpjDWhSQdSzZj61zUj8iRI1OtlhmW2kraYIb6TCM3LCV/77HIOn4Es337iuW/yTDcmuANUSfiv4Aan+jZgZNQJUalm08wlC4AMAJLmVdi0w1aFNxMg6IyEgw34vLPztaIl6B9rtV5+8bydgxJsAkPKdKgJSxA7JF8v5AEogHyU4GvgO6kZZ5Jexgw/GBqBc+wdJ+6mPGDBlo0MngbFd/DZWVqHnRqM1sFLn1ZcgmEz5pLFSNL4bN2+7KeZZAlfIX0V+LUVoLO2Z0olhslLFh96GWRtFQTO5h5ZkE63pGgxoGlAirV2gAQvK6PT0OpcKVCqTMzOeKhcOHd4XQjBCw8iHrZlAKu/Q3/LXbtpDfBLSV69A82qYaTRKMMaqqcoKG0L+MMv05yrGUQ0BAGpgXOpqCFtPyP06IiwCTdSK0Degj5gjB1nFrLHdkvXRTwdbL1qB4B9FmEp/SmaBMJsqsgNYMa4wmUQeIBAGWqw29j+jHzgAyyIoWZm1DfyZYgQbqevss+rTZz3sexGGtiizTsJPB3RSn6M0aB2SmGU24X/RhC8O3RuwgBYO09qpafZQGn6Ef9MN+/abK3YMkK4NXy+8cQF/ujar9nZSMpSRmvgkQL9RDbVRby2mhLXMD7s5aIVflParkgBE2Xq7KnuniOoGM4qgZ2djEZNdwsuzGat8g7JxygSdY2jKfPyVzCTVtK559JTIkiNoaZUj+C0wVlkDm9oACCByWgFz5LH5AQD+OHQABu/JrBYfJCKULsxO2p1bo/bt14/so3fftrcI6z00NMB4oD+FnDwJl5IOMvDr3FfdOTRiK+gDKcafgOMaPmkP0aDNT05S9xZ7r2/ACjULaF1qETgxxkrv5fa2PaLoPOB4CX+jSsqU01gTcMAvsaGOSJUgMm0hcf7cBfslIdbPAT6lBf6KLR/yML9B8Bv6CfOnGN9thBjLRC+cJspgbyvzK6bDzYBJdHswyGhPFypsA9NbAb1dFR9aCWTlIGwwV0ijmqHqOTTIlQCuE3bxwkV789Jl62mrs73VGZ9fqKbPEwx1LACpP+9XkL/wk37LDHsXYER8EFvDwkEBOfYQWsj/Toy6o2HXHIUrEn51+JstQ4sVopwWSoFdKkhQc0YT8/njkQnbyBQwfUTDfHwAcMVGu2hxUZI7zaoB4tIAqU/l2NjcNdNoaZcR6mhjd7WngJZvbeDtxiXVW1cF9Ghkgbu8NEwCPzwT9C2+POdQ35CmKDgHf4PHY9aG1q351Ckr4B/nqYlw+vjTpT6muceBH3AUwBhHKFhBtL8CmmfNB9nVZVu9e8dyCGRqmZeqiR6ZkDCD+sh/V92RoPdBls/4q1Kpv2rJcaESF1gKrRZ6VVcjGGxkD8hMvU0u9+HHRxCkvUf4sqlPIVxkTGtdU6ll9kgrQ2PSctoFNfHkoz8RBSIKRBT4iVHgRwdaYf2fWjxYuBOY6CS0AOrgAdcIaGbVgqCZXAdmLzGBLWZo7dkTk4qBkOo5QhzvTY/ZDmZ6sEU4XpMWfhTyF9lFOr0DAxaDoVMEK4VVj2vWZjGOkZ7Sd/DCpN3JHkCtTXWYWnXayaFeG2HPE0U6WiCS1M3b93k+Ze+S/omTJ/w9FckPLx66DBhRYg9isrRhk/jWrAH+Mkgz40SwkxkKQl5nzLXYBCsoebOgasNbBYX45OOPkfKfIxLeNpsLr9rnX1yxm7du2wDluXzxDGUa5DkAJsBBUn3WRw79EdMlwKZlHPJwzw/omIR29USI62yNeQjimnp8itzMrfRM6RQUKPjhf9VIlEtmVtK4PXrwAEfwTRzEJ+ztty7ZJx++jb8HZkiAQEn6VQeUkDC0LIDkWYFfUpxyytZfEt2drXVndtrQrgycvoi2jWAegDOBn1hsnWoEmqTAeEZdjzSgTQwmPSdGmLxHHm/a7Dj7a137CodohXIuol1LEu1QwQlanf50HPJa9X3Qbty+aiNnoVtPL9oEtC3ca4CBlW9HG871e9iTDp44aecvnCf0edImKLtAnqSo4p3iMCTOVFMfsRHaZ2344W1CPgMAbqJ5mVq3MzCBYnHEKPnC7+CV0pfoEEiLxTSVGp06BW3GKTxIX6ZODtI8T+iIVvTEmXO2sLplD8bm7Nq1q/iEIP0leEITJoGehjMdai11rCwM4iLaGDaFFQMMSEoTWnqXPiGQmPJsA6ZO2pcCtCBb90upAIhXYEZZQPsrYEtFaHv1qaA/+FljRuOOdlIwgTjv6BltHJ5dXbDN0cdsHg4Ir8K3qrMfczQ0a5ha7aL5w6qUCKE4/6MVcq0S6cc8fW6UhB7SprS080wzG6/2tNpQfxcR7bqh8aQtwahe+fYqmpI8fooX2Ai419uFApbKSJkAqHu5TXyqFgmMMUsNkczTamn6V5pGzYgZZ1yITdP/hJhL3pHWoxIBSxdas1/96ldsxv0B5rBpxuAy4+9bu4U2Rxvlfvjum5jMdboZo8aE78MH3V3DSimkzXTphejsh9KH7kwxDYCtZkKNd6LZasNstw6TPWkiF9E6Xb92nXzuAQrqAFgn2F+uH62c/HtC2ofpHT7rPh/nQGlX2k2BSHYw7VrcQhOfmbVBAPQbb76FRm3IRhb+gDZcWjdpbuku9I9hmOfPviZ65rVhuzeftprLMOSkGQb4ENAWEKhFe9lBCPcLCJt6u3uJArrpdZO5r3q1NiFOMaYUwOHhw3G7zefhta/tv//NJwSZOYvmW348zCW0SirGthd8KmCeZRrp1gECGUpIrQNyUvj26Wl8MwGGA4Nn7J03L9mpgWMASQIYsecVTer9RgFEAhoo3p4+lBeBzt4uATdov6tXvmEj9Fn25VrF327M+ooD1j8/5EC0qQvoB6CRn1Yui0ZzecZNt2/cfWD3Hz+2Pvqgoohqw3XNt60I7erow5UNld5OFy5ccMHYLmBZJoACW0HTkyYCDM1bD+7fI98HmMPety+vfOsbuKue7v9JyaURZ9YotfX+207TYKTqb3BorD7r0C0UTcG6Fr6ghyFUHI18DFNAws0yNbK+Cpl6qnRO9R99NA6khtU6wnj0sSnNIfXIINTaQui4OTnBXolsA4C2MY5/cIH5fAmtXo7n5X+s7UaedRwouiqi+a40vZSmS3wzpZUV4MIUlG0jmqvWmWaC9dnT5UEFiqngWiVaajfjpv+ougfSf1YhousRBSIKRBR4DSmgVexHPTQhitUJDjFZWh2QLSPVUsQ8l2hq6uR/TCuSGD4976/oIiCL53yBlZlVASYOX5at0Uc2d/1btEJsqokkdncbEw92lt/VJo5I3WsIk9tFlCgEqc44aPkSA+2Hn1Uq2drLDAsbesStMlGStuV4L0w6YbpHR6fRFhAyG6Dm5Sm9rkXDZ3slxqK9hw/C8soc4bbv4FANQwJzJ5OUzY0dD9mbwMm6iDalmgh8jUjdpQmKI92vami1cxfftIFTWbRaO0QLmyUk8LgzmZPThFlmbyGFJ+/HjHHgeJ8dx7fJA0IEtVDm0JITdfTFnJ9hFfU7zYaolWjvOvE960S6mYUBj8PseDV40Gmil/nvh1ZAFuaiTMsASgQrxH8HB3H2hJmaXrYlmOquSva1oh1kIlPNQp0UZ+lsgkE/opcBwjx9aUYwPyng91BV3UgIdHxdFIGQBsmjkXITQGik0hRYuAueDuWHWSlAz9X5Tbu28zkbEa8QcvqRraOpqms5aYPQjExtHPq8sXUC8y5FTIORi8Ni0xYZzGbGJyYtg+/dHPTUszJJrWPDy3b2Zxo6fd7Owwh2E0p4HWd3gd6imA6AhA61m0xlREdJjNdgvKZIb2p6zjUD1QBW+VuIOdFDqqsY06DfcvbKKyXqpkbg2L/kv0Ts0pXwhtLx+qMRwY+lGjOeGJHctEHoJIFBNoiOGB4xmcLBHMncZxWwMzE1jjnmJrRlvyC0U+v4Pi7RbyCEYv17sIMagR3yVDFVohz0KNBWMeoRV99WW+mm0lbx9Am/CGTpbbikGP42MinKrKA1HHlki5ip7Wym8etoAuzBFGHytQvzH8fPowEztIamFhj9UgeFJfZ6l9qZDsBvmCjGioJtJNEAVaY6ramlFhPafkzOljAhWyZwiYKsiEMLD0m2xTiSGm23vonGdWmG4AsKWFCJ5pN98mDal9eX6L+0PcE+pG2WaW9K0Sigg+aBCurfSDTCt99rsLNspr1OBMTH+MaNTyEsQZo/OjpmGyvsAwXQGsDcceB4P2MInz4HQzQcNBI410+SC8ahF4pb3BNvm2OfoGa0BL09KQLD0G/Je5utGqYnFxnrK9bUP+QRMbUPmjQoStPTUjovc5Cv9rxbwFR5lP2nOqrS9vG779HHL9DnCfBjbAsB7VJoikAibJewYqPDDxGcjLmpZDOaL4XFpxp8vNEd9Ej74/47gJwkbZ5Ea1qRQagiRpwCCigJOPAUv3mGSSi9m8NMecHG2NC2s5s9vmg37esWY1uGCpj3ZExmtwr2QEhy0pCv4X4/oz3zzDm7BDVKMr9UEyVUjLwEIQ6SoYUPJfKiBN4XHbBRvgJapJVFAhwtTNvS3B20ojcR0JBnRbOdvHwaTWyKem9jurlKIJ5W5jaZLcvni6AXSfJLsp1GepvtEObQbrEVBwK2HbTI8kFMQJheAH7P8VOEZL+Evyxm04DaYmHN2ziOYCloL/oy/TnGOJqbmmJbCTb2xc9UgUkqGWPaqkEdRN1EfVa1CA5mGL769OEXQpAV3i895m/qmh4OTnopMHsO+rP6lh9aWwnYE2N9oQdSLMqmTPxFLwHfOavg0NMBtsak2p92SrN5+NLD+7bI3lVp9ibbJerkKhYFht/XFunkaxvZ+LkXgNTn2Wm+1OFBZjgHv56cg2wpo6YBsty/r+y5JEGhxmgNY/X8GYSKbE6sgDiyFMm5NnIPIUW9dfViTsyckkSKEabB69ERUSCiQESBnxwFxA396IcmVKZa/mq25btmXRgASf6dSdVFzZ5ivrTq6Ice94sUSYuyDiSX28tsyAmTt3L7ms1d+RK7bWmPWBiReKXxWdlGY9V8fAB/osu+WWsChkCLiBYc7UekjYo3kc7uEpbX/YmULnmFoEPZZtBESfqcqmrC2kn+JnKGLhVJz1NOhfhWOls7S7a+NWvzK5gBwtw1YTYoM6QVGL6ZmRl7UPfAGmFmcZPGyb8Xxgq/iRJwTKRq0bIQKpdFT5t9KvpeR2cbGxTPuynjJAv2nbv3cdSfc3MfNy9raXZAo2ppDc3im7EBqFjHXEX+VFo483kk50vs8bJI0ITGKvzE6nB4R9tHJZy8Ttugzk5qVU6H7pNoBdxjHXvHtKJNgRS2vcW+VkRo3MZPR5qqzXUxi7MeqnuWzZQViY+WpM5rSHkDJlg0isGwpWH2F5GEJgGtrak0Zmv4QqDxmOG9CeoXBxQrNLOHKfZUAun20hyhpWeXYdLwN0ivOLNdhZS9BhNR2DXovYL2BpMx8lFo6irCpCUdRBYJcrBtC5j7rGASltaG0tShDzB+5tx5e/f9D9mstRvJLZqAtXloSN4iDG0g2ng/dSLxEozkHr48GwQp0ebA5OAMuqLDBYBHTI5TrtRtRUh9+EsaAlouSPB0/XJ4N8jHL5GAJ0KDOoAQk4FZFQB3i3ZNExY7D1gV46s+tw2jt7VDRMnNOUK7T+Dbsw0zz2a4mDQ9XAeYTY0B6vesFQavhnEmX0PtaeVeZGhC5KWVBVBl0cRWCVy61kp15ZC2YL+TBPX3Mevjj/oQGn9zccbWHj2w1Zu3bI3PTpbyYx4bqxmzXUBTrjpp7SdOYr4Gsyw6OYcV0EIBBlbpI9pIWOH3FQxGFH9yiBYw7fRj9YcqtBuKsihNUviUTEm38W3c3lnhQxRD6rwE4NS+dMdhilfTmAISkObOg5u2utCKJiXJXmLdmPAKZFFdtYDoTd1TNWydgLkl0MH3oGoGjPf2HKNvzsJXTqJhGSNC3zx7wS3BvAebQ7ci3U8C3GRaqfHnm3mzh5X6XA6mUfXZ3a2AYWcftN0aNNONaKXRDrUBzjkYPgiF8rQbGx0nGnlcGkO1jt7UKApr6o8/+w91kAY1iwn1JtEcFZK8faDHBk9dsI5uTLHY2LuQ22IWI6Ic+s0YICcNIJeJ3yqRLRUOvwFNfoMYW2hc6gH0PUAPYHmTPc52xkfZuPcuQo4Vfm+h6R/xerp5MGUtMO5q8dmpR9O5S/ANhetfJnjGBmNem3jnM+s2Pz3OPDHM3nMIP4gst5ytY1/ALFojNHheVdGM3AW2UBGtMbeMj89YE/uT7TKnJpi7FyfHbRzgu8p7HYwBHZrXKQFmxNtomSZscRWz4YUawtHjc4hwgOWAgEItWBjsMj8DMteInIcmUz0ggfY3mSzQP3OAfAnK2GgZMKHIpNoofX19lXk1R9CGLjt99hxavbewOhiiiHoeIQVFFjiNS/DnYzeog9ayTUw4NwEnWltqiGIr/zeZoap1dQANvZ193PnYKA25sAEon8q4fwSvBT+57HdKtzUq/Lb+lJ7zeUm00djCHNqz0HzmcxoPeXnD1KGHNwKUJIR7Zn3Olu5dt9kb123pwWOLQdM1tjvI1w5bmj6yiklf+6lzCETYwBnhwCTCJwHmJrTiGhdV0pDtFzCEyAGY0jq9jiBIofIVtTGWBxCS3sgom5gTMKmnPWmXLmDy2CRzdDTTrDXrRLjVnna1CHL6j/ewNiLkA/i/9BgJqxmdIwpEFIgo8BpR4EcHWuEaEKwNmuhVW51ZJkoLhtefhcCZIC0IfkM39eE5nlVAgwL24ivDD2z++je2fvu65SZGYDSQiMFMZAFYm/K1QePRii+JnKSTSNadgyEdMb27Ozv2AEndvbt3bYqNO/XbpbnKiTzFhkqwLH+pfAyJbF0X0rWT+AMBDli3UHz5IYl6GiZvZPi+PR5n42PCaheTmCESDrmzrx+N1Da72Y/ZvfuPcShetGP4i5zoPY6kfggJshY/Lfgc4tR08FMh37vYT0Sfc9snbHZhyR6w2D14+BCN0qLduvsAnqza/Va62mE+WTDFl6+zj8y9O5N26/Zj8t0h7SpAWy2LWSMmF2yk+267nT5Rg/mSNAcsUc40y0chJD7piGnzn5wpmySI0oC1EWlqbHrNYmgLC/hxpPAjipHp7PSkXfnqG/vD77/2fZzi+M/FMbGcxwlfTItrP9S+/Mtgynmf0OPf3CXs/Rcxa68QE4KWDPA2OofWAft/7VsVaBvZxFXSTKTb0hLWE+nweN8pBK3dMI5LtgKDXsioHGIMCdcNw6v6qF4pmB6BRPlPVANgFaWyhnosz7PPEICshn7xERuKnkBbIuZwG4ZMPIbCO6vy6h9ioFwDI5sc+oL6n4d/JziHTNjWYQKzCfZA4x1vR/XlkIx89YP+K4m/wkdLpuzd/amHgtcOvy4eSBJ3aSl2kYijesLfKtj8V2ZfW5hSDg/fs5FxxgBhkYuAVm0I28++VZvUewWtxvDoQ8KnE8GPCJyn+wetq8jeUUqXsri5E+2ShWZZALlMN6V9LcJ4qqTSGhdhECEkv/mgIfSXRSMY+gKAZuH+dZvDpHHr9j1LTM0AxBOWLqYsDWDYJclKytJG5MyU+hRMEQ3k6WkD7FUc9K9du0a/vucbXSsIATeVtZ80EEQ72Fkr0oYNrcfsMlEqjxNGv0RIosBton2YsNGJR/Zo9B77rxWsvbPBg85Ut/TZ3FoOGo3D4I8RZbOZEOVEbWxsdfPFsKnc/wwmT79d0EP7V8FIDhxHe8VnY2OAzWUHCdLRao8ePkYbsgQTfos5oOgmtM1N9DsNWn4vzBG19PawPXwwhkCCkN95TBez9cwfHdaABvby5XY7c5p9lur9DUzhALiYFScS1baJFigrc2b1GcqifrhfUf1+0cFcon5Yi1lXv/r3hx/Z8UGitqEVXYHhZ0qhP2OuJ2DB+JDflTQCEobsMi5TaA3k/9bEOAsAsZpK8yBgUHMlbbwDMNNGtRm0Tfdo76KCJlBezSAVWAFog936iRX8s9YB3fQRAGyBfqQtK9YXx+0m5oTXvv3cxtD07FQQITLZheaxwwZ6uqEBfUSZ8dFZJs8TmCnfu/fQHt2IWwc0w+XUtldXES6gfeo4bgOaX9Ry9FGF5sehCJrvMI73rKd70KqHBpiPNxgf2za/vOB7yTUQjEgbF+sQEEkwNrXHoaLaZZhnNjYxBUw1Wj1bdAikrSCMq8Jv6a23+zwCqTSatWjGtrcxwWTSEM0rmBOCwpOod6yg7aR9VdAMAV8edo2xgvI4UXkwEC4IbFEe2luaOfkt6qPvTo8gQS/v8/44HfxZ5e2F8Dw1jrxfy/dOd7Smhof3sVLRVS6Ookx90YSvPbht89e+4nzfcphdxzCnzaLR36INtqhXBuDYxTYcGda0BwD5335zG8FXjb317lv27jtvWyVCxqCivFD6pmJl0uzvOLeNKf4jewxg3t5EIJjDvDFTbdv5/5+9N+1yI0nP9h4sBdS+s6rI4r6Tze5mT8+o5Rn5+JXPsb/ol/irf5yPjnX0wbYsWXo1mumd3SSbSzf3ncXasfi+IzKQCRRQAKoAFpY7qxKZGXtcuTzxxDqJFrJT9sWnq5ihN4uWZ7aSluEH3cTv38c37QW6Xy6jEgVdC+dwz8Cf323myMfiotKPCIiACPQNgY4rWiHnlY9i4ptf9aWEhOFfRWA4j3DshASPqOWGIJ9DLe743KwVLl60Err1lDmJASfLQOGsxPFcmGp39DwKG2j5Ye2sC5NfZpyx3jgH4cKa9jwK4tsoXNMmEkc4x/KkEMCcoatQxgQAsHQ7ZCLLmn6jooRWNM50ld9CrTgUEyxMOoEByNevfYbppKHoTa+hdSXvhHMWU1ivYB2rc5huex6LFWcooLm5iH2gLNYSi08HZmZCDfGZ1RVbQSHmyuWLdg9dyDghRZqta64rF0Upc8zCCdYhyiyjUIW85aA4Iu05uJnGWicXzmOc1+d5zIqFKdpR0KIfFqg4ysIJfEp1/hMv7fgH5WUW6zZdunIFNd/vbO4BWqzGl7Ge0GU342A2i0INCipzmNL98qWLmEEK3VPQvTODVi12I7p67ToKbgtgYyhwL2Nc1mdWmML4szfoAlJ6h9SxiIbCMfolzp447cJYQkveGAvlMD9+YhXduf7Gls5et4UTF9AiswTB/BpTs9+xr39+iALRLGaOXLTrlzE9NtYlY8GG612tHF+1Tz/9HDM9PsZEJot29sRJdH8s26OX77B+2JJdRPovXTpv4ygcukkkEN8KlIKbn99At8JVzBaH6SN4TxwTT4NUFjGRx2VM8rCJ9dYmsTbS1MJJ48K441jPiJv34p9cd4GuWMsnjtsXN28aKmpRyEdrU/zwOD/hh7Fw80cWcPE8cgEjDEiHJzer2cw0ulKxNQZhZbIoMI9hx2wWmE7CxnAPzl3EeBiMldjCJAColLZ7v73AuJ2MLc9hYdQLeOaWsXYRn3W0OLCLZhHPBsdYsGXLxY17RkWMm8s6zp3iTXua8/3DA8L1yTipwxJajmaWFzDc8bKV0YJUTrF1h93BoBxhEonMIta2gvI3sYDxXygMe6bID7p3UnHLoOsou6PlUBGShft48ww5OckOaj9KsOM4QGDAxjfEj+XMwn8eXdlGJ7AANhbtncN++vSqW6cpnZ+yLz/bhVIzje5/79HSgmnDz1zE87LsFpxmUKRMRRk/Pm/IvFPyIwaMZxJjO8+fO42175bxTN3E+lJP0RL3AYo7lHtWKvhEERQUmWnk44SraS/kOaYENfJQaMY57vPSGJaLQAvfAhRv3mSwHMWYt0m0ckyyGyO48p5XNrqppKNi2vgE3y/OkJg9dtHKaH3/3dWzePeYxjTGZI5D8foKLXl5rHW3hMoILEOxCOX7+qeYmRHfhyfvMa71FCa6uIhxnEtQNKGVgQ6P5zBz65/gdw7KOifb4Ix+eVRaXMPMhEtnzuE9uoTurejah2Xmrly7ZOuYvXUELc3b4Hr58mWsFcbFZ1F4z2DRXowvPXP2Cr6Pp2w9M2u7o8v4LmCiE/jDq4jnA5mGgjGB5/zGNXxzSnPoBoj173beYqKLDdx/tMrjO3JsdMIWEM4pdCGbhLLH7r3UJJn/SbzvbvHly5cQVNa4Dt+3t+5iso9NOzG5aBcvX3G9Cfh8c2N3Wa7ddfbcJbt5c8sW35Sx1teqXbt0zj65fME2MLkHOX711Vf4jnD2Sb7rvhv26kk836jAG0F6kGz3zrhA+RyBE78VW/hWjEw/t+WdjF25dAFLSqBnhPsGQDVCst2THl0znmvXrtoi3tNlzBSZh3ygAuUrnvhAYHPpjs6jSxqlnWzk8xNXnHlXfK4YEVw5v/yBmY/cuY/fKdphQifsU+g6eBaVayeRnvI5vN9srcZ3gBVQJbZW4Xszdu6s7eD9uvcW3xsqaO/RuwCzU/KejaO7J58ffu94WxknKzVYKZhDBeBI5iTyh9ku8Z6koViW8Uwex7fk4rVJtBxmbA6KNbuncs29NSh4d1DJOD01aaevX8TyA2eckhXuocsWo9AmAiIgAn1GoGuKFr/7VVudL6V34uvpvDWFA31FNvg455ePQ8iNWunMeQhjTkcLl6iddrXz7Js+jskvoPRkUPh0BSrWzkNSUAnIo0XmLJSwObR4fQJhusMa0bBFQosf+hJaxgpYBBRqF6ZhnkZBhfNnIRVIhhdgmEEL4w84nfskC7koR46gBn4BBXrWTOYwPiKPtKyiZj9dwuyDGHcwg+4PoxhHg3KLE1wsX0Wy1uWOOSwiAuTEFT5yUPi46CrXj+HiuafQwsEWh5lpdJNkINgodCag6J07h5kOZ/LoSofCKApZFG4cdza/gOL4LJQsdMNh2ZAs/Yx59O9r9JmjEJY/gcKGEtTSydP2tyikXfucYXKdq1nUlGNMDxTeY8jX777EmlcXrqOlB1xQeMxgTABrZFcwjmUK41LSmR0bxUDqz3+3ZCuXU1hLB4U4dF/Kl/2sfQUqjGA1hznp2fWE3RXZwje1dMKugOUp9Pcbm8HU5Zg6fnt7Ee6O2enLn6PGHFM6owZ/EbNCsgsLGXLGydUzF+yP6Ab26e92UXM/jq5JeA7A4QOeEWQItaIY+4QCMFUMFjjY4sRFaT/B4qRpxDc+xpZTEOCNgD+HBenhdO8Xr1y1uSUogGiBSKOb3OLiAhbFZYEIGz0F97wE9yUUmkbQzRGd41BDC2UQbpxbuq/ZGF28USFBgQ7pdFP7o3vOFhSkbXQrZU06x8CdwiQfk2iBWEM32DIKe0uoRZ7EWJZJTNX9GcafnTnBacLTTjmbQysHCz9u8gEXiU+FK4a5zAI5k4/0V9KHk3DOFjC4QBb9w5pGV74xKLQ5rGNUPo9WALT0suub7/6GI1o1U5jxMINKjgwKZb6wyNCoYGHRa6T1kxs38N6cRosJ/JObA0A3PlbXIoDouPhxFvdxEcslzM+jH1j0lnASC05SkBmDQnsSi3BTacGEBexWWgCjK2jBWpk7AW6Yaw/PyiJq4efxLHDiFkbFQiNz62IkAx+tP/JbAWWQrPNYEDqPdae4QDqXNthAetk1agwKks8XnMLvwmIWE6ssoMvhOFpm8UnC7J5lxJWbREXCIp4xrK1FhYLjd0qopV9HN9R1LP7Lxdqn0M3StzIjXjDyG1MZEhUZ7TnAHt+CFGZQPX/xks2fxUxtmBlyBZMKsJWGHyq2Sv8B47VYyJ3iWnBQAjJ4586cu4ixoUv4/qFlCN/K06i0oCLBO833L4Nv5EkoWqOw++TG5y6PBOdmCUSceYwxXcY3cRTPaBa8Tp3CbJOTaIX/FB16UZmzePwEurKO2ihbmvEtuImuupeuf2HbmIRmN4slOlDgZne6BXR3HeE7z48qKsjGZ4/BHdJy8iq6hKJlDGPKMOWdUxDdmlj4vuQwpmwC34FJtC4ZFgZO4f6cv/YJFnBmSxMrl9Ayh3xOzS9jllMogFh/KYtKikn4W8BzxBZJtrNTVoxirNEpKFr/yyQm+thC5VkOlTWYGGl745wb/8hW8+NI/ziO7jVAXkfwLJw4gSUrFhE3lAROruI3hgmC+BidOAV2WD7k4g2MOYPSvYKxoPP8vuGb7Ri79y5yD88cy3b5ymU7je/UBNLIOOguhBxFsOfAbxiVdD7VlEleavIt4TkDiEJwB5ryweezxZ0VjHzmcE7+rAAZR8UGemRkMc4RGhTqNREyPp2cQAqZBWs8I6g84KQYG+j6N7mDdQjxHWK3by7wzrw7dwg5ltmMC595PP/z8zn77NNFdMHEMwBZQJmNaVGwPh9k1DyUabwn+ESg++2GPX2C3g8//oSxts9t9dTnGLt10k6u4DvGvMArQw3ZY/jaREAERKCfCHRH0fLf25hDJANqjXkdzGKBgY8qDfFlTaHAnFlYsQxajdiVsIzCpttcQRciFB98DgJ2sxOyhpYSiyUrFiThn0KMNYeLaAnjRm+VjQLHCR+29nAmOrSQwQGn7nUKUcUhTmA/goLt/PwJm5ln0R1undhArT6sOdB+HIWA4/PHIXag/MGerWlBgDIquuMWju6cF15KeQukbwwFyyUIe64zg3KQE1pOz4JbCptRTJO7spJHLTFaFnANmYgf/kO5wt0EJlcGgBFO4MlFSB5s2XKGMIetC895jGp80VKAAio6CCFeCF34ZWsCqiNRoMH6PbPLdgpdUzghALvvsUsOg2E8GKmDqOAeE4msohC8hFYPTuPOrnR+YU62abFAitbIkAR3xgIq+vtjgMUCxxeg8Ij+QSjUIT7UeJ84w5YTzlrGWnZ/e5nwLJ6LmYUcasUX3P3nVP5UbhgkFQk+Jcwr+XNjUSSNgtI48jeGyTSKYMF0MO3x5nMyAmVnEYW1BUykUYYiEQ3DcQoz3To/jCsRgiv4o9ab5ZQR5DHES/f1Nh83f/0+M8M12U7a/N239uzlK/v18VMUfrFwNZTpublFzNK3YNvI4w4qBHK4Lyhmo4Z4BFNrY12fBVy5blK8L7BnXl2OmX8UNHFf3DFKSEh5nC6fBj5L7nliDsHH3V+0EGWWEB4Ksu5h5MOF++qVLWoTGG+E6cJTLJxyd1wYMidSgMKCAvI47i10RZdVr2gxBWFjmtGujCSQcwkvHrvyZl3XRv+05vCOT2P68Ak8V6w94Lx2vJ+03UElwDLGFS5hinW+j0wbJ2sJXTiZs7pbMgn+jsKZK5pC2UKLVA6t45zLAt+SbJQnhsXTKcQ1MTluZShaLLRSryd+ZBf3BO8g3HBszza6PL598hiLUd9DF9+3TpG+hEWp2e3Pf19ciHWTt9cQnFC5gZcFreRQJMCdrZT4AmACB/9NzONbdxJKMfPhN5/JObT4T2H6e6jumDADbGDsPvpIO53y+zmD52tqet7OIL9uJk3YMZQS3nH2EXBdEfl0Y1HxGVR4TM3l7QyeNZTN3bvGMZOc8TKPuCZmj8OnfzaM3Zp5r2DHd4K7h4XWDlRcLKyg0H08ulvsq42uja7bHfwweSW8S2xkwScZ3xfcX1SQzC9RCUdI7mGlBbpIQolaxoQN/H676cjhIigidMtJmLKYkGgG3+jJRaSpxDcIraQEUV5kr0SXXy5M7MdYggOeI7YUTkPRdKEhHgxzQ7jc/DewjO/S9DzYoTX5JHjsIo3ssgmvzp1zywu3eZ+sVDkGJYZ8i3iXOc07XXi33o2/ogsXE2PDH4HguUIXz1ecOIbdOqGcTuN+uEmJoHD6jf6SO98UH5Y7EiyiSaHyMruCKdxRQeLGrIJdGQpVRdGCPE2jFZlz6acxdiv1DIsYIyQu5j0NZXEK7yMr9+J3HpYMF4cMGExOYRkKtLKeKGMtPr7gSAYVK6c9kQ/zjvxwUqnbmLDlpzsP8HzOoDLvius2OD0ZuMGPNhEQARHoYwJO5nY1/ZHs4Keen/yw8Tq50ZlTtpx7Cit8ldlihQIGx+K4GQopsfGBdgKDpR4IOo45YcmFBQRICf8hdwVPHzoFZtjoxW3h6AQQU4XChBPe3poynJs/8BeFHApsFG0gWtwfi690Qd8QrzjzGwuBSZ80ZRK8a+/GmeGHCoRzyyxFAfDUZYlCiXu0uXIFrpkHtgZBb3CFEbpPROkUMx8WaSI1kdbo00XXEQ8XH8+RAwpfekJhwRUwXGLpAOYoSHNj8Z01usy/j9AZ+x/yZqE7h9nzoGj6OtrgymeCvy6tlSPDYSZYEOLBF3IYv6s9RkgcPxX8+Ij469NKpWKEynUyPQiHSadpeNa4HgtvgCuooHBK93TDzeWEP+4Mpqgld1dIUHBVeWYiV86Bd1XJEAsbnA6c4SbT64KOPVSdxe7QrRKtDJ/cuIZFPNfQJeeZfY3poufQivPlzSso7OGegA3aE6BEsBski4hUOPjUcaUsMEL84f4yh0wHd3LgukMjuL8050aFOFJ3cYVUuPcJhyixvuCEC9xPtvyVUcHAAl4ZrZMsCOPmwBtDxzF6XpBI99C6582xpB32aPNhkym2OOPeFoakTtf+TYRX59LTdPcZDFyZ2Hn3eeUdZQGcKnycY/r1Ybm4cM64ee6uQ9zh6CjFn0AyZKyeCXzggrF55/6a53yf3Q5bNFLRkXPr7HC6tb2Bad1/w3ilP2OdsL/aB4wz4vICX/0PN9GtEK0d1Ca5JRh5g3q/Uah8v/gu4xnFE+HS5d6OcOPCA8/EMD00dx8Nr7zymxKc0NrZ877x3Ue4/BZFqYId4yRb/31jbHzz2RIFbQfvJSs2XJbdfePTmEb6LIO+hS4UxsDQ0FqL38rD5bIC3mU8U0wNwnHvO52wFO6eK5c6lwXGwStvgjueZldqGPAn5BvhuPfP3xCXx5BP8kEVDdxXcoYzVAAhYCaF7wEL/C4TkZtKsE4I+CfRRQf3TuHD0cePu8CH1l2BHeKPnyRvzl+mgDx9HhBXlE5eh2+pf6K9i9gnzlximG/eQ1T2IRvvMbnMD9/9gHczi9bFFfsSy3CwJS47isS4IJBmRuNyyFxyj7ZK3CADeZlCt2DOWMhngI+Bf0AQCOUsDDjmMoVISzmMoUWIO5hJdxE9Oo6hhwi7kjulMgRfAYf4A27YueeEP9johM7ZfZTjnrcLm/Yzxj3/ePu2vd0o2Lnrf4veBJ9gog10DYU73kc+t943LrSJgAiIQB8SqCcbOpeNxBeSH9jwTU5G4J3UseXX2n2wKWjoGS4pDejB7TyPBCWtnPBkYQGO3RcdhnSXjJTnNKtsvIikZdJdxT6cMAEhMF8g8c59YPx1ScWR5iEomnsXsVnSDtaxReQwuHd20U8wcwVZ5o3/DMifelfBkTvSZShueDFOUe//fJoiZ7jgGXcEWJGQPkj3i1YUZ50wcm5DRoK58+tLnS7sYJ44BvMotogV71fkiJliMhxNGLpz9wMHFUc154kIQjA48q7CZ7TTry96+DNcOhN/5C/5UAWJXdJ3fF/dRfQTwnXoeAFPIVweIyNnlvRXfR77YKHlk08mUBs/af/3v/4bZnvk1P+/YQHXa+iGhsoGOGX6mDoWFHkfvUkorPk4g5m/zyiAoqrejYnBkeMXuTGXlcHyDCaxxZc4Y6So5HCKF8eQuWIku97ifcTO9AQ67n45GOEtgJXHh5MGWxyZcxCHxjQmLRmf32ju75O/lzStdsvrFrdwk1wlQZxcHzJjicfBhHz6d6VO+FGk/oBWLkwf/vrFM0wffxfzm+Tsi6++tOtf/clOXsLi0mhZQS9hbExASESdMJNG7gFgQdrzZRqpJFRoV7FmKrhHtiFtcMPybnTpQ3f+qkyiWL0Zf+M4eEZx4U1oF+y9a5oHrdObwABbSFzCzOUD7pGvhCncVl/Ra5xm2Dl/PCaCjVPoovJlen7/wkbYTBtNuDNO176eiI0BRt/LSMGqSksUGF3558Of1T4PNOVGMcVWIvYKqISLliufW58GuqP7QDNJguNp+Y76STVK0ZqAi3bj82v2ARMHPXv2wt79y79hbNy8G+c1i1Y3tmq5V9A1z4UEhxiia+bfJRLPNx1TU3RW/q1impgipp+bUySR7im0qn/65bydu/IZWgbROogxxRx36SaMcuF59wzc4Ysu3b1AWAyOuhvXIXOKLb4npRLGfO2s2Z27t9EVcdT+7n/6E8a7fYqu8hgPh3eEwfLOVQUfhauDCIiACPQTge4oWtHXMfpeV3jUfjR5nTTj594LMlpEH39IIj9NL0+8BydQnBDz7vDrwvHx1YTKy2RCwnkyYgYQtkbmkb0Prlpk0sx7ixKYcFsbXO11iDbkjddVbqqDjDMKR85d0j4y8MUMH0rIbgiXpmGnWZVk9AbVCXCwnUM6xh759sE7HxWz6pRHdvUP9O7TFp3xfrOQkCw4Oa9VEcGk9to5qvvjQ+ZzFLb4jCZJNt5FsPc+nYtkySFYJ0L0p96C6kcythBrODK+sAcfqFp2XZRmZ3NY+PU8xt6NYwxgAV20ZtBqyWIYnjV44m2I00vzZGEyvgOBD91yfB7Tx/OKcsUQXeQ+BcE9jGs22mOnY/fPULxZaM3lVTBz9y04CcbOvvUfH17SvY8vacLzpOleP7FrJqfu5kqS1T6rr5KsGUIiY3Dow/Vmzl9k5kxQU8/uYatYh+u//c//K7pEZjHxAmZQw9ThnMmOrSJpPOcseLrurnUTWMcwRBRZucuKM58if0mbatvgLHwyw7U7Jp36LNWxDmH655EOkjHGHmjPLbj3V941fCTjclaJt8UFmHTgzysmPOG7GDIRLOokZO/XmZHRod9jrzyjax6jgNyLFlxExtFlRTbBuE5mnKn7SaQpHg+JQPyLF7tzoSTiqrLBRfT+TmO86Q20XP1v//siZnrEEhro4cGKxXEsyXH69GmM7UV3aGg9rmsew0A8QQ33ny/P2ceExAWGzHNIU8WM3xt/H8vsEo4/TgaTn/Dj3Ph5Zva4V7wwzmhjHC5OBk2zkL1wZK8TLKjNsdGj6KL9N3/4H+E+j275q+jCiunckS+vLHuvFW9R+DqIgAiIQL8R6I6iBQr8EIctnNd+NHlda+b80NAJGe/T1YLxNOHBz5RG13EIoaMLTSvGIXJnmPgJ5rH3hOX+py55cBK8+iMDDAUHbxLsGVrynNfNNuc+SmNcLoxCaRhYyFR16DSt64WGFS/JsIMhzaocJQKO3FdMKJwbxhS5Stjj1JVpIht2aQsbKVZCr5wE2/aOceFob0BxjD6XjNW7CjbhWM9vcJtMD91Xm9NnCCV2yVTRhnW23jaLZo5FLN47PX8FLVtgidIGbdkQxUuyCqlIhhfOg12Iw3UBRddKTiTDmS+T+qIPKfLhClohlMh35TKEiqOv3nbpDk85w3G5de4jtzwP3urkPKQv4Sg2qjqrBAJTn6CqoJ1bb+5d+nMfhL/ryRCcOQ2o4bhtb2i0DrY+fSGn8VPk/YbWYriPCqr050NEdzm0LhzDJD6Lx86gQIzxVCi4cuwgC5B8S3wbHWNrf4vTF/mt3NgaG5+YOIIaa2dRmwRXcq41pEuahd35DJmN8hyZVW58vTCYgGQi6rmpDSfy4pzCb8VLIhxnVrEIAcBprRmvQxqCf96N8KwEexzDKUPjeWWjv4RBCKZiFNnj2hm5ZwMp4XV0XuW/OrRKLHTj0+8j4Ppyq2dmbfXsebc8gBuDijA5ftArJXDnWrIYoP+2uCcXbnwI/telycXir5OaUmQCW1QXMQwYeDJ41l1LIs19EnkgOZ9Jb+Z+GUiIJOGWds49fxAwR1Rywp4MxvBdu4IJj9BSyg7RfKsqYdOTNhEQAREYAAJdU7SSbMK3N2nGc2/Or7P/zNd15wzxk7AMH3wXXuLjnhSuCWPv10fhvNT9Yfj7uql2kEjOnuD2s9vjOBjU8xRF6ayQtjjfIaGw2eMvFA59wHRJJ3uc7RdvxTV8hQCC+4bHhjE09BEsKj55gvjcdXQe3Bz0GMIOxPYLJ7itdhN8xrbhbC+a+AlM2tF98tqHH9q/2N0qxFFAtzIqRagyoBF2tkRxQWMYJcD4EPxv8Js0K5fu6gAAQABJREFUgwqHMWOclW3l+ApaydA6xvE4bgupqXZfuaoXnIuc/pnmOLXhqXLWDICWAQ6vK/lyF3V+qhzXsQ9G1Wn2BcBgx2My0T7MhiGHoBo6SIbriofOwDnHj29HDBSYEqpN8X33WjFYQblKo6WBmytf4hjwsNDdUvTON3+8a5/LZF4jKxcw3SR3+uvkFlLscxHueTD1MVVf7Y09pH0/d3XsfKk/EVwdNwnbcLrXleceUhG40n2Uq+C1zjH2lfRX70Y6NgEQHPjT+FmqE3iVke/WR/d85xAvxuVxBlpuYTZDygL3XME6hQuOEfNpiXJNZkyyu/RvDC/jjVfBJGnvvz387oxwhhdMo+JiQvjOB34YbyV7OG+0Bf480g/TwnRGVUgwYDdodhP0VQ+MiRvjCX6dgX5EQAREoI8JdE3ROviHMvjEEf3DK7IgQKZxOOexwUXFmCeNvtywa2SVjCI+d+LCXdJfcvPqTRxaJf6ko3rnwWFtgHRLu2BfdZowpLvKFsyrla1gWnG270nCdSVNCbPaRFWFlXRXZRFdJOyjUy+wWQAiW0SYlOAJ51WhhXQ1sq9yTEeBB4vJsaf4rApzle+EhlNlnvQbW8SmtWfxNePyV77A4TPDbHOmP06xThN3TWc4iQ5xNJU8OJfO3IcYnHCx2jG7dPEyWskwhTZmCJvClOX+aacbRhbc+iPLZdwqxpV+QRUTZxu/Ac559Y9zGgVUbRNdxemta72PYcwsdhQrPd4smdLYVeLMJQ2ugsNwrDjh05FIv7PnT+zQp8MXgHke2/hA3D3lPeO6T1F2QwjRZSW21k5qY2BqatLIh8WlZK/bShy0Snjbk3DncD//tIvufuSM6YifhxA4LRuFQ27JLfbtvIQgkk547vJXa3jYa5/GRimtZCGkqcJ4v3jj0EJXXf9e4XmIrfYJIHZEf/6bSBENTlFrI1uw6IrJqhxploiA5uGa7oJbmtfbau29oudd83nmW+HCpOdGgTSxozfebR8S88RY+a2Ln+Ywbcl+UcCTNhEQARHoKwJdU7Q6Q4EChiEd8tPbxHsQNK2mme7rbz6iJtE19to44Pp+6pqG2L1KEV+FwL2oq+t1X8MQUjju6/gAliHccKwTRMhCsOL1Ps69s6QDX2QIwSRtQpDxMdiGY2xzmLM4tHAWjggVp+Hu0JR73IpZG6v3539DjmI3WQzYmMWaYFzslbPccfZCV7jxHmKHKOr4wqAPwyGtFNpCuHs8JfwnT4P7cKxnlzRLnAcv+0RVa8Vr/5QnH4MaVyHcRFTutOIs6SB5HhyEYxyAN2lkTnfhu4VTBhk53euDbtvdQihezfS+aebNg23dUPe1rOuj2rDKPzMW6Fc723tV5TGyrjFLoq8NIMGw1qr96zje+KxJKC07bBLOvtZ7I/F0w+Q3sT3PKlfhxPHDT+Xd9ZFVua2KP3hMhOXswxcoOPatTeHqMEcfI9Wt5M328YXUhONh4pFfERABEeglAr2raH3EL24lquiEh6QoqL1hje1rhVStzybXISH7Rd4kiPrWXmQz2LZSGNJTCXSPQcXmMCdxqPHZnvAaMalnvieYagNe1fMWxxlcVPuL7Tt1xtpc3Js6haNkDI1T0SidPkwupo3ltrAxt75gHt//yMyB2I9GsGucijitwW1s4s8amde6wzWdthKV8+rz753XeGojysZPQ02YdZK7x6itePf4btHgAOlqMeTWnO2XyUZpq2O+XzCtJaSuK8a0X9B8B5Jqat1AgmGdZAer7h+jyGu+D8l44+Ttl+Okj+R57Dtpethzhrp/aqrjrb46bOzyLwIiIAK9RaB3Fa2PxKnRR76ReUhWM/vg7kDHLgXepWAPlMXg6eOmKY4tPgspqT02d1HroxvXzVNR6yJZxOF5sI9VrGbFoM7mI5meFkOu9RKyUMd7MlcV61r/FYvESRJNwrgrpyE9++Sj/Xg7Glj70fe4j2Z06j43R5KnZiltMVH7KGMthtBRZ63mqlV3HU2cAhMBERCBj0iA7fjaREAEjohAbWvW4ZPBogt3rKSGmci4Js/HVawOn4M9IQRFZY9FHYNuua0TlYxEQAREQAREQAREYD8CQ9+itR8c2YlAPxNwtcVNqox9RXgTR/0MQWkXgSMgcNgKlMP6P4IsK0oREAEREIE6BKRo1YEiIxHobwJBcfJj8+Lug/2dq75Pfb3WtnCr+j5zykAjAvspTWF2wqTf/dwn3elcBERABESg9wmo62Dv3yOlUAREQAREQAREQAREQAREoM8ISNHqsxum5IqACIiACIiACIiACIiACPQ+ASlavX+PlEISaLWLVavuRPUjEeANSe4Not3vvu1n1yC4IzNuJ63tuD2yDHUxYua/FQatuOliMhW0CIiACIiACByUQI+M0ZIkPegNrO9vQHkms1VvvEt9GMNr6ma6CNDCkeDCeafRHDLcQ3p3uQlhtPJ8BLed5sFwm8VfibvT96Cb4XUp0V0KtpskWg272Xgr2tcbp9Vq+HInAiIgAiLQ2wR6QNEaYCl7pPd+wLkOePYO/+hwpaB6kOqZHT42H0I3w24zjS0npWWH7SWgC8F2Icj28lT3eWozCDnfQ6CZMrbHgwxEQAREQAT6hoC6DvbNrVJCRUAEREAEREAEREAEREAE+oWAFK1+uVNKpwiIgAiIgAiIgAiIgAiIQN8QkKLVN7dKCRUBERABERABERABERABEegXAlK0+uVOKZ0iIAIiIAIiIAIiIAIiIAJ9Q0CKVt/cKiVUBERABERABERABERABESgXwhI0eqXO6V0ioAIiIAIiIAIiIAIiIAI9A0BKVp9c6uUUBEQAREQAREQAREQAREQgX4hIEWrX+6U0ikCIiACIiACIiACIiACItA3BKRo9c2tUkJFQAREQAREQAREQAREQAT6hYAUrX65U0qnCIiACIiACIiACIiACIhA3xCQotU3t0oJFQEREAEREAEREAEREAER6BcCUrT65U4pnSIgAiIgAiIgAiIgAiIgAn1DQIpW39wqJVQEREAEREAEREAEREAERKBfCEjR6pc7pXSKgAiIgAiIgAiIgAiIgAj0DQEpWn1zq5RQERABERABERABERABERCBfiEgRatf7pTSKQIiIAIiIAIiIAIiIAIi0DcEpGj1za1SQkVABERABERABERABERABPqFgBStfrlTSqcIiIAIiIAIiIAIiIAIiEDfEJCi1Te3SgkVAREQAREQAREQAREQARHoFwJStPrlTimdIiACIiACIiACIiACIiACfUNAilbf3ColVAREQAREQAREQAREQAREoF8ISNHqlzuldIqACIiACIiACIiACIiACPQNASlafXOrlFAREAEREAEREAEREAEREIF+ISBFq1/ulNIpAiIgAiIgAiIgAiIgAiLQNwSkaPXNrVJCRUAEREAEREAEREAEREAE+oWAFK1+uVNKpwiIgAiIgAiIgAiIgAiIQN8QkKLVN7dKCRUBERABERABERABERABEegXAlK0+uVOKZ0iIAIiIAIiIAIiIAIiIAJ9Q0CKVt/cKiVUBERABERABERABDpDoNyZYBSKCIjAPgSy+9jJSgREoOsEmom6VJSCanf+KtiZxWddT7AiEAEREAER6BSB6k97HGqXP+ohWh67HFWcJ52JwBASkKI1hDddWe4VAhRxYfdnLmUwcsLPST80Ope9m1QkDaOrqkyUISrVPF2FRBciIAIi0LsE+CHfb3NCoJ6DpEcKBX/txETCuRMX5Uho8BA7dT5K+E1BqATjyGUiBJ2KgAh0goAUrU5QVBgicCACZYi6Inx6iUpliVu5TBFolk5RdcI5JSjMMum0leAkEqs4piOfyRpJiUsy1CYCIiACfU/Ai4ZENmjgJUAwpBRhZVxS0fJSIOXNoGy5SrqM90HfJe6lMmQKTqIaPJpLegCCNhHoMAEpWh0GquBEoDUCFGtQrXjgGSRcEHIpKFS88m1UME3DkauZjBw7H86Xc1e51IkIiIAIiMBgEeBnPwiHmpyVSqyog6SAzAg9HrwT7yHIl4p/GNPGSZg9fmoC16UIiEBHCEjR6ghGBSICByFAqYcdgtQLRNRAIhjXmcOZR1KRopGtW6iydO7wE9zBxm3BZ3SpgwiIgAiIwKAQqChb0Rc/cc3uf2ErFApWxM7jLvad3V0rlkpOEcvnR9GClbFsJmvZLPaRjJMj9BuHEELSUQREoFMEpGh1iqTCEYG2CFC0UVqybpFHv1HJYheQUjHqMkhjCNI0nLPW0l1WhKy71I8IiIAIiMCwEAjjrpBf372c3QZLVigV7P3ae3v//p2tra3Z+uamrW2sO2UrA+VqZnrGRnOjNjk+aTNTMzY9M20jI9mKXKnCF4skaWFVYHQhAu0TkKLVPjP5EIEOEYD2FAk0Nw4LofK4i1rInZ0dVyvJcVspaFkjqIEcHR2FzsVrOqT+5duxQmKkfwUSOoqACIjAgBFIKj8haxQhkBk7xR0oVWv24Lf79uDhPXv89Im92/hgr969ta3tbbRg5WxhdsGmxiZteX7JTq+etrNnz9n83JyN5vNVsoRVgFWbBEsVDl2IQLsEpGi1S0zuRaBjBCDSKCgxKLmE7h2FYgFCccfevX9rr16/xvGdbUHhymYyqI2cshPHj9vY6JhTuHIjOWMtZQl+ylS+oH3h4LqAsFVsj7DsWJoVkAiIgAiIQC8QKGBai+3dDShUr+z2vdv2//33/9du3fnBXrx5ael8zjYKO5ALGVTU5S33PG/FjV2byk3ahZPn7Y9f/cmuX7luK0tLNg65wi6GGSdEJD964d4qDYNDQIrW4NxL5aTPCHCkFUXa5s6mvXn72p48e2qPHj+yXx8/tCfPn9oHdPug8jUyMmLTE1O2ODtvS4tLdurkKTt54qTNzy+gK8hYpesHw2LtplOyKDC1iYAIiIAIDBwByo4SvvXbhS178OShffPj1/Zf3/7Zbt//yT5srdn4zLgtn1i1BShRk+gmaKW0vXzxyp49QkvXi7f2w/0fbQdK2If3a/b5jc/s3Nmzls/5lq26kkOtWgP3DClDH4+AFK2Px1oxiUCFgBOUrI3c2bZnr57Znft37Lsfvsfxtj18ct9evH0BIYraSHQTzGVyNpYds3w6byeWjtu1y9fsxtUbdvH8RTu+tGpjY+O+RYuKlvtTt/oKaJ2IgAiIwIARoN5TKBfs3fo7+/nez/Zvf/lX++72N5Yby9vJc2fsDBSnM2fO2urxkzY1OYOJMYquO+HjR4/s3i/37Lf7v9n3d3+wVAHyJTtiE+PjqMA7CTkSqVn1uikOGENlRwQ+FgEpWh+LtOIRgRoCJShaz989t1sPbtmfv/mz/fe//Ic9f/vMPmy/t53SFmwhBaE8ZUoj9mEzZ7adsjfrb1yN5ebWOmo0izaGmaRyGNCcQ8sWN85KGGSlM9CPCIiACIjA4BCALsTJL3aLu/bkxRP76d6P9hNaqHZTW/bZJ5/bp59+gUq4y7a8eMymRqZcJdxOadeOLSza2TNn7PjpVfvu2+/sL//Pn+3Boweut8TszIwtLS9ZHl3Sw6RLgwNMORGBoyUgReto+Sv2ISXgW7SK9tvzh/bd3W/tm7t/td/ePLAd27ZCbgeCFGOvMIsUW7RKWNS4mCmjn/2Ybeyu26+vfjO7m7IclKwTKydsZmYOita4IykhOaQPlLItAiIw8ATQW9BtlB+75R0oWbfszsM7WMi+bNeu3bCbn/3Orl74xI4voqdDZtSyFCBwm02jMg5jtsZHxm1ibMKmJyctV0jb7b/ett9e/oYuhz/b1WuXbXH+GJSt/F6OdfsT7nUmExEQgb0EpGjtZSITETgEgWSfi5puGLSiEfZCYdderz+322jN+v6Xr+3uk5/sfeGNpXMQjKkSZGMRShaO0VaEClaCealYtiLGbaXepi39cwY1lOegaM3bKITnSHrEjdGil6rhzB0Rksl8hVQd9tiRhB02EfIvAiIgAr1NgJ9f7hAPGJ2FSZI27MnLR/YDKulevH1ux44t2+9v/q3dOPeZHZ9ftYnshFOyMpAEvlKvjP4RJRuF8jU2jl4Qy1krfrHtxgY//fWx3XmMLuuPH9g4uhCOoCuhnzaeSBBp5TNdOaGFNhEQgRYJSNFqEZSciUDrBIJSAsEUTpOeUS25W9jGTFEv7MHTX+zhi3v2dv0lhCgXluQikvhD15BoFWN3bWjVogJWQsvWDpSwt9sweVq0b3/61iYmJt3A5tGsb9Vy4rCm/2BdEcnkhSrSZPoantfLTEPHLViEVIVjC15addLppLYar9yJgAiIQBsEmn2q3NcRjsqYFTCVSaHCDetlbb6zu0/v2P3Hd22rsGlnFs7bxTNX7MTcqs3mZy0DjYxtWZiL1qWEVXZZt9B92UZTecuOpW3r9GmbPzFrvz69b0/ePLZHz36zk6sn3TpbaYwL9kpWqOxjaNpEQAQOQkCK1kGoyY8IHIQAZR52CszC7jaUq7f2cu2lrW2/xRTtRUtnUfvIQVbUztzRn/pr/sI8jV+0au2UNuwDFq78+s7XbtZCTqJBRYszFLr1tVpSoLAoMvNR69bLZtr4zTmis+gkmHfkGEHpSFghkG6kM4StowiIgAgcloD/7vFL1exr5VQcLAFSRC+ITI4yAi1axQ178eG5vfnwwrIYozs1PmGzEzOWR4vViGWhaLEtK94YRhYmHBfsJAkUqcmJcZucxqy16Cm4/u4DZNEbW9/awNgvzHQbFC2XumRIcZg6EwERaI2AFK3WOMmVCByMAGRUEKRBXJXQWrW5u4MWrTfoPogFJXe3XJcQLkzsWrLggTpNZUFiBuCUnCgkhonxW1slLFD56q6923xtPz34wUYhMdPZNNq+/NS/yQT7VrLYhGlho1cUYsWiMutUxQQncEQli+nujrKVjOyw5w7WYQORfxEQARHoIgF26QsSoXk0dJmmkoSTLL7x2RFcZYv2DhV10xPzaK3C7IHoDYEGLzjxf/VCZTjcuV5WPjPipnRPY53G7eIWJmHaRKXdDpYUQe8JbnSoTQRE4NAEpGgdGqECEIHmBELxnzWLXGC4CKG5iVYtTuFOJSidgQ0Fm1NqEuHRo9sgloOUZCDcIXcn5yZtbnbO5ifnbGZ0ysoZdjJkL37v0f3GP15fi+x8y5cPPf5tJF2j8Pwhdn7gMwbUscASqUCYjbKQcKVTERABEThqAq0oW+5zhkouLmqPujiMoULHQGhUu8Vte40WrTQEAztAlDGFu6uo2++7SneUDiVMsFRgz4pdHy6UrTR6Q6CTxH6+jxqX4heBviQgRasvb5sS/bEI1GvBqdvq0yBBVCXCXkL3D0pKXmMwFmaByttIDl39cF6mHYScU6Zoj0vnjueJjUoZBS/TkEat5rGVJfvkEtbUWj1vC2NztsshzxSWUUC16d9zzdDqRZSI050ybS7mWouDXjPSViJuN/xuhdtuOuReBERABPYjEMmClr6rVI6oaOG7j2/xbnHH3qy9sldvX9rWhx3b2tyyzfVNK86zmq35VkRYm+sbtra2Zltbm5BBI1jYeMrJpEqlX/Ng5EIERKAFAlK0WoAkJyIQCLSjZAU/PFLBKWBsFfUfnmczWVvAuiazmJp9BF04itsFy4yyVQsOnIfwE117U6ebuJpNSNsRrHmyhNmmbmLdlK9u/MHms3O2Vd5mQxdEN5u84s0L31oRXBN27PwjnnVLMarN60fMkqISAREQgaYEWu0+6Ku4+LXm5BZYQcuttfjb81/t7i+37d7t+/b6zRt79fK1rS5hdtpRSIDqz38lJb4XA1rDdgv26jUUtdcYI/zhvU3nF+3Y4iImVsLstVkUC/n57AXxUEm5TkSgfwlI0erfe6eUd4lAstXnoIpVSFqQVewTn+FkF/yDYR5T6M5Nz9g8pmafxHHt3Ts32DnFzvZuC5Jur8JAJSoDRW0Sg59X5lZsHn308xkMasZwZ4zSct0Gk758iMlwfdi1ylhIc+2Raa7e9ppU27dzxbBrw2/Hv9yKgAiIQP8R8F89fpfDt7leHqhkVbssY6KLSZTcFueO2crSqj3+9Zm9hNL08y93bGEWiw6nR212EjMPojvg3i1l2zuY8fbNC7t7/649efrEdSdfRoXdieUVm8QyIRmM9dImAiLQOQJStDrHUiENCAFf68fWp/0EYOuZrYTCE3QRzEDTyqM//MLUnF08dd5+e3bf3r97be9evMEYqyjeKG4qfUyH2zGOKxV1PxzFeKyzxy/a5dWrtjy9YvkyF6fMY5BzUIKSykuy01+1eXUuknZJm2pzf1VtlnTd2nmFSmvO5UoEREAEBogAvuwt5Yau/M5vO//QhRC60PTYlF26cNmeP3tpd27ds29++sZy2VH0jihiqveLtjA/D7nhm7b4teb4rbX1Nfv18QO3/tbXt76xN+/f2uqJVfvi08+xyPExm8iNuRkL44S1lsbYvc5EQARqCUjRqiWiaxGICBQx+9IuBgvzmMY4qrGxsfbZ1OojuKbo4uLCU6OTdv7UOfvtxSV79uKp6zPvBipzdj8qVFFNJnQtt3HAMwVndmTUFmdX7Mrpa3Z+5YIdm1gyLEOJ9qyc65bohPK+8jEK0Acb/dYzCw72swtuDnLcN5EHCTDhp5thJ6LRqQiIgAi0ScB/UZt/o+iOrlwnQwgCLv/BP47VGstMQH6ctyfnntvTxy/t4dOHWIoxbYWtHdvd3oYSdtHGRsehlGWMY7K2YPbrkwf2LRSsr3/8i91/dd9yozm7dO6yfXL5us2hh0QuleUKIn4Lx+bJjDzoIAIiUI+AFK16VGQ21ATYisRxUDuY6paDhd+g/zuvz5w5Y7lcznXJYAuTHytVrzN8HckEoQX9yW2+hSoDxWjEVo+dtEtnLtvTl8/sww4GJ79/bTsY2FwsFOABLVH05wQeRC1muRhBjeP89LKdX71k189dxwKVx90Clfk0uw6i2yAiQdIgmGvSELS1uneWEbhI6tpWDBkwt33D8k6O9rcm70ebGMUuAiIgAnsI+C9uPflR7dR/zaBeFdmShSv3n7E81l5cnl+1C6cvuu6Db998bfce3bUP79/by1cv7DWmfl9Bl8D86JhtczmRt2/sh9vf29c/QMl6cs9Gp0btyoUrdu3CVTt9/JRbyJhxUZlLsX87t+jgL/QrAiJwEAJStA5CTX4GmgAVrQIUnY2NDddC9O///u/2L//yL/Z3f/d39qc//clOnDiBtUyytrm5aePj4+48BlIjmRKXKdf1PSlYMzYzNm9Xz93gnL02hlmf7v92xx4/fYAxW28jGUdlCyoUFpAcHZ22k4un7PrZ6/b5xc/sxtlPbIl98tFdhEoWN7a8OZ1pj96USEic2OisRUWromAl87AnsDYMEomkRtmKstdq6KGg0Kp7uRMBERCBj0UAn2P/RU58AxvFHTlJhSVAnDuM00U/hglMinR25aJt/W7H8vkR++3hI3v3+p19+wuUrqd3MY53CpVzeSuUi/YW3QTfbbzBYsebtrC64Fqyvvz8d3b9/HUsdjwbfX1DZMnE7Cc7ku50LgIiUI+AFK16VGQ29ARCqxZBfPjwwb777jt78uSJa+WiwnX+/HkINkw9QcWmla1GVrHFiZNRZFMcq7Vo18/csNnpOXv04pr9+uwhWrge24e1964WMz8yblPjszYztYCugufs/PJZO4mazGOT8zYKu7TX4FpJRQM3NYlr4CoUDRpat2VBgR7iDYWNcN1WQPUddzCo+hHIVAREQAQOSyB8+/YJp/It40mYGoOK1gi6+qVscXrJrl4wm52dtl/P/GYPH/5qT58+tXVM3/5i7QWmgi+gog7LiYzmbXF50RaOzdvpU6fs8tmrdgqTaRyD/3xm1Emk+Jsc0lOJPBjoKAIi0CYBKVptApPz4STwDrMCUtmiYsWdStbp06fdJBUHIULxlcEfFa2J7KSNTrNL4Dym50VXkFOX7DUnx1h7bSUsQpnPUdGas4mxaVudPW4L4zOYdWocMwyiG2NSyUrqLm0n6ggF6hFG3TYmeRABERCBIyXgO4azFwM6k9tEnq1WWcxgO2tLmIX2+Mqq64pOmfX27VtUDm6j10XGpmE/hRauRUzjvrp8wvWOGEdviFw677qxh8q/WNnSh/lIb7MiHxgCUrQG5lYqI50iwNYs7smNk2KwZesf//Ef3disEcwa+A//8A82PT1d03Uw6Wu/c7ZnQWFD949sqmBF/I1SdRrL2eLYkhWXuVrKDrpzcDLfEew5CNWMTdA9uhKmMN6L1271ytpoKB8PpXTVBtiN61ohXnvdjTgVpgiIgAj0GwF+zMMe0u57RPCrmYVdOjVm49kxG1uchCK1bJdLW7ZTwKQY2Dk4mBVyuSwq5spZV7k3ihasiSymcsefV9i8muVVuDiOcKajCIjAwQlI0To4O/kcYAK1ihZbsTgui2O3/uu//suNzWKr1t///d/bsWPHDkCCIo0TYlDQZXBegLgs2TgEYhGCkX9FzCTII1WyFFxynawcWsCy6C6CWeAxOxTNE1vVBcx7Wdli2ipbbcIrFjoRAREQgcEj0PYnjx9MzqbkBvo6HkEp4sQVDI6TLGUxa+B4eRytVDnbHdmxYhbdBmE7ArmRS+WcTEjDDf8ofZJKViww2k6cS49+REAE6hOQolWfi0xFoIqAE2JQtKhwsTvGf/zHf7jJMKh8ffnll7a8vIzJKkbdGK6glFUFUHPhBCMEYBCWnIGQyh3XK+asT5jg3e389V05KC7TcEW1DEqW06ISmlStbKy9ron/yC97PX1HDkgJEAERGAYCVXVOUYarP4+84lhg77LaDqoXlvxIlykZKCkgGdDdoQxJUYRiRfnhfbPtCpLDeaarUMFHg2SI4TwhW+BCmwiIwMEJSNE6ODv5HDICnM6dChdbtR49euQGHM/NzbkuhVS2OEEGN7ppZQtqlqtVZFfFMFOe8+4VLYaTFK9s+wrDoYNNK3HJjQiIgAiIQG8R8N/2vWmqr+bEciU+88qVQdlya21VFDJ2OufG3xAafXlT30sC11UyJ7jnUZsIiECnCEjR6hRJhTPQBMK6Whks/hi6FbLl6p/+6Z/cNPBUvqh0LSwsGMdvtbIFYemPyV/69qKQZ0FUetOo/tE5x4/3RittIiACIiACQ0Kg6tPv9KdQdecBVNkHJlXLaCRdJKUMHSftgmcdRUAEDkJAitZBqMnPwBNgq1Rty1ToEkhli+Oyfv/739ulS5fs7NmzbjFjdh2kHypitX7rA6sRbqiV3FPBGHmsK/YQlwRifbIyFQEREIHBIYBvPYWDEwROq6q0TTkj/nhjn2VnWGPmbJIW8EB5FVXlhTYwRkJXzmUIM3jzoetXBESgDQJStNqAJafDS2ByctI+/fRTNxaLY7TYgsWFi//whz/Y0tKSmxxjZ2fHjd+amJgw7s23IMV49ALPi7j6Pr2rYFcRhcFARxEQAREQgaEgEGQH9auE1GhLIUqGEetpbQUxFKyVSRE4HAEpWofjJ99DQGB2dta++OILW1lZsfn5efvll1/s9u3b9v79e7ee1szMjOsuuLW15VqycjnM7tTSRpEWqU+oWQwCzpmiVaxYLNn29rarWuSkGxnu6K7o6xpjIdlSVHIkAiIgAiLQvwRcD4a9yWcVnZMJQYDgKvSq2C3sukpBGBh7YmTRrZ09Myh3SiVMC4/TuP3KhxNLoiiuRLiRiQ4iMIQE8CIkil18LVp9NaRoDeHjoiy3RiB0/7tw4YJroTp+/LhbQ4uK1fr6un377bd28+ZNoyJGJaxYxFpY6D5Ipai1LX5Va19YKlnr6xv24sUzjHNOu/W6GG+aCpkTuLU+WotRrkRABERABHqDQHtf8WrX1VdxfqhkBUWLaz+uoUKQsom9Miir0qgILKMbIs1SmOqd8sSH5SvxqsKtuojj0JkIDBuBUB5M6FotI+CbpU0ERKCGAAUVt/HxcTt9+rSbUXBjY8OZcXzWmTNnjIsY37t3z549e+bMFxcX3YQYXF8rCDtncYCf3d0dp2T98MMP9vNPP9nLFy8OEIq8iIAIiIAIDBMBFgh9q5W5mXG/hwz55ptv7Pnz57YDmRU2tnCFwiPNqG5Jrwp0dBSBzhGQotU5lgppgAhQULELYFCYeM3WKo694tisa9eu2dWrV53w4lTvVMJc975IeAVF7aBIOAbs9evX9vPPP9udO3fs5cuXCIq98bWJgAiIgAiIQHMCr169cl3df0ZXd8oQVg4eVjY1j1UuREAEkgRa7eOU9KNzERh4AlSsWONHBYrCiVO2c/p2Kl9Utmj2u9/9zm7duuXGUVEx4ua6YVS69x0cE6eT39zcNApKxskuIMn+wQcPWT5FQAREQASGgQDlFyvs2NV9HedBTg1D3pVHEegVAlK0euVOKB09Q4BKFhUdCiXuVHTGxsac4sV+7VSy2Nf9888/d1002MLFLobcqJxx78QWlDaGxfRoEwEREAEREIF2CSRlCVu0ktfthiX3IiAC7RGQotUeL7keAgIUQuwGyMHDVLC40YwCiooXZxfkdvHiRTd2i2Oy2MpFN7Snu6Bs0ewwGxU7poXKnzYREAEREAERaJVAkD+USUHBSsoSmiW34D5ppnMREIHDEZCidTh+8j3ABCiQKHiC8GGrEgUTFR8qV6H1KhyJIrgNQu0weEJYhwlDfkVABERABIaTQJBftQpVoCEZE0joKALdIyBFq3tsFXIfE0gKoKSQojkVK47Z4jEIsqBsUTkLCtphsh/CrRdGSA/ddEKhqxeHzERABERABERABERABA5HYKAVLRVCD/dwyPdeAlSiQlc+Pl/hGUuaUwHq1hbi61b4ClcEREAEREAEREAERKAzBKRodYajQhlwAlRwuFGJCq1XQdFKmjtHHfrppsLWoSQqGBEQAREQAREQAREQgQYE+kbRYqGWEwOwkMuN1xwzE7pvhfyFAnG41lEEDkOgXve8oADVKlqHiUd+RUAEREAERKCTBJIyqpPhKiwROAiBUD4PZaiDhNGPfvpG0SLccJOSoIMZj2ExvtDiEPyEmxrcJv23cx7CaceP3PY/gXDfa58fmnOneXDT/7lVDkRABERABAaFAOVTrewalLwpH/1BgM8fZ2RmYwnLShx+ERpNkjkY1LJU3yha4eaEAi2PHBcT1jvilNtv3751N3FqaspNzc0bGNzrQ5N8nHXeSQLhGetkmApLBERABERABERABPqdABUsLprNBbRZXuKyOVwShwpXKD+xjB7K6cGs3/Md0t83ihYTXAufN2VnZ8devnxp9+/ftx9++MEpWJ9++qldu3bN3cSQUR1F4LAEap+/w4Yn/yIgAiIgAiIgAiIwyASoaH348MF++ukn1yAyPj5uZ86csdOnTzuFi3lneZ5lrEEsZ/WVohUeRN60zc1Ne/36tf366692+/Zt++677+zrr7+2Cxcu2MLCgl29ejU411EEREAEREAEREAEREAEROAjE2DPM5bZ79696xpE2EBy6dIl++STT+zUqVN27NgxV27vZSWr0toGdtXLfDeH2TeKVm0XwSdPntidO3fcTWNL1q1bt1yrFmGsra11XCvu5Qeg+W2Wi34lEGp4eEyuzxWex3Ds1/wp3SIgAiIgAt0hEORGGLcuedEdzgq1OQGWzdk4wvL6gwcP7Mcff3RleDaKXLlyxS5fvuxatyYnJ210dLTjZfjmKWzmAupVYuWeoGwljBoG0BeKFgfRcQzW+/fv7enTp675ka1X3H/55Rf77bffXN9P5pKtXUEp47k2EehHAtvb265bLJ9lPsd8B8Jg0n7Mj9IsAiIgAiLwcQlQdrCAG3ZOGEbZok0EPiYBPnfcWJ5hQwjL7WwoYRmeChaH+9y8edP1SGOvtBMnTlgul6uaVbxnKgla0axq4Pa8osUPxYsXL9xN+f77790NYusV+3o+evTIzTTIAmjY3r1751q32H0wOasJPzSHUbx4k8ONDscQp44icFACfC5rNz5fHDjKZ5xdY/kcs4aHHx62anHnRr/JZ7w2HF2LgAiIgAgMF4FQzuFEA99++63rrkV5wknCWGE9MzPjyjKUHUEBqyVUTy7VutH18BBopcybfGaS5/TLroKvXr1yjSIcqxXsec5hP+yhxpYuKl2fffaZXb9+3SlbKysrNj09bfl8/shh+zRTy4IugN+9JbfGSex5RYu1L8+ePXM345//+Z/t4cOH7mbxpgUtOdw0ZpOKFm8Yla+RkZHKDaWbpELWGEljGz4wrTxwjUOQjQhUE0g+u8GGzxife7besomdbjhbDz9KFI6hCyFrh3hd75msF24IX0cREAEREIHBJBAULVbOcfz6vXv33PgY5pYzM3O2N26UI5QT9WRFPTPnST9DS6BeOSMJo/ZZ4nXww3OW11lxzBat4JbPKpV/lnVYpqfCxf3x48f2xRdfuAntQiVzCCsZZ7+c96SixZvAjWBZmAznvClhikiaB3fOQfRDZYqFVN48ug9ueAxhJd23cx5udAizHb9y+3EI9Ns9qvcsUQDyo8TnNSkM+VzXKlpB6aqlWy/cWje6FgEREAERGCwCQdGiLAyVy5QT3ChXWDaifKB9PTlBs3rmg0VJuWmHAJ+VULZq5K/ecxP80Y7PJZ9HHoN5KMfTnufPnz93M4ezJYuTZ9D9YcvtjdL7Mc3rK1rttIl1IbXhhrFQye5S7K/5+9//3t2c+fl5N4iO07lzWvegTNEPNw6k42wmf/zjH/dM7177oNRe75eVED7dJM/38yM7EWhGoN6zxOeewpAz9PCcXUDOnTvnmtNrFa1Gz3C9cJulRfYiIAIiIAL9TYDffsoF9ujhNNrsdkUFi12yKEe4hhHdNJIRjcz7m4pSf1gCjcoateHSXXAbzvn8cSKMN2/euOE/9JOsRGYZh10EqWDduHHDPv/8c1eOZ3m/F7oN1uax3WunaFFHSaWoqDR++doN+DDuww2gJsuCJfsUc1YSKlxsTuQYrb/+9a/2n//5n27sVuhGyA9EmNr9q6++cuNamI5w02s1Y5o3+qgEP/Rf66b2mm60icBBCCSfs+CfzzxbbikkOdELKxtYefCnP/2p0qIV3Cb9h3M+n60+o626C/F18lgbd+11J+NSWCIgAiIwLARYhqKiRTnC4RQ8ct2iP/zhD648FSqoW+VB2RJaxVr1I3fDSyCURQIBVhyzLMPKY3ZdDWVxlnWo+PPZZNn+b/7mb5yidfbsWfecsgzE57g2vBBuvxzrt2j1QOoDWB4Jmhovbwi129nZWbfQGefg/+abb+znn392WjL7f1Irpv3c3JwroDbLSqPCXYg/+G/kLtjr2BsEau9T7X3sjVRWp6I2jbzmHqY55TPPjxOf7dCixRCY1+C2OsS9lQO19r12XXvfei19So8IiIAI9BMBygrKDZabWLBloZUyhXKE17Vyp1ne2nXfLDzZDw8BVhazXB6eQU7MwmeRU7tfvHjRVSRzAgwqXMvLy1VlnUF47npW0eIjmATMc+78SPBmLS0t2VlovdypaLGVi1NFnj9/3mnCVMxaqYFpVMBLxh1eh0Zug72OItAugXrPWQiDdnyOg3LF55k7zbkHRSu4Tx73CzfprpfO9X710t1QWkRABPqVQPj+U3aEnbIkyA6aBTf9mkelu38I8NljuZ0LE1OxCudffvmlm2nw9OnTrscaKwWolPH5HKStpxWtADr5QWDrFnfOREKtmF0FOe8+tWFODclr9vMMW6i5YRj1CnL1zBq5TaYjhK+jCHSTAJ/fpELFZzA8h+HYzfgVtgiIgAiIQP8QqJULlB+UI0G5qrXvn5wppf1KgM8ey+tUsqh0cbr31dVVV2an8kXFiwrWoG59oWjVg8+PBWv32TROpYuD5s6idYs3izc0aMRBkaL7dj4w7bitlz6ZicBhCQQBSSHJnVvyeaZZK622h03Hx/Kvd+5jkVY8IiACw0Ag2Qui3XFZw8BHeewOgVBOCaFTtnMIBBtEWE7nNbsSsuxOxWuQyjEhz8lj3ypazARvFnfeJCpWvGm8DjU3dNPsBtK9NhHoZQLhoxWe9/DMhmMvp11pEwEREAEROFoCQYYcbSoU+7AQqFc2oULFuRM4/If2bBSp524QGfW0opX8OPCGJK/DzQg3igpVbdMj3Qf74F5HEegXAvWe92TaB+3ZbpbfZN51LgIiIAIisJdAUi7wm6rv6l5GMvm4BPhMcmc5nUN/hm3raUUreTPa/VjQffKDkwxL5yLQ6wSGUUDqfe31p1LpEwEREAEREAERaIeAXy68HR994laFtj65UUqmCIiACIiACIiACIiACAwggYFVtAbwXilLQ05AlQdD/gAo+yIgAiLQBoFh7BnRBh45FYGPQkCK1kfBrEhEoD0CVKrYn5nHsLcXglyLgAiIgAgMO4EgP3jUJgIicAACZfjhHm2J02C077Fnx2jVG5OlD8W+91KWA0YgCMigcNV7JwYsy8qOCIiACIhAhwkEGaIyVIfBKrghIYBJZZKaVpu5VotWm8DkXAQ+BgEqVVwni2ufcA/raH2MuBWHCIiACIhA/xMIcmR3d9cKhUKVHFHFXf/fX+WgPwj0bItWf+BTKkWgOwTCNKhjY2OuC6GEYnc4K1QREAERGFQCXLuIy95wsdjk+qLMr1q3BvWuK1+9RkCKVq/dEaVHBECAihaVLK6ezo2CUoLRodCPCIiACIhACwRGR0dtZmbGgsJFuaJNBETg4xKQovVxeSs2EWiJAGsfp6am7MSJE07B4orqYcxWSwHIkQiIgAiIwFATCDJkc3PTyRPKFW7sIaGKu6F+NJT5j0hAitZHhK2oRKBVAqyBZGvWV1995WojKTC1iYAIiIAIiEA9AqF7OY9hX1passnJSeeclXXsJcGtVskKfp1lg59aPw2cyVgERKCGgBStGiC6FIFeIMCaRwpICkYKuNr+9b2QRqVBBERABESgNwjUU4TYbZCVdLQbGRlxXdJ7I7VKhQgMDwEpWsNzr5XTPiEQahc5iJmbZhzskxunZIqACIjAEROgUsWdcoQypJ4CxiTSvpHdEWdB0YvAQBGQojVQt1OZGQQCFIDcw9ontQOYw2J5Wn5yEO628iACIiACnSdQrURRpsRdBilfkltQzJJmOhcBEegMASlaneGoUETg0ASC7EtZ2lAfCcFIVSoWiE4YHjoWBSACIiACIjDIBEJlHRq2XKUdpIll0nFxr1oJG2QSypsIHD2B+M07+rRUpUAfgiocuugDArFK1Hpiy6XILQRiOuhVPFJCui1lpUgDy0RGIR536S74E9xXn/ow9CsCIiACIjAsBCrlp1TJVdqhM2FV1ilSKHtSnO09IVcq/qpcV5zUmOpSBESgFQI9q2i1kni5EYFeJxCUonrppHwrlthPnkpWQhBGepOvjfRCzoUTBeYauioBwjBYhiDoIJxX3OlEBERABERgWAh4pYmygMLAC4TQa4IyIxInEhXD8kAon0dGQIrWkaFXxMNCIAi0ZH6DHlR21YrR4GU6gOJVLpbcBBiFcoH9PmBIe1Q9sutHNm1lNn1VAkiE6hSserEl3OhUBERABERgYAlQZJQgR4rFohUKhcpkSmnIjVQqY1nMaMvdrV0c5MjA0lDGRODoCUjROvp7oBQMMYFMBgoUahwr6lGxYOtv3trzx4/t7p07trW9bdmRvM3OL9mZ85dsdnHWRiby0LmChAw+o2u1Zg3x06Ssi4AIDDuBnZ2ivX2zbg8ePrIfb922V69fQ8SUbW52xi5cOGPnz5+25eVjBiOKnkqd3bBzU/5FoFsEpGh1i6zCFYEmBJyKBEnnhR06zKMFa+P9K3v166/2+uGvNrr1wUrv12x9c9c2nryy3bfbdvaTiza/umRj0+N1JaT0rCbQZS0CIiACA0qAMuXt202788sL++mnR/b8xa6tb4zYzs6O3bv/1F692THLjNjUzJSNj41WK1kURNpEQAQ6TkCKVseRKkARaE7At0Ohm6CrUcRVacdKW2v24fkj28Ke39mwY6dO2Na7d/YWStarZ+/t0fNvLT9iNpJPW378OE5wQeHIwCIh6USl5GXzGyAXIiACIjAABMJU7RyTtbtr9hrK1NOnO7a1M22nTs9DNKRgtmXffvfcfrrz3BZXXqJ3xKqNQtHiXBhhk9gIJHQUgc4SkKLVWZ4KTQRaJsApd0vYU4axWIVN23330rZfPLEJnK+sLNjkjWtWXv9g27NP7OnObfuXf/3Onk2O2MT8pE0dm7UcFS3WSVJCSkq2zF0ORUAERGAQCFDJCgvaZzDuanOzbBsbaYy/mrPLly7a1esYj4V173/9tWBrm+v212/+T3v8fN3evFu3Y4vzlkFNX1RHNwg4lAcR6EkCUrR68rYoUf1KgMqT+4cA9H/ICSSZ+3PKUNCI2AxFFwXsJdQsYp0TmCwuL5mtHLfs2AT8FM3yWcsuzNnEyoqt5m7Z9tp723n/zgrb6ALCDcExpOQWYkia6VwEREAERGAwCYRp2aFr2erqpC2vTNjEZNbGxiBFMDHG/HzGTq6O2a3bk+g6OGblTN52IV5GKCwkMAbzoVCueoaAFK2euRVKyCAQoELllC2nXCVy5IRZtUTjVQbu0xCElHbpsSnLj0652QVTlJhQwGwX5qM5y0HhOpYu2wf09Rhz/vCDLSzD5UNg6xgVL6ZCmwiIgAiIwKATCEoW85lFiW5qxs8omIMWxdaq9+/N1t6UbfN9yk4eP2Xnzo7b4uI0Zh709pIVg/6EKH9HTUCK1lHfAcU/cAQo+Pw8gonZBF0ua9ueoFO5XvKceXAEChVqG7Mcd4VrN0cvOtxTlcJlulSw8dKujU6M2zT2HCUqNobolSwe/VmI2znQjwiIgAiIwMATYDdCioUMtStsRYiP9fVte/hg0378fsfu303bsZNLduLEhE1OjXGlECd9Bh6MMigCR0xAitYR3wBFP1gEvIiDysOug1wTy2XP//o1sUJ+aQZ7JxTTqHmkhOQRO9uj8F/OeCXLScydLShbRZtbxNithXnLjeaTIUeBMnafgshABxEQAREQgQEmEFq0KHMyWCuLHSR2d8u2vla2X+68t//6yzP781/W7LdH4/b3J5Ytjd4ShUIRdXvoNSFxMcBPhrLWKwSkaPXKnVA6+p6Al1lYKHJ3x3a2Nm0NE1kUsS5WCQsQl0slS7kugrFsK6M+MZX2MwdmIfQmJkYxE9S4ZbK+2yAFaGl70wrv3hhGONvU8RM2dvGijSwtWwpVl2WEbRCsVNbcH6cwxBYdJEP7/olSBkRABESgMYGgZMUu0NUcYqCM8VfvXpft/i87dhf7g8dbdu/JjpX/9VdLTc7Z2ORZu3jyuE2gWYstW9pEQAS6R0CKVvfYKuRhJFAu2c7Gmr1+8gjrlty39Q9rVtjZxRJZRStx7l1sGGrFXyuiFats6DKYz9nUwqyduXDOjh8/bqPpaHwWJsMoYHr3jTevDZO/28TNz23k5KqlJyecguV7iMQjsiqVkwy/csG4tImACIiACAw6AffZx/efytPsdMquXMZYrNGsTS8uWvo/S/bk2b/aX799bcvHU3Z8YdHGJlDRl5amNejPhfJ3tASkaB0tf8U+aASgaBnGU6WKOzbCnefY0ayF1i2vaFEYpsoYnQVNqcwjughmi1CYShB4VJIQRhlui+tvbfPZM9vdWLf07Izlz121zPysH/FMbggolWL3RPgNzViROQ/aREAEREAEhosAh/dm0aw1A1GRx7jfheUJO7ZM+VO0/+P/GrfHz17Zr4/Xsc4W5rvFuvfaREAEuktAilZ3+Sr0ISNQRp+N0bG8rZxataVjCz73VJ7YfRC7U6ScKdUtdhvEWKsU5h5E18HU6Jilc2zNggDc3rCNh/ft/cOHWKR4zGYQ3sjJZSvDXbEAxQ1KWnrE10RS2aIfhsgzN8YLR20iIAIiIAJDSADCII1ZB8dRwhsbT2HyJHQlfFm2b24ds7V0zrZKs+gjkYO8UGvWED4dyvJHJiBF6yMDV3QDToCaDrr+pXI59MjwLVROwcL4rJTrEhjyTwE3AjOsJkl32DnuytC6Vd58b1vPn9izu3dtamvHRifnoYSNWmlr3T68Rk0kJ9rA9cT0pI1x9qgsVSsocU5oUt3SJgIiIAIiMIwE3KS1EAMcp8Xu5dw578XUKLoLLi3adH4G07tjwXuIHtppEwER6C4BKVrd5avQh4xACq1TZadQQYmi4kTFK4MfToQR+sLTzPX7oz0lIf7TkIqQjCVMfPHmwV17eut7e/nTTza1U7T83CsrP3ttGyOjqIk0m1k5YcvnzqGlawRT+UKp418kMSU3h+yBU3ZFQAREICLAbuTsIrizU7AC1mDkbLblYtrevSvb2ntM/44BwidWxu3s6TkbzaNXhBq09OyIQNcJSNHqOmJFMFQE2DJVgnDj1E+R1hP17KvBQEvs7FAP4Vgqbts2xmR9eHDHnnz7F3vy3de2+eS5bW3DfmzStibu2lsIzfTMgl0YyVv+/AXL5/OJVrIoshBpTWy6FAEREAERGGwCVLCeP39tT568tLUPO5juPQ/ZMmrr78fs8eNxm1/I29kLk3bu1JhxQWOKKW0iIALdJSBFq7t8FfqwEWC/jTRbqhJVha4FCyDCkUwiAecaotCSVcQ6We+fPLDH3/3FXn//F9vF+KzsBsZiYcDyzgd0F3y7ZuX8JNbPmrRxKHOjaM1iF0UfkKQlkWoTAREQgWEiwLWzQm8G5vvD2o7duvXY/v3fv8O6WS+wVEgOomYBLVmrNjVx3m7+cckufzpqxxfTloPYkOQYpqdFeT0qAlK0joq84h1IApySokxlq6Yrn2vVqsqxb8mioES/QsMakjYzNW6jZ07aqbGsFa9dw6qTEIPYy6iVLI+MWzk7bllM0zt29qzlJicxwQY74fMVTojLxGlVdLoQAREQAREYbALlvB2bv2yfXl+1xfkPmBBjFHMt5SyLirmJqZzdvJmzuSWsnQWxgwYtTYUx2E+DcteEwMcqLknRanIjZC0C7RJwylbCk3uZ8RNean/kL3vUYyFj/KVR85ibY81j2korq1bG2lvGLojUpaBoWXbMXacnMTMhpnrPjOPahRhCTUSoUxEQAREQgYEnkGzNYmbHxzN2+syYLR7L2/r6NOSK78ZegpjAcF6bm0NLFvoLci3Hmiq6gWelDIpAMwIsTdUvUbFC/OCbFK2Ds5NPEdhDIH4d49eVZrwKx9gTTFzLF1rAsnlLT8xhtsIJSxegZHEqeIpCN5kguwliiqgiVDJOA4/polIjEKCuNSwOTWciIAIiIALDS2AUMwuOjqVsbj4N+ZBFJZ0XIVim0QqUJdjYqZ17LKFoqk0EhpNA8j1Insc0WHLjxvKaP2v3ty1FK0TXbiSN3B8wzY2Ck7kIHDkBPtPNnuvYHmfu3cVriJYszAkFvQtdPbKQiO5l8/YuREpMhsxxWRmcQ0FztZlU1PCvTQR6nUCoGKithe/1dCt9ItAPBNx7RTEB2UHx4erwnHyByMA1RQdFhUQGIGgbWAKu6NRC7lyxyb0orRahWg15b+RtKVp7vctEBEQgSaA9nYfKEn3zB7MVchIN9ungtuedjkKuuPfOpGRFHHQQAREQgWEnQPmAPTkmOIiMqEw57ISUfxH46ASkaH105IpQBJIEnBj0BkEi8iphnHStcxEQAREQARHYl0Ad+VHHaN8gZCkCQ0HgI9RAsKFZmwiIgAiIgAiIgAiIgAiIgAiIQAcJSNHqIEwFJQIiIAIiIAIiIAIiIAIi0MME9gzP6F5apWh1j61CFgEREAEREAEREAEREAERGFICGqM1pDde2RYBERABERABERhEAq1W12vk1iDefeWptwgkFC2+cHrpeuv2KDUiIAIiIAIiIAIi0CoBKlmtKiY3ajwAAEAASURBVFoMU+W+VsnKnQgkCbSqNUWKVnAejsmgdC4CIiACIiAChyXgC3RcZ9sva3DY8ORfBERgfwK1Cpd/B2M/wb7WPHahMxEQgb0E2nljEi1ayYD48oUX0Jvzqp2Ak6HpXAREQAREQAREQARE4GMSUKntY9JWXH1EgK9GtZqzb+Ld2nQJ9/Te6tuVdQ5d9aL3UioXrVAsWLFUwAKqKStHIfEQne6bGFmKgAiIgAiIQC0BtWLVEtG1CHSDQLsltXbddyPNClMEOkOgrac54ThxioTwinsGv2mDKmT8SUHbCu7CETZu268xyrdosS8Ht1TaKXhl/JatZKVSEQpXydJF7LAuOUfNf3wCEqpfcy9yIQJDRaDbb0ftR2Co4CqzPUKg2VOup7RHbpSSIQIiIAJ9T6CZxKnOYHBNORTLonIZmg72NDUeNjah8YnaD3UiXOA8VrZw6rfYe2RQffCKFpQpp0ZlspZOc89YsVi092/fWTY9aensrqXhJptITHUwtVc+MbWm9a/bcVs/BJmKQL8RcO9nk5fzMHlyzdyHCUB+ReCwBJo8hCk0cUVy67Axyb8IiIAIiMCQEwg98FrDEGtJZbRclaPmpBJ681lx10bKO5bJZWx7463t7GybFQpofKKulFTLWosp67pzZNhexVIfNDXEvfb2vf3y8w/2egt62OSSpTI5S0Ory1AqYg/Jqx8Fbfd3EfsL7sIxttGZCAw0Abxu3Xrqnf7WrcAH+qYoc50i4LsJ7v8QBkXLKVudiljhiIAIiIAIDCWBdhStsqsIhIxyntibD3pQCi1X6MlXLu1atrRjY7m0vX72BDrRGzt9+jTsva5Eyba3nry+KW9E1pf26ACaGqTj+PiEra6esvLujpXHRm0nDcWqjBYtKFpZNKfRpa+G5Em9zbmoZ1HHzGuHdSxkJAIDTYBvSTtvSjsw+AFo0pjQTnByKwLtE+DDve9DiP7u+KsoWZWT9qOSDxEQAREQARFop1zlugiysFRRtNwFNCF2FdxFw1IBylbKZqenbG5mxlZPnbY89KMyh1hBdeG4LfqINyf04svEWWKMFhxBME7MzNrpK1dtbmXJtm3EdlI5VyCkopVm6NhcmxbD3HerTsJep00D2OtFJiIwKATwenTrDXBvXrcCHxT+ysfREsBDGiSEe1T1vB7t/VDsIiACItDnBFpv0aIWE4QOJVHYI3PoOyl0IRxBQxNbsbIjeZuembPRiSm4jeayoPeEHIsl2l6IqXKphJCpQGGHolUuoi9iCTu1OozXSmF3GyJ2GqC/avIbEt3EmaxFYJgJ8DXpxha+H90IW2GKgAiIgAiIgAiIQK8ROEiZqlY7c2FAH2IvC+pGfnwVjpyBMI8WrRHsPI9UqyjOSO+qSyTSomjnvaXYLIbJMJyy5zvawyoEEYVYN6ikYSUJScM6562GV8erjESgzwl06+mv/W70OSYlv58JtKL0d+tF6GduSrsIiIAIiEDbBNoRJ27+QHoIcgrn3n9Y2goWTg/C2CzqXrT0DtpKFxQtBpTwA0UrhS6D1N6iyeMr9og64TB5njDm6b6pCZEdMMU1UelSBPqWQHgVOpyBfYfGdDguBTdEBA7wvHopEcsKNy7LIfNmvK6SP53AGUfXidAUhgiIgAiIQL8QaCqnYgHh5I/LF82wV/wGG+/WdTNkwcopXd5RxWkLXKpbtJxPKFguMAbKvohRoKF1i4nxcTcO3nnhj/e712EwD8e9LmQiAiJwQAJ6rQ4ITt46TaAiNhIBVx5PypHKRcLBYU+7EeZh0yT/IiACIiACPUAgUmCcnOAPr6M9Mov1HlphvBa6EHIdLS5eXBFbbciZSNHyzWS+drESDGJgGxZDi7Q7Sk32W4wSA4smWxspaRKSrEVABERABPqcAEUCRUzYJCICCR1FQAREQAS6TSAhcyrajpNL1G0SlpV00AzKFhUf2HNZEq8DVRy4k3o+g4tUGVu48Ed0RExswdKrWvsFlfDUzmmIoB0/cisCg0CgC69TBYveqwoKnfQogfCMhveAx2DWo0lWskRABERABHqUQJAlHU0ehFJQk5wi1n4kdRQtprCetGs/8I7mVYGJgAiIgAgMBAFXv0cxA7HiawoHIlvKhAiIgAiIwMARiITVAfOVGKOVDEFKVZKGzkVABERABDpLgAOMpWR1lqlCEwEREAER6DSBw+lEmLNQmwiIgAiIgAiIgAiIgAiIgAiIQCcJNGjR6mQUCksEREAEREAEYgJuQDEuwzG20ZkIiIAIiIAIDA4BtWgNzr1UTkRABESgbwhIyeqbW6WEioAIiIAIHJCAFK0DgpM3ERABERABERABERABERABEWhEQIpWIzIyFwEREAEREAEREAEREAEREIEDEpCidUBw8iYCIiACIiACIiACIiACIiACjQhI0WpERuYiIAIiIAIiIAIiIAIiIAIicEACbc46WG8h4wPGLG8iIAIiIAIiIAIiIAIiIAIi0HUCh1sP66DJa1PRYjStKFtHk5mDQpA/ERABERABERABERABERCBISTQSLXpgDrTpqIVYmyUIt4cugnuhvBmKcsiIAIiIAIiIAIiIAIiIAL9QaCLaktLila1WtUsNc3s+4O5UikCIiACIiACIiACIiACIjC8BA6r1TRVtJJKVjgvq8VqeJ845VwEREAEREAEREAEREAEBpxAULLC8SDZbapoNQo0KF2N7GUuAiIgAiIgAiIgAiIgAiIgAv1I4DAKVshvtlAoWCqVsnQ67Y7BIhxDJFSseB6OwTy4O+hRCttBycmfCIiACIiACIiACIiACIhANwmUSiWnJzGOcrnsdupNrWxZemhlC4pVULZa8dOKmxBuK27lRgREQAREQAREQAREQAREQAQ+FgE2SB10y7qWLLRVMRAqXdTa2MpVLBZ9mHv0sP1GaO1xfNB0yZ8IiIAIiIAIiIAIiIAIiIAIdJlAfUWKWg31o0w2a1nsyVYs6kytKGDZTCbj+gOGprCtzU179+6dffjwoZKpEH3KtX41UrSYnIMoWvBzEG+V1OlEBERABERABERABERABERABNoj4LUar+kEfSeEQPUkPTJiE1NTNjc3b7lczlm1qmTRcWUyDLRpWSqdso0Pa/bz99/YrR9/tDJiZAJSiCmNs7SVXAS8rt5oUE8B2+Ow2huvanO114VMREAEREAEREAEREAEREAEROAQBKh0VCseSU2FuhA39PFzO39HJ6ft9PmL9unNm5YbmXf2ZShI9FcdkrPa84MxWt4sON5ce2sfXj4123hj5y9dsWxu1DKZNDQyKFplr2jRR5Wy5S6SSQ3x1DMLduEYshWuh+uIIXVdyXC4n/sH3pqr/cOQba8R6NYz1Wv53C89nf6q+Le0O+/qfvmQ3cEIdPr+HywV8tWMgL5VelKbPSOyF4H2CDST09XlXqdOJYwwLSAalfBelgo2ks3Y46fP7MWr5/b+6ZgVtq6gTQl6UDqDLoRIFYdc8dAkgVnnKKQLrgtbG5be3bCFyZzduHrRRiZnLItmswxas1INFS3GEgJpEqOsqwiw+bHTm7vpVZpwvRjoqtnjUc+fzHqeAJ6pzj9VPZ/rqgS20m+6ykOzCwAV1WaQese+4/e/d7I2UCnphvzrJ0BOzZIY7qdbprT2PAGWfvYrAe194YIPvo9pKE8pducr7tgIugnmb/1oO+jpV9xYs3Jh181l4UJAD8Dgj0j2hhqDqnQdDEbpctFGR1KWm56wpaUFy84tW2oEfRJhblHXweBWxw4QcM/Dfg/FAeLY745XBdeywypfuugDAl1Q4Psg1z6J+FB2ZRtmpl0B2qVAu3X/u5TcoQ62G/Kvn4DqWe2nu6W09jyBQ5SlQ7HBjZlCtWoZS1+h5Wrq1StbmH1sH3aKFWWKsYSdSILXRngSipZPYMopUyUrQbEqFkuWgbGrdUGbVvPgGkUj88YEPPfG9u3ahFsejs38dzr+ZvHJvvsE+uietvqYtgWtG4H2EdO2WA2q4248A4PK6ijzpfdK5aqjfP4U92ARCN+TcGwxdxVxEZ243ntUj1JWKJVtu4CGpjaDTMYcKVoMwe9UtNLodpbGuCwMzoI5dzhLcXwWzw8RG3xrqyXQaZ58ULC3VFMW7nttmnTd1wR4W5t2He2hHLb0rPZCejv9rvZCngYxDfz+DWK+BjFPQ/5O9c23bxCfPeVp8Ajge+I+KW18V/bICsoPjNxyvfg4DSBmqEhR94mWvDoANK9oMSLXLYbKFBPIZjMcU4gEEXC+Qc476NPTRgbgS1sTAl0pEPNO+bu1f+y6l/vz6VNbd+uH+d628uwf4N525V09QDrkpQmBLt3/JrEOvnUXvilDf6u6BaAL96pvHnAx7c6t6hbXTqYWz/0B5XTljUHlhx99hXRR/8Fegi50OEWL7JxS5aNhBUuxVLRdLFpcgBGnJeSsHPGWPI9NddaPBHQv+/GuKc0iIAIiIAIiIAIiIAIxgYqCFBu1dEbth+1VLBG7UjF+/IRKWNSqnLYi9KDDlJajroNMC6MquV+2XrndzRN/0KQzTG0iIAIiIAIiIAIiIAIiIAIi0D0CQR1qRynymo/XgJIp83NT0IShtRNiMhR/DkUL0bCpja1aCIzdBJlYn2Af1eGi2BupTERABERABERABERABERABESgEwSCrhKOrYYZ3PMY9uRZq+E0che1aFHZopO90cWRNgpC5iIgAiIgAiIgAiIgAiIgAiJwNASCBtNO7PTDPnycoWKvvsMGKJj7gzs/yE+i62DsnYt1pbHXJrr2OvahMxEQAREQAREQAREQAREQARHoXwJe1/G9/DoxeAqKVqTDcZEu98/Og1g/K+o8yKiCMucj7194SrkIiIAIiIAIiIAIiIAIiMAgEggaS7O87afRBM2HxzAbe7PwGttHLVpxhDxLI+yUG7PlE8zf2EXjwGQjAiIgAiIgAiIgAiIgAiIgAh+XgNdZ4uahRrG3otEwrOTeKKzm5nu6Dvro48B51kqSmkclF4cn0Oxu0F6bCIiACIiACIiACIiACAwbgVbKwfXK0kl/PE/uh2OYbahE1Vgkk3C4KOVbBERABERABERABAaFQLKEVFN4GpQsKh8i0PMEwnsYjo0SHL2jdFb1ugZ/PCb3RuG0Zu5btELYkR8u1LV3KozWApSrbhKoeiLqRNTMvo4XGYmACIiACIiACByCAIbMc1FTlJ20iYAIHCUBKjTN3sN69sEsqRDRLJgfPE97ug4mgwrKVivJTvrT+cchUO/DTjM+GPref5x70KuxuMcgkbj9nodat/S2n/tEsHVPy6UyVlNPfqwYHmYyTR/+g1U3wiaGTMp++alJahRa/UJT1fulD2MT8tXWe+6D+FUD6sGr8G60//40zsx+YdGXi7PmYWnmp3FsHbSpfV5rr6MCmWdW5/sB9/SS3HoiX8kE6bwxgTr3r7HjwbLpn+e01TJGwl3Ve5wwr7qFtW9ulWXTC04fX39jfMk4DxdP/Thk2jYBFvT8XrJCYddKpRKuS+5YLPK87SDl4YgJ8H6WoJxw4/077D2s579RuPXc+oS43z0//tnzxiHNtY7CI1iJkwYNI6r13dnrEG041oZe19ylt9alv066D/ms71KmzQjU8kuybeZX9t0lwHsR7kft94nvfaN3v5VUhXD3c5t8NkL8rfjbL8zD2jFNyTQk08iwk3ZJjcrzgmw+bALk/0gJDPX966vMB+VlvyNf2EaPE1unae/9N3TWyHsd831btCruOxFTJTCdHIYAFSsqwKViwdbX1y2bzbqHolikAmY2+f+z997PkSVJnp8jASS01rIgS4vuEq1nZ3Z39maPuyR/oR3NeEaj0Yz8q/gLjTSjkWbHu9013u3ciJ5p3V3dpQsloLXWWiQy+fl65AMSKJTq6e7p2ZtXlciXT0R4RHh4uI7iIsvNfbVh/UPg+PO7310P7O7u2d7eno9bdnYOlh/pPzTJv/1xZNH3YoKAHsuKGf+PHMefde1VRvWyUO0lEra9vQ3eJS0H/IrH426lysrK9u/MAoPlKk2suOFFZZSX+eyP8Ty0/2SA3a06fetPR8sXevn4OOvqD9mGk+ra2dmFbgUFkRRFOTkxp2mia38+/rg9IHzRmO0n9pn/ez6PxQok+C0uRWtNmA8nz5WT8C1q0YvuqU6VG9Wv+kQjJXDl5+dZTnZ2mqgcE27ShTs0J4MUVf+tvzPhzsRnXQ9KqCz6KwG8u5Zgjc6C2IrmZudkW15e3reu988v/vF7IHO8//jQvAAC4SK3/2TgfUFT/ri3RETUmfp+PkF5/p1D6J+7mkVug4eP/vnssAeExjpepYvDk9/FXxHzWCwbbWLC1tbWrOfRI1tdWbH19Q1f/AoLi+3tt9+22toamBUWo//CDicuf4JtHh0dsd7ePisoyLc33njTKioq/iAiKTzJOraVeWAEENLdfS8Tb+XicrTTjs/99Y116+/rt1/+8p9tC2Gru7vbrl69al1dXTAXCG7HCzgoLj1Pnnv/4MHv8SQNg9dwrKGvUWtgoiJ3oG9fzouqzIRUz33XtfxRh+FYw4OVImm3bn1jS0tLbpFfgZZVVlba2bNnraOj49gbf/75Q/WAxkZH5Oq7vrFmY2NjNjQ0xLqSa6urKyiFcu2nP/2plZWV+fkhbAFrD3FXZR1eO47jgSU8fDucpZ/nS6AsLi7a4OAg9Q/aBx/8xBoaGlwYD/h8WP7xUr7r36ovcw6pnw5pX8qyswPcff199tWXX9rT3l6rr6+3y5ev2MWLFxG04ieAFN454cafL/25B75dDwilfA7/Gbe+XQe++luv2sPPFbRevar/0p48XCoOz472wat2/tG3Xv4rIvLSAG9ubtjIyJAtwqQsLa7Yzk7Cykoq7NzZ81ZVVfkjFbS+n0Uxcxy+nxpePjYvfUKAifghAGXCKyZkYWHBnj7ttcLCQoSX0zAv5QeL9kvLPeGBgCfHsZCNyLGU7aFpnZiYsPn5eauDCaitrUVLnH8A0/G3xAhtgWuzs9M2ONBvsdw8y80rtJLyKquqqbfKilKLuwXuEJAQo6VN/vR2OMSQZB97Ln3re/06ZIS+XTXz8ws2NTXpGurz58+7VvoPLfMkSKJ+yryna8+OR+YT38G5cNIrDzW58u5g1KLxg6E8qCo6kziuF/1l/uq6PofXwu9wzd9KEzDNAHd3RuM/OjJkU9MzCFpZ4OWMtbQ2W219g7Wn63N9gb+cvvCj/Ap98AOM1g/SeuF3JGxpPLe3N22O+f/oSQ/4X2Bzcwv+/ea1G1ZYVIy1JrARGqYwVAEzROvCIezgDj+FAtHVcI87/pKu6qO6ZeGUEBMzeWqsrq7byOiYfXPrjl24eBmaVYdwl346vByKesnfUPpLHjp2e2py0tfYGFa0tvZ2y6WtomNRH4X2qn3QO+BOJJK2BD0fHRm1yakZ209lW0XVlNVAZ6urq46VDkTOEHPZ2xFKO/bQyT9Paoyuvc5xvLrXff916vqhnj3epm9V7/GOyCj0+C2Vn3H7W1X3ui8dh+GV6k+/xFeg1aHS15g+rwvlv4Dn033mPFtmrx0OeTQULxuCH5mgFYH9h4zRy5r8bcsOrldp8u6ENirpJKhfCYoXvKhbURn7+7hO7OzYBpartbUVXAbXYP4mYM4fWwJXwvX1HdvbYcFKFcIQKl4rguyP8R01Kg39wU+dHPw4ACxaZw4upF+L2n5wnQeTLGRafCNGN1OjqJKjdzLPD973k+ffOfrcc35F4Ot2VNlzHs28nGJAtre2bWF21jZhWnYSu67BVzuKikpsDCZianIGAbnGEnvBLeeVK8hoUgTeSaCpLl1P4KI4OjxiT548sXMXLiDQ4dKCoKU4gng834qLCtJCOqXR35a1D7OzhSC/Dt6tWn5xtS2ubtvE7KqtbeL2lUS7LXcvyiksktuqLKl6V/9TtrG15dbXffqgvq6e53ClwXUxwKi/J0Gb2Xt/hPMMkKRNv3fvPm1YtfZ2GC04vODa+d3BFY1b9B2VnAFGdOnVv1XYiQU8e+N4vZmVaAzFNh99i4KZj35PzLQXwDWvT78jIVsXmK/8Zfa6S9XK8oqt0pcbCO970LTeJw9tZXXTcuJlNjG9ZoWlW7aF0kizQPW6E61X7oVngvYjOY+I7beDL9AwNYX3vZ1Rs+jddLszSw7XDodWj+jIfCZc+fZ/d3a11qzb+uqy7UCvxsfHWWue2Oj4kJWUVtv0zBLW9xLbhlYlRJcBXPVHMOj7SFMO7oQb0X1d9ncoI7G3a2urKA3Bj02s5gncSOWWnB2L28TklI2NT9n45Kzjhno8anfATC6k60iLeOkn9Mtr0APhHX8xvB2tI37zOX+mp6etf2DAUtCtkopyp3NZwJuDi3clv0OpwtY9/2jt3dvbtm1cYncTZhvbSVtc3rT5hWXW6XV3v45Bi+UCWVhYkH4fONFwQIJRgC342lBQUGAlJSVOa55hhg8bz/uvcei9qDs4F+6FOczaoEqieyoy89nXqOLH8WjUQel2REDRXhoaPMFobGZz9Uh4K9C78EpmJ/Beeqr7e5kvZz4W1fU9fmvcBGwW3ile9TP104ZM+NQ2vaOZ6pq0Qx7q24Op8l71OATmGVBftYgf9LlMqpFR8WEzDqbHkfYc+ZHxHqc/AkErc8Ayz48C+uq/MnrDXzps/eHZq5cWPelEKbkPonIFBPdYF6aq5l5E+FVz9Inee+l3ZpP1Mr81F8LECG9vb6JRnJnFojBgfX2P0ShO2cLSgg1NjFt1XQPP5lksWQjDWwZhlh/4sSCcNBCZZaYvBQIb/fgW35llCnxvgL78R7gSrqmh6cYefGmB0cPh0Gnma9Hbuqt6lPxDsRtagEUwpO2Uu75TFV5OwfQ5+dR5+rLejQ5dyzwyy8+8fuL58Ze9ghOfPHoRuMVQzk5N2WcffwQzOWnL61ggEbZitONUa5tNT8/jPrViNVXNtIcYLYTJwyOq+DnQpm8LZ7TchzfpB4cv/Y4/wx91NpzAxsqqTY5NwDSVOpMETwNTkEIQarKujmYrKRYDwMXUDn2bgKlIWDwHAT6xbSsI+6mCfdvYzbHtXbOpsREY6B2scCUIIm0wB4UuqMViEoxT7vbT8/ixrW9s2l//9d9YSWHc4rki9FTh0DorrR8vP7xNJzz2vOsnPBpd0it+nNCtmcVtbm3C5I3Z/NwcwuaOM0HRq9/Nd4BEmHsAEwUfghVdPXr/eXX7e9ErPHRYut7grnDAT9M1MBDHF+XM2sNTYeEJ5/rLx3+oLD4qwwtN/3HhS/ijecoXNxVTur6yaA8f3Lfevj6bxFKwtblmfU8fWmFJrZVVFtrWbh7sap4lsnLSuAyddeoaSk9DnlnTM+dH4Hjm7h96QRBk1qDfov66lnmdn+njRTDrDVlv9O5Rpl9CVlCYSahPZfTvAb1ND9rx8p+B4oUPZN4MbyZZ45aWcNUb6LXeRw9taWbSJmembJprW4xKKiff1raIl4LuElFnSWgVIpEx0o5HwtIIxbxPjiNXukqvTeecKKZplfKfPLxjdx8+sCmEjR3FgaVyrbysynb2kja3uGRbCC5JaKbq1KuiHBLy/Eh/8RI/w2ySmB798meoSzRJgpLAOtrnoZjjfzfW16DPU7aJgqq2pcWSeATsbm9ZaXGxvfvW2+nHRXlFK7ehlbkorBAQWafWNnYsKx9auYPCaXPH3S8luOUTq9XU2GAtLU00AkCAJ8latovgeuf2HYS0PWs91WoXzp9DsZOBGwdtPA5l+rfuU9wLj3QZwiP1hWK+YwiRkdvjwbsvK+fgwR/bSRhxhyqzv2hrCpzKUkgFgx+66mgjw+Phfcfjg6fAI/EbTFW66rCPQyHfWQcczO2DEo/S5qg6PSevkWzCSPw42oyDt4+fMNoZc1MKz2Mvhg54hTIzH8w859VjPw/xMdQF6N5/x2o+DuoP+/skYA6upRuUxpnjgB08dvzGsd8/AkHrGETf488IB161cw5BSRNmEDOBdUna/32IuLRt8KeOS2n3bBA56PcOiHhUaVRYVLmuR1gX3Us/q0ei9/d2tmwG5rznQY9r1vf3Id5YGcpKi607vxPGJGbjE4u2vrxmlWXtvKhkCukJqCqYXM7peHVqRwRAVOl38320VG8c9WZQJW8bf3yFEzCBOYtkinTTBfDRQ78pXJasnBwSMDhxCAQoG6qn4tSNkB7v+2yee14bVWNm8emij9Z30q/MlzLvn1iA4NAN9XXMEmiEp0bH7f69B3bn1j3LySd5BG4vsgJJUHzw4IFNjM9ynkNcygXwC8aD15FTHNrQr+qAzIq9+MO+UnU60n3h7dfzuh69x3kK3M2BcYuz2GwTd3X7m9t2l/r39rOstLzG3v+g3FpbYab8Nf7GxEDswjjErLy81E61tdm9p5NWUZ9jRSVl9rRv2AafPrLSojw7e6bLmQUtAFL9ZWUlLZvBEdP2GOvZ8vKqvff+X1hhQa6Xr/ESU5clNxxqyTyO/868912dqw6182WHL2qM57OL4MvefJX7gkCfl7f4VWB9cY1RXVFJL69T5QVWNbPk4+9Hv/Udlck3Yx+EffoOIWttecl6Ht63Rz09NovbagLmuqiokHisM1hG4igfErhobZF0QXP0ULzKLFVQ+NTKAEfz//s/BEX0UYVRpRKSdAg/JG5A7zIA0hsvOrxtej56JyrWX0J4ca4utFk1ifRFzJHejWrXa15W+puvcIGvgyKFw3rK/wfaG36k1wSnq1KMzFl//xN7eP+ujeAqXACtKC4ptSbGanV3kzFatbmFDQSJcoqClumf3lW50eD4N9d0GSAdBv+TAZAA5kjBvcrS//TxQ7v5xWe2sLqKoE3bcVEWc7sg193ZBZueX7JYvMAFMFnH06+HQvTXhfuoEr+gi/7RXwn7OkQbvcvDz5f+LUIoSoGr/YNDNr26ZlsojEpx8b507hzxtNcsn/6RUoka+IjupVzppNisWM+QM+cxhK/NrV378MOPoPMJ6Hy7NTY1WRZawqwUNJZ1QmO5ub5pTx4/ReGQsHzirS9w3ZuQLl5f3ox0W/j5+od3RuiHbMYtBuPyvPXy9Qv/MbxBA9VRASEDQGqzPmLSnCiB8+FCuM/fMDuk3GBN4rdWpeC5kO58npAwmn491KEH/wiHBOOItXoWhAjeo3cc75mv6gPxHUpwIyut2ujkx/ss3Zijrx62UM/4vYwH/L3Ml6PH0w+n7/svKnIyEz0SfYs28YDD4X+iGz/eb29WJnjPXMi8+aOwaB0F6Lv/lYEUFH7012vWBhIkIYwraLmWRXS30GIh1OTH83C5KkL7VuYWl2gxDBP+WB2OccxTAPHJfmSA+BEhmj+Hf/ryPFrfHvvqqy+s53G/nTvXieWhEteDXNvGH7znSa+NDg3gdmHE91x1lwVlOyI3ExWLoHA4ddCZiKpf0J9vcRwBNv1+dE0F6zz66LbOQ736dXjuQITJlb4crqQf0TUOn3zh1F+FLIQidY0X1JbFhSWbX1ywFVwqUwigebkFVlleQUKJSk8uoXLD4hqsj4eiVoAtIrlRNS/+1jsvO/SMGAGVnLQ1GJcnD+7aZ598ZgMDY9Z9to0YA8YP4SSRiCFk3bHhkXHeycPNZIc28L4DrXo4eU6VAX94JON+aKveC8chc8FvdSbwiHnLFXPA+RLC+SqaVosX8r+OTyX4TBZLh13P64NwloOLIxrc2tpGyx+aR6MrC+ukTQxtWD6ugi0tzVaDW2BhYX6aOYR5cAYiG6K+Z9u4iSlDppguMU+uaQYe9VK2qhDgzzl0W4c/cuS58KIWjIPxhWnb20vgprNA25Y8nqqxsRGXxsITCbyKi8r3Sk74I3dVue76NgpAfPR42dtHn3721/Pff/6dZ0t58RWVdPSjzJE7mCOXV5Zx/9x07WgcGlZEvE1ZaQmCdV6aeT7OJWfWlC7TAeUPeKt/GikXODRiXMtK7cFkruGuOmD/6f/7J5uZW7TisgpragZnqstsZ2vV+gambKB/EGZ7yc5fbPH+Vk0an4gcRr/9on784AdtgwlzeoFVRcyx2DHNKR3OrHpf+M/n/gk9lHGbBq5gYZ6nX9bW1llfkk7bS0oYC2I1pYjQ/UUsOglwu76uzioqy522qbsz++egbIfD/wiyUBkPRvgeztJ3/DbPMk4pkiz1s9bc/OxTGP7HzOVcqyFmtAic2EDhtzE25G7H41Oy6NQ5SQm1hHVF5Xod6SpVQyZ8Ga0+ACu5T8zo+Kjd/Pobu3Wnx2oaaq22sd7KyqFFqRwbGhi1GWKdhifnrbGd5DtiFr3vQ887zjltO6jUoZAV8KCS9JkUpJnwuDWH/j16qC80pqFl6JhQeuGeT/Kp6bUtyFrKWhqaYXQLGCsYXhUofPD1VopAlFDQm6qqMrfub2D9mp2Zs1xL2AwukOfOnbZ63lf7vBrKD0ww38zLjXX6GYvWNlkWxVCrDQESPZcBaXQe3dSt6FrGY0dP9bDgTV/lW4qxBdbPNXCsGBovnFNG2YNnjhbwar8cpmOARXW+Wgl/+FO++KnSCA7GPnSnJbBKKsZ9UbHt8u/kyMuPWynxxsWFJWBYDJq15d4YWvtKShnLUrmJpo/jy0B0/Xv8zkRxxVmvMl6TeMnscC7hXUoOJUBraCBumoRCMfBQcdhScO7iCiw0LyjIQ2FayTiXsDbmB7x73XFJo9BhU6MCQj9HvR0QSNRSIxCe0T0lPtrEK0Z8SB20TEe0fuudSFnj9NTv/vj+RG3Ud9T6l0H5I7dohWF6USOEgEcI0AseftVOObEIqKIWoi0Y+jmC4+X6soawJXO/AoSrqmusrb3DM8bF8guCtioqKBqZNADRT799AlA+qYSe3EugRVxdRqM3M00sw7qtofUqKSkAIZO2C9HfQVOGowJCXrFVVlcT6xAErEMCo1pUyQsWPQfkVf4cgTxdbtT/3PPb/DkQ7A7L1C3FKsn9yv3vIWa5ZLDKzZOrXOiEqCu8mMNXnznT/QTuJJsICX394zY4NGxz83O2x/iI2JzCxePs2W40h6eoBbbeC84s3aGhFFHeQAiiu37huX9eBlkozbtbg4iwsb2+bHPT4zZJnMM+Af97CAYilLkQ8KTFgS3XCiDu8fxiGJpS5By0nIB1AM/BySFQB1Bk3FMX6md0KWqhfuvcCZdrr4SvOVYNs1Zd22BLLOybWNNKyqotK14MAyFBS0dUAu9K88m7MaylJSgUkntbtrwwg3Wq0No6uq37dCcEvtYXq8C3sBJ5IcQioBHW4p1MZrsSQm6f3u9iwvVQBLDX+czP9NXjXxFshy9LEykCPj4xRdD+UxIsTLvWWJa3fOIdpLl9nUM1eN/BiIgh0ycc3rATztOXnvmK6s187/ChdC+k+/zwus6iN6ISjt59wS8HPCpBpegD/LIEaA7C0C/iCjk6NmpLLNg7MHayFldW1bjVsqqm2gpgFv04QlwjiMKt9AN8UeGB5K+rmlc8i+JDcyABvqysKnPcAPE3CUvGcAnb3LbCzbjtIfBJYaV02IW4lRYXI/Rr64BQqgo7chzvi5MgOvLCd/KDWgJRRtYiXha3Xwn0SjsugUhxe94H3u9q93EoM4BQUdz2R7m8vLyBm94ELuHDJMVhLKD3mp+1KNPOne2iP/KdoerrHbTZuSVrbz9lp7u7cDluRvlRhFdF0EirH/TR4RlHD36Ea+FvEIQOrwgKfdKKEfwjlhfmbB4PihWYtKLyaph+FBnb0LFttqDAdy+GcFEO01nNWpObG6ctUFjVRZujZqvEE49nYAIfcU9eW1uymdkZW17btrIaxTixthHjlMUal0DgyIZmlGBVq6mptVziSEUgVZRX6xVF7eDbKz+EIDqLntVvhzOCJQ2oGLzA3OmG6JdgSxpezlZOrFRrc6vtF5b5mlNWXME6W8xTuDFSoRSAWS5o8R6wSviTIqsQxnYTRl5ZGstL8q2phbE7fc6aW1qd2ZWqSU6Xmi8as3huPnFfJLJiTVe8bCQYHDQ0akwaZv/StWNtybx99JwH089KoNeWIvMLKHL7B1yoON19GiGfEATw+cfM6B5t00m/MjrKT9VoPpzLOrm5smTTJIQaH59EAbgJD4drPBl/W061WEtzG3SomPjEdRTcvdDGLatvbGKd67JyYvLE2kR4flBzRnUH177DkzBk4a8aIXfWQTJbfvTxpyiY10GfLFe8SMC/cf0tyDwuvRCZJyjmlWBojdhA4XRBQdw6uzqhH524rhYG/HodOAWC2hqBEr0bEbT07+j20W4Jirj5+VkbI1HMLmtO1+lun9NShCokRHxapAw5Tqmiqn4s31FXvCo8P2JBKxqmk0b2aPOONvror8wnoxIzr73SuYgumvnk9pqtTI7Z0vCgrZMpax8mbJEkBru7+7YIkxKDaciGWOWQYSjbA10zSn+m8oB42jsmYuLEzHpmNpogwi8farmYyU2wqakB14kSiMIuMSPjrqEQ416QX2SXLl2HCDTblcsX0aRVsBgFYUu8YWb5gkYE1OuR28IzFCMD3peeHjZIC62XJSqkSXfCofbIXWh+bp5g+A3mawzNbIWVEtuTl6cEA3LBCO/qr0ZRH01s/+0/VA/X4Qs2NvZI97tg9+9PQjDnITiymuxgbVyy4dYV20Mb2nLqlOUh0ESHzsIvOsZLF6v/Laf0YbGh+DR8Gkv1R9C0opWMJd2VRD73WwkYy8S6TYyNAQi62dxi+qDabrzTgIazyjpPd7HQIUSDV/qXyeCHMQvTVX0pJkCH+t1xhXpFpNSHcknR8wLJweR5LazchpLtO1Hu6uywMxcuY0XbtcHJRZvdyLaNPeIEeEh4l62xdBiIMQO/t2GMtaVABYvNNkJTUWGevf/+2xDtM1ZXXWJF+RpR4ZusPzDTQj4YuMLCImtvb0d7tQeuFrgmS2MouMSguAuD9xn1cSOaA/o++QhwhXvAiWCqYxuhexZlxCeffGI3yU62QUD9T37yE4Lnd3DFlB7cxTqHMbz7/L+qQW0XZoS+TtcZbjz/xde8oxrSI+RnmcX7uPnd6Ow1C/fX0nALE0TDmH8pJR2YnbRpFup5lEVS1Kyi9dzY2LapAmL2mEexC+ct3txk2dJsHzkyIQw3nKUU7mnc1c9p3PO57DjHdf7lk9q6q6vbVqmHXBcID9M2C0Mvi1ciGbez587Yucs1dgZXwvLyMi9cTdBc2AdnhdsaCx0HNIzFOeqdqKXRb3/wu/yjguF8FW+5hHVpDpe2NfpKWx0oxbkYBbUdIANMPi/1TjTCh8D41OK65mNf/yRuxSM2NDhNwpx9PCWW3TpfVp7PXMqy7o4q4pcWPFPonfu9dvf+I7t27U37yQfvIYh1W2G+GJTDueLt935Sjxxe1yXRDAmH6keNz+FeZYGeaO6WILy1NGGxYYw2+UzNzFtqeo6XwR0UexfPk6a8sMY6us+5oBfojGgGjwgHWM9Eu3RE46Rnovmse/4MsMR8vdijnHxXimyS0ElueNPUNz42RbxT3HJQRHVCq7oLS4mRanNBXKWzBITWUXEoL/RzVJcsgYEWMx4iODpod2g/79J+xcMeP9QHKl1CXhZ4nce4tmKxr2xpt/ru8yTGGCUD4xIF5HqbHS8p3+OGWY/l1riOAnYVi3oBOF9eXgB+4HrZ1GgfvP+O1dVWOe1UO1NSvKGoTWlBg1zm4C7ZBf+wDhNaXVPj5WsENW5qo5RJanvUr8I3b5uaF7qcE450c49c0w/KUa+5sgX6OI9QfevObXv89Cl1xbAyt3lohMZItO+Vj6juk15xgP3PKxf3nT0IPAE0tYcz/u9vrtvKxLjN9vbZOsqELTwtlpZI+oJwvz4GPXpzx+oRhLcRvpRx8gnxpPLW2EBBdOWNN1jDwEmsMd7UUPh3Bu6zBakC1RTNqDB+2tJHrrb/4d//OzwElqwOQVB0SDjT0bEFmYJPXdmyu/em8fhZdH5rnfV7HSX95Sn264yXkjEYxSjmWuFXND2erT/jysvamiFsBYijd/WiPoJdFtsVGxgawItnzPqGBu0nf/FTwhVasQIXoWiQgKgVhRK8g6My/vS/n6U032ObooUyqiL8DgOhvwfBff5AhGDc0c1jfa9305edfmiAwhGYtQPimr76Wl/pKg/eoez9nU3bmBq3vckRa0JTe+Zct2U3MCH7hm28f9DGZudtDAavFNe1IjT9+ZmCliONCuUTmuVEc3cH5maC9LFMBmUPrAb5GxDSpE1WFqbFmQmbGh90QnvjrevW0MKiXl7syQeWyIamLEyLrgVV9roqtGGYvZk1zpywYMhdawTtgQiJhBwtLNIWKz2ufMilAXn1g/5Od3HmxHSfZhZ672/d97YeL1U3WCgg9AtL82S862WxWnQTdzOTTO5dNTVVWOVKjrwYTToxaoE5EMHMRuuLy+DSvg0Myrp32f7iL67Rdu23krQvb/fb2NyIPRpctBtL21ZdnhOELepWal4/vCEai6CPPFLpST98zHg+o31RXxyUpwv8X8Y0vioNEotnTVmBlddW23t/+VPrvnjVJuc2bHpqFLetFcYiRga/SqttOEWcXzZxUubp0uV+x6rqWqhpmNEFmDoxeHIHaD3V5u9tkaBhkwVD/VmAC8DGxhaL5qK7GJXznNK2V0rgTltxtNHwKgycFv8K3IDKy8thaE9bA1rz2ZkZmBmyvAH7Nn2rHo5wVMyWXEqk+ZslGcuptlZjBxva1GQtbZ3W3tpoxSw8eQRsq+1iMmamJ7C+jqOpX4SZIb4BhqSpqQUNfT3utSxSEgRhZPbpH1kFlLZ5AdjF8MuqIk15bV2NC3RaBNRGMRriyZw+MGaqTP+CaOdLBYvImt395qZ9c/Mr+jPH3nn7ffv7//q/xXJX4gujk3mYMuFphL+AGwg74LtgkB77AzqlZjGu4aObAJE+HAIKUBxeoDWH96JnHH+9MgryI3om/FZP6Ep019vFBf12OMNLR97MuHRwevj+wSUBTiFRP9GHwJpCg73PuOxMjFre6ry9d+USwYL5tre8bgv9w3b767s2RxxMPq6kuVhYaxprMuATpJnQOpSM4TbJeebA62lwbA3LZhPj12Cl4BmmT1ucn4FpHsWNZdHeevsda2w+ZcW4r8jFamMd3BrBGr1ARssdLKk5uBSSJECWUpWukV3DvXGWGJ45XITlTiUc0zYINdVY31BeyIKtvhKjL8baY/5O7JDQN2KkD8aXSy4c8a1rATee87L6E7wVXZ6fm7VHjx6zt5xc6Uadia7HZacV4TRPsIMTTGHHLTUklKvvAIP+Aip70qVgODZhfE7Zz356A4VFls0uJeyrOyMwvwPQyRnrbCmy82dQVDS0WnVDp/3DP/1H+/DTb7A9YRVkv73mhmqErbRAnB4enzMAoD2vqNWHbY++W0GgHqa/tReehMOOjjasFwircu9cX7SJ4T7bgnZ1dZ2xq9feo74mHN7kuriCUDzlscJ7KbaCyC6BbjW4K1KumE76ZpO1ZmZ8gvVowa2T6oOceC5eFlWsN7VWgVVbsCixk1xWN7fXSYxDG8qJ00PIrq1tJrsglgaUJQvQqV1wtagAHKyqok9Z86AjWwRE11ShmJM/H3UmaOMilnXFca2trDuDVsXzqk9ucNLkb+G6JyWe1r4t3MHGsWQo82o57mBi8GRBFQ4EnEiBy7NY0XZgqPOguRVsY1FqjVipNrPirOlo3hHgNJ7RYLqCgXmRgoZub6wyD2ZtCe8KhRJ0dnVYSVWjW7LaTzVZU325r0Eiy0kI/jrWiBH6XJ4xqX2UY6m4a/i7ayqtvJoMh9BKMhAxbswB3A81z2R9yQO2KujkKSkSWc9diOVRP4SnEdMbXdONNG4IHfbEd4wP269+82vi32asrqnVLl65Zi2d3axJJEKija9zCN80HkqB74fXGyrXPdG5TFCeV7ZolObvd3KkaZ8ooHxHUtCi1O62LY+NwMNNWT2wnn/7OtfxhGDMZvtG7eEj5jMCbSy1a/WM3V/85Qe2C34/lTX5N7+1lc0te/v6m1bl2SZBAYGqfo36NgNwHwatN1rvXtL4sL4Aqfowwq90WX6PCvRPFamobNbAXOKnpQytY139+c9/Yf/qb/81HipsexArYmsB8RnZCM4/s5/+DFrEc6IzH382YWPTI9Y/umKnOtestqrU8kDGZ8A73p50G0ObQru97Rnt9VMKisoK3/wFNRSvLdoJE43yu5FEWmQ1BY8/+eIr5nTS3nvnPbuIck9z1Ok3pRwH4XhVf2q/f1BBywnUiT3EgDCKvlBqhBjFaKD8G0Q5fnhZflkLpAaTwYHA6FvlSLDYgSMXwdaO7EUQyUxm6nh5L/wtDGOBjhGbUsZCmguRLqissmxigQpbYRrRFOwSrNs7PGYrzWTTYsEtY9Pgo4eAVDOllcJKsLfjzGhPzz02Hn5q62jku8+ctw/evmH1tZW2AWN87843JMG455nepM3rPH8FJqbW0+5O4Z87NjaBC+McjHYC97NyFpV9Ky2Rry77deCSMTg4aF9+edNmYJKleXMNIW4BZ06fRTtzxdrbINQs0lHQ9VF4T/qlvqYRPjr6Fk0WcQ3nGkM//Cd/0pd1ksXYSItXVVXOYllh8zBPPY960OgOWnNri8nC0giTVVJSRBtKaY/cIymP+vyfcEDciQgx12QFa26uRnAshJnOxeoXo99SNjkPs0Jg/doWgsXGvlWWyj1Pi2MAzWdw+jQDwIMrLz4J7dPfcKanA84JRgkEEhoUOL21tWFvnOuwhsZqF2iXlnAR6n9qT4iB2NhYcctVcXmtXS2ogBCSoQocguZYR0u5re1sWH/vU/v088/RKM+xgMWtrbPLfgYTXF1RZktz0zY5Mcp6muUCibTOjx73Md6jbo5/48037Hz8jFWVB8E17Lk2TEarWywUN6wBgb4CgawAq1R8YRrxSqmJsS5Rnq/RLD67KBZWFmbt8aMHnsxiBA3z7j7a0HiR1YFn8eJSmDysuLgjiNHahqHRXjsPHtzBDeoJrkDTuHJi+Sqpwo3zIq6RRcDKnEEokwvuJn0wgVX4y5vf2DDM6vqaYoWyrK293S5dvkQsw1mrwr1RdjmNHW8Bowh2tOhwqsNxhJQdWBomRikHl4+a5nZrbUMDXYP0zUKitzT8UkL4ib/HKT/Fy2jsMo+A42GEw0IZxjZoyAMEAMv7Yeyjd6MFM1yPaFi6suihjO+oRao9QBBp80J9O9CuTbYFkHAQZ96W4sL0ygcFhmUZJuOgfJgsGOIC5k4eVotSFuks3L+SxVhksFp2P+kn4xuJdVDgbLasW4rxlQCjHlcvBrk9Da33ewrFAoqTxz12+/Z98G/Yrl6/bjduvGUd7W0wnsvQr4d27+5drPBTCP91KIvarZp9/tT5Suc9BQM/PDZHrCAMQawYhcMaOEMq7VJcaqlqsL+XTIUPrX9oxC1hYtxkJVVc4Fvbb2FtaIFZLnLa7kkZXtJBYWyFNodMjc6j6ye/DiBpriqO8FCD8NCChUKxQ72PnxJfNoDiqtbOkyWuupb4IlzrFNOo9N0BFzIGIF2BxkSfFhjwbKw29TWl0KosqyFD3dxaDIYoC010D+uE0T4sxiih1rdS9ivWsVHilYZHp6EZ5AEEN046VLZwVP2s2K4VFEBPnvTZx598itVslf3KWpzuNzXUoeRYs6H+R/bVJx/CeC9ZQ1O7Xb3xDrFEDbhJki0Sd3ll3RxifNd3SPBj+TaH8q6mthhhpcZyoc1zrEd3WGuGGCdtUZGDALBLlti2zk67+uabdoH5XISbpZR/Q0MkliDGsxXaWEDMcQHuavEcYmIWKOPOHejCLAqabARPtruA7pVVsJ5DmKaJY7twttWyynFfhnFeQ1B/cP8OSVYeoQyaob0xu3zpol2/fo21oQkaOQE9nncGLgc8X0Jg+RwY13Axbm09ZX/FhstywSxG4ShmUALYo56HKAA2rIm2SzgsIp4wt6jMtpIx24A+iR6JDsnVTzNBHigptr9YXZmz4cHH4Oojd9daxQ1yPYFL/9oOCZDyUKKWw2pWWQ6vyyq6jKK0v6+X9n4N3VxAeYqglZVvXedP23k8U8oqSyk/hZA1T5zaoPX0PIYW90KDSSIjV0aErE1obhvfogtSQjkOi6g9c1BpxEOhPVtanCdeuJ/sn70w3J127vx5LCJdlKPMxZl065mCTrygeqUAkXUoSmGvOaX09No6ROviFnRMHhE6tBWIFL5SmOjjClDKcPhFV3Sc2I5w62V/tYZpmFLO4OuEecA8SQFDFjxhCXMzF0G1GF5KsYlFxKTGNsls+WDQtlmTtuahi7jo1tU3s9n0JfBYSt0Ru3P3PkJWhcUQwioRwAXqSb0tt1cpNxUmUIBLojaqjhQ6x2FXP+nwtvOtNcbfBRe1v6W7UVMJ3HFoh/cL+JfGQYWtSEEvj5lqeKvNDZQRNdoWAYU/49nYAn8Gy5STt2eDo4UIjQvwRYwHLq2q2WsPIAiMcKT7L/rp3+lryvy8g6C+zUeKC7UrztwSrOKzVxnjbWLNQ9wYeUlRbivUpQSrdRYLiHi7NhS2O6IrCK6KTy8oeOA0TjxgPm7TIrUn9esReP7Efvyggpb6RoilxUEfIZUkeGklxexLGNC14Hqk0c9yjdvzBCThnIQrHQFRJcDAnKA1kxVnAmuR3IZENLUwn7wzu79+9E8aqTIvZkHIctGsxfOKceEjWJzFQYkDsnFzKUHzVc3vSYhq1gpB/7hjRYfjMOUFKNNX0ZqI2C5gup5kP6wxmOZlXOEsv9S6O9utIJckGDC5TwlIFvO8hGZuDUJ/iVitcqxW07jcPH3yiIVkDNepImJQSLUN0X1IOt6iQjQ0GwpU3kHI+gpt8gSVE6BbiFsQlpOpyQXSKrP/FokYivBFrkcjmp2tlPCvdmh8IndEjZcmWtAqBwFIE0yaRj0n4q+A6qBx41kErWqErGRXG+fkYMAaI9P3+Ni494UYJlm3zpzpZiFs8feyRKSkFeKfaJJopn6XlpClrx0NIYw76xhWGZrJQligWKciJXbQxA+bS7qW6Ejz0qPhUsWRG6/+I1oI0vgnjl2lahEfGZ1AC7xsp2BUKyqKSR6xayOD/fb5R7+GYRxWykEWUvodDW5ZdbNIpi9QClrdOtds22tk6nt41z7+3W9xYaCftNDLtaPrLEQt21YIXp4ZHYJJzkETvWyTWAdH0Sb3jYDvMYROaXVZRKqI2xNQu/iZz5Ki+Ztb31hHWzsaeFK4I/QodbvGhJkH5IGdZlhYlAgWBtd6Hz+yW19/bUtoXgsZmxKErNWdpI1NTtgqFqhC5u3F02ht6eulxVkUA18iPD/yAN1iNs+Wu8Xc4rLt9jyCyYjBmNVbbgmMPXEoilu7+dXXNjSKlRi3jULiqLbYD66vrx+3T2CCob1eehlrJDgkmNS5aWbBccEv6AaMJmMgzeQOhFv4oQ2VC9Aoy4CprKDCGzEtuilXHaVS1pVsmArRHQ2hcFnKGTEMihmUdk1JQwLeRTQLocWRMPzW8ypH+KVypI0L9E00DOsLc0GKCMU8HF1oQ/2CnmopQQJfYNyUbEcuWgpynoMZm5icdgawChpznkxnevbVDm8xraYF6hS1X4PLYlhEUhMxwjFiAtWnMSwfBWjRW1ioV6cWLIawmoUbroBLgdfpJtOGjNr9NGnL87M2Ax0aH8cVZHgc3EPTjgKnGo38CveG+3ETGRixiZlFhLgtu/rWEozACvRqw+7e/tpTZyueIB+GZA2c6ht4ijUNN+3khpXmZdsDGNGBvkFb2dhFy98AQ4r7McKgkuBs8/zPfvYza2trgZaxkPNPsKqpnJ54aJ3QGAU6FoQUXQtjGCwbuqdnNL665+tTuh9y6TdtPCsalAK5BuVKhhVnFmXH8spXMA1FHoP4xOa+AABAAElEQVTTiYDQ0trkDEgOc9ZdwjNg0imk09rbYb4pqwhDdj60LIkRqhgGtaQMi5EtEjtSBT4XAwNWjJI8sgBSL+tHgrq1JqnNxw/BHCwDdITjPBZtLJmjw4PuQTFP5kD1+TTCkWKHlllrBph3I4zfCIq7zf24NbRj+YQereC2ODLYSzv7vC4xftvM6zHG/KOPN4kJueiC1gR07dH9+zCXKWiFmNAYMWVSdvUCQw5W0rhdunIRBm3HXQPFuEqb3gZDm9xdZy/BASyqH9knH3+F5WDfKhjrdZJP7KOsqajE4kObxrFEbP3sbSwOCaxmG7aAx8ftr7+wu3cf4imBogbmMo91uLEZ4QlmegHXuKnx0TCfWbPnwRlZtGaX1hAYU6wx7Vj2yj2OFFKK8WjXhoeG4B1WGS+shPRRvIg1H84vFxq17VYz2fhEsTWzsCpAP7ewZE2ODtpXn32MAIklP7uQdRpLHLAvIaQ+go7K8utx1DC/O8RsDaFA+ILnxavIkp8Ns7q2tmsPHvZ46vxixqWkvQk38yH2mnuAlQKGFKEkznhuY1WV+9UGng3CRzGzhbhlH7qCnjQFwAX6UImJRsCDnp4HWIh3rbW9k/ijTpRaCBDc1xR/FqOOY9jR35orm8Q6DWMtlXJ3gfkg61YzPJfWc/FkE7jh9fX2Oh3MZ92XV0UL49TRQVw75znQSKoHXZ1iHVbwusDwplYyWXH0qr8e0QRGLh9GP4tPLn0Zw6KK2Mv8y0Ho2rQWEoxNgp9ZuDdL6ykhsRP8lAfJBuP0uHfI7jM+4lPKcQf1tTKCT3WkD+0TqDT+ctWrYx2Wl4ZiOV92qB9XUYJIiS6hVF5HShghZXhoR5qOewuFgcx/6EIuwpZiofPiKFVYkmrr87F4iv9BIV2YhVtkCuWa4qvLrLgUBSvwxylTfHUE/stgC/fZpoBsxWNjYz7W8nLRfnDajLsBWMswQDxkrZ+dI2EWOMpyiMKsGJ6j1To7T2EhLnP+pVoWQYRVKZj+wz/+Z4TYYXCgAiU8fAtJZHJZ+/+lHT+4oLXHAEjroQxLkool8cuHuRiCJlFW0rxM/ttIyyIcrnkH4Z1ZP6H3taiAny64iVGVgDWDVmIIwn/77j1cF2os61rIcCIryKuSEU36g4MfMVxscmsakcohwAguzoTAkGYR8BpHc1kiAp9LtiGey2fiMgu8qoz5FyY+bYRNc/eEVYIy5b4m94o4Fpk9yl2GMK8wOcRAyxWnGIvAFqvvJoEN03NzuH4VWy8ptR9g7SooIb7nxlW3Zo2OzdiHv/8cC8GXWLm0sWLCfvubD+3a9Xdg0K4wEZTNKxuN22OILNaST75xLYgEN02W6NBkV5+edOieb2aJ5kpaP50rU5m0FNJM6b01CLm0GmIURfwVOJ3vVjNlvFPQZh4uD82ucbzx1rs2NCIB4LbdvHnTiXQLGsZlXEf2oBjSiImpUVCxB33Tr8k9GB/Ay6GPClF5w2swFrjhoKWZn5X2dQNcKrWG1kprbGDhdWqY0Rq1TZvARAP0mqQmoySKgFBR3kFvQVkkNGzAAIpp5JRkGNs2PTluD+/dtqf3bloCC1x9Q7dV1DXC6OAqg5AkIWEP4aOqoohxX7GF6TEb7O2xMRbT5s4LCEWVlmT/mtHZZWtrrHU3VqQxCD0apMUNcClp5VhYG1rZbgBgFsimJMsa5jFgk2CBFgpr7CKp1uV+pb1oZMkQDgt231fGvwMvnkQwW3Ym5ktSPffZ1bfftb/8+d/i8lVhfaNT9quPvrA79x+wdQwWXsa2AcvR1OQwmRV/xfqUjd/1z+2td38Cc7xjv//sSzKK3bKVL7/Ane9tKykotZ0NrFmj/fb73/3Kzl25btevvQuoHQiQq/bv/vEfSRvf71rgi+cRLHE/zMqOBlELjc6ldRXk+i1mmV8sGvksOIhJaOtQNjBfdNdRGbzVPk47ch2BidpmHyBlZSqG6SnCVUZxXrtyrUI4VmIGBfkLpyuwCArnnSl35lslitZgkQPPFxCEFGMmV54SrA5i7oQPcleSu5W099p4VEyFynvuvAIXVQ8ctNM9va8sc096B+iLAX/v3OluO3/2bLpBDsYL/wS6E9hBl08pXxrFAu27h0LC0T/GqpxEy0uX5pAFs5hPOX1Bj1uhnqG5eldYEpKYZFapG7hLoRTIgg5Wgn+tnQg7MI3rWHNXsFat0p/buLUWs8DXNqAgWtnBrTZYPmenR+2X//wPuCxdt8tXrpDxq8Gm5tbtsy8+slu3bjI3sBLhJv307i1Xnly8iJX20lvOtD198hTt8l375S9/Q2xPC3VjeUDQetmhPtZnD63sFoyT1iBt1yErlWIEZBlQDI/omrS169A4uWYpE6PwRPNUDGQu411bX4d1ucbewvIzSZzuvQcP7DcffkgMz5BbG95+5232UdpwN213QUOrm4Ngr8PHhu6Vkqiikr7lgpTvEp4WFmSpScc2NmHVravGda6AOY/wu7PiccJKuV4BXdWamSnAa0bo0FiFuC0KBaeS7HO3i2ArgUCxvgUlZJZjroiZ22S9WUZxI7pZhfve6h7bL7COLcNsysVPdOghwu701Jz9/Bd/b4VltTazuO7Zbn/5q1/Sn2uk9EnZPPEtOzBhN5j3zQgwShTRhzB190Gv3b7VQ/v22RfqLLBg/UZZs4EwtYOws89neWXGHmEJf3j792QzncIifc7Xpr3dlM3gGs++6DBouR77lIUCIxsrxP42aeancBG/fwshd8FKK1sRirCAMf8Vj6INsZN4jexDJ/ekPNnBwoblrgnGP1awBZ3MtUGs9J2dHe5lkSdlCO3QuraCgLcFTU2xHov2uDtTUkmn9KEG+lSZCGXbSzF/VpambbCPzMCf/s7Ov/Gevf3+X5Nd9rKtIZD+9pMv7Ovbt+FJxq21qdayEL7XcKd9/PieffH5J/Zv/vt/iwB6DYG6BIZzDMbz39vDh/dRSGItrC/FovvIBd2S4ir77/7N/+gC5xMsUZ9/9YX97qPfW3tnpwsqcZQl2kRZB8vSyQe4v4wQ9OjBfbaKuWuNJDKqbWyF/8JqB/2Ukgfxn8/zCji5WHkTzODy+TkeGFrHp3FHVwKi9vZ23ELPsYfium9j8vvff+QCXRkKHoUvnD97zn7xCym0ZK0Hl8FrHRKUDiBQYw5+nFx/5lXNLVFp+Q1pthHB6K8ryVMWSpCCRngd+iFMOhQpYiBQTuYxPxsK2PaEdwrYvy1nH14RnK1AWdnV3uIhAfcePvF5Lhzq7uqyOPTUQdMfn9R8cyiz3mOU5FNYvGUtlDD8PEErWhO0xihJltyk792778LW1atvuouv+KfDLgi9o/mVwp0VUxU0iVamhaY4wlYuApZIjdrPUojnwD5up6xZa0lrbqyD/yqxClxwpegJa4OD/cI/opuKlVUyi1u3vraPP/7ElWuim93dXXxOs85V2P/7D/8ITzeC4iAH93EStCHAX33zCgaPpF194zJ9gUKJfebqUOoV4KHzsKff405FPxVnVs445P9Z0HrhWLzgprAwYOLS8hyMPu4kD+7ZyNgEGpUOu3zxolty8tD89Q8M0/kBSRvqCSB97wM3j8uXOirjsCKYIBZNaR61aIwMDyNofI1WnEBHtNs1Dc32xrW37DTxKAVF2oT1EF0PysiYIH7thEccZZmMysrmE5OFTJPQU+KirdlD47GPubQMpKuCgBTCdGUeURVhWkJE4Gzy0LBVg4R7MMCyTg1NrVh1U7eda6u17tZaa8Sic/rMOfunf/y1DYxBpM9j2k8HiUuTO80kHv3mgd385h6uHm245QSf+R3czuZm53yD2fKKalwPNuyjjz515rKSvZLefucDCGoOWolx1yzu7HZmgnrCuaAX6ZKmn5TgizP2ID1+o8TunD13yS5dvGDtZOxRqm+lm7/38DETcoEx7bLrV6977IJvgutEU4SN//RzQVEuLoOY6Ksr7a1rb7jW6x5uQv/pl//Z/rf//f8wEZq/+/u/s0u45NThbpQjoUYERWOUHif4JNqWwiq2bR/+mkxCxGW1nK4gaLvK6zjaILVFH152WNKFHH3otX4hqzhBC5m+ZMkAIIi3NE0i9dpDSOnQRQivv/eeFVXVoUkrgZEh29bghCsTslkEsrOIC4BIJhNbyC/rLnApW5W0PSW4Qp4th0CieRRh24eIFSjhCdRUCUU2EdjGJ4bt4y+fWnNTjccoSGMtQqv2eswGcGajaXVFgVRNuqMFx/tDC5sYB2lqDZxZQYM66gxkFwzDaca4Am2Tkmw0wGDeuPYm2rJCm8XfXYQ3j82MN2RNgjFRPFZjYwvuVXVY7VLElyyRvpnYDYTnfRikXTS7a+trbvkrQfPd2dkN7rQhrMG4wui2IWivoGxRchO5/aZQsoTxAtaDgY/GDbz0lQKrKpbTMoQZaYe3sCCuweAzEi6U7yMIrML4j48N2Jdf3cEitwDzWkTymPPs/9Xt8RizKDG+gSGaxoJUhxB85fIVTy5DEZSN1Z2PgnVleVojg14few19hhuSLHbSxJ09cxr3qHMoHIo87uwBeDxMH7YQWP2mXKdgKqTJjSBXuTqkNJB1X+4YGndZ4W8Bx9e3bvneQWfOX8FqcM0uXrpI3dHbGrfMI7p+eE1X0mIWJ+CjhtzHHTqGtUFCA5HhcPtkTgNHUzDiyVUYVkwrheCU3LwiYGm6n0a1htr0KwnDD07Rv4P9/fbpvSH6gfmMlfwU9EsxhVNYCG7f7bEvHgxYOfQtxkqruKAkCje5Dn7421/Zp1/ewj0Md+vKBoSBZcYQOjNPQgJoGSu2u7ncpz9/+/ubJBOoA0fa7PKFy+5WuYz1bQ1tuhIFq4kHXcT54SFYRXdlqdK2BnPWi3b9mzu3sYSwUTjKOI3dFfpYFhdp5p887YVGTllHW4ddgw6dI0lHLrglt1d1RpaY8By5dILzuP+Vo4m9fOmcu9Tdu99jn3/xpf2f/9f/DX28YL/4V39D8op3YTIliAeofHz4I/qxh8Z5Y13WwT379Sf9NjCRi0Wnxt64Wgdu0V80TC47+H2CL9rCgk1x0WB7+u90gV5sumwZbDW1PdkE+JrLGBfi4qs97O7DYA+MzlpNfYM1wsif6Wxy123NmVu3/h/7+l6PtePqe+nNqygQClwpKmvllzdvwUBNWGF5vVXXt8HM5QFLDGvmuBXCGO1hZYtB8765fdc+QrmSg8LxwuVruKmfwe1wCsUDCVfQ9MvDRBbUGH2ZJcEAOiWLh3BJWd+auki2UdqAMqiIbLLEjzJuoisx2iz81RrEYouAhjJvS4Ky4n7JBLw2ihCYgJ60QxOr3U15DSt7HBqpWLV85uUeFqvff37HHo0uWWl1vbXhdiq4NQaiIzEs/GJ8U1izEjCxYlLz8PXLQqGgD5tVIOTJNh9ct3SegrZPQgf7odPVjW127tKbuMci9EG3ytDyvXnxPDiz5x4HA7hVVqLc2UUIFB5VVFVba0eXNeP2JeVOIcLvg/stuNEi/EJjZmC6V3GpLi6toG86ScoAlgPfFrRicmrSrV/bjJsyQioxlx9pHAg/or/co76UssVi2ZzG4rCOsulUx2mUvLXAKt6IqRYhZ/TaK35rr8Q+hL9HhAJcu3YVi3a746bCFn75z7+CHpJlDvfVK1eu2n/zd3/niqcJLIsff/q5tZNUpRilgSxaQRgR1Rbl0l8djDf/w8TJaFzGqT+W/qPLettpQXTDLyJwobg/VLJSqCaJTHgo1zSOSQTxStauQtaiIpS1imnNwruoHBp3qqUBV/lahIspt4xqA+r8srRyJ931oToEEgT87Q0lpFjxkJA9xQQ855CABSCO13GU41KKSkm7uE6Kf0iNxtVj13w141kfI7VOGS9zuQ8tRSnmSzlXJTeqyF29C11ZXUnhcrqCsE+SsJGY/eLvqqFpRYGmeCnpfqYbDvucG0cO2sTckVV8eGjAYyJlifxf/tf/2df/Hqx8H/721ygTcJ/FcvnG9ev2Vz//OSEDZ1Gy3PLYwpvE/zbUN1stW3oU4IElj4CivLidQRk8Dn7M4KUwMTNv7W1NJtufWvgv6QgqkO+1RRo+TR4mOoSpAEtEXWOJndqqt60Y7jGby3Z/oAfGcwarUDYWnR0rxN3qLAtqVTkZetC2iDALC8QQBOIsAUvpdXfYQ2oQf+MBkj6MoHXATQksa2ppQhNYj7amDR/kdvdvF5EWAgpPk2gt91m4FMjKH2ALMyX8ZZCZkLKgSfMpNJRPsczLWXKx431nWsR9IHwlsVjsosFNQKSLSS6QX4criAuF/ip/Dg+VL75QglYcRq++qdnef/c9eAkyEz0atm0WF0cx6stHWFNMi9KYb0Bs9yFURWiJiomnOH/+DQh+ns3ifz6BJkkWFNZ7BNazfGMtQ9snJqauWm2gSPo9J3ufiTDGjz2YAxgvznbQ4kv7v8tiE1d7vB+Y2MzaSNMSrtFHMMlaMAqwItU2lFor47dpOzYFc5ZCm7e0OmnITbhK7FoFFo463AIUC1REzJW0gvvO+LO4eudJWFId0m7groA7WXayBBeSCutl8q1gcn/UP0Igap41dZ+lPMzSaEtK0IT4S0DqDeBreXEbSxjxbHfn7Yuv5mwRre/qfjkueQlrqm41kj65S44EtKALUsv1ed2Ddxx23oteVwOiQfXVQK5ioBRkYh9mVkGr8Rwsc8W4a6HdmV3dtMLYkhU5ImbDeBGXAYO2j6VljXHOxcJQiEKgFAuIYj1a2nE/gvGoae6wUyxIDcyJoiI0tjAPSiahdOvlWLsuVhGEX9qINo6slGSsiitNO3rmcAATcGTBPOxnFQIbrIuETMGLllbug5qb2jhTGl1hwQYa4dklhL09knDUn2JsEWJ/+zssOLO4XOCuyacWK8IqVi+9K21VirEqKG9irtX6ZptiprVHVinWyALhG4zKHosI7DMa9QoW2Ev2X5G9rI3A+6rKSmBG6AAuudcUyDKF9TWFdUy46F2cxpvQ+YLfr/p9LWoLszMsgAtYHgjUB/eUKUpPSYDMJnA4Pz8J05qP1aXBNuiPOSxbj4cfo3VexBpSSBtwrygrtNNV53FfgPbg8iFNoQvkVKVykgTzoo9HyEzgLlFgZy91WqJvGCvNmj0e7MGKtghziqsoC1wOFpAONPgS2oph/JLQD623WtcdeuacYlgS9IncOkcG+m10kEUMS9Y61pY6MkidufCGdZy56PFOFViM/FBfq08YLymYQpY3dUdorbA8+oQXuB66iorlBscXc8FxWcgKrYHIIHNhoUZgygOfCuqJu0HjKEj1ajhCueHcW0C5xEDicnjx8gXbJklCMs4mto7/eeAaAhuWLMVD7MPkzbFIFzSBhxKIy6Dr5y7av/0f/idwa524oGWbx/VLwd1XUKqUk0RGrpfaByZOkh+ln6cqT/azDM3bqawhnom0/TCIslvu0id07QsWZ7VCdF6MdFiDqupKmFsttjkIo765ZI/67mPVXHZXyU1iLPJgos5XXYKGtpAQgVg1Kde8hmjJlNJHl6Dl3MvGrS8/RuIVrFR9pKmXVf9R7yAUMo7SrA2hswV6fpa5yDvpQ6cqdXmVDKqD4GPPrH11c9hGSfJX27Bo7S3V0C9c0KoLoNl4ZeCOeenCeXBukXWSrQxwpSuFHuTmSDutOUZhFCqwHB3AE81zuS5W1lTh3XCVMc6yb+4/dUXGDsyT+q6SMSpFuF5HwbHAODXsbrlwVoTiohuh62+hGd14RaysruEmue0Kgzoso2+cPYWSaxZrGJncEtu2iAWvmDUqSf9twLiuYZ3XWAvF9li7RRf3YBx3WHd3+Yh8QsKgjbhigd9K8CEFXVECazMeHvJkKCmtgfZrPzEsc8It6IiRyTUXwbGqqgZ30mZrT5UgOLaQhrvNrqD0q2/AagXPkGDCyYOmAKVQDcq8hkbWrH3K7EHxgweEYl950PtM8zsrC3cnaKu2H0gAS1CqgjcOKIy6z72wr57HoNCGFGvoGsrMFeKBa9ovQx3idg9F8fr61z7vyqBHxdLgsxZukPxEG3LL4qg06pXal5D+ySHuO5/Bq8ASUZKXYhyYj9DlXFz7z735nqe4l1tWcKnCcg+x1EbKcSnzUJpqTmUjqEAZGP6AYBp5HdGvJLR+dwul1+SYu07GCsrhP1rhxxTfKC8bnqV9apfmm+LbPZlPhLDgUvAqoo6ocN6RoLAwN+tCdH1djcfWdnZ1cycGD4I74SCu4SwzhQguN268i/X6uu9zWVvTbIvg/ezipo3PLLEOyr2O14A4tINK+C/4nd6xPsptOKwHaufzD8d94PatbjS+PO3rPzekIFG5iA66yhqzZUnWu31c9vZofzHrRiHKxBxXNInOkvqduVeGgFxTWYT7IzGGuHEODk9a2SXc38DJA1i8Xyg3yb5VKAPcEwJPlITwiXuC5PDhAL9ekdeJYuqzklhfmXtbhHVsZkE3s7Gii8g4oRGlEA2jNohsFuNOdBR0UXwtz3ijw9wXPBKyludTeD8tIOwQ+/iAMJUFFKU9S8w1+hq6WlZUSFEZDdCLASBOMg96i/Zsrs3i3s9WBczHToTRSyimlrHm7u9t2tgw1mss10qGdPHSZXsD5aKsfjH4jsfMByXZGR6ewgpf5BZ6KYFycxPWUlsG/YmT3XHFHjwd5R1CEaBHheL1vK3hKxOaP8VzH/vvH3CNnpZC7ZWSi5YXv9NirDr4bH5577ENzYzZ4sq4naqvRMvTYp1oeepqW2DQECxgXKSR0gRzLOBbgb0zSM6zBNwPDUjzOMakJosRRO1Ud6d14GajxS2/qML9UWWS1usqQ7ikQV+BKVvHYpBisfGboXTH1xyYRGnvpd2U1lDa+xKYwwq0YDkIBln4ZTssEJkEmvoEmmg52Rc31VscYSvGAhEdDjY/VK+/ozMxPHJPIvPT+YuXQHYIPik3h6fwDQfWHaSjDQI3pa1FDGGi5yMoocXEClYCwao4XUbcWQvwbdqDR/fYN6gf7W7SOjrbrQZXwB00YrP4+c6ULrHJ8YBrDPNo0xYLiRgNn9iMhywdCthMoAJlLeZ6aJf+6jiEWVeY5DCaRUU5mJ7RgpUAFy6fX+MaMjA1wiI8YQ0EKdc0dODe1oWPcJMV0kYtCNLWeWliViAITiwlbDB5tzeW0F4Tc0Tmn5EJ/JrRejY1t9i7RbjGMKFzcKlIQBylRzzCpQhAjl3cS9bXyNJHnK184zc2F3C5muS9PWupI6NVK3tUkRAjxCzojdAqnb3WoddEzNKvR30U/Q74HQQtLdAiYBImc9BqVpHc5FRHh9UMzTkjlg8jpmcaieEqJ7nFOlqnDZ6VxlR+4RISlPlraHKZpCrSloswQnjBR0w8DsY+zwubi7AKVda3WmVdB3EHOZ5+OJ85owU4HGIUgJa+R9zgW77waoTmoxwsxGBIo0b9fIQD2htunT1zdikjJ68E7SkJD3ruspguWC57yLR3X/B4K+GU4pjkJlLOgtJ++opVIygpxkTlywIjjbRYAC3ibu0DjqISmPmCUoTxTndhkiUUvTbPw+CyqOWKAeItLRsH/azxP+xsznVoH7lNLGbj7HnyxJnP1vZ267igvWoaua+lFHyHMStAiZMLUT8f77YsGLuHuOUN9/fyziyW5Wq3wnWRLru2ot7nmIQ939iZBdv5LOqSokfucvkFML31FTDjpZbArePRk8dY/0TDJmH+yDKGYNzWhUsPrmViMEpgZqRNdRoksBGy5KI0Ng7TszDLHmujNj1GIh2sajlYvRqamuhj4hS7zloxVukiXJPz6efo8Hg0lDuLCCLaSFXJDtRXsmEGlyb628eXcWZRTrJQx3Il7Je5ZTIPd20XtiRIMgf3KGMHN7EEdRc0YhkHL2NocUOXC0MCXmg0NAo+Dk7YiMehDzq6u5hvlbaD8qd/lLmXW0Swc7a7CcqFS5jq+3KpDdCxApRFFWiHS1CkbaKdf9o7hJV8gD29duws7W5uRKikn/uHJ2xoTIlfJqFvK1ZJXZtsss2qjxAPZYQ2JxkfZAdvrYN2/I8QSPgPHkjJJB+9ItagpuZamCmEAqw8vSSeGZkeRts/hXKuCRrWYLJkNdUSnB0vg7TLdV0aZF6XyphDljHFSklI3cEauLo0b3OToySxWMCFeQr6V2k33rqBwN5shQgsounHjzQpoakw4DDhG+tKWFQCXV/DQjKFK9aM1ZS2QUMbyGBKXEtVhV27cc124mM2ubxNTO4T5gvMJxa1KhRROcwtX+NAWJ/iAVDoYjaCSwnj1IlLLuspscYPSeIhV9JdFI0rCEiLaN+TvKQ4IMUyaw2UpeNU52ncJGGeLr9BvBPM1D1ig7ax4sFQvf/OBSzATz0mY5QtIqbmey0H4Ua0LycPbTvKuSwpclhzpODR2Gv1SYA7ojwp1lHNzVLGtam1zZrbTluKNSAPAaME/IvBbJaVN3gG382d1YCPlEQzUVQGOtl5mq0IihfwIoFhg5a6Gzy4IQWl4n0Ue6k1XFukNKCAySlGAVM4yPyfYF1inRatdqwGFsEKgisRhxIUMej8AGc08MCshE6+dnHB6aYu095d3JR3sCzU1rTYNAqqmalx+JMxlIf7draj3UrxNpE7+9IOLp058DSlygjXapvQ8gJ4ACmPxZzHU7gm8rEs6oQOxsGbU+W4G9IG0VFq46NZLpoKbYWWi066oCX6or7hn57SEX2rAUnK30GhMD5BanOUTCmUcSVllXjWIKSBiHIf5yGnKdqLUHE2chVzPPKC6CWtaTyn+oW7upxNvcuyVkKHu0SzsGQrWYziuNtaTxGPWc+HDMM11Vhob7jrZhnrg5I43GA7gwdPB+FzdoJCWGWmJ4XAYWpzAQGLdW+TOuYJCVG5GoNQewQFP9OH7gh3FaNbhnJBCmvBKIAVw+3Ioy9VBF1IYfrZgYfbxIsjC+teAVbOvFr2lCRRlLEeadzljaKwk2LWbYWnjE0QewpdunQBy10011SxH1Ja460Dnygs2UUISkj75Iceot6Mc63FPmIIwqnEGi7NhM0gaCXzcOcsKKMTNK6az7zn7VYJGgdoOhyDslWCrAflOmvKLyk5kRwJXaD/dkWzCDPACvfVrQHwbxF30w4rRPkjt+nQ0TyiIwIv/Er/1VzatR22zsEVAeVhg9MFZZaN55BJsBnreCPKDazA5y9c9I/2iivDA6sbPmYPV+ERLL5zypANagfslQI0YWWFWNuxGiu2vW8EZSlKi5YGFM4uaAUex8n3iXAdAfJH/QMM/H6PCP+ETtLk5LDQlULMc3KrbZ+F/eHoiI1MDbGQ7lkHZsRT7Z2YaDvR1LH5rqMUYw+CCce0massWSOD/fbbX//GvvjiC4+PkH/ojbff4/1OmE6YV9zMCpjMYvO0vPlAObpSCAVtrJAancxok1jBkiz0YnwEp+aeviVkCfl2UMXkItzkoZmtbsJdpQTGCcQUAUjJKobAtotWMYU/fxxXj+Lus5bDYpgl5I0OCtQc0Ye/oQK/J1hA/6ISzPfVZJ0i1Ta+73IpkJvFKprt+/gEx7AUVFRCAJh0WRBVZXgphYiUk/VG7gALixPppB9YvHAxUGA4lllbZlEZhFGRj/zUzCwTi80QWfxLWcCU4U37O4Xl7hAsB9Fhi/7oinrk8EtZicqJM8qGkCQgYPeJhZucW0GrQfBrYz0CBUJuPS5uwCvyogUhIjNePv2fQFsmN6ldUgrPjg+5q+fjvgGYqkmraGyzt0hl33iqA6agkEVKfQMTIUnwhEMbenZ01IMHtWjFkvbFvTzrGXlq9x+N4IJZaE2VZ9BGIajzbmjf4dkJxb3ypYye4R2VqQ8ac74lLCu42WuCSavCSnCF+IF4VTtaVsWGwJSJqc5ZQhlAXJaYUZhhuftBIj2L0BnM7n2otp+gBZqaJ3ib+VFK4HZNQZNrGlPgaJKFL5s5VAQjn8PC3AbBWybOSTgiBiMgneaOGA7Qhfkga60z2fyiKl8MqBqmA8ItxgcQtFzL/WifP3uMlRIPzM8ve1KZRXBnE4vjbikaOJ6RJl2bidYigMWLKtHI4s6IRUKlaEI548+DkdubrESKD4mhvZXjxT6MSiT4q//cdCHQfXEKIxZGjnOupweRE/1AyCY750DvExj1HuLYyKh5/oJ1XSBddJ2yOeoJMQbACfOkfaFqa/NtmwsLCPh37y0hEBRYBcG8NQTznoGOFOWQ7AYmSzWLOLrvOxNelli5eHKFa7giwYRWsndYS0s9FplxssBtMn9Xra6FzZtRFHS0d0PnKhxKMTLCXn1EO+QqNUc69A+hYTdvfwNTSHY2GK8rF6/hSn0Ka0Y9Sp0qcL9KvXgAi7dZgwUDtE1szehTXKxHR1mct7iVKWgF96ZwjZySorvQhmYWvXzojWJKY1qJeSeB1nkD+rBBTF8e7p7FnZ2WVw+jQdtUlYRwCRU+nt6fouQCSu/zBT4VsODW1mWjYKnGMrWii1hMEKAWp3F9HXLa3cpmrbJQK6273GpFU+thliX47GBVn5vfgC9Y84DqZrUfgV0Witgt4hXIQjdBf21iOSzPL7GyYrSiWgsQuIKqwEERVIeH0CM6wP8ArL6ZBeBsKXNGAfHLuCdOzY0R00tc4/KuNXZ1edzXKTJX1pY0uXjm+JMuQo3XfNqHQdsl5imxSawQgtUgCr/7d7/BsjlmJWjrL126an/797ilolRQhrJ6XGY09s8cXCvBot9+CstVbgWKFWI/buM+Cu2//+CJdbclrRGcrcG1Ugq8cxfO2lZ2uSVwxZSglY1XSJwxKMYdOYfkIRIuhPC+3oQ/XqXWtFw+dayPjXwmJ3FbRgDZwuV9FldzZYfMx8uimXGqQLiXAOKCFwoeZT0sI+thWTzJWrNkqWUEbBSPjU24AlXlwSStW3m/1ppBZ+RFRxrIZqj1RrFVEoy839R+YJLgp7VcCS4krGqj9vbObuAn2Q5lKXZ7jRixkbF1hCz4BJq0RcIMMZsSeJ2PwPVQAfSXL17hWdwBe/tZ79g6AwVlETQxD1qobHa54JoSMsniUwieNsXKrXF8ncyNS9BfMbGHYoMEFQkXnmTA5zrw6jc4qm9hvsZQ8pdcn0RTNDWUvMYPylOCkSXS6Psw8M4GzGk+uJ5drE3bSQqCoFtXRSw3SubK5i2sCxK0eFtlINRp/RfNSlGWJzqAZslFMyfCYR71buSZMBOFnVzRRf6kITnyzcoCjDuWwDVuHuW0rPl5ZfI0wS0VHPAtNyhfLmqj8ERf3fyGBB5P4H92fK1xIUzFUzgthqYfClqyROaxhlWSZbnjDN4nEnZJvKBsqVJUyZW7DIWTNvw9c55sisQhSwghYMrk5jkwToxyVnCzDy3wagL+qkrm+B68wuLEmN3/8mvWJIR2LWaCgYEQzOqv6BBkBVhEqrFqtmXh7gsuZLMuOPWlqzR3g6JRuIc3Bgz+Gi6aUljV4Y4cb8dKRbKGLPl0aw3ydQhwtdbSV1JML61s4q6K2ypgHLAl3v8CGOsddE1xnYnkDN45hAKwhqq49CCFh8KAgU+6ASyY7JW9co24/R0KLiAmrwiXSoddtDajjX7K2uou4Jrs/gkARGDkUGFFWcxOd8FH5yNQl20h2E+T7GbQ7j1aIlEPBg/WPMV7aq6/7BBe7rMlg2LlxZNVI2wJbmUclRJQbvFyHe7oPGNt9KFboXmisoJ4eSyEygYsr6ywGgOz2sS8Utwj0i5zHu+2ZWCEz1GcbGhv1JqXQffjv/89CVoR6mviq7PCQIZuk+iDYxODU8MCVAqjXMhEzYF5Ka4m1qjyFAHzuCfxnlBI77jWAGIBV4ZmY5mMPX325eefkfzhE7Qk79i1d5px47nOILc48cyi7PC2GH3KYFAVwBp89NmUMT9mHXUQXBamLMz0TuQEFZUJpbUIqAwlZBAjmWQByK2s88wt7sfMZFVM1jrp3DfJYJRbWGaFpMTNaW2DgRT7KCTiiz/MzXCo4OiIzv0Z4ILAxmRuZjPbve1ij/HQ3hqLMEFdxMeUSdtCoPouAZoBUSlAE5N4niR+6vIlTqJNkPtONhakklJlosH8DLErxG2t8VSDXYD57O5qt+7TZwjSpy4xtU7Ug5AZWi7ANGIArc5wIqAGgCacu9tmFhvi8a4yZMl9rLwUtxYRMzLSldadQ7PK3iRYQaIRiMYwNJ1+w1VqamrMM1Q9hDFZIIOi3Bdq0CT/1dlLVo6rVWs7zCoaEjG3e/S/GCPkgBOPwiK0TVgYqmpi+NyzVMY7bZFA5rHZESwxylpFa7Sw+4BEHc+32uYELCrWByP68Vrf6jH9C0dYsOTStYc2K4ULVXYeVkiYpWsVJCTZw1UKYpeFJWFuifSoCJMpLLf7LDb7JD3R+CpNqoKDiyHYeWhdy2GAz2IhacHaIPfRFWCnePqS+DRcUVDeMl4ILPjg56I9RhameWl4sAzIAuJCHCu6mFOPzxGO+v8wR+UmomBoX+85l3VLGc4KYchjjNkqmqatbWIeSDoQg3FR9jEJTUnMCdmUW4F1oARGUIxINkK8GBNmUsAb7vuiSB9pBPQJB2XzfLTwceYLoRbRQ/YnwBf1bvRmKEUasbgL+FPNy3YLbfs4rrRVK8QJwWjpkP86lacXNBgvai/H7aiBYOASLFuJmIR5xavgZooLltybdETollCfCGIJCFies1yLrBGX2LpvtbLiwiwVkWBgDVfLmoY2FAPNVoHFzttGWaJ+0jRKMy2cW8fdVum0P/rdh/YVglZdXSsxTeet/cxV6+zG1RC4JKwLhqivND7B6kdfamxY4dvRvDagvU2iJhT+xVzYEkMo4VVIwVUSv+wA9z7wFNVqjypZZ+gT4QSWmA0YmBWYwx36qfLMBTYqbrFstP+OPpnjwAXBEvBco6GPWgaFhY5AuDAvwwyj8dxCcTBJDOkaCS1m5xcRmHCbO1VhXz2Z5Hkxt9HCDu1hPiSwzIu52IK+aeNQWeDywf9GBNWmepQvJMWoQiN+49p1O41AWo8mfhWBTko3wRT1EaeHh8DTHdoQDnqTfYpEa7XAy502DzpWqw1lcftLyfVK2eJwRavGq6IUBj86vA7KC1CLhiWwfs1bz73b9uTBXZumDzV3pNX9y785j7DNVhXE1NQ3Nrtw4/SLhUAgeVnpgh1EzuO4Y1eDruVV2VZ7CrfgnDpcKvdxJ5xEw2soWeh78C7GWK9vLOCqRfa9jRVPKNTY3IarMcyUmEma6Jp61UNFPq+Er8DmNdOvYly11mTLkonVemJsHIvhlMf8XiUuq6h8nMQAbIsg5pfnhf2OT7hYeTIOGPZN6NQqtG0H3CpiLOK4vtWiJCyFwY7hgthMlrELly9ae0eHDeNSNDY5Bl3B1R/FpfrOY0aByPkphO8csiqW5ZNQqbSW+ar04zO+/+P0DMw6iUdSCOJKoiFCt8+35rSELSn9qhDSFOsRZ342n+qy01jgGhUnjYJUySGEaynRYSVA0vygGKggWCgcYE7RRvWN0z6IqtzTtPa5lYc7MAD+TBZ0Tv+ClUzu0upTtUGMv9yuWRNjWKVw0ZfiQ/tE5nNeT1r34J5F/bhCa5ykBI4j6JRVUz9jqroEQ0ouvAzcvsaMOSvhUPyG7mvK6pnw4Yvf4rJStEFX9SvM0Mwzv0Hbucf6kI3glMA6tMtcy0YZIrhEKcL74VntzXYO991qlE9ybY6EGmGvb9HC09leHs2h75RUaQVF8zbjNgMz3bqxjvUOBTdr0cLctI2CW0qKlMP2HsITdz9MkYAntcHc0D6QSn6A4h2B7PAQTxLoF7XwHNseoFx5+3Qn+KP1i/sALTomuug/0i9LqZRizczDUljBO1ImRIfwLlL4SchKsj3A6jDuvaT9z8WalXfuquUQB5eCnxG6uXDk+KE+gmMSzkM+FLynlO90n4bh8Ej/kOt/HRbfrKxBFKrz7nIrrveQ2T7yFneozOEh3g/F2e52odUhmFZgEZIywA+1M70qhRFX/0R0XvfSsHDqT4JuhWVZ1gpvVFEHba8rwGW30ZZ/V2MLxP9NsQ9pMlu8Ko3QC4B0HCqVeXDwjNYwxYyt0Qkr8M2NWayX8JhLWBrHcKdchp5IOa69BN0rjJdzwE8ZV2K4/u7DS4Ddjo8+ZoxHknt4P+JrQEZM+lbCq8CJgHohTP7cn8afw7H/zuBVZ0ZdFXWTEFXnPl35hlGEqK3hurePsMDcgGlj48ykMoxBICGaEWBeEgPiQgGTVwxgE5aTD37ygcdgGX6ss6xGv/rwE2vubcS6ccrT6mpPgVC73g2LhV+grDziYLKbm6yknicwr/qcVvv5qfrEFErrLyKjxSoFEcjCfTBHGyVSVmJzDS0waWIxh5ZCsPJx74qzqMZgPjdwwdAMzYUhlQASCLkKf94BkYYxjYOIMXxdlaFuE79vMTCX37xu5cSxPBkYIo5AKW5lJcHdA83C8tyk9ZNE44vPPrEBXMziNWcsQV/ITK65qTIlEGUDczOwXcU/v5OFrwStpRYoZaIKrdWEDeN1+J0Jaxg3GqJB4gYaCE0GhLttgtA1flq9UtS9xz44qRjMNs/RU6G7vXTuQ4j3FVPHwvv44UNS1j7xIPZaLIUKmm/r7LRaNKSapNonRC4sOqjND9V8eETwBkFWxBPPNTTyRjIGXK9wS1pD2MrJZdzFIKsJB4ePML/0fVjOwe0/+CSk++3vG7T/uDmNG0mXvXH5sgcei8ndjxHjwPjkQmCUhcwXO3BIgvI+2Y7UtwliJRR3pPiClhaSopC56I0rF30PjzwEXFlU5AKopCYK0YaM0RSsaTBBcN3MERhQGEptat378FOCpp/a7R72XSM72iSWgdWVRjKmMU68uc84Li2Riap/xW6j1V+fZG+1XeKEWDClFdP+F8oSlY+70SruqZ1nO9i7iE1niUPUfiES+OhkYMLlD2lYfZ0g09cci6w2erxDIgQlOIkxnhLiJGsEoUEMk3BUNCEch2umGAOuRcOTvn/4dXhD8Q3N7R22kcizp4NsidDXh1KCVPS40FYS6O/EhT5yNtm1kySvIYObki5kx3NgFul7NLvZfOR6peb4mqZvABPjIyFV6ar3YbacYRMgMG6Ke0hQ1j7xKYrhSbLVgvYO07M5PlfC4qr2OQ5yIutdnDGsq62wD95/1y3A27vMVLTdnxCo38f8aCPLVVs7qZFxTxTkgaKKuaC/RAsZ7jhzpKKtzZJ1225dV8mByVafeit4U7OQURaukOEpR1YcXDIEwz6ZJTcmxtmEfRpKE7NiXD3yT5/2bSt2xIyxgEqDmy/hGYKiNoj9UT2CKJxyDvPhdTNgOcQZxOiTWYTd6cU10iTPWmc76ZtxuZ7fzLLbfbPOOIhBEtO9xt5DT+5/bTfvPrGeIfqxoAVXG9oh+sEzYmTE6mtD3taWZnv3vffx6ScLHzR7aHcgY15rfTl+6Er0EYgRDgh2sT0wymhS93dxoxLc0O69fcV8yWMBRQL4oJZ6/4O0wlsxvHvEU8plvRdr4q2vb3pSDylCtJ3CeayppbhKFRNXXIAVKI/+jspQLwmco7SISwKH4RK+K14VL2Osm3HraC22pQVctBGQsxAAtTfVLq67d27dIlnUGN4EJSRruWFnwXFl8HKGksJUvvA2HDrh478DTsRQxEgZk02blX76yRPii+Fumppa7Z133mMj0S9tdVuuZqFPE9CRlYUZm3jaYw8+/rXdGSPWp+yslbegZlDRDJLorwQC9JZWhTvS5Wtv2uU3rrhWf5bYSW+4cJfnBacSWCk19JcwfCvzC2xWehoFYAeW/CDc7lBQnltcXcVBe8AJPqpH8aVhDirFPRufYtkVQ9ze3m7vfPATO0tKdKWI3ieDm7Zx0JwVrcwWzWReKtkAN3lHykKYZ4SPwUFSkk/32dz4YzLg3mWuNMIoL5D5cxl31eA2pvpFH3ahzcPDQ1jxeiwPF88G6KMsgnIrLmBuVcEcT+XNQRdhbmlPB+taIdmBl7eom2uKVRa9lIeGcEJJIuZJBT43jFICnLp9+54liefqAGbxDs4xCfk0px2JOAWRJIgEIUv39IkOyj/h0GjKG6sU4aMQK6W7cVJkoC2hBI1lbT1ujli/d9V/jJmEtOgQfVE5UQ1+Rr+MwWj3DpGGvn/Q2mpxlcaddY3wjqePe1AaiwHfJzZsGitZvxVeaMJ1leyjuOk+Yk3a28tBsYgyEqE4HCo1qiPUHfv/2Xuz5jqSLM/Pse8rARIbsXBnJnOtqq6a6h5V94z1SNbTj5qRTHrQJ9Cb9Dn0LJNeZTY2ZjPWDzLJ5mWsR129VVdVVmaSTCaZ3AGuIEGC2Ff9/sfDb8S9uABBJkAC4AnyIiI8fDn+9+0c9+PH0Qpppn010KZsXz00xZUpTcfl9Cm89sJuagWT9txEXmtsNSvmQ2Ehl8wy7klFjwmmlcdPaXctqExPhIaRIT5J3Q5DTDRIaQ8iR8L2qBdQuaEVAS8ojQz9bFJSiVZcUrmVpWCtuE4xBt+7/4CDx4+HETXu7EpUG5akucI+++lJxmcE05oOjmBhIaC3W4aD8GGdBAGNeEWg0CkGo6xUJvagps4lGVFjDZq5TFjVhfPjjeHy8An6Wfr0Bo77KSAdQ2zzl6RMCwD1XHZ+oV2ACicT6xdOHuOIhSdYJr1upvvnEcBu3LwVztyBlyOvJ1gZfEz7f/iAyTz2fh5jHNAEomVDGaePtyGZu1buZHxH22O0uHHUrlS79zRfwjA2AFUGq0pZ/HrXrJr2SbFH4f5dDt3DTDUVQk1rdo7ze1g6nK3BuhIdl8xi2g/cMxaIGa6GMHHmFDNp3eFnGM64NzmNyoBUP+7RqB9wLhM68lTuk+zR6IQZ1KGnTTBURkVWwlp1aqRxadZIo0U6i0tElupyRrEFlCOVQRty1+jY5x7cDc9uopuOukgjU5F1nTDGpLlCx7zALHELy+fd9XQMzKzUaMBQJEUoRIzeddHozVgBgsgiA48MJjD/g5UhLPb90c/DMvuPJh8zi8msUWTbMFaASeV7t66G3/zD34RrWPqZWUG1pBs1L1CyeTbrIJkdg+nRAbFd0DOAKscgszUbdOxSe1BnJtwjaam7gqhslDYcEo2iUx7VcmEwNas4z+zVvbt3GLM4y4ORTgPILAcnLxL/K5h0uFlTYWuh8Sg9W4GDwZH1N53FIHPwY2MTpqoyODjEjDWql8wEpUtJq7/ISMzHGANOX9TZqtFGbAWp2qe0NiUE9DFDNTzC4MJsZ1k28GdczRZHffgRl3WGWgmCMvL+7OnjMPv0LrPG8+SVTrNviBlrem4wqKWsNaPaYAWgnBAIYQudU55rGeS08RQz5Azqx4ZG0XsfxZogexXI2zoMl5iGWgRanX9Ww10DgFY76tDtX2Pwf8Egefsm5608vxl+++v/J9y6i879vA4w7GXAe4K1ycfM+jKDzMquGHdZvnzycDJ8P82+hcXHobsJ1U6Y4DnMjL/UPkbIO8Fs/VBTd/jyJz+BKWNjN7OBUi2MqxMqpfzSHsipu7eYBPg1ws8kqnVPwyAHa4pO/phHhYyDJQUhJw3iVr/0nLlZJYz+LVDZHxUgYeigu1BfGRrGkAbqGldufsOMZIsdyPrpaa2Kqq5DXyYASS3pKWXzdPqRraTOL7J3kRlKHRg+TxsTgyGVIK3Yqe5YfyUGjZ92SqQ2qHf5fcrBq5ow0sZ60TKHLWpZPF0gLpnrlYpbi+JidlorKZQgwguHbY8Ohz//838ZOB6KMmGV/s4jjBs8C/cZxO5jSvsxDOg56O9GZauDfDUz6huzaf0FeWLVU5ZLNzsQGsSICQ4DMraN6CChD1cxmfxqaCCaNV9F3W2e/D/57nJY1YoybVSHssqc9zJltUJZ1GqzPqqLm6QjBCPro7h1pTJRuYMJHToIMaOPmg+TQFPQv8yZRueGusK5jz9izx7WVe9NM1irGyUOmPclBDkdMP2bf/wH1OTuhCeL7DWESdd+BtsAbmlAPOOADPV0M0M9NByZ6I1ZZsO1EqBVP/IUVWFjjhNlRqZhInKtgsHoinJjXY1hW1pBa+DpJBMG86bCO/2SfWVYIJvHYuVCK1YYEUDi+IO6KzQIf1nfmp97QZmj8sS/M1gVlHXc46wADI+MsOKL6in1QEmrL9Y9kcFjfuG45Rtkavae6oERmQb2Dh5jtZM9euzD1D68Wca2r7/6Q7hx/xWWAb+wc4h0tEI7K7R2qR5Y307cil8JpPqv1CgnGb3RfqCVRc76eYoJ/tWaMD5+OlxASDxz7gJWB6+x15PJQrzLyqsM9Tyauhe++QqB+O/+JjyuHYW2czBITAypKLMcqR/R7LVU2o9zeHM/400TZSP1PevDyZuEZ2A0GhZQ1Zp+OBcewVwugbkODZYRFJ1tZyu31BHVlSRMqIzF7OlYBvWVmnSQxcHZVzPUvHVWYPrC+Ck0IbCk2MZM1qsXrKCJE8avVqGlDgwFpK2azKQfFhxl5fHGdw2oWz8Mt69/FWYe38TaG0ZNujHwwBEZU2wLaGtGsGd/jnKqViAjWjqk+4dbt0MDvMtZ8voUy6uztCkdZyALkjLII1W5Lz+awJrlKY482Qwz97HwKbFdnamBxh8mbbXnRVodV//whzCFut4k+3+6MABiGg7QL/5BvWa8VI+5dFM0iocxRJSpL1b7sn7VKI3e5F2X+tYGBBaZVe/uQhWc1UHtQZdFPBOmKGvVlQ4m1TrYy7nbSzTozMOXqPX+gAB668YP4dVULRPBTzhK5lui2SA/7ZTxYvjbX/89GkScsdeJ8M6q5ZWrT0P/yZ+jZtZhk3QpTeuvKd8MKOtXa9opQwmI1PEo/JFr0Zwuw5QX1Q8ELdtLSX2kwHFURQVrftLmWGXsmns4FWaY7N1EEGhmRbiudxG1ygdMZqDCTBz1CGnNfaRHP6OJM00KrtIGtZXkGGrdOnZGeU/JJjKEurYNtMOf6gDeZ9/ehTfFcjDDdPj0gpk715lXEmoVgdWnZ0/Dg1s3w73LHEgNbzVImx8dQXUQc/PiJ9S2lI76Yf3VFdMVFhKXyHYRC+VZxNkkGHDQdhqpR61Ao7M163rgF9m/puN2isEsToXjKsOW1CQIS3js6JwJN+88M+zGuurCJP3CDeqtDin++NJFJieeYcr/G+jBGBkTDU+mZEthGiIaUVtmiwdjqjTLrEwolxWtstLH68BjnTmmM8qkcppyKFqOwqXeZ1+uYnUQqNJBXWUmaZMZJTGfz1lSvXXnFp21TsBuYLALmIHFyAWFMl9D5wmTqU2VOkivDrU564A160w96IMxkA4ua8RhdOoZQtUojMq9cAvzqbdv0dgRAHoQsM5MMEv3859ScVkWhtGJ7AKVU8RRobSRVYJDvHDkf6xnqbLJn75CPw10HSIXH94K05d/H6Yufx1ewhg1MnNbj7GABRrPMzqBBugd/+Rj9ooNpMCKYOsVAcIdOtSImWHWAYwPUME4Pnaejcvnw/kLZ8Ot76fijIq1CCOcDh1rg/fZe/XwPvxTMwLlcdQuuphNp+LS4TKUGk8rFSMNUGLc5xAQF1kV24BRX2PFzBgO66RTlY/qWqk5x3xHHIxGMNDMp9QkltCfV+P5/vtrqIByAjzlIyHrMeoST7D8OD/DQA4z0stm9yGYkFYakQ2ydMg9MEwTExNBg/vYOAIz+3ukIqF051kh0wUilrxSFyOlwdpmOQwDzS4zUDI7tYaqlpWXPLL+zCQtDJA6U2bm+ts5t4VBF6tc+3+JAGiGJp2t0UF97mHVdAPjANMmKL9gI+hzBF7OZaK+22qiVK3oYFZh/FcpD40DpppGJ6+NyzKDLkZeS/Uy3/sS5nKVfTNaW1/mfZ381iFQ1LOUp71DYkh0dpo2PN+Z0p4LLORhRW3mwQ3UgQbD6PjHoaXvHPtQYilUgwAAQABJREFUJtnM+9CY+FbUOaSCJsuAUsFrrVvBdOuT8HSZFa0Xj6FpI/z+8rcwDtRpVBc/++KfoX46Cn+AOe+bOmiTchPTo/oGAqlKL7B3ZRrmQTP/Mu6hs+w6uzESI2GEOqdilF+tmKj8FJ6SVmHzIftoA6T8xX94yBMo1Q7c1GdzaUBqJy+r9Bs60PYZ+8rUssVYqa5o5W4DPJ8wEOjQ0mfc+7GcNPsIHX1m9h+wCgOLTP2ZZb8LqhsMEhK0TKhllUMWEGWxSgcaywCLzombnWef1L3brAwQBma4GXeV02P6Np2lJ8uf3ewXOIHA0ku9N0GLgVGGArrYkylz5jVMxow+mWMiBHUpzsK7dfsWs5oYgbh9I/wetaNLH51jc7H03jGqgNooLBWARYbBBCzoyTotbqrrqosRN4NV7wj2usSgbLBqPs8ZVo+/4xDU3/02NLAfVAde1kw+ZN/PZdRuEQRZlRk+f5FZUCaRJByrw8yKxSKyNHBQmSHs0zGQNdSA8Dr/8hlqU69CM0ZBdKzGOMyGmLmNu48ZfKUCxuofh80u0d9pomaKurrChu5uLD120l9Io0FCLBHzg+GBQVTcy5ixnkFboIPVjg0m6bT5XnVF/YLqVMx1zL36+YQDD3Yp71Jbk/ijjd1LCIQznN/0YJIxiJURmQS/CXM9zT67h0xE1DE7u0A7k4UuqUi3amKOeJUHCTbSqtDhxOc/+tTCah+Q2KEFmFcqR4keoxH6tD/KhG1RoyKhXZuamNQfxVSqHmuxhT7t5TPimcXgSj/WXUfZr4YV3rD50g6FfcBEyew8KrCos5uQaX1iFmnWZiz3uKtH1yV09EnjjJj7dTRDXr18YoeDt7Mf+vjQSDhDebeLwQZv+RP6TYwds0wcPoEpvctRBSu0gR6socpASz31NgpaYgYRgAinuLXf9AUTD88ROtoa0VKh3OSxVstOECF1vSaEqQ4mDqTqOvuSsYQ9qM+m2ZsyxziNqvsaltdWSVeTUjI+IHVSWeeURUBpbGhFX6rZgmyFslumTml16wUTPC/nmUxABVVjyQIC84bGd/VRrCZp+lwranWUoQz7fH/1fvgO1U+Npwtz7GPubMagw8esaA1w3uC6mWQfG2MVQv0Sq59atRIP2AbtLdQBrfr/cGuRPVmszIFp7VX2VNczQYH66U9+ci78yU8uhs5GhDlUQDfWUaulT6ilo9JYCEHUayzEorOxzFg5rQkOqmcnWxRau/pMkF3GoZOxJB4UrrJUm4srg2KEVW9k6IOqxFiIpo7iLdUHvBYuTbLUIgAOnJT1S1Yo779A/ZVz7mCQ19dR61OBq2KqLqoss0t1KV1K3S5zjF8k4HWgQTCGWvtDhOvvr6BlM4WBC4SHZ9TTi2wH6B8YUQ0Mv/sNZ3ze+gdM3C8zScRadQPH7zBpd4LVG2ngiJaoRUTLp6xNK0B9gWiygUIlXsxiTl3kGPgmv9QN9YVmtExq7NQ58ULW/1CvZqduh4fffB0efHU5dCIYN7Y9DmusvM0zIfaKifeuISY32W/WAA8hPkk0LWvSkf6nmTHhJCtfWmGnWVe/qC/t9PdffPZpeIYxiq++/jr8p7vXWFx4zllSn8GbMLYgjKmFLjF2XP7DN+F3HAfxaPJBmPicozwunQ9jw+yTJXsqUisXlY2Vf3oXFpEvFRl2IDp39XPa86vjINYxqiH+T1YJZ1FBnn4EfwLRQ4OcecjEbT2qm9o/JuM0NdQjqSmqXqktW7KlAidlvski7fDoarjzfDn84er18H9d+21YuHeFifVlVqTPhU/+5L8O129c5fDza6jGX0Fzh7MZ6QNk+OUC+99Onz5Nu1Gk0E7bFi/0in5ikUk3CVinJ9g6xB6+BmmOmZ9innE6xNc+CFp56cQBTxUC5hwVmwcPdDbPPWabptlbwoHEzA58AgP4+NkrzqURo3ELQy/L4VgLm6vR/db5NJqJUWW3yqYeRVVAN11Uir6+Hiy3dXDm1ASdFcvVP9xgZuUO59s8w+LeNZuR/PjiBWYIhpghEGNIXCJRG/8tXvUwOCSydbf4+VPqtDQLzGbp29fCs8tfheff/j68unmDmRHMRD/C6iA6xnMwK/P8+i5eZJBioz/CoC05K46MbEsj0U4ydqELLyMXokUqd/3MOF36jDN8ONyttUmzeKJDzFU0tBCHT+mFM7NKBX2Ftao29L372YwqLJromGtq46Za6Z3LuuLDh8zUYLXrdyznri/XoK5zgxWXl+ECHZKp6RjGolPYxFJTI4+XHtA7ZyOtTpR//ITye8WM9RqmfJn9GsacfXvnAqoDOvPpWggLT8OJDmYnKJNO9q3YORAwajaDI+aCwerZs2mY3UeolX1jjJVJhQYOgyT/RLfUy8SIjzHLfYYVzBHKTyek1zKoz0uoY5Xvzm3UNzENvb4CQ4aJ37DeGu690Hkx3eHcKc4eGWE1AeEkdlYpP9xN0tZ7KZOFj2/2qBjEzMcBCiuACBbae3iC9foHMG7L6zDnrDrZEQWU2eTdW+Gb3/4jZ9b8Lnz3EIPGfUwsoFrRSgd4YXxMsUV6VXYYbbn31e/Rc3/ATHa/qbpsIDQ/pTx1GO74BZgClSFlJrzW+CaVuCU6dJ1LMoZhlJed9ayawHigmvASQbiWFUidHaN2JbJlOVCDrNQONQFSW4u6BYPAKgyK2lAvDNDHA+ooL3Am0BkOFGQwYsOurYTBJKp1qyWpaUZ2V4qMCH2ArjOGZpcRiPkoJkNqF2L+5F/NzFSBoD2qulH3JFQjjGvmWnhqPx8U8qu8FDr7iQmixYlxXQCTdYTWRtJpYUVGPpZh6J8yU/lgijO/njwM8+uoijWvh4mJM2xQHwhz6/eY9HkS/pYVpNuozMiE/unxcaJXvEqF8qBsJOAs0gc8xLra9MwjVunuhfnlZ0wSrLKfcCR0Uf/m15/Q1ibDIufK3GFQ6kLIunDmDBiJEvVhugR2bHdaZQIY+jksgGG19Py5YVa1RmHebvG7QVt7hAXNHxBEtHdj3c6Tk39DnCg31S8o/ypIozRLx97NSdTzCXeErU3K/tWdG+Hhla/4fR1W7k1h2GA+0I2FBRjnJfVh3Ac+gpE/S9T0z8ZNEFwx64q9Q3yOf1VumkXOVmJhtDtZhTt9QfXlIzumYIaVfjHY6sPqYXxkbr8Wplx7aGqYKFA+1D566L90eHsLhh0kZFlq1AMJsteu3wr/8T/+hzDITDESEBbwMEAB838OZlf7ZHQJBRkmUHaNmbU0RTm9iuoTq1GTk6yecczFS4QsTrJjCbwO62hYhlvrCHeefQ/+98MGVsimqAs63+eiaIkRc0flDPp1VMECNN27f59JDWZrra7Qb8GQSRBXeah9acVNzEsvdWGcs5I+/YSz0MSd0f+s0i6es6n+6tXvTchYxzJXLYLM4jJ7KF6wioIV2nMfjbMvE2u27EOtXUFYo17rfJ8aztWTICCBKBW18l8qJHup+KN2Rn0z1R0yZBY0oeUiVsJkeEdqe8JMbVYCoQRcqfhJGFBbVtvV2VL1TJZohbUXtaA6hCdZsSU26KCdMwFz5fI3YYrx/dtr3yF4N4W71zmy4OnTMH5qFIJQRWVCsl8aFkxI3pxlMgdRow4rlY0Ijpq4mafP+eHKN+Ef/v4fw+9vcqBywx36K7Dc4PAKrDzZeJJlVGlqHJx5zorAD5Nspl+hfqA2DJO+Qr24ixquLGw2NFwwNS8SsLpB5k2Qe4F686gED6wFr652gSkqY+x51Ur+4loDPIuYQcqL9FSLJGRJwAIiotBqENaAETJUh+cwgHHj5v3wMUZQTp3mTD1WCLUaubmAuqyYWPq0qMqoekKFIkIxwZurWAIGY03S6exAGT1qpu+tox0KD/XtNraoEqoeWn8X+ySpH6rOET31RVxH7GnwZf2y7qWL9GvgSWRGXRPYjQ9m6RPpqy6eJg4EbLBR+diV9SdW7ZXx7NK7ruSku3pzHRY+CoZ1P/1J+JZo7iJM9rDv9bP+Ufadfoa2ygD9MHwd/cLcq0k0OeZZ2cFy8qkvw8QEhhpQNZxikunmtd8z5nAsDZOz5xF0RtGiMOYfslTWmmAyEBIhIia7Ek2xf+VNDsLO+kvKkbq58epFeIYQ8IS+79nly2HpzgMOsmbSjPY4S+HOw18wA4YGShdHNsCPaQIKPlFGeKapwy9QsZegNYhgODSAajD55P/WC/x0CLMMwnz60VkmNhbMYNPvf/tPjP93bOK5noCyU7DCSt8ck3MrqI6Ps0r9xU//CG2MEdQv4SGJm1ZI8dPG6HOiSp04pNifqd1Z/SCfqR9YYp/UHfL1ww93bFVWbb6m5hgqr/1sS2m1lbIzp1tDV8t6uHNzJty7/ju0k55zYHw3POfnnHPVz745+n3StvIXjPqneocm2BAC9RfwNMrfnW9/E46fOY/1WCajTn8cLn6JQbrxAY5busaez0lrOycHToazTOKcOXcWYarB9tpL4BXDoO0nTzF0tMAEifaj6QzNTibtG7JqWAK2Gsalj4fjQa1rHy4hk4pJs4gwZFhUmZ9/ylk3WGLh3A3tYRoaGmZmcJRNi1hvQld3fYNZVU6i2ER/tI3OuIONmU1shpWErdl1xA7iUtz6qTSorHQwjcxYtTArL0MBHWxuPjl2gr0oDxk0n7DBjtkrmEyCx3DEZX2X6BNDp3jkEL/GqI326CZ36e3WIhg2zT4KXQgsOtl6FVWRjT6WswMrF3S0KwhbKwiIXSOYN0U3V/saUrwWh/5wWVKpo7A7+7OowH39GKzgjIk61GzOf/o5MxpYmaIj1uyZTpRvYIOpNm1L8OrgTIcR0hmemAmrGHzoGTyJCt4gM9BYoGM2QFaB6sinZppOnYR5Y3Vhho5CDWqdM0qW6ZyPMyOjs8a04pBmhE0XHkxNyDImRRRDJA1jfYPyW3zKigDMKqsw7Sz3n+UcGq3SdHVhkKMGvd1bzxgUYdYZOLuxlKgZapu5iYBThjCMDCyLzEZrifnFS1bYKFMx37E8KWfBbn80mCAoMQAPcN6I1BXTTMsagsPcbAuMaBPMDnOCCzAh5FdKKk0wrafOcVr5RU4mh0FhLLIrQa5OIyvkWEWtmPOyjr53/1cdXOrkVLi9dBgTdEZPxzigF0ajGZXBYwwcMuVPJkzHf0krVYTT+S7aEN7GytIAs+YDg4NRZY3OUVa+ZMVxGfWa2eeY2mU1Ev7BmB+tzrQyA2R72WgfGsg1Y9mN4Hsaq3X9/ZwzxNlUH104HSbv3Azf32X1+AkMK4Y5hjG8oLrWSJo1gCOVtD4sZWqgfDw/Q5qY5Wd16+ToeHiEWsWpCR3C+SkD3zkGSpgWmKsVOA3t29I3HZgc1QHATCDDNDSz6qCV6AFWdZdZ3ajnKACZ7NfeABOiokf+avYZACR48JNzj5hSNtPXsUG+AYbPVCJwV9R5Uekptv/oqDLQGTVMRlAPWmhPrZroEEkwaEuYhp5hBvvhDEwPK5yDxwbsQHBZY5rlYMjb9BFLWMlbBcdW1FdbYebr1S4Ij3wFecS7iWGVdWbfUHWYZn/BY4StTSY0zo5i6fTEMG2KVXmIvPODVioZAimPdlbxOlH/0r5DrTIzp0xk6sNEma7YR9SLIW+nrrMC2oBBgd7eljDBgDXFysqDp88JgqEbVldswLM4FFb9GAOsiBQ4Rq1e1NHhQPs1+q3tabBmlWUFFUfM2XfMTfONlZfjTGTBVGgfyxorMmvMPs6Dezf1o59JEtUpCsDS4C9hLKEsPaXJJeaHhBoIexxLVDIDfrLxeBi98BnlSJnTzy+hljnARNDPmDyS4RDNZtczwTSKOukwhiNebT7D9B6zpSc5DBdVODGzEsoUcQd70QZYWXuMsPacWfIVGNo6ZqE12z+MKek+LLZqxTzBoOxaGxepBoARySOCTA2rVIs6s+sxq1nUBUwLj46MUX6j4fh6c5jGzPRzVthk+GCDMtEKjwymNFEmEVfVA60ISX1wjkmeZ0xioC7G+CAjDrJYxwMlQ82m75IVrgYM3SwscJZeh/Y3ZJceYODXVxphNFC/mWQ8WVadgLknX13HNhHQGzmPpgHGmD6NYtCMvM5PMlXsOtRtWKFRnRezZQyXRV3KMG+x/GN/p48kShyavOqlTl64eCm0cCTEpzB2Y5jh1vhZxwz3IBYJm6kDQ1gKk1DYAvMptUgZmngwORNajmG1EPP7w8Os4LIvVtZrxYy2MSadu3AmLN+4wTj/is3xd+iTEd5Z0epmwlRnW6ltaiJq+ER/OEPdeIFg1ET/009962JiVcLcCqsaC/AHy0z6iBnVyob223TQnsdPckYfmgK6VM7q9/rpZwZRg5qFt3jGqvTaDLyAcks71UHWstzZRt+rNqgylBpVJ6psE/Qx3Zj5/+QiK3nUsRlUta98/x17oWEGGb8kHGg101aT1P7BTiqEEhAGoV9nWLahHjsxfjYMMLnTS/1cJO7Pv/gFq9AX6Ef76CsRhOgvO1BlHzhBnUettMVWMpQDVQLqCxyPTNnL+NP8Kw4xRpjVSrv67zLVLjGmKlMmQ6VmpYnV8+fO0XcjqMAYCw8aOX8if6PX0sXHGk0GICQfY//XmVPj4e5jJk5v32ZFmaNYEE6bGX9UZ40uq6j2pxRFHKOzV/UtWcejdBVOB7VLvb2l5U8Q3j9jRYXz6lhBa4cH0N4bGa4ZOtHFyhC8AmqhjdSrzh54BPgHqRG/YnLwzt1bTJ48YAJiEUz6OTduELmSflMTXdQd5e21l9GFPxGWQFBWtHKM0Z1GaRnAfzST/onhoYASh5REwgp5WAPHdVYUe8Goi7HKVK7hfV5ijOzB1H0mfF4wYYImzihHU9BfG+ZWjllCBhlpQ4MmX8V7nB7DgBUT5idZnf6ePfXP0fh58ugh/DB7JUmzgcmmwcERxlhM47OV4sQIK5odaKqAkdo3UzekA94xMct+ypbKSvM2QgUv1kWtMiHzgjYwOdnEZCBCFmUuP41N66FnoCVc+hLjUeNMpDQw6fT4BfwTix9T9+DjOLsTzS/VLQl0mmxRlJYlg1J5Qq0ZfmMcvqQbfD4ZPwH9HEnD/u3WTs78o2/oQpg6Mz7Eau8r2B3ae1sHCyHddoQDXSPEqkfSqht7dJmIvo8WGvNu9HcTaKCxfYS+Hy/5VXzOXQ/dk0aQfbqEUFb6VBaN2Z10xupwO3vptCioQZZHj9HBtmBxqIYOpofCqt3AHChmogd09gSWpxpUMFQ4q04lJiVHP55ppXZFJWCwGG5jsO7rtDOKBgammQ3WIaiYvqXTiy2PsDTaWG+pgYUKLCCsnVpV0Fu8lD5tAnObHCzIqsMGzGA0P8OMtAwYwFCb5Tg2CDbTWBqZNbK0rJamSLK7bgkaPeNHDOjIBGZ9O44hgHbCmA+a1Tn6VvSX27AChMW55SEEOFnRQTBjYBg9fT78YrM3nJzmgOfu4+EkM4b96Mw2Gl506syI9R47zob7P+ZMDBgUBh5tbpUqhfb1dLBh+/RpDnNGN95mf0WI6DU89KCfLt3Zq0A2e3oxubw2DEOJiU+EyVGEO00CtTQv851zxjpnaTSb0MFADNPVyYywmGWLUpmhobXDcAyj6lmLKo42Y8cOXICo+VmXwVNWRrzLklc3q0Oa/dbWYF2KU2c4qGNvbOpiXxKDLsIJ8yyhEx39wVOsqA3Sial48a8Oyy4Isbj1IqeKsjc/u/yjeO3KolZK+teOKuT4qQnqA3X9NNYiqd9nTmM8gjJDsQq1m2Nh/Cxnv7BB+vwS5w3VYfoXQV2zfWfOwPDAeDSgQ9Q3OBx+9oufh6GnqFkZky3GiaGWvAgLzSoPsCeki0HS1GFgRmTl7EtWIbS6pT0towjZ0nvuHZoOw09hPDYZDPtYoqeDbIbxqLG61BVGTp0KP2/sD/1j88wmYl0TxkCHEL9Eja6PAX9khHgY2BsaVEJarWXVA4bsyy8/48wvOmfaneGh3h5GVGeYDIyOM/PVFAZnWGWCie9H2GzT7DIDp5hVKf7Y4ECQiKUeamHgOHyZ9l8LJm3EK2aPL1ZeVYtLvbdmyIjM1EypG7GuKNa4ItyGOlI/s8s1MEqNnKp9nHOidL5LQ117+Gh8BTPtXaxW6UDwTkzeDjIwcJwAeBpdYpzBop7RoLFB7QCBYpMzmJhdlyrTyVFWQxCoNFgzNRD6iGONyYwO1C0HYNS0miG9/ngpRq3a0pnETMebASGnTVYvsL7K0RbaTDw0MsR+rSfMtsPIoVsfa3+MwwBRW1fEdFqqHfHSk4iBAU+Aqf7LZBTl3YTg0M0ki/av1mBxkc1U1Cn1CbEfW0YAb0BwbKXv0BX7wxhzSiG+6S8uErSIv4HB9vj4ufDz1hHUqDlcnMkRa7d814HQp+k3G5mMGqbe6OwWCdxSKfnyp7+g3rHfD0ulQ1hc1OpeI4KYZnC1d7aPSYPPmWk9xkrjHEx4HQJGHUKKJmE26HwmznAUCOOEaLNsWhtPFOKaiOZOs7EBf4A+RRNF9TDaI0NjlF8fgnJd+MVFzP73DMCkYxyElax+GIce2qVmnk2vT9FRl5tZVTo+MBLOrSIYcV6YGUyxWWeYIoigWPhRWuxjqkPYEn3SzlD9TgSJ4ZeRjxE2pzdjst4s8NGDrZK/vuOoYp1CLX6UciFEPfXPWgxpiIG1Kq86xNdY8moh8qmfrthX6Cm68F3gUBYS/k4IdwTjc9TTvpPnYh1FaNGeqLNnxmGGOTwX5kg01sJ8yoLaJ1/Qn7JfqbFnMBznGJah4y2sRKjG047BpwuG/6f0V8foK2aZpdeuPU19Sa1Q5T8Ec9aEkKF9XIODYMx40Nzex8o5AvcIgj3CSx3tRIf0Hkf4/YQyHlpsCUv1HJdC3WxFG2WAiYEuxgJjOukXZERBKug1HMkwdPIFq0HUQzIsU+hacV8DqH76s4kxVgjQMhBwWtHTrPwf/eynzAktcSj0sPWFLxiLZLZ6+iXq3PVY06X+j2EpUwy54QgW9TzrQNbPP18zQawBQzrjw2O0kTos77GvlmYn4Ud0avWthhXQWvKsVdqzpDuwLMNCCLRUA/XjxkDz0osgewE1s87jo+EEarGtrLKNsPdLE2uWVzVC1WsrRlR06Uc1cfXLX9YzBsDIM2bYZdXA/pRqgtGuNwla7FXrAofzZ0/ZUTK/+91vTX20hz6hnT5dx8bkEWWP3FSbCFx0iM+WBxGptqXzERGsGPvjnncclU9uKeRxWWAEI00NGJVgyivlsAzOCMgcOyEtpyVWe1++wiz6Kv2VhHliiP5fz65mXWlOq55U95UL6kwL/XHjBKt4GLDRvl2WaSGQOxoX6iDWMcPfwMR1k/aL0151DM1j9urdv3fXxtmPLp6nvnKeKgK0Yo0XT6WOUrlV29S1wUoN2LaOYiSl3Y6s0FEVOsJA1i3VeprJ7wjtceL0GSaqmNxgfNxkf5OE8JiC6okwTChaxPamvMqPuhVbHeW9DqanG5PqY+PDtEmshypf/JpYhOjrbw1nzzIhy5zvCit5r5iIbm9nfy5jnSYp56h7UonXqrzyln4xbRFB30s5d6Niq0ldDioFOtzFHNPWRU1rSz+TCqoDCInga7DgRXGxxc0uCVkvURm8ffN2mLz/CB70OHsZzzH2MqlF328TEApwhC4sDoMItd90/wFk8tt/Cre+/q1t5P7lX/63ob6bA/5gLvhUfZl0WzCEVFzNskFKCuj23kr1Qw3B3qKpcM0BamVjXQM+3zT7okrI0I8Z2lhtaSNcijMrNb1qFtyaqr3EyVUVvM2O45eORSGyUJYHe5ODXfKbnuM9xVjygnMtq3G1q6gcMXspaqSeokMmTdUOmqUCpJkDzBOyYROGmmVVXWogqaKldGJyCquUxKRktS/rCNWpqYlJLlFDoj3HePDNK0Hmecc8qjoxdpUwLwICss0VUVaXq3Pto4sGiYoM4qJ4lLpS1l3NROyfaEqrRtY5WYL4YCYY2774QveX2FOaGF8nPJvGSQ1xy34aXNUwlap+an5iVM2kOHuPzAqQ8mphuJV86nmXl+gy2qAI8pQ6fbbBCd+DyW57NN6yQYNB5ll6yPJb1hlvhQcf21xKM/OfJW8Mtmqv9P61ehJNcWkvkhjXmiATJkpTqNWyKhizrdKSKwwWf3UpWqPNSoR4VC84ayR1YPJT7VJ4hYsYo4aihmI0JpBUwrHMiJXWFcs71g/tiZOrSkntMg7YijNRmOCxoRFGTZa3NPDpUgrypzfVHxs2mYkzwcdcseKWDUCiQowI1mYJL6y0yo3iEIxIFKWUX/kSDdFF8VouMrCtjHGLlxyZ9eNcMjWGRw9nwl/9+78Kf/2bbzBjPhr+9M9+Ff67v/glghH1loMRRafiho3iBxMPfQw/5FmpKP9WU60tKFG5SnXjd7/5Q/hP/+//jWXGyfC//K//c+hh9l0Dk4YiKU7qJ2xEjWo96yCkJVMnil85iXgXa7xyGf0rTFY/NbglhsBGVg1SsZSsfAmz06X48iumIDc91VImtZvs2dOqFkzNJurZNsPLKpxMnqvfiowYbZcJGq2gaWZMh8mua7Yi/re8GOGWkGKnHBmgVW7qj2zqFEzpLTlqgrrGr4lVbDHsYmJESw0qPDUblJnqCdb0amqxxEmdYmI5wCcHJn9DI3WjTvWDALa3hIE8zmjjKbuUuuJTDVZZKS2RYN0/9/JLPjVDTP9jhGqmmL120K9RRl9j/WD1JMjkMUIcfy0+valfpKRj/VRquvQ1ji96S656rnYlehXKhicSVHFr7tBIygLJn9qf0ledsY3wYDj/4mm4i6rO//Z//FW4N9cWvvzFr8L/9N//eZgYbGeCII43qknxUix6K7xLcJUqoHHvil0Xq41iNrlkglm/2A4IJ+IkRAcMG1l9FC7M+PNXI4F8qneipLN0VNt1Kc30M4fyP7aCjZP6KfUN8mqXaE6x6y6k2ik15SR60z22KX0HJdFnk6/RFcftL/xurqEtQ5oSlu2oEmFCPbPVHjGklmbMn9JVT1RPLYn9msZ8/CKo6nyxiJTCxAyINoVJ2VG51RF/Ta1GAKlMs6rDk2UGgVmjfC0TH9pYbPvHmGAWnyU/7E6z9tNKZLE2KmC8tMcxdg9qTwjmOCtN9b91MA2R35BLokThKPdN8g4fU1PXxiHtq+HytZvh3/37/0B+GsMXmOL/5c++DGfGhmmmUq9UWPVpWe9k74qHWMlojJmvqiNq29ZvQbn8ISDLh+gQJkarHnRlXvWavqkmraHSO4PWxndXLqMyzX42NC9OnhwPP/3iM2PqtQpr/JCYoddcMfXkKUtY/Z7KXmOF+lnNaqDiZNUb5FQfJIxoz774kxomgRk4yNYKZ61eD3/3938fvrpyNXRiYOsv/vLfhpPjEwiGUQ1OPUDkJxJtSlNYqCRTTkVV+om25FfP5Zc1D8JqpTi/oNcwJhz1ffLWnfDr//xfwv/+f/47JnS7w//wP/7b8G/+zV+yl5r+i37W1JPxak1Yd36KTa2G6s4ENPUSXkWaZZexSHznLlZMwePc+fNMCqOhgSSms/nsnDvCWF1VXVZtY0FEZWz7SpV3CVmpA7OtJ6I6z7fStZzISeSD/xzaBHdufhd+/f/9Tbh943b4GJXDP/nzfx1OjA0Zf6IeOe+BhVsMGx/28K9o0iWMuIlOHvnFmh8R2ww/fPOHcJ1jWFD9CD//V3/JWa8nMe0gPjf655bVgYKDHAuXeop9vARS6sA0GIgpiSxHFKXUVctNHZcap4YGhYlDhPnkVRmyS6227Cp8tA6Uj+YluqfiLgsiD5XRFDzokygoXtoEL6bApsto8ZqJip7kE1pV0UxQUqWjuPgZw6uvVdMSDYRRC0iVtJRghoA+6Vdyjw9ajRI7p6ohVi4xvfInamLXryddQkBfdI+XQunSX/lNPhRPZELi9zLCEVhjCDHFituUoBSCJ9GiqhlZ7chyyiXmg49kk9gVDFUSi0f55nv85bcCmTjucIlofropdbuyVpIwUP9v/J3SIT1LMvNqsGfPb3QTydmVHjU7qbxK6K5R/mwwsMyaz1ge8iOPyn9GvMJwyaeuFJ89aZU0w9U+7vCnlH+1HQl3FpHSyK+4DiW2MH6OaekvLvJqhRNrUsI05SDFZHmkjts9i4eb0Z/iU92ytmKuChkFd7krPhOy8Kw6pD1bciy1D3XSkXhIMqLsrwiMflTHkg8esq9xggOWjD1OX375SbjLnrLbT+fCV1i8Gh9qC59e5EwkVDHUZDdY1WFenp8mjiTMiXLFGtNO8RfbnQ4r1b9VVsZXUG/elHCiySDcVLaxJfJAPDF8FERTp62Ydelb+uldKccff61CZsjK0a74nqOCoyLQVfITXyudYr5SrvQVSi1xMVGqo4y26qeEuTFG3C3TlAszlurK4BK5qzwVMFKqmPK0o5sx7ilnjOzqw4WL9jxL6DFrb/KaLtVR7QMEP9EVLQxGHCXYKmmtVmkvpl5ElvJTLety08SBrlRmlk29m2v6IxRJl3qu0UaXSkt0Ku4cY4XST/Uk4m/xWPuQb9GsK/mLb/qb6MtdqruZXwVXkRDI6M2iTXHoVc9KdokZ9acP77N/5dvw+7/9z6hvc7bixEfs1zvPEQ2d8IOiK4vH6DOKjXqLw77yR23XhCw55PmQky7lNtWb6KCy10ex+hnB2ZNaQIoh9iqJ8pg2n8vwyF35IMZMX7MgeUj5UnoqUTGW3Kh76pXskdf8kl9VDsWVX1v9lZIhFtVttVulofD8hIkGifTOk/KlWOUaodFbfJJBAFU0/VP9iL5iGkq7EDPehJ/KJopKJd88aPIgHcWgOAxm5SXLgEYJDSMKHVPWh3jpDMN4iYroR+/CyWiz9pr8y4cu5QG+wSbhtKWgPpybOBH+9X/zL8Jfc6TENxyOvcoeqpamX7F/qxchQpoECpflmyeLiWjVzuzK+qwoAMgFv4VkkzcjJ4aw7yV33GLJajvBAlYInyFoXQv3J5+wn+cSaqJDrAZhhZIBVnsR1Q9F3iNFVv2e4o90ZQTpprLmCCHtBzU1da3wW0WGbisr8IR5tgkmDHytsF9vmr2c/+Vv/hrLubc51683fPnzP7XzxVpQJc7mnywXkcsmPkuOGmREJErSXR/zVhM9RXyLORE/EUGu+Kb+2iLGXdjzk5Gn2TlsEVz5lpXWLtRI29AI4SxTjjdobaVGKGkly700AUVV0PTdMqu52r5xFQFyimNfZDl1lNX9btQ9pc4Y04gpWtmqLltFVQRgZeN1opW7rlJW9cAv/rfap2f1d7OcIXmHvfxff/07Dk6+yZ60X4WLn/+cFXT25ipYET7ls3DFEbbgUOUxhuBvedAqPt+tk9ryPl7KrSqMflYLs/yrk0jfBF8SHYSP3CNK9hQfcStcZW5Z3KUeIPmLMeVv6Wnnu6W5xYtml+mo1AqUnCguVYKMGEufZ3qo9LglmjIH/FpQdYL5lcVWQCF+K7nb4JLwVPeaY6eY5C/mvBivXIv4l8eptxh/SiV+j45KS+4xzZRe9CG32PHHQTp2nWnALostjiYxWOXfSFql687vRF4eP96JR9gnikvfSw8JhTzqwqfc8Q2elJZRovylOliqG/lAaGViA295ZlP66R7jUtnlpWlJbPOnPFykptJr8qPGruf4rr+p81QIUSjaYu2RS+Wlck1xpVzk8cm3Ykh0x/foP6sdvKTwxoiUEtCHnPYUJn1OaaV7/J5iEu6wM6gnnUEl5o/nOFbg6p0wgyrQTVQTznDWRwdqE2LwtF5hLJJWoUuUxDzrPT0Z5Sl6XDVAyBKezi0Tex5FiayWZ0RZkeNR+dKQaDOwSiWLpxSdIueqfDeXrY5V/BE4S9Miqh5ZxSdhSztV3yEBStwP9zSYprRtJjuboUjNdTv6YwIQbP1RAkH32B8pRWXH4oyeC+/CMfqVL/lTiZTC4CI85a5L9ywFe09/kv/0XvSf3PJ78h1jkt+t8W6NIfnLqUsxRr8pRHKtRmf6VvJbeijPlzGlfBMW+qKpAB1M/PjRJFb/bodHWC699Okn4dSln2HNDXVk1NNstTDzrxqpqPNWmuLPErSbKIwpyKcx6BZef+Se+eUp1nBm+M0tuuuvfCWfUXDBoewqUlD2IYs+TyN/kr8UO2WVfVCpbb2Sv/Iv5XHFbyU3q8iJ3Umu3K3+ym9001+lmWpLKX8pSJlPXkrvOarRLQXQ+JjHnVwz6YpPWQ5FH0Wj76IyxzfGlkqy5B+f8pvwsXjtj/xXXlmsEnJZSa5DyOhC/esSBo60t/TGD1hOZR+ljLPItDvabGX1QqFLUVet4KWveMyf86dyeqK7ItIaCzoybGbqZ1/UL37+z7C4Jwugx20fnAlZrAwqce3VjT1reVxV3wrjr31XWPJuE/kSsBQnwpTaWzrax/pEEUb/p1XO+bmZcP3WDc40XWbP98UweupimDh7kb2WWPs04TxikudR+eFXyr9KRm7FK/dddC17Ni+V/rJS1kDEJx090oNqo/YZTmHU7BF78P/27/6WfX1t4Zf/jDPBWs/Y3igrtBjEklCsaeJM2y96UZH/2U9/Gj6aw9AM5d6n/daodavPlmpvzGGkzqY8Ul1VxKV8xu9V/yptJWpXJOT5sycYMmOPGjX8z/7VX4Qz7OUdYbtAO/vCVefzVLM0cgejK4ts+5v8H8Ar9Tx7TJpym3KckE73VHx6j275l7clozKG/D1/etu4RSbDkZaWS53y9nEZY5HXru092pfq1FV3LaKV+0hP6R4TLH+r5lbNx/bEyncMsV245F4secWX3C1u4ZKqhTm84R9FpvCFSAuP0V0OBcfK5IrvBW9vSEg174WECxEXHjPCtrpsjS0Nn1u/7OxSHnfRr76Uf9Wb0kkDgt4Tq8bjLq+tcSpgilPPkV3TU7lfuRSv4tdiKclPFIKKrtF3jlOD7YXoDZ999gkHWx6zvU2dGL6wg0oRcG2FhK68JhOyclawmG6RnvhsTdm8iO1N7E85e2oUGnH6k8+Zm3uMpvS3mFrxueSh+EB0r/Uj/xXAKEzRyaIkIyYC8dEmI1Pc8pgS4Z7nN7qnTxbHtn8yXxY4RlctXO6mp+3eqieS+86/l8eSu2//JAzKYyp/2z5khGm3vmM8r/OdwVVK1PxngVTja8QU62Bd1JR0zuDZS5+FMx/9MdbaZM1RTBF1reQ/5ixPM38qJWAP5e75W/6U+5eb6nx+yaXcZ/lb7vNtnnYb+9umWRmu8r1a3d3qp1rOqvuSa/4lf0oxlH+X1wqX5LEsnoJjIfaiq54LDdsED2KWgGEh2MvGSugJ7X/8RFYtO8zUez3GmTbhc0y7KIt5e3pSevLxtpdoZOoKdb1uVjQ++bRHGn3Ga8UDjON38VRxwkbvu7hEUpz5ip4lIOBWWoURNggtii26KVHlGsEPf6YQjnodm7IQsM6xp5dzLEdPsweN/dSKarssl9z1kH6RhDf/W4osxiWSbWVPe/rbwihGr/7sX/yKyZeX2CHAIIX2uLWxB7KJdT+ESBuCs0QTvXFJQ45MFWJXoKcLA3If95iwKS0CMz5F/qIKexY4uwmrmKfMYdc3hdQv1ioFa2Mf3MSprnDqwpfsncRGA5Yc0376SCt5V/YVLMGQ7opgp2u3/naKYx++7ZOgtQ+Uvs8orfBgrnZbiLv19z7ztI9pV2a/7F0vsdVGCso+7oKoSv+V77uIwr0kBBJ46Z7cD8MdmksrU2Ig+KEHNTTIgZxYjlpYYv8FKindPa1og2g1B9Y1MRz4jlWwWBHzPMdBPXsnmbiSnVQNc396SjGob7D9H7jZykTmLa1SZK/v7FZWouklu6dXEVOiP1FW/Ihb8TX5TV6r3Yv+q30/zG77nf80vti0gvYPrS+x8oAFVUwjj4yOY3p8A+teshhKnUa3zMR+EaUfwG8V/w8z2k77niBQqrQ8sDcsSuZSza1lHw4GlHTgNYz78goHjmMYqxGOUCs/6lE1jVXqy9Sw96VxKxVNZLO7G4Y7MaQSCrQPKJOR8FPKCM87XRmh1piKBEtCSnHEe9RKKmTM1PP4hr82jA99/OmnbLfH2BSGrWRcTNY/tQanS6EUSxReUrzpSzFduf34Kx6aHIuvjWNDzlw4HwYxGrPAMQ+IhIZfDX1CJwZJWpiYSWWV+hQJTzrzLKqDR15Wwmw814p8kAUtYqncdRVzpPeUXz2/9sJzjoBiEmr82BSnA7N7evsRBhupb91WHRONFib/U4zktUkedA+pXh90Ot87feLRKitfNaJUT6yuVPv4AbjtKu+78lQNrJ1KQN/0s+GhWmB324LAWxfElpjerUNWD6yHZvTT7KScGClkErmdk3Nbm+WuA4dFGfmkAdvAyiAaQzPopB5+B+J1jovMJ8uE/aG+CkWdoWc4pIE1fdbdIDvUmT0cxCfME7XxXaUDU0I9tb087CtpxtBSox2qg+EQWFGpLpmQpYCVkaTI/P6BI1BZMXi3vTdiy1MLxywZHWRXO/WKvnOd/lB79rRKqloYY8h6CzFA0WEXuKYeZievyY9YUEVcHrlU13RkgvaK2R5vvsc9gzvFmb6luPWenmP88U3PPFn/n7DQF+0z1x4urDdzhE8veyB1xqnST8JnolR3hYyx8mBX+pre9/auNSG1feEgobQDU+ztGvtS2iQvYcn2oBll5fTIXSqA8dK0TNQU0bvi0BiqEPQ8cqp6bf8l925x8Rr96q/SjCNNKxZbJTQa9tzS+JOoirEohvxpN2km/wf17oLWQS0Zp6sCATU+Ncudmt1O3yqi89dDhUAq2XSPQ4OyIBfN0DFImvGGOIDY+Vv6rNHD+u0UUnccuJmz/FRcyaecBzmO4p//V7/iLKQFjkvoZWZTey5i2KI/xaWfxW5/5Iur4KmYXsE5+nuHfxN5RXoS7SKj+JzIklvRf3Kvdn+featGz1647Vf+U1kYZiQihi6xcJGxxKCMGSYRc8L+CU0Y4CP94oy6hc6zuduCykPs/FQR/c6e/ev7RSAVVroXqJGwZEyvxHRdYtoRL/gjBl7Mrn7yVQotD29Vn3YTqMhel1IkdU2CQUva7y5q5JBTxfN2l9JN7PtWP3kqepJxnHiPPhMCMuKEixkeiVMaijHlKIXQvSpNyaN93+FPjGAHD4VP+DVT6gqDoKVJQp0vVrws54x3ebT5kxwjnuo/cnc9KZzuii59sapSilwhYqZ2kzX50U/U5auGsc6ZESy+6HvCtEgDzlyRihRP7mIfD+UfF7R2WWypAr7O+279vS4e/75bBCoRr3zfbTzurxwBdXPF6/3hqpRFTZGC+J65mn5JGgzwJWcJWBaiEKrMKb3greIqfpFw1Yqqhg6YbEPFRgyJvqfLnkkipZLClg9UyXd+T/5yl717SvQlmqrFrG87fS+GSfEV3XZ63s+87ZTufn3b7/xbORQSSbPOkfWFHcFDrN0wV/IsvwWQqwpbewlGIa29jNbj2i8ECi071ZdSUnLIBa3Elss1MYPlPRxf9PGNrt0G2N6f5Kp8BUv+0u91hKTGITY+xV/tnuJTbtW6op9Sm7MGlgsyelLMulJs8a26S/7txz9ZjkjUZM1SdOVUJNpKE4wlf/HBclgeQcmHxaT4Sy7lzymGanu3CkHsMdFq92wQtH1wljZY4ybnRK8Cmd/KiKq4F+mr4v1AO6W2daCJPCjEHeaCfqcYplZUAVhyLtJS4aX4qeJZPvOOL/+4+xjyMP60MwLbdX3vD2ulXF5/IjuQU6Sn+LZpuvhx+KwIlGW7PKZqWMiHYtPBum0cpCm5bQO9DN23Ga/Kosnpyp2rueVf9/4p5WG7mN+Unjf1v126h9V9X/KvQqpyyTnW4MQUV/GU+Ulf9oW+FLnfjwYCaQYoY3xTplR38voTa190yV2T393dXx+uWtWPvbq+lFO0uzSTr0R/etfd1leigzAo5D9SGkWtKGgl2gmTSCFkco2R7PBXHqtlrhhk15HlgYq5Ko5BKakCqXmg9/SUsme02Yv+ZH1ZRmjyo3t6TuTKi4Ut3Cv9JL+H4b6DoJWyeRiy4TQeSASyBlWk7cfVqsPc1IooHJbnVFoHDfecnkRhQlSz+zqOVj13bbaqVfK99SEFq3qP+u7ZIEBYqWukAa5K1S7EUUlV4VPZY4mgMte9fNmJzp1Sr5aDnfwXaVbYauGLfg7b827zrny9Sf5TfarEo1p6lVMLKZ1yv7iWO1RG/Zbv+xLpW9Liwd4eAZVjXpbpye6qUNkkVazF6evbp/a6kOqtdeUpGRG5S/yceUgvFqTqnxifYosxRvEpCVm4maCpe/QSfSkqTWukVbDkT+5cKVnDJjql8Nlb4ZbFmEdc+FbxmOKtcN7ymsVV7j29xXu06Rc9ptxuiafkoDD6yWfxklt1wm1cLea/GKz4DL7yJjQFtWIsXjF2+2p+VD7VU4yhUvid/BTjP6jP2wpaKYNGuHJZ5nBQs7PPdO0Gg8NeI/YZwncRvRfBXqF8kBp+anw7l658RZ/5kw0eOwcrA6zklYfSM9HZYKOBpOheFrL4EqkoxFCiLPoqxVwMtC/PomS71JJ7onY7ApK/7b67+9shkBjNPHSOdP6UvmYlqQ+FAsvLNzmmewr3Y+9bKfmxMXr494RARd15T1SUJRsnEMqctnnZbb1WJmOdtfOf7DlzU+ddJZroO0u2yvcYqPChLECR3G0/FD291fPWmEVPoqlyGma7JIphtvNT6Z7SSPfK74X3DF/Rul1KojTmJcZXTdjS9xRHei6kcugetxW0tqAUkTl0GdxTgh2D3cGZWkgV3wlCNbH0XMXbj3baz7h/NHEHPoIfi96PDf/2AClldeNGAX+ipcFCfHIzP6+vfxZHCmpxEabMcWscpc82c0pgc9AfanxyU5wljxXP+vYjL+U+DmExomJS20WdUVj1827CFwPuFFfR32F5Pjj5L1CSPRZcCnBWdy148McPCQFVhx06hK21Jbmk+/6BFVN4TTqlz6WHXRCUVmsUpvjLXgt4bIlVDoXvlph52uLTPr31n2rpFCPLkkupppWqbHQr+qzM4Rbyc88ptsoMykf6lvuOT3KX/+2+V/NfHjL5UAyR/rgTNcZaPW75TaWYwh/W+/aCFjlKs20J3mpFU5nx5LfS3d8/MASqVIRKp8r3DwyhA57dytKp1r3vlIXK8Dv53d233cUYTV/H7pwQ6qmrdFy7iyunS/7rzBRV7hafSmIdr9mAYQJVlqieLbF0rwy/P+9vWlqiwsjcI3L2Mq49IumdRrP7/Jf7zGrQNrSW+01v6b63JbgNCe58OBHIK0kZ/WXO9pJcdE/PZUH27CXG/po0yj6XvVSlY/s4K8Jmr7mrnpIow2P+IUtni0PV9N/YUdFWGZ8q05e3cgryt/jtTXv8PPzuaFb8uwyTedOtetb0Jca2U4zR1+6oO+i+qgpasi6ShKyDngGn73AisFMDO5w5OqpUH66SitRW0Jxeq/X6+1FspGfbw4i7cgVsP5LzOI8OAqqqb1JNU9U+Ogh4Tt4/Aoe5Vv0Y2ncOu5t2uXMM25TsWwVKceWB09Pr6Uw+Uxz7d393Ke1fHvYi5qqClkX8+tLai/Q9DkfAEXAE3g0CpV6/9PBu0vVUHIE3QMBr5xuA5V4dAUfAETjgCGyrAukzsQe85Jw8R8ARcAQcAUfAEXAEHAFHwBE4sAhUFbRkxjjpUB5Yyp0wR8ARcAQcAUfAEXAEHAFHwBFwBA4oAturDhrBUYlBWoSuznBAS9DJcgQcgQOHQJysOnBkOUGOgCPgCDgCjoAj8A4RqLqiZenHRa1IiiQt37P1DovFk3IEHAFHwBFwBBwBR8ARcAQcgcOMwLaCVqUpR5ezDnMxO+2OgCPgCDgCjoAj4Ag4Ao6AI/AuEdhW0HqXRHhajoAj4Ag4Ao6AI+AIOAKOgCPgCBwlBFzQOkql6XlxBBwBR8ARcAQcAUfAEXAEHIEDgcBrjGG8LY27MZ2xGz9vm76HcwQcAUdg/xEoGr0oPu9/yp6CI+AIOAKOwLtC4LBwrIeFzndVbnuTzo8zVLFPgpay5sW9NwXssTgCjoAj4Ag4Ao6AI+AIOAKOwPtBYBfClrxUEX1cdfD9lJin6gg4Ao6AI+AIOAKOgCPgCDgCRxgBF7SOcOF61hwBR8ARcAQcAUfAEXAEHAFH4P0g4ILW+8HdU3UEHAFHwBFwBBwBR8ARcAQcgSOMwD7u0TrCqHnWHAFHwBFwBBwBR+CtEdjczE/ndEMybw2jB3QEHIEDjoALWge8gJw8R8ARcAQcAUfgqCHgwtVRK1HPjyPgCFRDwFUHq6Hibo6AI+AIOAKOgCPgCDgCjoAj4Aj8CARc0PoR4HlQR8ARcAQcAUfAEXAEHAFHwBFwBKohsK2gtRly/WkFrGIavlp87uYIOAKOgCPgCDgCjoAj4Ag4Ao7AB4/A9nu0inKWS1kffEVxABwBR8ARcAQcAUfAEXAEHAFHYPcIbLuiZVFkVoFczto9oO7TEXAEHAFHwBFwBBwBR8ARcAQcgaqCVlQbrFQedLAcAUfAEXAEHAFHwBFwBBwBR8ARcAR2g0BVQUvbswpHXOwmHvfjCDgCjoAj4Ag4Ao6AI+AIOAKOgCOQIVBd0NJH1xf0SuIIOAKOgCPgCDgCjoAj4Ag4Ao7AWyFQVdDSQYL655cj4Ag4Ao6AI+AIOAKOgCPgCDgCjsCbI1BV0ErRJGGraIAwffO7I+AIOAKOgCPgCDgCjoAj4Ag4Ao5AdQS2F7S0oFVc1HJpqzqC7uoIOAKOgCPgCDgCjoAj4Ag4Ao5ABQLbC1pFjzKOUXz3Z0fAEXAEHAFHwBFwBBwBR8ARcAQcgW0RqN+UeUEzMRhFKb1HNzmn5+zbttH4B0fAEXAEHAFHwBFwBBwBR8ARcAQOOAKF1SM95q/pLd6LclB6NhmpmL08cNG19Ly7Fa2Sd39wBBwBR8ARcAQcAUfAEXAEHAFHwBF4HQL1r/Pg3x0BR2C/Eag2HVLcILnf6Xv8joAj4Ag4Au8agY2NjbC+vm7aQ42NjXuYfLUxRdH7uLKHIHtUjsCuEHBBa1cwuSdHoLi0/PZobB3m4vJ09Ri3+i7583G0BIU/OAKOwOFCYIvqDeTrWJkP7ZKQtbi4aMLW3gla1ceUiHm5EtOHiPmHVsc8v+8fARe03n8ZOAWOwJshsJ2Q9WaxuG9HwBFwBN4LAmLwqwlb74WY95So8l9fXx/a29s/eCzeUxF4so7AO0HABa13ArMn4gi8IwQkhH14E8PvCFxPxhFwBPYKgQ95NUVCln7CQL/a2vKVpr3C2ONxBByB94+At+73XwZOgSPgCDgCjoAj4Ah8QAi8c0HzA1TN/ICqk2f1ACNQ3bx7RnCadWHqxVxcY+kAl6STtu8I7E/9V6xvGPMbet93YDwBR8ARcAQcgbdGQLzW3l3bjynFZCTo7W26e5cDj8kR2HcECk2uvMWkt3gvtpEkExXdjM5CXNXodtXBaqi4myPwzhDI9Pw2N2w+I5/lrNJyfUbynZWKJ+QIOAKOwPtAoErPn5GBquEu9cKLAlUxD3EIcd3yIib+7AjsNwIuaO03wh6/I7ATAjYiamiVrr5uSfCKbmWrXeb3NYPkaz7vRIp/cwQcAUfAEXg/CBQFrNT7vy0l+YRdHsMmk3m+gTfHw58cgXeFgAta7wppT8cRqIpANryagKQ/+uFWEriy9xTW/EUv5pTe03e/OwKOgCPgCBxaBIoCV3kmdtvZb+MvzuSVRSkVKFsl2yZImWd/cQSqIlCssV6RqkG0raCFTZxq/t3NEXAE9gWB1EFFa1RRBzi5xQRtljINjHIq/7wvVHmkjoAj4Ag4AnuLQNrjUVx5Une+I9fFR/FlxTDJf+VQUOLfkgeRnybvKrOSBZbCxHZeKoP4uyMQEVAFK1Yyuf8FOioAAEAASURBVFbWxujzQ/67raBVBgq4HQ3oVCHePCfVOsUyfPzFEXhbBGqS4c/YYW1s6gDLhbC4tESMeV2tra0LTc1NobamLjTUNYS62nofFN8Wcw/nCDgCjsB7RKAoLL0JGcVwRfa2+Ly+sR70E9+ysb4WNlAZ1KpVQ0N9qGP80FhSk407xfjehA73+yEiUKxlVfKvz8aylB6qePownbYXtITVa3A9uJBBeCXtNSlDibEtUp8xtIVg8q3ZnZzVLfrXc2UCld+3e98ao2aSDvJlFG8l+wCTvFeA5plWjDvGykf5Nj95sOTCN1PQiJiliPDHeBhW11bCwtJcePHyWXgy/SQ8fvooTD+bDktLK2FjQ55rQmNTU+ju7QmD/QNh6PhQ6O/pC80tzXbgpQbNNGBubDCoUnHTe0zQ/zoCjoAj4AgcDgTielRhxIhkM16koSM+1YT1dYwo2ciDBUF8La8shdlXL8LzF9Nh5vnzMDv/KqytroZ6hKuO1vZwrOdYOH6sL/R094aGpuZyBidFXuKV0kCW7ocDPafyRyJQqgc7xcN+P/NXqBv2zh9bFtVL4dtOUX0A37YXtMh8Wn4+dHBZgWvjZ+EqlXvpYctHC1Zw3UACqs3W0jU7lDOv8lnpuxDwtY+HC1HL6UGXBisxt8Gi0vEN38uKeOcyK/uawpUGLNKVW1aXjAp7DwhTyzYoPnhyP9y6dyPce3AvTD64H54+exJWVtaYlay1oHUNDaGzqyucGh4PZ8fOhlMjE2HgxInQ29sbWppbibruDTPn3h0BR8ARcAQOIgJRbIqiVhpO0r041mhYXmfFanVtk8m65fDk2YMw9eBuuDd1K0w9ehhmXjwPK8vLoQENiM62jnBycCScPjkRRodHQ9+JgdDW1s5KV6PxOZubmqBTKvqJfypOShdTPYiIOU1lCKTKUub4di9Ro0v8bzG8XrZLRO5lnosBP8jn6oIWrTepyx16VEplXnrIshQrQlGAUkXSe/zhLVteV0j94lX+llx3f08x5RWxvALvPqZ36zPRm+h/t6nvLjXRmOhL9O4uZFVfFkUeT/5U1XeFo6YporCfy3xZDLpljzOzz8ON2zfCN99/xe/34dXiXFhcnjd1j/b2jtDY2BzW1tbDAoPlw+dT4dnzJ+H+/Tvh/ujZcOmjS+GTi5+Ehr4G/NVZvfXVrIpi8FdHwBFwBA4RAnFoyAaIjG6NahpNkmta7aqtrQkrq+vh5fw8E3SPwpXrX4XvfvhDuH3/Rnjx6mVYWlkO66troWZ9E2GrLvR1Hgtjg6Ph/MS5cPHCJ+H0xFkm6/pCU2OTRW78kMbQMqZkD8fUQ1QOh5rUVFFS0f2IzGyidrMh1RsxMvyX6mkt2xdiZZTbHiTyI+g7DEGrC1qHgfLX0Vgsez2bFEXtsw6Ee/bdOiz7jh96snk6rMVF9sfgr6u7J6zTkfEfmUtzTPIYmefXJb/b76nD3K3/9+cvAywB9/4Ieccpx1J/80SFF7NACTbr+FJcetkMdF/hJgPib678ffj2xtfh+eI0q1QD4eLJC2F4ZAQ1j77QiF79KgPli5dz4cGDh+HuzVvh2ePHYfbqs/Bq/kXo6ugIrS2toaGx0WrmBqokGnzr6Az9cgQcAUfAETg8CNgwURKncrrjaAIfglP6JbfZ+dlw887N8De/+UfGkd+Ge48QsuYfI4AtB2lCaCyoxfPm8kaYm3kZns49Dnce3w63HtwNf/bLPw+XmKwbHBgMdXVoT6B6ritq70RqzMH/HE4E9qAIpZ46P7/A6uiM1b3Ojq7Q3d0VausrxIdUMUs1lDqHEJZrgh1OCPeC6noBESVSNVuxf/kVV3ZgDjOJtfgt93UAn0p5KtKmWqAcpHv+bWV1BUb2ZZi8fy/cvnM3rK2vh8HBwfD5F18y09Mc0N5ifX4DPec9qLWWbBHJUu3MCTpwT4neyvtBIjSVTbrvHW0x1ynv28e7NWXCpGDUSW1K1iqpVFKX15bDq6XZcP3edwx4P4TlmqVw7uIFVqk+CWMjqHV09YX25k68I5Ax+C0tr4RzE/Ph3uhYuPLt1+GH69fD93e+CxM/TITOzm707Zuoqy02jyDhPbXZ7an1L46AI+AIOAIHHQENIfpJBNIYk951X91YDU+fPw1Xb10Nv/vun8L9JzfCy4VHqBMuhlCnyTyMYaACqMm3Db1vrrLKtYDANR/m0ZLoPzYQent6Q3dPV2ivbyfGbMhS5KXBKz7KUJNfBxsB40FYJLAJ/K0Mya6Il7At/qG2VoyvVkxX2d7wPFy99l148eJF6GYLw8jwSOjr6wt9x3pDE7xHrJncUD+Nl1Wgg82HRBKNXD3mr+kt3u1vJlNUykRZZouBS07FhwqRtPhJ0EXQlFCCr9zHYXojF5kqoFBZR5haXFoML2ZfWiWafDgZLl+9HL7//npoYYXgi8+/DBcuXUQlq4G8M9MD0Mjm+5RhIXyYrv3C4aBikFaidkdf3mrwbyuo3NVQVYP4KItQL5mFlJD13e2r4fn8s9Dbdyx8+unn4fPzX4Tjvf2hua45NNY0EGLDBLO1DkL31dpmZqnOv1p8Fb6/fD1cuXkVIxnHQged32D/MKuvuWGM3VHrvhwBR8ARcAQOMgJlHIK9SGhihWppPkw9nbRJt7tPbyI8PQ8btcuMM4w1dUy4aYWK503jfTSa6If4xRi09mIj/HDvehhn8m54eDC0wffY6kPV4Z1EbQw7yCg5bXvBoorbiRwPfyn2tY016tlcuMW+v5u3bpqWzcjQcBg7yX7xU6cQ1I+F1ta20Nrcxqoo/HLV+vNhl832gpbAOoSAxZn8yNCmZxWxzfKr+tDxrK2thvmFV+HB44fhm2vfhuu3boS7D+6FB08fhkcPH4WhgZEwMjfKisMrKlUj5rTrrXvaWC9uDt2ripPEWbHhB/U6hBVhH9B8XfnkKEWRPL4n19h51dSwOsVq1tOZp+HXv/3bcOXOldDa3hpGxybChYmLYbBrOHTUd9g2ZCmr6rdBFBjm5Rm96K6aMI5e/eMXT8Kd+5Phyu3vMJLRywzTaBg5cTI2WRGakj2oVcrpcgQcAUfAEdgRgTjBixfrz/mTDUIaTVbXV8PMy+lw9+HtcPPh9bCwPhNCw0pUE4RDlmxl8pWlIIErC04cm6x0rSKQTU7fC3embpqw1dPZG+qkDmb+YkKWbEahxiK/PgwEVL/YGg6/LO2bJeoWqoNLM+HO09thdnYmfH+vLQzdGg63J8+FU2OnMa4yHkYGR0Mbli3FM2s1zFUG87qyvaCV+7HWaU2s2OqK3w/qcyZa26oAMzjrLH3PzDwPU1NT4fa92+Huo/vh8o2rzAhNodP8gj0vr6zzWtyYC9MvHodvr30detpQy6plZUGivdbu9+xSVS5ESPz6d3AuFXahwEtLwgeHwtdSUtog9Vqfr/XwZiWDbwvAWmgKKCgZ+Grr68Ii5tzvProbrt68EpY3l8No31gYHxkPg8eGQnNDC0JVFKusBKxeYMaXurxGBPrW1d4ZBocGw9DJ4XDj+xvh6cunWCmcDsuLy6GxWZ1codxemzP34Ag4Ao6AI3AQEUjMqvXoYheyrl3q52vwM88xpvT05RMmhWfY4rCEYLUemMsLUcuPwcf8a8KOBxsPswi4bbBS8XJ5BnXDe+Hy9cthYW7R9nRpScJOFYE/ke8YQnGlwewgIuU07SUCVubUA9W/hbXFMPlsKjxhb9+LlWe2l3xmuTbMrrwM06+Y8H1wN4wOjYex4VNheGA4Hj9zrB/NsBYjSbxzqsd7SeNhimtbQStfZzlM2aEvoGIkeUXP0lKWxZR5rLk9fPQg3EHA+u7778L3N6+HBwhTD14+CovoLLPOFdZqV0NNU02YX3sZbj+4EcI/roeOxg7WErDoRs+j395c0KiarD07uujAROlexR4j3Yu/1txEILSm572I9x3FsYcDQ142+VO1XOirlSQPUjmtzYp4E1r0k578KnXy2dxzOqhboaG1Dp3nnnC853joauoOTagLau2qlo2B1gYVj+AnXmWnAUGrs6UzDKMmODY2ioGMyTC3PMcKmYxjLIQuBLmGBs0mVaPO3RwBR8ARcAQOEwLqym0oy8YCGw/gRVbXV1BBfxFezs2E+ZVXjBEr1u+Ll7DuPxsDEpNbozE8c9N9k8Fpfn0xTM08DE03vwsPp9jbRbwYKNSWdK4YD2IX4XQ+o0Yhv44qAlEDjNxRzImHqYOfWKlZDS9XXoSpF5NhFt54uWYeDwj6nPP5AvfHCFv3nt4PNydvhbGBiXDpzKVw4TQGvYaH7ZzPuNfrqKK2u3xtK2jtLvhB9aVeBNqsU4G5RaCZR5f5zoM74coPV8LVG1fC9bs3wnOMESxtLrDMsM5KA0wxQhZ/wwpuT18+pLNZDa21bUz90NWgcrhXwmcpHnVcVNiDP1NkQB7Uwq6gS7QmelUJ9uaKMb2+rOTP/GoWB2Gp1gTUKGRtMlit1bCyyjLX4upimFuYDcc7++wgya6WrtBSwwHEnIclIUtiVrzisCml1Tob8GpDC6tePR09do5WW1cbm1UZcOdeUscXQntHmxQM/XIEHAFHwBE4IghoNJB2RBoVpA2zurESZhdnzajS6jqWkuFzdBaWjT+Zx+TfYCi+6BlBaxXhbG5tPkzPT4fnz19wtMgKApz2BctDXNGyuwlakr4sdovO/xwtBMSK6jJ1VeqSVk3rtW2mYSMs1y2FV2uz8C+smjbGbysYXFlaXWBf4GyYQdh/9mo6zM3NhbbGNps41hmfbW1tmVGNGPeH+vfoCVqqLGV9QVwr0jL7Arqmi8wCrTdshsZOrLShZrW2vMCeLTHCLLkjbNnVsB7qWfVs624JLXWt6mdsVay+/seysGWEWVKbaVUrpux/fyQC2Vzej4ylenCb5an+qdy11GMhuDP9aKtL2ZTkBlbX11jRql3cDG0LTaG1qRXBqTk01TeGOoQs/YvjYV5X9C7hvMEU7uNkQB0HUMpoS0NTIwPjOvu+Fji0cpmqr5nHcnL8zRFwBBwBR+DwIqDhQ9xJ7Npl0oIJO8SkRRjdZYQs9ftpFSLmsmIQsGUwIsHZHiUzKdL6jdDY3hjaejrC5hK80goaERp6GGtsJcsiSytaCuTXUUcgClrUKBYX6mR5kAqhzQyLaMzULWryGONwa2um4aW6ZKJ9/XrYbMbMSp2sXPIMD7SKtUJbJauoikcdv2r522reHYDEJ6qt2T3+sbByO/BXIjLLgDqfGjoNnYn105/9IgyfGg2n758J39+5Fm5M3gi3OHNiFtOVywvLYWWRjaQIWx3dHWHi7KnwJ3/0p6EdNS1ZctNZAjpLq/ISPOWSndKTWzW/iTh9L17buRf9+PPuENiK++7Cvc5XbBev8xVT12qWuh9+OMitlkGtnk5rg2nJZYyxPHr0KPzD3/0dy+90TEuot64yiFGZ1jc5XBL/tupJmBieQW9DZ5woIlFQG1ZXNomDvVkz06GltiXUNfKhHhFuk4mEzQZ8+DlaQsovR8ARcAQOPQLGz2iI0AOTwkwMN9Dn9/R1hdbOFtQAo1aOxhxj3DQph1/9k1OUs8SbxDFF48gGBx2H+s3QgZB16uIpDjIeZ+yQyMZl0STBykYyC3vocfQMvBYBCVh2QDGVoB7jKKvwFNoHqLM+ZxeehUVWrdZVd7haOltDD8cDDA+MhbNj58KFwUvh0ghH1PSNh0bMvqsamjZYZIrL0i5pdpW5vsOXAtudNa8s8fSW3a0dxU/mond+ZVfFa9k3Xo7eilbKobhVu9TLYESA1aj2to4w0nAytLd3hP6hE+Hk07EwdG8w3MVs5aOHU2Fm+nlYXVzFpHujVZ4L5y+EtoYOqpvOPlKno7iyaNOtEnB1bFX9KUC10qiMMEXs94OHQLXy20ql6cKbcxK0bPhjxUorXHVhaX2Z1ai2cP2778PDe1Ph1SzqH69eheWVFbNwqVmkvF/KBjscpGuvuriOOaC5hYXwnLPfFpeXQieHB3Z2d4bmNpZhbXyFTq9WWwvGXRwBR8AROGwIpGFHK1DGQ8R7HebbOzs77MiPjo7OsMQ+dB1Yr87f9mXZGKBnZThFwlfexShqz3lLU1s4huGCIfbTnBo7Y1oVUaxKaeVhGVrsMuEte/bbEUQgK3qVs/ZXLW7Mh8bpRiwNfmfv9U1o07S3cGhxTxgeOhlODo5hzGsCc+8T4WTraBhoHQptTZzJRj1T1Yv1TzjldTB+OYLYbZOloytoWYatmNXt8K+O/S+oa2Hcoqm3BZPYXeFYf284drw7jAyNhLuTd8K9yXvhydTD0N3aza8n9HdjOaVWprZZTeCfYqt2FauPviu1rRWpevcUaasWq7sdJARiGVeW9HYUpnoXuxa9qQaprLXStIRe/CKrp/3HToSpu5NmMXBy6n4Y7R8PXdTL1uZmOjRWpAgYaw3pMjBqZXYNIe3Fy5nw4NFkeDL9CLea0MM5Wsf7T4R2TKvWoVPtlyPgCDgCjsARQCBN5DIWmIoWI4KNBWRNaubd7NU9ydEeYydPhZfskVlZWEHYwo8GndIVxy2tLugyo16oSkjt/ARGlUaOj2LxdjgcY78wXFL0o3SyK0YVx6/oVJ2XSf79frgRiDxpXoEWsMI9u/gS4aktdHceg8/oCMf7ToSxIQlYp8LQieFwovdEOAa/3Bm6QlsNfIhxPGlF9HDjsRfUHz2uTPUj7yN4kUMUlWQaewNhSx1UbR1u7TWho70dC24jYWLkTLg/NRluXb8RalDLOtE5EBo3m0NzaEVAq89iyStfDn5lpxPZ6YqezrxX+pSjfPt1OBCoVn6VlBernsQqlXD8GwV1G642V7Ew2B9OYhL16tWr4SHnt125diX0tveHc6fOhvpjDHhNqIMQWmdoaSJTG6G1n09Wpu5M/oD/r8O9+7dNuBrTGRYDo+z3koVMpZfmHiup83dHwBFwBByBw4OAdfw5uah16apBM6KeY2d6Oo6FM+Nnw3Os2D6aeRCmnzwKy/NLYUOHIBVZC40jTMpJbttEENOEXG/3cc5uvBTOnDwfBruH4XQ6iBkP/PQv8SaKJv6KEeLo15FEIJW9tszo2mA7QxtG4QZ6BsPa+LrxHBOjE2ECvmOAI2k6mjvYP94Id90QmjHoFbntbM8g4eMEQao76W5RfzB/jp6gVaXoogU3ydix4qgiyUjBJgYy5NLU0hx6B4+H033nw08nfsKs0FJoqUfEqmun6jRRgerNXwydup+YkOIqv1SRlGJ5hYq+Kv2Wh/S3g43AbkpP9SH5iyKPaoL+UefI3jKmMOox4d7Z0h3Onb0YvsMK5rUr39nB2Ztr+KDaSM21oa+R/VnoSktjXmqrqISsLK1ySPHt8IfLvw+//+Y3HFcwFX7+i38ezo6fY3XsuE0gxCHxYOPo1DkCjoAj4Ai8DQIaSRhPGGS0+tRZx37y4xNh7dKqWX27cu3bMMUYsfAKE9x2pdEoDiM1qII1ttaj9nUsfDTxRfjlF38cPh6/FHpbOKyYf7DV/GIYCWbiYuIvpik3v44+ApF3iXzs8kZj6KjvChdGL4VzIxdDT2c8jqa1oQ0+mf3hspRMvZCgFY15qY5GQT3WoISX6pW+fXjX0RS0Cn1BLOhoGiBngcX04glGVmtV65g5bYHHbceo4LGm3lDDRr+6zbrQWoNpysABsNG3dTiVVaSQVPYpVqbq/rb6rvTn7wcXgbz+bE+jupfkL9abbIDCXaWvWSLdmxqbwvDxk+GLz39qHc/t7++Er2/8gY2nGMp4/DiMj46Z/r1WXtfWOJ7g1UKYfjodvr39Vfju/rdhdn6Gk9hPhk/OXgoTA6dCZ1MX4yPdI5F7Ldu+fPyLI+AIOAKHB4HUoSf2lHd71Oii7RDiW9rD2LGJ8Ks/+jPUuE4yafeHcO36N+ElZytuas+WopDQxK+ltS2MjZ4JH52+FD4a/zScHz2PJkVvaK6NKxEx8rgaQTB71cglwS6OYPHv4cHPKX07BKzULWhrXUvoazsRmqln4i8aGlm5auQoGqt/WoSI/6KgThDt/8v+FWtL4osUqdUtwtnzByC8H01By4ov/5MKO97pMWBI9a/JljsxLmArB9GYaT1WB+vpvWKl0QyPqkSsFnmMOz2lDnEnP/7tMCKwm1qg0o81QHNC8cXCmWMU8GUUowG1j87WznDh3EWW5mUOtSZc/eZyuPzDt+E5VjDvPhgNvVjzqWOv1iqmVGdnX4XHjx6GO9M3w2rDYhgaGmaw/CR8dOYjlvTpBFmyt8lIJbobQkWbX46AI+AIOAIHHIGtHbp408jeYp4dDYnu5u7w0ejHrDb0hk4MY3R1dYfJh3fZC/zKrL7V18Eco47eh7rg+YmL4cKpj8Jo71job+lHcycyzYovXpFNLo1kGUtj/JPxTgccLidvTxForG2ifjWEtuZO4k11Q/Uv6m4lMStOIStprYrqF33bQ/qT7TncpAJvrdXJ09G7bzHvXpJGJZVmP7npytrb4UUhZcDumv1nPYsCryNnqhYyWBkVDKMglnOsKeDhzbpT/uMRyJrBayMqdiE1hUCqRepc1CHZXioGreNsIl0/i7leVDp0Nsq92/fDk9nHthdLq1+yIqUo1BbXMAtf21IXTk2cCx99/FH47NwXYRy1kY5mLPyYJ7o3qebTA2og9ssRcAQcAUfgECNQGD+UCzMrzbihK64yxfGkfrM+tLPHahDFhtYLLWF8eCxMv3gaZl4+swPtG+ub2M/VG3rZ09XX1R+621jFYluEJujqORdJo49+uuI4pTTykUxk+Jhi8Hxwf2qtvmnRQZyy6kf8F5VY5RIFdPHQ8hWvbRgQq0Tl36xOp2Dv8i7Ssyvmq/Ity63xVjxzTzLRFpoLcaVYivcdVrReE7IYywF6rqS6vEgzQpOjZmdQERT3qwqS1K7y7qU8Y5Vxl3/1t6OOgNQCX3dV+rA+iooT3aPesuqahrV1BP2WzbZwomcoNF5swApmd7iPFcLHDx+H58+eh/m5BTPlLnPvsig4MDgQevv7wvHhgTB4YigMtQ+gO92JZrQmDIiRChwtSpGAj4qvKyr/7gg4Ao7AgUYg8Rz5kSGMHfT1+mlM0YSdxpIGXjSB17nZEVobWzD53hdGO0+GxTXOPGL2TZPKzew7b2HfeTMrWDJeIPZY6l8KZ6sRWWJbhg7itvHL/hxouJy4d4JAsSLoOYpcepKwJf656KOayzsh8wAlsq2glRq40Qpqmj05/FdlJmIlsbzpkc9bOpnDn2nPwbtGQPVI1Yk/qnFWp7KqJ3fNEGl4kzVLDZetdRxm3H48dDd2h8HOkfB8dDq8mH3BuShL9FzyUYvJ95Zw4jiCVUtPaGptCU3NTaGNQVPqrzbjZFOOiryyk8PNL0fAEXAEHIFDi4DGkhKfQi40jkTRirGDtziisOecMaWRMaGpZi001dWFzsY2U3bQGKJvDaxgYWqJt6hBEcWsGFscrCzirX8yL1s/uMtRR0BFX/yJlYlTxjHnWwWrrYhoDax4xer04VSqbQUtw6WIzQeAyQeQxWJd9+c3RGC39aMorJfClB5ipxWt9CBo4V6DwZUG9mLVYZGlq7krHEePfnllwdQGLRiepGOvA7cbalqRvdRtbZiQlaz8JPGqmPYbZs+9OwKOgCPgCBwgBLS1Ic2hGbcLberrxZrFIUVrWvHSLvPIsmG+Hf3xOKHHd6nqWCgzn2FCllawIrOcQmcRFl6zaP3mCFgdiwqCcfI4QpK4jhygWNPy9/hUFCSSy9awlaGO0vuWPVpRB5gsgs0GZqX1rn0mgmorXAcfiqo0lxxLD3lGqjjlH/3JEXg9AtWqULkbb2pXRKVhMu4S5I321oTQ1YR591Cvg7JTZ6QuLvshdCkuhdVAmv5p2cxaaXlC+PLLEXAEHAFH4DAjkLr14t4QE8BsZk2jgBQIEyuscaWOdSuOCNFowf80kqR7UvGKnF0Bmei94BAfNd749WEjUK0OVHOLkkKqsdtj9nof24fdky8FAvSYv6a3eFebU1uzpmTPes99Gy0Vr5X0VV3RsogLyVYGOvTv1WvHoc+WZ+BwIaBBTwOi6ceXBkkJYHmr1bPUPrJdhNxj5c2rcNYD8EU+c/fDhYVT6wg4Ao6AI7B7BGpk9Si71PNX6/uTIFX9azFEGnXysSdGXfSTUvP7h4hAqgnp/iFi8LZ5ripoWWSV7e1tU/BwjoAjUIFAHPZShxUFKXlJQlPe+OLwl9a2YogULobQW/Kve/GrfPjlCDgCjoAj8MEgkIYDMlxVwCobIoovKWC6J8SKfpKb3x2B7RDYTX3ZjZ/t4j987tsKWr7X4/AVplN8mBDIha2oRCjao0JHzEU+2OU+d8pf8v9hdWA7IeLfHAFHwBE4SgjEPVuMGPvCoKUxpIhYcvNxpYiKP78OAa8vRYSqClqxEVedCymG9WdHwBH4EQjErqjYznJVEEUrNWDtk9SVqeL7epWh4X8cAUfAEfgwEdi1kMUAo+M+0n4Shdt12A8TWs+1I7AvCFQVtPKUIiuoOQ2XT3NU/MkR2B8E8la2iYC1uroWZmdnOR+rNrS0tISGhoZQV4cwZlJXmmncH0o8VkfAEXAEHIHDh0DavF9bVxMWFhbC0tKyZaKtrS00NjZghVATevu1Knb48HKKHYH9RmB7QUs8X+L7Ek+X3vebKo/fEfjAEVhbWw8zMy/CnTu3Ea7qwokTJ8LAwMAHjopn3xFwBBwBR2BnBLRyFZm2Zxx8/+Tx47C+vhHGxkZD77Fem7CTkYzi6pbefUJ9Z1T9qyPwtghUMe+uuY7YSK3xSX9JJg1JweWst4XZwzkC1RCI7az8S2xlKysrYXr6Wbh27ZoNjBoUJWxFq6IKVy2sYtrOvTwVf3MEHAFHwBE4ughoZWt6+mm48cMPYZXxpFmH3Le3hbp6za9zEuNGVEtPCGzWFPcIJ1e/OwJHFIECq1TOUaW3eM+tsCMHSRbKfmWoFOIqc89etl/Rqubb3RwBR2APEajWOqOgtba2xorWTPiBQVJqg1HIquZ/D8nxqBwBR8ARcAQONwKFGfFXs6/C1OQUKoTzYWhoKJwcPWkT5j6SHO4iduoPFwIuaB2u8nJqjxgC1QY8jZNx1mQ9SOBaXV1F9WP9iOXcs+MIOAKOgCOwnwho1Uo/qQ5qHNmQSgQDTNEE036m73E7Ao5ACFVUB7U0JkYvMXvZC2jx5Jcj4AjsKwJRTVdJSNjSIJmWqtN9p0EyD72vRHrkjoAj4Ag4AgccAVmtZRRBwFrPLNiWc3EaU3TZfq3NeGpjYUGslDsfV0pQ+MNRQaDQFPSYv6a3eLe/JhDJk+Sj+CuDIQ9c5pxefEUrIeF3R+CdI1BtSCsnQgNgcdNy/vX1YXO//uQIOAKOgCPwoSEgAUn/TF9wmyEjjS87TeB9aLh5fh2BvUSg/OCevYzZ43IEHAFHwBFwBBwBR8ARcAQcAUfgA0XABa0PtOA9246AI+AIOAKOgCPgCDgCjsD7QCCprirt4vP7oGU/03RBaz/R9bgdAUfAEXAEHAFHwBFwBBwBR+CDROBQC1pJAi5uTis+f5Al6pk+Mggk3fkjkyHPiCPgCDgCjoAj4Ag4AhkCiY8/yoAcKkGrKETpuWiRTc+6kttRLjTP29FHIBnBKN6Pfq49h46AI+AIOAKOgCNwlBH4EISrYvkdeEGrWCCJ6UwZqKurs0e5p2fd9V4Ml/z73RFwBBwBR8ARcAQcAUfAEXAE3g8C4tHTVVw0SW5H7b71HC0ZA5Wd+HTnGQfL92tMxe8LNkYL6RcLJiWUvukgvvn5+fDkyZNQW1sbenp67JeEr+Tf747AYUEg1e0ivdXcit/92RFwBBwBR8ARSAhUjhnV3pNfvzsC+4WANM2Wl5eNR19cXAz19fWhv78/tLa22nNKV/XznV2FpPSYv6a3eDea7GMmG0HjFjrzwFXJ3/YcLQlaxSuXP4uu+//8/7d3Zt1tG9na3pxJzbMtW07iIXE7iZOcXt1ZfXHuzsW57V/afyJrfSvdSU7ixLGdxPEQO7Jly7LlQSOHb79V2CBIgRQlQRJBvrAhFAqFQuGpKla9NcF6p9pfDOfValXW19dldXVV/vzzT7lz545MTk7K559/LlNTU8cfOD6BBEiABEiABEiABEiABEgglkCtVpO3b9+6Ovrjx49dh8iHH34o586dc50iEFylUin23kGw7Ci0WnTWaamsgHC0NwsRhn1nZ8eJrBs3bsjNmzddBP7888/y2WefycLCgly7dm0Q4ofvMOQELO2jYcHMQ46Er08CJEACJNADASsz2huqe7iVTkggMQLoFHn9+rX8+uuv8u9//9vV3VFH/8tf/iIQXBcvXpS5uTnXu4VRaZZuEYCoObEAnbBHnYUWAhJ0452GzupUsXzz5o08efJEHjx4IL/88ouLtNu3b8vy8rITX1DIW1tbTowVCoUWnEf9sRmECG8BwpO+JoD0huGv6HbHDxV+gLiRAAmQAAmQQDcCVn+yOgvObf569D67HrWjmQSOgwDSGqb5rKysyPfffy/ffvut6xD59NNPXQcJhNf58+dldnbWDSm0qT9Iu9jTXP+JFVp+2GD74MHjQB/vp4FFzxVg2xystbU1+f333+Wnn36SH3/8UX777Tc3ZBDDB+EG92Gu1suXL11koisSkWsK2VYmjH/q/rbwnxsJJEkgrqBDekWDAtI70jPyAMxoTIg2HuDeuPuTDB/9IgESIAESSA8Bq6eg3EAvAsoQK08wjx2jgVBu4PpR60TpocKQngYBq5+g8+P58+cuPWIIIc4xVwt1eQgv9HR99NFHbtoPjhcuXHDTgDCkEHUe8+c03iGJZ8YKLQwbPG1NYT8WaMnHHCwILIirW7duCYYIYj4WfkQQAdFIePXqlRNgmKtVLBYdIxNaEG62mf923svxMPf04i/dDC+BaNo1CigAMXEUaR4FI9zYGGZrPEBatHtxZNo0ejySAAmQAAlgwQE0Rj99+tQJLdSZUE6Mj4+7sgMVWNSvei07rLwh2eEj0GsaaSeDNIMd4h51mT/++MPV282/jY0NefjwoWtEvnv3rhuphp6tjz/+2A0rxJBCrLdgdfl2/9NyHi+0EPrTGC8YoWbiCK0xmDz31Vdfyb/+9S8XEVDDiKhoxod7CClE5g8//OB6tcrlsrNDqw12i1w7Rh7Xk/Gw9/XkOR0NJYFoGjYAEFpIa+ipRS8W0vWLFy9cPqhUKq6H1hoNrEUS7pk+jSCPJEACJDC8BFAfQjmCRmrsqNBaeYJ6EcoKuLGRQL2QiiurermPbtJP4LB1C6QZ7KinoCcLwh91GWzwE9eQDnEdPVvY//Of/7ierX/+858yMTEho6Ojgym0HJxTVFp4vkUsIgGgl5aW5IsvvnCRgjla6HZEa4y1yJj7sbExN6kO7qGC7YfEruNo5vQnf75B2gm4vKbpPbrBDukWLZIoHJFesRTq4uKiW5knmj+i99FMAiRAAiRAAlau4IjRETiiDMGO+hTqVdisPtRLnQh+cBteAr2kkXY6SDMm6CH4Z2ZmQuEP/3Dd0iDqO0ib77//vly+fNm5RR0e95vbdv/Tct65R0vfQLWoew/MTDqtLIbubUyQQyRgkhzGb2IRjHv37rnWfsxdwQ8JBBc2DBm8evWq/OMf/3Bd5KiwYkNkWS/AYRKM84R/SCBhAnGFF9IqGhIe6IIvOKJlEmkany3ADw/uQQtQ3L0JB4/ekQAJkAAJpIgAygWUIagzfffdd67eg94EDMm6fv266yWAGys/WB9KUeSeUlAPm0aQDpHOMAoNn2DCEEJ0lKDnyjbU8VFvR+cI0ifSKVYiRL0f38RFOra0avek7bj3g8Xo8QnWdncmPVc5qbv+P0G1ZRGLSiYiAXNUILQQGVeuXBGM58QEOsxjwbhPdEciEjH+GBPpPvnkE6eOrUKKiIKZGwn0OwH8OKFgxIaudvwQffDBB25lHvvRsfzR7+/C8JEACZAACZwcAdR1TGihQouKLYYLYr4LKrGovGI7aOWVZc7JxeGgPAlpDDsajDEMEB0kGHWG9IkNdXv0YEFYIW1iuXf0ZuETTaj3YE463B5L2kMPUrDB2Dy1M3/Es50mwjGy273u2Ly5xdpOuvZomSMnssKT0zEAOoQWJsZdunTJDSOE2Prmm2/cIhmY6AnBBUGGyMOPCe7hRgJpJIBGAfzIoAcLO7rUkfbtByqN78QwkwAJkAAJnBwBzOlFOYIRP6g/oW6ECi83EjhJAmggRp0caQ876jJIm1j04ssvv5S//e1vTmihnoNGAdR5BmmL6dHS1wsEnak316MVWJ/ky7erWJxDHSOCMF/FRBciCisSfv31106EISLhLgx/EOh2/07yXfgsEuiVANIuhrmih9YWfsEQWOuRxXVuJEACJEACJNCNAMoKKy+sDGE9qBsxXjsOAkhzqL9ghBqGBGL/+9//7urrGKVmcwejaRWNysfasBzphQokT/DqdhYKIS+B9FRfY4+ucDfBaZettx6tLh6c1CWLKIMPxYseK4guqGCoZRNfGDpoEYSIsx8Wi8STCjOfQwKHIYB0ih1pGD9M2HGOHypL14fxl/eQAAmQAAkMDwGr+8S9McuTOCq0Ow4CqMOgAwQL2kFkoe6O4YJYHAP1d9TnrX6ONGt1IDMfR5hO0s+8fzmt2GG5C/xHY3lwtJc1AO7aPqHD7ce1RcNjYUIEzs3NuciCKkY3uY0BtUgyt8cVLvpLAkkTaE/rOI+mZ5i5kQAJkAAJkECUQLS+g3LCygo00lm5AvdRc/T+Tmbzp9N12pNAOwFLixBWEFqYh4U5WKi3Yz0FCCxrPLb0Zekyet7ub6LngWgJpA/kj9vtL0RRuy5ydqG70KUPVowISk2PFuAjcuI2jP9EpGGPbhbJUTuaSSAtBJB+8WODlkf70WkPO9N4OxGekwAJkAAJgADKDdvbiVgFt92+0znLmk5kaL8fAaQdiCr0YHXa2tNX+3mn+9Jg75f+SENIGUYSIAESIAESIAESIIGeCXQSWj17QIckQAJHIkChdSR8vJkESIAESIAESIAESIAESIAE9hKg0NrLhDYk0HcEBqkbve/gMkAkQAIkMMAEOg09H+BX5quRQN8QoNDqm6hgQEggngBFVjwX2pIACZAACZAACZBAPxOg0Orn2GHYhp6ArRQ19CAIgARIgARIgARIgARSRoBCK2URxuCSAAmQAAmQAAmQAAmQAAn0P4G8G7vrvsnjv8tjRhzD1WqcpZ73//swhCQwEARsTP1+x4F4Wb4ECZAACZBA4gQaDXwapK7+Ypl3/5kQK1MSfxg9JIE0EYgIGhibp3YWHFX/xOqi6Ls2b47ahuaOPVrqdeiIBhIggeMhYFm63XfMy8JuQwc5T6udEM9JgARIgAT2J+BFVrQquf89dEECJJAUgd4+WKxfOo752HFSYaA/JDD0BCC4onkMwgpfUy+Xy4IPcmPnRgIkQAIkQAL7EUCvlStDir4MqdVqwS3WtBctbfbzjddJgASOQqBz7c3y41F8570kQAI9E4iKLQirM2fOyF//+ldtiGzIwsKCKzijwz7Yy9UzWjokARIggaEggDIC/3RMhJzVMuT69euytbUl8/PzUiwWlQFF1lAkBL5k3xDoLLQ0iDZ8kNmyb+KLARlwAhBbEFa5XE5mZmbk2rVrUq/XpVKphMMIBxwBX48ESIAESOAIBKzONj+/4EZFoEcLZQhGSXAjARI4WQKxQsu1iGhljxsJkMDJE6jppGWdtiwFHfYxNzenussPA0EPlvViRXu2Tj6EfCIJkAAJkEA/EvBlhJdaY2NjKrDKUtfqXFatokPQrVzpx3dgmEhgkAjErDqIiZO+61nret4ciC5Kr0GKer5LPxCI5qnQjEUwtEcL+bCYi7SFqH1UYEXN/fAuDAMJkAAJkMDpEkC5oIMgdKtLRpc7K2RRhkB4+Qa7aLkRNeMObiQwNATCChdyht/9u9uZP/o80jTjfE++weUuW6QW13QVbTlv2tJEAiRwXAQsa3v/gxUHM36cvT0TbmxIiNnxSAIkQAIkQAJGAO3iqAhmtQsLdTmrFGIFW24kQAInTyC+RwvhCGp+yKR13X17yMkHkE8kgUEmgGyGzWU35DMtGG3zJpsp6V35nGgueCQBEiABEiCBJgEvrFCiqMhyu5oxHL2R9Weu0Gkta5p300QCQ0LA5QP/rjA2T+3MH7Vapo0V3oEb66cn1ngRksL1Lltsj5Zzj1pes87XxQteIgESOCwBZDGXR5s5ORRbLjPDXsVXdNw97LGzhfKw1HkfCZAACQwmAfRkWeXNFR+iPVk6OqKB8YSuV6tZUWy267GyN5ipgW/VDwQ6C61o6LSu5yqDzItRKjSTwJEIIE9pkeczl+atrP5z4kpnLuNY3d1x/md1oH02n9Px9toiGQwFwUqEJraivWBHChBvJgESIAESSDEBV1PT8GfcarW7u7u+TFGbnJYhOvPXlSG+zGi6TfELM+gk0PcEuggtqqq+jz0GMPUE0OKIDbkNwkkbHmVrY0Nerq3JypMn0qjVJaffPhkdH5PpuVnBKlJYohcFJQWWQ8c/JEACJEACjoCvt21tbcuzZ6vy+PGyvHv3zo1+GB8bl7n5WZmfm5HxibEIL9b1IjBoJIHECXQRWok/ix6SAAnEEEAxl4HiQi/W9o68erYiyw8eqtBall09xwJS5fFxWbzwniy9/55MTE9JXsWWE2lBGcmiMgYsrUiABEhgyAhsbm7LyrM1uX37vjx8sCzr629c71Y2m5PLl8/Lp9c/kku65HuxwOrfkCUNvu4pEWBOOyXwfOxwELDBGXjbWDGEQfI6Udmtx6vHrbVVWXt4X14/eigT2pO1XduSly/W5dmjx7LxdE0K6jSnQwnHZqZ0KGFeh4L4Dc+J9T+4zgMJkAAJkMBgE8D3sp6vvpU7t1fk1q1n2hiHBrlpef1mQ369+6csP3sn+cqIzJ+dk5nJcZYZg50c+HZ9QmDPqoOYMOLmiWhzOY6u1dz9wRVuJEAC+xPQfBM4siNOIYSiYggrQlVrNczMkly9KvV3r+XN4/tSfrsmVxZnZPr6dam9Vrv7f8jyrfty++ZdeVKsSKlccT1cxYoWouqny68x/qsVNxIgARIggQElgLm62DCMHObt7Yy8eimyuTkply79t3x0taAfvs/I8pNdGfl/7+SXe1/JveVX8uGrdTccvaAFUtyi71amRLFxqHqUBs2pJxCpnLl6VPhCduaPqM21aqLgPHSvhohfUWszs0fLSPBIAgkTcBk0xk8vtvxfLHShRaTr0WpsbclIISdlHUdfHB+VyviINEo5KeyoCHu+Kas3/5Ta6ppsvVzXIYXbUh4pu2GFeIQJOOR3M8c8mlYkQAIkQAIDQgAVwBYBpAXA1OSIXLlckHyxLGfO5iSbQwlTk/PnRuXuo3GpSknPsrKr83/zOaxIOCAw+Bok0KcEKLT6NGIYrPQSQE+V6xnW4z4NHa6QwwIYzpArSGV2XgtO9aFcUitd8KJclMLEuIxOTcuirhr1TkVXdmdHF8moheVj9Bn+ySw705t6GHISIAES6I1Ai8jSW3IqqqanSzI5VZK81u5yOrZ8e1dLo3pGcrpq7ey0Dhmc1ka8kRHXSBctO3p7Il2RAAkclACF1kGJ0T0J9EDAi614h9HCDWPqocZyOlE5NzEjWV0ZSru3VClhSIiKqUxVdJlB/Z+XGbUrFXMyquYc5nbpFvXLzGygdGj4hwRIgAQGmkBUaMGcg7jKZ9znsvDJLF3dXd6+qerCSlVZXanL0rnz8sF7ozI1MeHKEJYVA508+HJ9QoBCq08igsEYHAIovNCXZcIn+mbaRxU9lQI+LtnQ4YMoFfWGDCYv63wtqeP7JxBber2q59ubkt3dltmZaRnVVQfL6PGCe9we+ghTq//hJRpIgARIgAQGkoANIcTHioM2OP0Oo8jqal1+vLEq33y7Ko+eFOV//ndeFhdHXc9XpOAYSCZ8KRLoFwIUWv0SEwzHwBCoVXfcx4ZrOrwPq8nYx4XzGMdhQigoDbXtUW3wIeKsFPJFyWB2spolox8ozpelsfFK6uvr0ni9LnkVV5XFRSnOzkpOe7lEu8MyEGqBtoK4axdyAwOVL0ICJEACJNBCAL1YJrJgdkWB/tnZbsja8125feup3Pj+T7l5+5U8fTkiY989l/LYgoyNnpNZnQMcFh4tvqqtqbU2e56SAAkcnACF1sGZ8Q4S6EKgIbtbG/Jal2lfV4G0q/Opars17aXSicc6x6rZ54QiUQWVLtCeyercLF1yd2ZuQUamgtZGSCYVXLtv38r2yzUn3EofXJTCuXM6xHDCD74PQhHorFBk2XmXQPISCZAACZDAABAwseVeBT/+WshAfNV3dVRFtaajH4oyNTUhK6+zcuOn+zIxta4fLs7JxIfvSwkjKSiqBiAV8BX6mcCe5d2RQV1GRX5Vsz9H9dBZuyP/kAAJdCDQqMn2uzfycvmRPLx3T97q8uy7GCgf5qXgPpel8I0TnZtVqsjk3Bm5fK0h50pLUh7VYYGaCetb73SFwVXZWH8ptWJJpr78THJnFqRRzPu8id4sy6xhcOKHLIaXaSABEiABEhgoAq6ehjdCuaJ7XsuG2bmCfPFf78nZC0ty/mJNSl9vys1f/5S795/KhV+LcvH8OSnrAkz4LiM3Ehg6Al7WuNcOsk2AwM780ekgl7E0awX1uDC/GbSIX2YVPXbp0drnzqgvNJMACXgCKrQqpYIsLczJvC7VvrO16XqmsnnMvcKcK9u0cGsUdVfRlCtJbmxERubmpaitjxgOWN/ZlZ2Vp7L5bMXdMHL2jOS1RytTLuiUrbrUM7uuhwy9ZBzmYUx5JAESIIHhJoCpvVjJNq/D0CdnMlIay0ihnJF3GxV5ujojG9rwt/q2Jru6EqE0OP5huFML3/4kCHQUWi0yS/OiX4L6JILEZ5BAigloi0euVJKszqMqTUzqsMEdN6Qvk9WshmEa4QahpfOsRO11PpZ+0ESyEFn5rA752NKerOey9vC+ZF++0o8Tz0p58axk9btZte03srGthaSKuPGxUfVSRZquWBhuLDdDFDSQAAmQwFAS0AqcGxGo5QGm806o2Dq/kJX5uRnZVCCl8riubRspN4YSEl+aBE6GQEehZV3QYTBYgQtR0EACnQno3CodjpEpq5AayUpWF8RAN7PrdYLYCjcTWlrY2Rh5bc1oqMjaXH0iaw/uysqdX2Rcl46qLRRkt/xCdl9vyrbO/8roN1Aqc3N6LGsDSLAyYegvMioza4iDBhIgARIYcALhqAb96UdxogvZ+inAWjzAqCu+C9ZZGi2UZGJyXpYWp6XoFl5SS24kQALHSiBa89vzIJvtway4Bw0tSCCegFsxULMVuoSdBso3ZQ/OWzY40t39x3zIqlRfPJO1327J8k8/yNrvj2SzlpPiH6uyU7ktazvbehyV9z7+XC7PzEjRDRuMeOoyqrVSMte2oOYJCZAACQw4gbo26lVrVcGKtzUdqo51COtVHTb4JiM6SEIy1YZcODspVy+flfHRrI6GiAeyZw6KOgvFXPwttCUBEuhAIFZoQWCZyOpwH61JgATiCKjQ8i2KMUIHuirccF1LOSxooYVjfVt7staeyertH2T15+/kzW+/SGbtnWxv52RDhwa+09bH19maFM4uSVaXjy9BZOly8X54CDyGfzHPDJ9HAwmQAAmQwCARwKdDIIBMBL19uyV3f/9D7tz5TVZWnus8Xh1dUZ/WIednpLa1JFc/WpTLVysyNa4iS4sLV34MEhC+Cwn0IYFYoeXC2VIp7MOQM0gk0GcEnNxBj5aKp4wbu7FfAL04akhNJdKO5BubMirbkh3TgvDCOWnMqT+7eV34Ii9VFVq7On+rcPa8zCwtSWm0Eugq+IFmST3imTil4AIEbiRAAiQwVARq1ZzUqjr/qn5GB1QUZbeGBZdGpVSakrMLFbn0SUUWLuRlRBe2DUqNoeLDlyWB0yDQUWixpeM0ooPPTDsBL7b0I5IdMpC1XziJZSc6zyqD3qpyXibP6ZCOioqrjfdEajqLuaZZVIWWNk1qD1ZesjpkMLdwVnIjKrR0w3PwLyw2XQDcJf4hARIgARIYYALWk2WvWCwWZG52RuqXy3JuaVuqdR1hoSvblgtFmZ6oyOJSVhdX0hJDu7M6FFHmFY8kQAIJEYgVWr7i5v8m9Bx6QwJDQyDUT8Eb47zdDtLIDd1wF3WxDF2RMDc5LtnxK9LYuSCNbf32Vl0/cFxHFsVHjfWoe1Z7sjIqutyQQ/VE73RP8X+dkX9IgARIgASGgEC70BoZzcjSBRVZ53XlWx0FUa1qO50WDm4uVs2110lNzzGzlz1aQ5BA+Ip9QSDmg8WovOk/nTfi64A6fwSrpmlwrbLYFyFnIEigzwm0ix/kH7NzR7XQrOXzFXqt9BtcLqehBMSavPox44xbghdDAmGZdfnS3+EbQuroDXP/cGdQdDKj9nnKYPBIgARIIFkCrs6mqsp9GkuLgnrN19vwaR4sTovpwLoWhq/XBY92i1702LUVt0BGsm9A30jgBAlE6kkwNk/tzB9dunfGQBdBG6HiFt3aTqOXYEZzefxmNUJcNU+idvF30ZYESMARsEzTJq5a6GiGcs4gpJAVtWDUIYQNN0xQL4Rr9AYCCoLKNU3qfciLwQ4vYGQ7pYPAPyRAAiQwtASgm6z0CYsJX0AE5YSVF4qoR5E1tDD54iSQAIGYHi2v1tBKjj4tr+ZgimTOBB5ML0hgsAlYUdfhLfWyaxRxzlAK+u9pYWEMyWnzo7uoAsstcIHruEH/o2CELkPehNfuT3CAOYNBIXCPnRsJkAAJkMAwELBW9uivv5UC7mgnQZlhTNpOzZpHEhhsApGED2PkNDjztqiK+bzl9VBUE4WAWm8Orc3QuUfLXPBIAiRwCAJWqumt3TKhc4YeK6gnPwzQ90whd8PevotVV2/8UBDTUBgi4ocNBs9yY0b0lsij9YwbCZAACZDAkBDAz7+VGmFZEFMmxFgNCSG+JgnsR8Byhz/aGe6CuVuVLs5nCq04KrQjgZMkEOZi11WlT/ZZuZFBcQmz3xuYwxW6RVb3MstdD3O+udfL3EiABEiABIaGQFg82BurhS8a8NcvgYFSA9set86Wf0hguAiEVafgte3cz3nH2d6cstemOzMvtNxsSfM+/gZ4fFDP4306Gdvub3OwMBz3e6clrGkJJ2K3r8KKBBQXoGjCCs264IXLabgBlnbBRJhatWzBdXN2jGPu416hJSgHOLHgHuCWAzllWA+EqyfHZNoTpgM7SgvXtIQTETCUYdXf/vC99/zAwgIjJPZcAK4Db+FzDnynvyGZUHR++FHDF/WZYfU00sQ0Gn8dzZGItXezI/KJb5CAI+QrlV3Ni87LyO0dH2EX9unROohX5uXpH9t4HDlA8O+4SCQd1iO/7Al5kCamiYS1xwTk0wMc773Bt7DsjaAwfHtv2eu4T2zCMB9DeDzD5DxOU1iTe+vj9SlNTNMU1uONteR8TxPTNIW1ewwlU0CAx1G3NDFNU1iPGi8ndf9xMm22NnR5m7asgPBgb93MkR2bV1ts7MYuL4Umjs5bc5xSZzd9eKUFQgLhS9q/BIJEL7oQSDq+kvYvGnTL4HaMXjuI+aj3H+RZ/e426fhK2r9+55f28CUdX0n7l3a+/R7+pOMraf/6nd9+4et3HkmHL2n/9uPL6/1EwMf+UdPAPj1a/fTCBwvLUcEc7GmHd52WcOINGdbDx3OnO8m0E5mj2aeFa1rCidhgWI+WJuPuJtM4Kke3SwvXtISzPUb6Pdz9Hj7jmZZwIrxpCqvx7Xhs633y79a0bL6rn8iB8+69Uh2f5C7kbY1pWxq0oV+P4MdRAAAFdklEQVS2w+pm+plideDN7mt3ehasedbdR14lARIgARIgARIgARIgARIggZMmAM203xZ1g3UqVOFE5RRUkNv04Jd412Ndbe3EX/W3wRw4N+vosdmjFUg4eOLEFj4l3iKt4EtT50U9oZkESIAESIAESIAESIAESIAETpVAL1LFhJG63eMcYsqJL+1uUi1Ur6seUpFlisvdCid7box/60BowTU6xvRjqejF0mWk63VvxhpoeCCey40ESIAESIAESIAESIAESIAEUkugRSTZRw+gpVTsOMGj4gpKSkVWvaaf1qlVIz1a6kQvZ1U2tXjTAYYfdog7nLCCKx0gqMIKHpiiy6oIy2W80w7+0JoESIAESIAESIAESIAESIAEUkbAS6aMiqtMVs1O82SlUChIuVSQGoSWvpG7rpdzEFm9qCy9p9mj5W7wD9je3pbnT5/IjRv/J42ReXVVUM1VlyzGJzp0CXZvqVc9hrWnSHMhS9JDe2pawonwMqwWa8kdyTQ5llGf0sI1LeEEW4Y1msKSMZNpMhzbfUkL134PZ4fwxVWF1OmBNuc+zqMD+dLBcYdwd3C9r/WxhTUt4QShIQ6rTyC9JVZ8Hcu+jdXQziXtbtJNbaFztBcr29iVUjYnL5Yfy4tnKzIxPtkirJDWenuSCS2MRcRduhWLZalURlTMZeXxo0eyXXwlmVxO+7T0wVXtPjOH3vmR/+LRSW7HuSJ9WsKadDgRP8fFNemwHlc4wSAtYU06nIx/EGD8ewrJ/k06rTL/J59OEePHxZXxn1x+MpZW+Ws/ungMHtde7Wo/bw8V4z/5fJUWpi7dWGJqTxhHPLc0e0Rv2m5HYLsH2ImsUGhBZOmOWzRS6piLpUMFc/VdGcllZPPthhNeE1PTki8WvQJSN+jZapFDXR6pPVrqKYYOYteuspHRcVm6eEUqenxdy8i7TEGy2kdWhCf68KS3LmE79KP2+9E4rMdJhzUt4QQvhnW/rHvwVEWmyTNNU1pl/DP+D/6rsf8dSZdTacpTaQpr0vk/Gu8wR8+jqQbPPeizD+o++rxu5k5h7HbPftfSEta0hBO80xTW/dIHrlv+8EIP3UfBv0D9ZnSOVk6nU+XVwcTkpA7qG5H5M+ekVC7r9C2VabWG2qkvPYLJvHixok5VQAWTv+o7W1Ld3ZJadVcVnnoYzM2CAuzZ117e1Nz0GFBzvu/xOHKuPXRYw0qmPgUw/i0nJHccVqYgmJZ8lZZwpolpmsLK+EdsJV/9SZpr0r+l/q3T8zuF8CbN1BjgmDTftIQ1LeGMxtWBzIhYi1y8LHbtsbIFMSSnvVclyeXL2qNV0RF+Bb2ejQwjtPv16CZtmR/qLNi0R8uPTPR+ZyRbKEkhl5cCerh0AGOvk73MQx5JgARIgARIgARIgARIgARIoG8JOH0FgWQhDAxmD+tMTv8UdceSFl1WwHDdY6FH6ra56Z3RC4HZHbDcIZ5mOyyjbpue0EQCJEACJEACJEACJEACJEACqSDQSdJE7Z3Qwqrr2KMXIm/orKNaKXJNjXmMNww3507PG/h6FuyDG51R/7gHhq5pIAESIAESIAESIAESIAESIIEBJAABpLsbShj3eiawosdWd3m/nJBTUuoXHEK11dVbCCs9xyVnhgFdaNxIgARIgARIgARIgARIgARIgAS6EWgOHXSTsUyRBcJL74QNNie8vOryFvxLAiRAAiRAAiRAAiRAAiRAAgNNwNRQ20u6zqg2u7bTptAKL5jI8p76v94nL7ZChzSQAAmQAAmQAAmQAAmQAAmQwIASUCVkgsr0lp338MZYRiOymciCVdQXmKPnkVtoJAESIAESIAESIAESIAESIIGBImDKKniprlIo/uL/B6JnWJ45SC/VAAAAAElFTkSuQmCC)"
      ],
      "metadata": {
        "id": "tcoQgrYfaP9f"
      }
    },
    {
      "cell_type": "code",
      "source": [
        ""
      ],
      "metadata": {
        "id": "RI6H6q0YbGb5"
      },
      "execution_count": null,
      "outputs": []
    },
    {
      "cell_type": "code",
      "source": [
        "list_a"
      ],
      "metadata": {
        "colab": {
          "base_uri": "https://localhost:8080/"
        },
        "id": "o_Izcq6XZMF7",
        "outputId": "62e970d9-6684-454d-f8d2-755acc733d58"
      },
      "execution_count": 55,
      "outputs": [
        {
          "output_type": "execute_result",
          "data": {
            "text/plain": [
              "[1, 2, 3, 4, 5, 6]"
            ]
          },
          "metadata": {},
          "execution_count": 55
        }
      ]
    },
    {
      "cell_type": "code",
      "source": [
        "list_a[2]"
      ],
      "metadata": {
        "colab": {
          "base_uri": "https://localhost:8080/"
        },
        "id": "UX1DrVKVZfmR",
        "outputId": "166899ba-b22c-46f5-9807-ec7adfa069ad"
      },
      "execution_count": 56,
      "outputs": [
        {
          "output_type": "execute_result",
          "data": {
            "text/plain": [
              "3"
            ]
          },
          "metadata": {},
          "execution_count": 56
        }
      ]
    },
    {
      "cell_type": "markdown",
      "source": [
        "#### `:` colon"
      ],
      "metadata": {
        "id": "Uc5YDhFzb38Y"
      }
    },
    {
      "cell_type": "code",
      "source": [
        "list_a[-3:]  # : colon"
      ],
      "metadata": {
        "colab": {
          "base_uri": "https://localhost:8080/"
        },
        "id": "8fXKKiHGZh0_",
        "outputId": "5f15cc33-9b3d-4817-8d6f-f2d787f0dd86"
      },
      "execution_count": 57,
      "outputs": [
        {
          "output_type": "execute_result",
          "data": {
            "text/plain": [
              "[4, 5, 6]"
            ]
          },
          "metadata": {},
          "execution_count": 57
        }
      ]
    },
    {
      "cell_type": "code",
      "source": [
        "list_a[:4]  # : colon"
      ],
      "metadata": {
        "colab": {
          "base_uri": "https://localhost:8080/"
        },
        "id": "galkW1OzboHs",
        "outputId": "ffab5c0a-96b7-4063-d500-9be8227c7d27"
      },
      "execution_count": 59,
      "outputs": [
        {
          "output_type": "execute_result",
          "data": {
            "text/plain": [
              "[1, 2, 3, 4]"
            ]
          },
          "metadata": {},
          "execution_count": 59
        }
      ]
    },
    {
      "cell_type": "code",
      "source": [
        "list_a[1:4]"
      ],
      "metadata": {
        "colab": {
          "base_uri": "https://localhost:8080/"
        },
        "id": "L5DS5fVfZu4u",
        "outputId": "060f5f58-38ad-410b-e090-19d59506aac4"
      },
      "execution_count": 58,
      "outputs": [
        {
          "output_type": "execute_result",
          "data": {
            "text/plain": [
              "[2, 3, 4]"
            ]
          },
          "metadata": {},
          "execution_count": 58
        }
      ]
    },
    {
      "cell_type": "code",
      "source": [
        "list_a[:]"
      ],
      "metadata": {
        "colab": {
          "base_uri": "https://localhost:8080/"
        },
        "id": "Cpf_q9pgbep7",
        "outputId": "2b45a67a-14e5-4227-86fa-878570d99ccf"
      },
      "execution_count": 60,
      "outputs": [
        {
          "output_type": "execute_result",
          "data": {
            "text/plain": [
              "[1, 2, 3, 4, 5, 6]"
            ]
          },
          "metadata": {},
          "execution_count": 60
        }
      ]
    },
    {
      "cell_type": "markdown",
      "source": [
        "#### step\n"
      ],
      "metadata": {
        "id": "KsPwKdy-b0MB"
      }
    },
    {
      "cell_type": "code",
      "source": [
        "list_c = [1,2,3,4,5,6,7,8,9,10,11,12,13]"
      ],
      "metadata": {
        "id": "gqx3ptFHbwEX"
      },
      "execution_count": 74,
      "outputs": []
    },
    {
      "cell_type": "code",
      "source": [
        "list_c[:10:]"
      ],
      "metadata": {
        "colab": {
          "base_uri": "https://localhost:8080/"
        },
        "id": "PDKC5kzRcAzo",
        "outputId": "c36f22e4-5383-4d88-b6b7-ea6c48796c0b"
      },
      "execution_count": 65,
      "outputs": [
        {
          "output_type": "execute_result",
          "data": {
            "text/plain": [
              "[1, 2, 3, 4, 5, 6, 7, 8, 9, 10]"
            ]
          },
          "metadata": {},
          "execution_count": 65
        }
      ]
    },
    {
      "cell_type": "code",
      "source": [
        "list_c[:10:2]"
      ],
      "metadata": {
        "colab": {
          "base_uri": "https://localhost:8080/"
        },
        "id": "boXMUkxmcEJ-",
        "outputId": "3ccb63c8-a571-4421-c498-a7cbde55d14f"
      },
      "execution_count": 63,
      "outputs": [
        {
          "output_type": "execute_result",
          "data": {
            "text/plain": [
              "[1, 3, 5, 7, 9]"
            ]
          },
          "metadata": {},
          "execution_count": 63
        }
      ]
    },
    {
      "cell_type": "code",
      "source": [
        "list_c[::-1]"
      ],
      "metadata": {
        "colab": {
          "base_uri": "https://localhost:8080/"
        },
        "id": "YpahxWEYcLpQ",
        "outputId": "b60ad3c8-734c-4585-d59c-b51e68c8dc89"
      },
      "execution_count": 64,
      "outputs": [
        {
          "output_type": "execute_result",
          "data": {
            "text/plain": [
              "[13, 12, 11, 10, 9, 8, 7, 6, 5, 4, 3, 2, 1]"
            ]
          },
          "metadata": {},
          "execution_count": 64
        }
      ]
    },
    {
      "cell_type": "markdown",
      "source": [
        "### `range()`"
      ],
      "metadata": {
        "id": "CDiLZxqQcbks"
      }
    },
    {
      "cell_type": "code",
      "source": [
        "range(21)"
      ],
      "metadata": {
        "colab": {
          "base_uri": "https://localhost:8080/"
        },
        "id": "WJNpAfRkcr0a",
        "outputId": "d2d060e9-8c0a-41db-fb43-3a00ebb82320"
      },
      "execution_count": 69,
      "outputs": [
        {
          "output_type": "execute_result",
          "data": {
            "text/plain": [
              "range(0, 21)"
            ]
          },
          "metadata": {},
          "execution_count": 69
        }
      ]
    },
    {
      "cell_type": "code",
      "source": [
        "a = list(range(21))"
      ],
      "metadata": {
        "id": "gyVdGD5qcQuc"
      },
      "execution_count": 70,
      "outputs": []
    },
    {
      "cell_type": "code",
      "source": [
        "a"
      ],
      "metadata": {
        "colab": {
          "base_uri": "https://localhost:8080/"
        },
        "id": "1zRW5KHXcoa2",
        "outputId": "bea20a9f-c48f-4927-88d0-9bf8a1104306"
      },
      "execution_count": 71,
      "outputs": [
        {
          "output_type": "execute_result",
          "data": {
            "text/plain": [
              "[0, 1, 2, 3, 4, 5, 6, 7, 8, 9, 10, 11, 12, 13, 14, 15, 16, 17, 18, 19, 20]"
            ]
          },
          "metadata": {},
          "execution_count": 71
        }
      ]
    },
    {
      "cell_type": "code",
      "source": [
        "list(range(1,21))"
      ],
      "metadata": {
        "colab": {
          "base_uri": "https://localhost:8080/"
        },
        "id": "n0pg63L3cxK5",
        "outputId": "90fe5624-7e1d-4035-fc70-4215391415b5"
      },
      "execution_count": 73,
      "outputs": [
        {
          "output_type": "execute_result",
          "data": {
            "text/plain": [
              "[1, 2, 3, 4, 5, 6, 7, 8, 9, 10, 11, 12, 13, 14, 15, 16, 17, 18, 19, 20]"
            ]
          },
          "metadata": {},
          "execution_count": 73
        }
      ]
    },
    {
      "cell_type": "markdown",
      "source": [
        "EXAMPLE คำนวนเวลาเป็นวินาทีของเวลาต่อไปนี้โดยใช้คำสั่ง split() ช่วย (print ออกมาให้สวยงาม)\n",
        "- 12:30:15\n",
        "- 13:41:07\n",
        "- 09:11:50\n",
        "- 21:30:15\n",
        "- 03:10:15"
      ],
      "metadata": {
        "id": "7ZQoVrcxdc3y"
      }
    },
    {
      "cell_type": "code",
      "source": [
        "# 01:02:03\n",
        "\n",
        "a = 1*60*60 + (2*60) + 3\n",
        "print(f'01:02:03 แปลงเป็นวินาที่ได้ {a} วินาที')"
      ],
      "metadata": {
        "colab": {
          "base_uri": "https://localhost:8080/"
        },
        "id": "sWG7T5WNc9Bt",
        "outputId": "03688e93-e6d9-4397-b69f-065cb40e66cf"
      },
      "execution_count": 79,
      "outputs": [
        {
          "output_type": "stream",
          "name": "stdout",
          "text": [
            "01:02:03 แปลงเป็นวินาที่ได้ 3723 วินาที\n"
          ]
        }
      ]
    }
  ]
}