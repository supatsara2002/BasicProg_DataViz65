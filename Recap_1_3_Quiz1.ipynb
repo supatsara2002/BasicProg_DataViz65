{
  "nbformat": 4,
  "nbformat_minor": 0,
  "metadata": {
    "colab": {
      "name": "Recap 1-3 Quiz1.ipynb",
      "provenance": [],
      "include_colab_link": true
    },
    "kernelspec": {
      "name": "python3",
      "display_name": "Python 3"
    },
    "language_info": {
      "name": "python"
    }
  },
  "cells": [
    {
      "cell_type": "markdown",
      "metadata": {
        "id": "view-in-github",
        "colab_type": "text"
      },
      "source": [
        "<a href=\"https://colab.research.google.com/github/supatsara2002/BasicProg_DataViz65/blob/main/Recap_1_3_Quiz1.ipynb\" target=\"_parent\"><img src=\"https://colab.research.google.com/assets/colab-badge.svg\" alt=\"Open In Colab\"/></a>"
      ]
    },
    {
      "cell_type": "markdown",
      "source": [
        "Quiz 1 \n",
        "\n",
        "คำนวณเวลาเป็นความต่างของเวลาเป็นวินาทีของช่วงเวลาต่อไปนี้โดยใช้คำสั่ง split() ช่วย และ print ออกมาให้สวยงาม\n",
        "\n",
        "* 09:11:50 - 12:30:15\n",
        "* 13:41:07 - 20:00:18\n",
        "* 21:30:15 - 00:00:00\n",
        "* 00:00:00 - 23:59:59\n",
        "\n",
        "\n",
        "\n",
        "\n",
        "\n"
      ],
      "metadata": {
        "id": "FKKg2s03yfKC"
      }
    },
    {
      "cell_type": "code",
      "execution_count": 1,
      "metadata": {
        "id": "JHgL5URByL6e",
        "outputId": "a3adf7d7-8d00-418d-e499-f18f4f772cb0",
        "colab": {
          "base_uri": "https://localhost:8080/"
        }
      },
      "outputs": [
        {
          "output_type": "stream",
          "name": "stdout",
          "text": [
            "ความต่างของเวลา 09:11:50 - 12:30:15 แปลงเป็นวินาที่ได้ 11905 วินาที\n"
          ]
        }
      ],
      "source": [
        "# 09:11:50 - 12:30:15\n",
        "\n",
        "a = (12*60*60 + (30*60) + 15)- (9*60*60 + (11*60) + 50)\n",
        "print(f'ความต่างของเวลา 09:11:50 - 12:30:15 แปลงเป็นวินาที่ได้ {a} วินาที')"
      ]
    },
    {
      "cell_type": "code",
      "source": [
        "# 13:41:07 - 20:00:18\n",
        "\n",
        "a = (20*60*60 + 18)- (13*60*60 + (41*60) + 7)\n",
        "print(f'ความต่างของเวลา 13:41:07 - 20:00:18 แปลงเป็นวินาที่ได้ {a} วินาที')"
      ],
      "metadata": {
        "id": "1kqE-X9T5rqk",
        "outputId": "5c293ce9-d10b-446f-a87c-2e2d15b02746",
        "colab": {
          "base_uri": "https://localhost:8080/"
        }
      },
      "execution_count": 2,
      "outputs": [
        {
          "output_type": "stream",
          "name": "stdout",
          "text": [
            "ความต่างของเวลา 13:41:07 - 20:00:18 แปลงเป็นวินาที่ได้ 22751 วินาที\n"
          ]
        }
      ]
    },
    {
      "cell_type": "code",
      "source": [
        "# 21:30:15 - 00:00:00\n",
        "\n",
        "a = (24*60*60)- (21*60*60 + (30*60) + 15)\n",
        "print(f'ความต่างของเวลา 21:30:15 - 00:00:00 แปลงเป็นวินาที่ได้ {a} วินาที')"
      ],
      "metadata": {
        "id": "hlcQm5lo578Y",
        "outputId": "7fac70d1-7408-43bb-d8c8-e066d93729fe",
        "colab": {
          "base_uri": "https://localhost:8080/"
        }
      },
      "execution_count": 3,
      "outputs": [
        {
          "output_type": "stream",
          "name": "stdout",
          "text": [
            "ความต่างของเวลา 21:30:15 - 00:00:00 แปลงเป็นวินาที่ได้ 8985 วินาที\n"
          ]
        }
      ]
    },
    {
      "cell_type": "code",
      "source": [
        "# 00:00:00 - 23:59:59\n",
        "\n",
        "a = (23*60*60 + (59*60) + 59)- 0\n",
        "print(f'ความต่างของเวลา 00:00:00 - 23:59:59 แปลงเป็นวินาที่ได้ {a} วินาที')"
      ],
      "metadata": {
        "id": "k-VaTwd45rgw",
        "outputId": "4635bcd2-f11f-4b53-b1f6-f7bcb7b361a5",
        "colab": {
          "base_uri": "https://localhost:8080/"
        }
      },
      "execution_count": 4,
      "outputs": [
        {
          "output_type": "stream",
          "name": "stdout",
          "text": [
            "ความต่างของเวลา 00:00:00 - 23:59:59 แปลงเป็นวินาที่ได้ 86399 วินาที\n"
          ]
        }
      ]
    }
  ]
}