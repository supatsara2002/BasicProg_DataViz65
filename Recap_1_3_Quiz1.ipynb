{
  "nbformat": 4,
  "nbformat_minor": 0,
  "metadata": {
    "colab": {
      "name": "Recap 1-3 Quiz1.ipynb",
      "provenance": [],
      "include_colab_link": true
    },
    "kernelspec": {
      "name": "python3",
      "display_name": "Python 3"
    },
    "language_info": {
      "name": "python"
    }
  },
  "cells": [
    {
      "cell_type": "markdown",
      "metadata": {
        "id": "view-in-github",
        "colab_type": "text"
      },
      "source": [
        "<a href=\"https://colab.research.google.com/github/supatsara2002/BasicProg_DataViz65/blob/main/Recap_1_3_Quiz1.ipynb\" target=\"_parent\"><img src=\"https://colab.research.google.com/assets/colab-badge.svg\" alt=\"Open In Colab\"/></a>"
      ]
    },
    {
      "cell_type": "markdown",
      "source": [
        "Quiz 1 \n",
        "\n",
        "คำนวณเวลาเป็นความต่างของเวลาเป็นวินาทีของช่วงเวลาต่อไปนี้โดยใช้คำสั่ง split() ช่วย และ print ออกมาให้สวยงาม\n",
        "\n",
        "* 09:11:50 - 12:30:15\n",
        "* 13:41:07 - 20:00:18\n",
        "* 21:30:15 - 00:00:00\n",
        "* 00:00:00 - 23:59:59\n",
        "\n"
      ],
      "metadata": {
        "id": "FKKg2s03yfKC"
      }
    },
    {
      "cell_type": "code",
      "execution_count": 1,
      "metadata": {
        "id": "JHgL5URByL6e",
        "outputId": "19a12b67-5816-429a-9a61-95226e0707af",
        "colab": {
          "base_uri": "https://localhost:8080/"
        }
      },
      "outputs": [
        {
          "output_type": "stream",
          "name": "stdout",
          "text": [
            "['09', '11', '50']\n",
            "['12', '30', '15']\n",
            "09:11:50 - 12:30:15 แปลงเป็นความต่างของเวลาเป็นวินาทีได้ 11905 วินาที\n"
          ]
        }
      ],
      "source": [
        "# 09:11:50 - 12:30:15\n",
        "q1 = '09:11:50'\n",
        "q1_sp = q1.split(':')\n",
        "print(q1_sp)\n",
        "ans1= int(q1_sp[0])*3600+int (q1_sp[1])*60+int (q1_sp[2])\n",
        "q2 = '12:30:15'\n",
        "q2_sp = q2.split(':')\n",
        "print(q2_sp)\n",
        "ans2= int(q2_sp[0])*3600+int (q2_sp[1])*60+int (q2_sp[2])\n",
        "print(f'09:11:50 - 12:30:15 แปลงเป็นความต่างของเวลาเป็นวินาทีได้ {ans2-ans1} วินาที')"
      ]
    },
    {
      "cell_type": "code",
      "source": [
        "# 13:41:07 - 20:00:18\n",
        "q1 = '13:41:0'\n",
        "q1_sp = q1.split(':')\n",
        "print(q1_sp)\n",
        "ans1= int(q1_sp[0])*3600+int (q1_sp[1])*60+int (q1_sp[2])\n",
        "q2 = '20:00:18'\n",
        "q2_sp = q2.split(':')\n",
        "print(q2_sp)\n",
        "ans2= int(q2_sp[0])*3600+int (q2_sp[1])*60+int (q2_sp[2])\n",
        "print(f'13:41:07 - 20:00:18 แปลงเป็นความต่างของเวลาเป็นวินาทีได้ {ans2-ans1} วินาที')"
      ],
      "metadata": {
        "id": "w-QDIT3FHN8x",
        "outputId": "299bf24c-0eb2-4f5f-b970-9683e0dd7413",
        "colab": {
          "base_uri": "https://localhost:8080/"
        }
      },
      "execution_count": 2,
      "outputs": [
        {
          "output_type": "stream",
          "name": "stdout",
          "text": [
            "['13', '41', '0']\n",
            "['20', '00', '18']\n",
            "13:41:07 - 20:00:18 แปลงเป็นความต่างของเวลาเป็นวินาทีได้ 22758 วินาที\n"
          ]
        }
      ]
    },
    {
      "cell_type": "code",
      "source": [
        "# 21:30:15 - 00:00:00\n",
        "q1 = '21:30:15'\n",
        "q1_sp = q1.split(':')\n",
        "print(q1_sp)\n",
        "ans1= int(q1_sp[0])*3600+int (q1_sp[1])*60+int (q1_sp[2])\n",
        "q2 = ' 24:00:00'\n",
        "q2_sp = q2.split(':')\n",
        "print(q2_sp)\n",
        "ans2= int(q2_sp[0])*3600+int (q2_sp[1])*60+int (q2_sp[2])\n",
        "print(f'21:30:15 - 00:00:00 แปลงเป็นความต่างของเวลาเป็นวินาทีได้ {ans2-ans1} วินาที')"
      ],
      "metadata": {
        "id": "RZKHhl4LHY-r",
        "outputId": "2040529d-3947-4224-932f-865145ff2390",
        "colab": {
          "base_uri": "https://localhost:8080/"
        }
      },
      "execution_count": 3,
      "outputs": [
        {
          "output_type": "stream",
          "name": "stdout",
          "text": [
            "['21', '30', '15']\n",
            "['\\xa024', '00', '00']\n",
            "21:30:15 - 00:00:00 แปลงเป็นความต่างของเวลาเป็นวินาทีได้ 8985 วินาที\n"
          ]
        }
      ]
    },
    {
      "cell_type": "code",
      "source": [
        "# 00:00:00 - 23:59:59\n",
        "q1 = '00:00:00'\n",
        "q1_sp = q1.split(':')\n",
        "print(q1_sp)\n",
        "ans1= int(q1_sp[0])*3600+int (q1_sp[1])*60+int (q1_sp[2])\n",
        "q2 = '23:59:59'\n",
        "q2_sp = q2.split(':')\n",
        "print(q2_sp)\n",
        "ans2= int(q2_sp[0])*3600+int (q2_sp[1])*60+int (q2_sp[2])\n",
        "print(f'00:00:00 - 23:59:59 แปลงเป็นความต่างของเวลาเป็นวินาทีได้ {ans2-ans1} วินาที')"
      ],
      "metadata": {
        "id": "Cbl5j0fXHmMb",
        "outputId": "cb16fc4e-5533-435f-e8db-874f6fd9f3c6",
        "colab": {
          "base_uri": "https://localhost:8080/"
        }
      },
      "execution_count": 4,
      "outputs": [
        {
          "output_type": "stream",
          "name": "stdout",
          "text": [
            "['00', '00', '00']\n",
            "['23', '59', '59']\n",
            "00:00:00 - 23:59:59 แปลงเป็นความต่างของเวลาเป็นวินาทีได้ 86399 วินาที\n"
          ]
        }
      ]
    }
  ]
}