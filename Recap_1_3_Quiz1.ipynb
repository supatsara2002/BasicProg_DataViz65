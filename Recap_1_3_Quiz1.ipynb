{
  "nbformat": 4,
  "nbformat_minor": 0,
  "metadata": {
    "colab": {
      "name": "Recap 1-3 Quiz1.ipynb",
      "provenance": [],
      "include_colab_link": true
    },
    "kernelspec": {
      "name": "python3",
      "display_name": "Python 3"
    },
    "language_info": {
      "name": "python"
    }
  },
  "cells": [
    {
      "cell_type": "markdown",
      "metadata": {
        "id": "view-in-github",
        "colab_type": "text"
      },
      "source": [
        "<a href=\"https://colab.research.google.com/github/supatsara2002/BasicProg_DataViz65/blob/main/Recap_1_3_Quiz1.ipynb\" target=\"_parent\"><img src=\"https://colab.research.google.com/assets/colab-badge.svg\" alt=\"Open In Colab\"/></a>"
      ]
    },
    {
      "cell_type": "markdown",
      "source": [
        "Quiz 1 \n",
        "\n",
        "คำนวณเวลาเป็นความต่างของเวลาเป็นวินาทีของช่วงเวลาต่อไปนี้โดยใช้คำสั่ง split() ช่วย และ print ออกมาให้สวยงาม\n",
        "\n",
        "* 09:11:50 - 12:30:15\n",
        "* 13:41:07 - 20:00:18\n",
        "* 21:30:15 - 00:00:00\n",
        "* 00:00:00 - 23:59:59\n",
        "\n"
      ],
      "metadata": {
        "id": "FKKg2s03yfKC"
      }
    },
    {
      "cell_type": "code",
      "execution_count": 1,
      "metadata": {
        "id": "JHgL5URByL6e",
        "outputId": "ad238d59-2fec-47bf-da14-497f1bc820ca",
        "colab": {
          "base_uri": "https://localhost:8080/"
        }
      },
      "outputs": [
        {
          "output_type": "stream",
          "name": "stdout",
          "text": [
            "['09', '11', '50']\n",
            "['12', '30', '15']\n",
            "09:11:50 - 12:30:15 แปลงเป็นความต่างของเวลาเป็นวินาทีได้ 11905 วินาที\n"
          ]
        }
      ],
      "source": [
        "# 09:11:50 - 12:30:15\n",
        "m1 = '09:11:50'\n",
        "m1_sp = m1.split(':')\n",
        "print(m1_sp)\n",
        "ans1= int(m1_sp[0])*3600+int (m1_sp[1])*60+int (m1_sp[2])\n",
        "m2 = '12:30:15'\n",
        "m2_sp = m2.split(':')\n",
        "print(m2_sp)\n",
        "ans2= int(m2_sp[0])*3600+int (m2_sp[1])*60+int (m2_sp[2])\n",
        "print(f'{m1} - {m2} แปลงเป็นความต่างของเวลาเป็นวินาทีได้ {ans2-ans1} วินาที')"
      ]
    },
    {
      "cell_type": "code",
      "source": [
        "# 13:41:07 - 20:00:18\n",
        "m3 = '13:41:07'\n",
        "m3_sp = m3.split(':')\n",
        "print(m3_sp)\n",
        "ans3= int(m3_sp[0])*3600+int (m3_sp[1])*60+int (m3_sp[2])\n",
        "m4 = '20:00:18'\n",
        "m4_sp = m4.split(':')\n",
        "print(m4_sp)\n",
        "ans4= int(m4_sp[0])*3600+int (m4_sp[1])*60+int (m4_sp[2])\n",
        "print(f'{m3} - {m4} แปลงเป็นความต่างของเวลาเป็นวินาทีได้ {ans4-ans3} วินาที')"
      ],
      "metadata": {
        "colab": {
          "base_uri": "https://localhost:8080/"
        },
        "id": "w-QDIT3FHN8x",
        "outputId": "b455a0bc-a541-41f8-fb86-3869c517eb0d"
      },
      "execution_count": 2,
      "outputs": [
        {
          "output_type": "stream",
          "name": "stdout",
          "text": [
            "['13', '41', '07']\n",
            "['20', '00', '18']\n",
            "13:41:07 - 20:00:18 แปลงเป็นความต่างของเวลาเป็นวินาทีได้ 22751 วินาที\n"
          ]
        }
      ]
    },
    {
      "cell_type": "code",
      "source": [
        "# 21:30:15 - 00:00:00\n",
        "m5 = '21:30:15'\n",
        "m5_sp = m5.split(':')\n",
        "print(m5_sp)\n",
        "ans5= int(m5_sp[0])*3600+int (m5_sp[1])*60+int (m5_sp[2])\n",
        "m6 = '24:00:00'\n",
        "m6_sp = m6.split(':')\n",
        "print(m6_sp)\n",
        "ans6= int(m6_sp[0])*3600+int (m6_sp[1])*60+int (m6_sp[2])\n",
        "print(f'{m5} - {m6} แปลงเป็นความต่างของเวลาเป็นวินาทีได้ {ans6-ans5} วินาที')"
      ],
      "metadata": {
        "colab": {
          "base_uri": "https://localhost:8080/"
        },
        "id": "RZKHhl4LHY-r",
        "outputId": "effe1851-fd3f-48fa-9780-d3fd7d5c4772"
      },
      "execution_count": 3,
      "outputs": [
        {
          "output_type": "stream",
          "name": "stdout",
          "text": [
            "['21', '30', '15']\n",
            "['24', '00', '00']\n",
            "21:30:15 - 24:00:00 แปลงเป็นความต่างของเวลาเป็นวินาทีได้ 8985 วินาที\n"
          ]
        }
      ]
    },
    {
      "cell_type": "code",
      "source": [
        "# 00:00:00 - 23:59:59\n",
        "m7 = '00:00:00'\n",
        "m7_sp = m7.split(':')\n",
        "print(m7_sp)\n",
        "ans7= int(m7_sp[0])*3600+int (m7_sp[1])*60+int (m7_sp[2])\n",
        "m8 = '23:59:59'\n",
        "m8_sp = m8.split(':')\n",
        "print(m8_sp)\n",
        "ans8= int(m8_sp[0])*3600+int (m8_sp[1])*60+int (m8_sp[2])\n",
        "print(f'{m7} - {m8} แปลงเป็นความต่างของเวลาเป็นวินาทีได้ {ans8-ans7} วินาที')"
      ],
      "metadata": {
        "colab": {
          "base_uri": "https://localhost:8080/"
        },
        "id": "Cbl5j0fXHmMb",
        "outputId": "5548c400-49b9-46dd-d248-d201360110d2"
      },
      "execution_count": 4,
      "outputs": [
        {
          "output_type": "stream",
          "name": "stdout",
          "text": [
            "['00', '00', '00']\n",
            "['23', '59', '59']\n",
            "00:00:00 - 23:59:59 แปลงเป็นความต่างของเวลาเป็นวินาทีได้ 86399 วินาที\n"
          ]
        }
      ]
    }
  ]
}