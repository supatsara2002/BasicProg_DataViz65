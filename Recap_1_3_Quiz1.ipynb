{
  "nbformat": 4,
  "nbformat_minor": 0,
  "metadata": {
    "colab": {
      "name": "Recap 1-3 Quiz1.ipynb",
      "provenance": [],
      "include_colab_link": true
    },
    "kernelspec": {
      "name": "python3",
      "display_name": "Python 3"
    },
    "language_info": {
      "name": "python"
    }
  },
  "cells": [
    {
      "cell_type": "markdown",
      "metadata": {
        "id": "view-in-github",
        "colab_type": "text"
      },
      "source": [
        "<a href=\"https://colab.research.google.com/github/supatsara2002/BasicProg_DataViz65/blob/main/Recap_1_3_Quiz1.ipynb\" target=\"_parent\"><img src=\"https://colab.research.google.com/assets/colab-badge.svg\" alt=\"Open In Colab\"/></a>"
      ]
    },
    {
      "cell_type": "markdown",
      "source": [
        "Quiz 1 \n",
        "\n",
        "คำนวณเวลาเป็นความต่างของเวลาเป็นวินาทีของช่วงเวลาต่อไปนี้โดยใช้คำสั่ง split() ช่วย และ print ออกมาให้สวยงาม\n",
        "\n",
        "* 09:11:50 - 12:30:15\n",
        "* 13:41:07 - 20:00:18\n",
        "* 21:30:15 - 00:00:00\n",
        "* 00:00:00 - 23:59:59\n",
        "\n"
      ],
      "metadata": {
        "id": "FKKg2s03yfKC"
      }
    },
    {
      "cell_type": "code",
      "execution_count": 1,
      "metadata": {
        "id": "JHgL5URByL6e",
        "outputId": "16b61b9e-11b9-40df-d7f8-35348d69c516",
        "colab": {
          "base_uri": "https://localhost:8080/"
        }
      },
      "outputs": [
        {
          "output_type": "stream",
          "name": "stdout",
          "text": [
            "['09', '11', '50']\n",
            "['12', '30', '15']\n",
            "09:11:50 - 12:30:15 แปลงเป็นความต่างของเวลาเป็นวินาทีได้ 11905 วินาที\n"
          ]
        }
      ],
      "source": [
        "# 09:11:50 - 12:30:15\n",
        "q1 = '09:11:50'\n",
        "q1_sp = q1.split(':')\n",
        "print(q1_sp)\n",
        "ans1= int(q1_sp[0])*3600+int (q1_sp[1])*60+int (q1_sp[2])\n",
        "q2 = '12:30:15'\n",
        "q2_sp = q2.split(':')\n",
        "print(q2_sp)\n",
        "ans2= int(q2_sp[0])*3600+int (q2_sp[1])*60+int (q2_sp[2])\n",
        "print(f'09:11:50 - 12:30:15 แปลงเป็นความต่างของเวลาเป็นวินาทีได้ {ans2-ans1} วินาที')"
      ]
    },
    {
      "cell_type": "code",
      "source": [
        "# 13:41:07 - 20:00:18\n",
        "q3 = '13:41:0'\n",
        "q3_sp = q3.split(':')\n",
        "print(q3_sp)\n",
        "ans3= int(q3_sp[0])*3600+int (q3_sp[1])*60+int (q3_sp[2])\n",
        "q4 = '20:00:18'\n",
        "q4_sp = q4.split(':')\n",
        "print(q4_sp)\n",
        "ans4= int(q4_sp[0])*3600+int (q4_sp[1])*60+int (q4_sp[2])\n",
        "print(f'13:41:07 - 20:00:18 แปลงเป็นความต่างของเวลาเป็นวินาทีได้ {ans4-ans3} วินาที')"
      ],
      "metadata": {
        "colab": {
          "base_uri": "https://localhost:8080/"
        },
        "id": "w-QDIT3FHN8x",
        "outputId": "f0ad2c20-9eb0-4edf-a142-b93c4ef83740"
      },
      "execution_count": 2,
      "outputs": [
        {
          "output_type": "stream",
          "name": "stdout",
          "text": [
            "['13', '41', '0']\n",
            "['20', '00', '18']\n",
            "13:41:07 - 20:00:18 แปลงเป็นความต่างของเวลาเป็นวินาทีได้ 22758 วินาที\n"
          ]
        }
      ]
    },
    {
      "cell_type": "code",
      "source": [
        "# 21:30:15 - 00:00:00\n",
        "q5 = '21:30:15'\n",
        "q5_sp = q5.split(':')\n",
        "print(q5_sp)\n",
        "ans5= int(q5_sp[0])*3600+int (q5_sp[1])*60+int (q5_sp[2])\n",
        "q6 = ' 24:00:00'\n",
        "q6_sp = q6.split(':')\n",
        "print(q6_sp)\n",
        "ans6= int(q6_sp[0])*3600+int (q6_sp[1])*60+int (q6_sp[2])\n",
        "print(f'21:30:15 - 00:00:00 แปลงเป็นความต่างของเวลาเป็นวินาทีได้ {ans6-ans5} วินาที')"
      ],
      "metadata": {
        "colab": {
          "base_uri": "https://localhost:8080/"
        },
        "id": "RZKHhl4LHY-r",
        "outputId": "bee8189e-1565-48cc-8735-9e57a84bc7eb"
      },
      "execution_count": 3,
      "outputs": [
        {
          "output_type": "stream",
          "name": "stdout",
          "text": [
            "['21', '30', '15']\n",
            "['\\xa024', '00', '00']\n",
            "21:30:15 - 00:00:00 แปลงเป็นความต่างของเวลาเป็นวินาทีได้ 8985 วินาที\n"
          ]
        }
      ]
    },
    {
      "cell_type": "code",
      "source": [
        "# 00:00:00 - 23:59:59\n",
        "q7 = '00:00:00'\n",
        "q7_sp = q7.split(':')\n",
        "print(q7_sp)\n",
        "ans7= int(q7_sp[0])*3600+int (q7_sp[1])*60+int (q7_sp[2])\n",
        "q8 = '23:59:59'\n",
        "q8_sp = q8.split(':')\n",
        "print(q8_sp)\n",
        "ans8= int(q8_sp[0])*3600+int (q8_sp[1])*60+int (q8_sp[2])\n",
        "print(f'00:00:00 - 23:59:59 แปลงเป็นความต่างของเวลาเป็นวินาทีได้ {ans8-ans7} วินาที')"
      ],
      "metadata": {
        "colab": {
          "base_uri": "https://localhost:8080/"
        },
        "id": "Cbl5j0fXHmMb",
        "outputId": "ca25bb8c-6aa7-407e-cb64-8be0ab5fc816"
      },
      "execution_count": 4,
      "outputs": [
        {
          "output_type": "stream",
          "name": "stdout",
          "text": [
            "['00', '00', '00']\n",
            "['23', '59', '59']\n",
            "00:00:00 - 23:59:59 แปลงเป็นความต่างของเวลาเป็นวินาทีได้ 86399 วินาที\n"
          ]
        }
      ]
    }
  ]
}